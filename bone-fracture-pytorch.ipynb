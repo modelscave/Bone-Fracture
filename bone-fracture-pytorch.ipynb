{
 "cells": [
  {
   "cell_type": "code",
   "execution_count": 1,
   "id": "73966d3d",
   "metadata": {
    "_cell_guid": "b1076dfc-b9ad-4769-8c92-a6c4dae69d19",
    "_uuid": "8f2839f25d086af736a60e9eeb907d3b93b6e0e5",
    "execution": {
     "iopub.execute_input": "2025-08-01T07:50:27.409730Z",
     "iopub.status.busy": "2025-08-01T07:50:27.409226Z",
     "iopub.status.idle": "2025-08-01T07:50:38.958182Z",
     "shell.execute_reply": "2025-08-01T07:50:38.957374Z"
    },
    "papermill": {
     "duration": 11.558213,
     "end_time": "2025-08-01T07:50:38.959692",
     "exception": false,
     "start_time": "2025-08-01T07:50:27.401479",
     "status": "completed"
    },
    "tags": []
   },
   "outputs": [],
   "source": [
    "import numpy as np\n",
    "import pandas as pd\n",
    "import seaborn as sns\n",
    "import matplotlib.pyplot as plt\n",
    "import os \n",
    "from tqdm import trange, tqdm\n",
    "import random\n",
    "import cv2\n",
    "from collections import Counter, defaultdict\n",
    "from sklearn.preprocessing import LabelEncoder\n",
    "from sklearn.metrics import confusion_matrix, classification_report, roc_auc_score, roc_curve\n",
    "import torch\n",
    "from torch.utils.data import DataLoader, TensorDataset\n",
    "import torch.nn as nn\n",
    "import torch.nn.functional as F\n",
    "from torchvision import models, transforms"
   ]
  },
  {
   "cell_type": "code",
   "execution_count": 2,
   "id": "84ea3aa4",
   "metadata": {
    "execution": {
     "iopub.execute_input": "2025-08-01T07:50:38.972995Z",
     "iopub.status.busy": "2025-08-01T07:50:38.972659Z",
     "iopub.status.idle": "2025-08-01T07:51:47.677493Z",
     "shell.execute_reply": "2025-08-01T07:51:47.676697Z"
    },
    "papermill": {
     "duration": 68.718416,
     "end_time": "2025-08-01T07:51:47.684439",
     "exception": false,
     "start_time": "2025-08-01T07:50:38.966023",
     "status": "completed"
    },
    "tags": []
   },
   "outputs": [
    {
     "name": "stdout",
     "output_type": "stream",
     "text": [
      "Loaded 3631 images, 3631 class labels, and 3631 sets of polygons.\n",
      "Loaded 348 images, 348 class labels, and 348 sets of polygons.\n",
      "Loaded 169 images, 169 class labels, and 169 sets of polygons.\n"
     ]
    }
   ],
   "source": [
    "TRAIN_IMAGE_DIR = '/kaggle/input/bone-fracture-detection-computer-vision-project/BoneFractureYolo8/train/images'\n",
    "TRAIN_LABEL_DIR = '/kaggle/input/bone-fracture-detection-computer-vision-project/BoneFractureYolo8/train/labels'\n",
    "VALID_IMAGE_DIR = '/kaggle/input/bone-fracture-detection-computer-vision-project/BoneFractureYolo8/valid/images'\n",
    "VALID_LABEL_DIR = '/kaggle/input/bone-fracture-detection-computer-vision-project/BoneFractureYolo8/valid/labels'\n",
    "TEST_IMAGE_DIR = '/kaggle/input/bone-fracture-detection-computer-vision-project/BoneFractureYolo8/test/images'\n",
    "TEST_LABEL_DIR = '/kaggle/input/bone-fracture-detection-computer-vision-project/BoneFractureYolo8/test/labels'\n",
    "\n",
    "TARGET_SIZE = [224, 224]\n",
    "\n",
    "def load_images_and_labels(image_dir, label_dir):\n",
    "    images = []\n",
    "    class_labels = []\n",
    "    polygons_list = []\n",
    "\n",
    "    for img_name in os.listdir(image_dir):\n",
    "        if img_name.endswith(\".jpg\") or img_name.endswith(\".png\"):\n",
    "            img_path = os.path.join(image_dir, img_name)\n",
    "            image = cv2.imread(img_path)\n",
    "            image = cv2.resize(image, TARGET_SIZE)\n",
    "            image = cv2.cvtColor(image, cv2.COLOR_BGR2RGB)\n",
    "\n",
    "            # Normalize\n",
    "            image = image.astype(np.float32) / 255.0\n",
    "\n",
    "            label_path = os.path.join(label_dir, img_name.replace(\".jpg\", \".txt\").replace(\".png\", \".txt\"))\n",
    "            polygons = []\n",
    "            classes = []\n",
    "\n",
    "            if os.path.exists(label_path):\n",
    "                with open(label_path, \"r\") as f:\n",
    "                    lines = f.read().strip().split(\"\\n\")\n",
    "                for line in lines:\n",
    "                    components = line.strip().split()\n",
    "                    if len(components) > 1:\n",
    "                        class_id = int(components[0])\n",
    "                        coords = list(map(float, components[1:]))\n",
    "                        # Only keep polygons with even number of coords\n",
    "                        if len(coords) % 2 == 0:\n",
    "                            classes.append(class_id)\n",
    "                            polygons.append(coords)\n",
    "\n",
    "            # Decide image-level class label\n",
    "            if classes:\n",
    "                image_level_label = classes[0]   # or use most frequent: max(set(classes), key=classes.count)\n",
    "            else:\n",
    "                image_level_label = 'no_fracture'  # your 'no_fracture' label\n",
    "\n",
    "            images.append(image)\n",
    "            class_labels.append(image_level_label)\n",
    "            polygons_list.append(polygons)\n",
    "\n",
    "    return np.array(images), np.array(class_labels), polygons_list\n",
    "\n",
    "\n",
    "# Load images, class labels, and polygons\n",
    "train_images, train_class_labels, train_polygons = load_images_and_labels(TRAIN_IMAGE_DIR, TRAIN_LABEL_DIR)\n",
    "valid_images, valid_class_labels, valid_polygons = load_images_and_labels(VALID_IMAGE_DIR, VALID_LABEL_DIR)\n",
    "test_images, test_class_labels, test_polygons = load_images_and_labels(TEST_IMAGE_DIR, TEST_LABEL_DIR)\n",
    "\n",
    "print(f\"Loaded {len(train_images)} images, {len(train_class_labels)} class labels, and {len(train_polygons)} sets of polygons.\")\n",
    "print(f\"Loaded {len(valid_images)} images, {len(valid_class_labels)} class labels, and {len(valid_polygons)} sets of polygons.\")\n",
    "print(f\"Loaded {len(test_images)} images, {len(test_class_labels)} class labels, and {len(test_polygons)} sets of polygons.\")"
   ]
  },
  {
   "cell_type": "code",
   "execution_count": 3,
   "id": "3d26daea",
   "metadata": {
    "execution": {
     "iopub.execute_input": "2025-08-01T07:51:47.698149Z",
     "iopub.status.busy": "2025-08-01T07:51:47.697457Z",
     "iopub.status.idle": "2025-08-01T07:51:49.643803Z",
     "shell.execute_reply": "2025-08-01T07:51:49.643001Z"
    },
    "papermill": {
     "duration": 1.954698,
     "end_time": "2025-08-01T07:51:49.645057",
     "exception": false,
     "start_time": "2025-08-01T07:51:47.690359",
     "status": "completed"
    },
    "tags": []
   },
   "outputs": [
    {
     "name": "stdout",
     "output_type": "stream",
     "text": [
      "Original images: 3631\n",
      "Filtered images: 3334\n"
     ]
    }
   ],
   "source": [
    "# prepare CLAHE once\n",
    "clahe = cv2.createCLAHE(clipLimit=2.0, tileGridSize=(8,8))\n",
    "\n",
    "filtered_images = []\n",
    "filtered_labels = []\n",
    "mean_pixels = []\n",
    "\n",
    "for img, label in zip(train_images, train_class_labels):\n",
    "    # convert normalized [0,1] RGB → uint8 RGB, then to grayscale\n",
    "    img_uint8 = (img * 255).astype(np.uint8)\n",
    "    gray      = cv2.cvtColor(img_uint8, cv2.COLOR_RGB2GRAY)\n",
    "    \n",
    "    # apply CLAHE on the gray image\n",
    "    gray_clahe = clahe.apply(gray)\n",
    "    \n",
    "    # compute mean on the CLAHE’d result\n",
    "    mean_pixel = np.mean(gray_clahe)\n",
    "    mean_pixels.append(mean_pixel)\n",
    "    \n",
    "    #  threshold as before\n",
    "    if (mean_pixel >= 15) & (mean_pixel <= 130):\n",
    "        filtered_images.append(img)\n",
    "        filtered_labels.append(label)\n",
    "\n",
    "print(f\"Original images: {len(train_images)}\")\n",
    "print(f\"Filtered images: {len(filtered_images)}\")"
   ]
  },
  {
   "cell_type": "code",
   "execution_count": 4,
   "id": "af914785",
   "metadata": {
    "execution": {
     "iopub.execute_input": "2025-08-01T07:51:49.658040Z",
     "iopub.status.busy": "2025-08-01T07:51:49.657839Z",
     "iopub.status.idle": "2025-08-01T07:51:49.889237Z",
     "shell.execute_reply": "2025-08-01T07:51:49.888469Z"
    },
    "papermill": {
     "duration": 0.239274,
     "end_time": "2025-08-01T07:51:49.890429",
     "exception": false,
     "start_time": "2025-08-01T07:51:49.651155",
     "status": "completed"
    },
    "tags": []
   },
   "outputs": [
    {
     "name": "stderr",
     "output_type": "stream",
     "text": [
      "/usr/local/lib/python3.11/dist-packages/seaborn/_oldcore.py:1119: FutureWarning: use_inf_as_na option is deprecated and will be removed in a future version. Convert inf values to NaN before operating instead.\n",
      "  with pd.option_context('mode.use_inf_as_na', True):\n"
     ]
    },
    {
     "data": {
      "text/plain": [
       "<Axes: ylabel='Count'>"
      ]
     },
     "execution_count": 4,
     "metadata": {},
     "output_type": "execute_result"
    },
    {
     "data": {
      "image/png": "[encoded data removed]",
      "text/plain": [
       "<Figure size 640x480 with 1 Axes>"
      ]
     },
     "metadata": {},
     "output_type": "display_data"
    }
   ],
   "source": [
    "sns.histplot(train_class_labels)"
   ]
  },
  {
   "cell_type": "code",
   "execution_count": 5,
   "id": "52c30c12",
   "metadata": {
    "execution": {
     "iopub.execute_input": "2025-08-01T07:51:49.904947Z",
     "iopub.status.busy": "2025-08-01T07:51:49.904388Z",
     "iopub.status.idle": "2025-08-01T07:51:49.910563Z",
     "shell.execute_reply": "2025-08-01T07:51:49.909813Z"
    },
    "papermill": {
     "duration": 0.014665,
     "end_time": "2025-08-01T07:51:49.911581",
     "exception": false,
     "start_time": "2025-08-01T07:51:49.896916",
     "status": "completed"
    },
    "tags": []
   },
   "outputs": [
    {
     "name": "stdout",
     "output_type": "stream",
     "text": [
      "['0' '1' '2' '4' '5' '6' 'no_fracture']\n"
     ]
    }
   ],
   "source": [
    "label_encoder = LabelEncoder()\n",
    "train_labels_enc = label_encoder.fit_transform(filtered_labels)\n",
    "valid_labels_enc = label_encoder.transform(valid_class_labels)\n",
    "test_labels_enc = label_encoder.transform(test_class_labels)\n",
    "\n",
    "print(label_encoder.classes_)  # to know the actual labels"
   ]
  },
  {
   "cell_type": "code",
   "execution_count": 6,
   "id": "96554058",
   "metadata": {
    "execution": {
     "iopub.execute_input": "2025-08-01T07:51:49.924943Z",
     "iopub.status.busy": "2025-08-01T07:51:49.924336Z",
     "iopub.status.idle": "2025-08-01T07:51:51.181791Z",
     "shell.execute_reply": "2025-08-01T07:51:51.180944Z"
    },
    "papermill": {
     "duration": 1.265359,
     "end_time": "2025-08-01T07:51:51.183142",
     "exception": false,
     "start_time": "2025-08-01T07:51:49.917783",
     "status": "completed"
    },
    "tags": []
   },
   "outputs": [
    {
     "name": "stdout",
     "output_type": "stream",
     "text": [
      "(array([0, 1]), array([1628, 1706]))\n"
     ]
    }
   ],
   "source": [
    "class_groups = defaultdict(list)\n",
    "\n",
    "for img, label in zip(filtered_images, train_labels_enc):\n",
    "    class_groups[label].append(img)\n",
    "\n",
    "for k in class_groups:\n",
    "    class_groups[k] = np.array(class_groups[k])\n",
    "\n",
    "no_fracture_label = 6 \n",
    "train_images_list, train_labels_list = [], []\n",
    "\n",
    "for label, images in class_groups.items():\n",
    "    if len(images) == 0:\n",
    "        continue\n",
    "    if label == no_fracture_label:\n",
    "        train_images_list.append(images)\n",
    "        train_labels_list.extend([0] * len(images))\n",
    "    else:\n",
    "        train_images_list.append(images)\n",
    "        train_labels_list.extend([1] * len(images))\n",
    "\n",
    "train_images = np.concatenate(train_images_list, axis=0)\n",
    "train_labels = np.array(train_labels_list)\n",
    "\n",
    "print(np.unique(train_labels, return_counts=True))"
   ]
  },
  {
   "cell_type": "code",
   "execution_count": 7,
   "id": "e9f95f1e",
   "metadata": {
    "execution": {
     "iopub.execute_input": "2025-08-01T07:51:51.198136Z",
     "iopub.status.busy": "2025-08-01T07:51:51.197868Z",
     "iopub.status.idle": "2025-08-01T07:51:51.344397Z",
     "shell.execute_reply": "2025-08-01T07:51:51.343506Z"
    },
    "papermill": {
     "duration": 0.155375,
     "end_time": "2025-08-01T07:51:51.345684",
     "exception": false,
     "start_time": "2025-08-01T07:51:51.190309",
     "status": "completed"
    },
    "tags": []
   },
   "outputs": [
    {
     "name": "stdout",
     "output_type": "stream",
     "text": [
      "(array([0, 1]), array([175, 173]))\n"
     ]
    }
   ],
   "source": [
    "class_groups_1 = defaultdict(list)\n",
    "\n",
    "for img, label in zip(valid_images, valid_labels_enc):\n",
    "    class_groups_1[label].append(img)\n",
    "\n",
    "for k in class_groups_1:\n",
    "    class_groups_1[k] = np.array(class_groups_1[k])\n",
    "\n",
    "valid_images_list, valid_labels_list = [], []\n",
    "\n",
    "for label, images in class_groups_1.items():\n",
    "    if len(images) == 0:\n",
    "        continue\n",
    "    if label == no_fracture_label:\n",
    "        valid_images_list.append(images)\n",
    "        valid_labels_list.extend([0] * len(images))\n",
    "    else:\n",
    "        valid_images_list.append(images)\n",
    "        valid_labels_list.extend([1] * len(images))\n",
    "\n",
    "valid_images = np.concatenate(valid_images_list, axis=0)\n",
    "valid_labels = np.array(valid_labels_list)\n",
    "\n",
    "print(np.unique(valid_labels, return_counts=True))"
   ]
  },
  {
   "cell_type": "code",
   "execution_count": 8,
   "id": "8fa5290f",
   "metadata": {
    "execution": {
     "iopub.execute_input": "2025-08-01T07:51:51.359681Z",
     "iopub.status.busy": "2025-08-01T07:51:51.359448Z",
     "iopub.status.idle": "2025-08-01T07:51:51.438767Z",
     "shell.execute_reply": "2025-08-01T07:51:51.438133Z"
    },
    "papermill": {
     "duration": 0.087293,
     "end_time": "2025-08-01T07:51:51.439811",
     "exception": false,
     "start_time": "2025-08-01T07:51:51.352518",
     "status": "completed"
    },
    "tags": []
   },
   "outputs": [
    {
     "name": "stdout",
     "output_type": "stream",
     "text": [
      "(array([0, 1]), array([86, 83]))\n"
     ]
    }
   ],
   "source": [
    "class_groups_2 = defaultdict(list)\n",
    "\n",
    "for img, label in zip(test_images, test_labels_enc):\n",
    "    class_groups_2[label].append(img)\n",
    "\n",
    "for k in class_groups_2:\n",
    "    class_groups_2[k] = np.array(class_groups_2[k])\n",
    "\n",
    "test_images_list, test_labels_list = [], []\n",
    "\n",
    "for label, images in class_groups_2.items():\n",
    "    if len(images) == 0:\n",
    "        continue\n",
    "    if label == no_fracture_label:\n",
    "        test_images_list.append(images)\n",
    "        test_labels_list.extend([0] * len(images))\n",
    "    else:\n",
    "        test_images_list.append(images)\n",
    "        test_labels_list.extend([1] * len(images))\n",
    "\n",
    "test_images = np.concatenate(test_images_list, axis=0)\n",
    "test_labels = np.array(test_labels_list)\n",
    "\n",
    "print(np.unique(test_labels, return_counts=True))"
   ]
  },
  {
   "cell_type": "code",
   "execution_count": 9,
   "id": "73346e22",
   "metadata": {
    "execution": {
     "iopub.execute_input": "2025-08-01T07:51:51.454008Z",
     "iopub.status.busy": "2025-08-01T07:51:51.453787Z",
     "iopub.status.idle": "2025-08-01T07:51:55.641691Z",
     "shell.execute_reply": "2025-08-01T07:51:55.641090Z"
    },
    "papermill": {
     "duration": 4.196123,
     "end_time": "2025-08-01T07:51:55.643016",
     "exception": false,
     "start_time": "2025-08-01T07:51:51.446893",
     "status": "completed"
    },
    "tags": []
   },
   "outputs": [],
   "source": [
    "# ImageNet normalization values\n",
    "imagenet_mean = torch.tensor([0.485, 0.456, 0.406]).view(1, 3, 1, 1)   \n",
    "imagenet_std = torch.tensor([0.229, 0.224, 0.225]).view(1, 3, 1, 1)\n",
    "\n",
    "# Convert and normalize\n",
    "train_images_tensor = torch.tensor(train_images).permute(0, 3, 1, 2).float()\n",
    "train_images_tensor = (train_images_tensor - imagenet_mean) / imagenet_std\n",
    "train_labels_tensor = torch.tensor(train_labels).long()\n",
    "\n",
    "valid_images_tensor = torch.tensor(valid_images).permute(0, 3, 1, 2).float()\n",
    "valid_images_tensor = (valid_images_tensor - imagenet_mean) / imagenet_std\n",
    "valid_labels_tensor = torch.tensor(valid_labels).long()\n",
    "\n",
    "test_images_tensor = torch.tensor(test_images).permute(0, 3, 1, 2).float()\n",
    "test_images_tensor = (test_images_tensor - imagenet_mean) / imagenet_std\n",
    "test_labels_tensor = torch.tensor(test_labels).long()\n",
    "\n",
    "train_dataset = TensorDataset(train_images_tensor, train_labels_tensor)\n",
    "valid_dataset = TensorDataset(valid_images_tensor, valid_labels_tensor)\n",
    "test_dataset = TensorDataset(test_images_tensor, test_labels_tensor)\n",
    "\n",
    "# Set batch size\n",
    "batch_size = 32\n",
    "\n",
    "train_loader = DataLoader(train_dataset, batch_size=batch_size, shuffle=True)\n",
    "valid_loader = DataLoader(valid_dataset, batch_size=batch_size, shuffle=False)\n",
    "test_loader = DataLoader(test_dataset, batch_size=batch_size, shuffle=True)\n"
   ]
  },
  {
   "cell_type": "markdown",
   "id": "4fca4fd3",
   "metadata": {
    "papermill": {
     "duration": 0.006085,
     "end_time": "2025-08-01T07:51:55.655820",
     "exception": false,
     "start_time": "2025-08-01T07:51:55.649735",
     "status": "completed"
    },
    "tags": []
   },
   "source": [
    "**Small Network**"
   ]
  },
  {
   "cell_type": "code",
   "execution_count": 10,
   "id": "0986c2bf",
   "metadata": {
    "execution": {
     "iopub.execute_input": "2025-08-01T07:51:55.668946Z",
     "iopub.status.busy": "2025-08-01T07:51:55.668748Z",
     "iopub.status.idle": "2025-08-01T07:51:55.674947Z",
     "shell.execute_reply": "2025-08-01T07:51:55.674444Z"
    },
    "papermill": {
     "duration": 0.014088,
     "end_time": "2025-08-01T07:51:55.676014",
     "exception": false,
     "start_time": "2025-08-01T07:51:55.661926",
     "status": "completed"
    },
    "tags": []
   },
   "outputs": [],
   "source": [
    "class TinyCNN(nn.Module):\n",
    "    def __init__(self):\n",
    "        super(TinyCNN, self).__init__()\n",
    "        self.conv_layers = nn.Sequential(\n",
    "            nn.Conv2d(3, 64, kernel_size=3),  # [batch, 64, 22, 222]\n",
    "            nn.ReLU(),\n",
    "            nn.MaxPool2d(2),                 # [batch, 64, 111, 111]\n",
    "\n",
    "            nn.Conv2d(64, 128, kernel_size=3),  # [batch, 128, 109, 109]\n",
    "            nn.ReLU(),\n",
    "            nn.MaxPool2d(2),                   # [batch, 128, 54, 54]\n",
    "\n",
    "            nn.Conv2d(128, 128, kernel_size=3),  # [batch, 128, 52, 52]\n",
    "            nn.ReLU(),\n",
    "            nn.MaxPool2d(2),                    # [batch, 128, 26, 26]\n",
    "\n",
    "            nn.Conv2d(128, 64, kernel_size=3),   # [batch, 64, 24, 24]\n",
    "            nn.ReLU(),\n",
    "            nn.MaxPool2d(2),                     # [batch, 64, 12, 12]\n",
    "\n",
    "            nn.Conv2d(64, 32, kernel_size=3),    # [batch, 32, 10, 10]\n",
    "            nn.ReLU(),\n",
    "            nn.MaxPool2d(2)                      # [batch, 32, 5, 5]\n",
    "        )\n",
    "\n",
    "        self.dropout = nn.Dropout(0.5)\n",
    "        self.flattened_size = 32 * 5 * 5  \n",
    "        self.fc1 = nn.Linear(self.flattened_size, 16)\n",
    "        self.fc2 = nn.Linear(16, 1)\n",
    "\n",
    "    def forward(self, x):\n",
    "        x = self.conv_layers(x)\n",
    "        x = torch.flatten(x, 1)\n",
    "        x = self.dropout(x)\n",
    "        x = F.relu(self.fc1(x))\n",
    "        x = self.dropout(x)\n",
    "        x = torch.sigmoid(self.fc2(x))\n",
    "        return x\n"
   ]
  },
  {
   "cell_type": "code",
   "execution_count": 11,
   "id": "da33af8f",
   "metadata": {
    "execution": {
     "iopub.execute_input": "2025-08-01T07:51:55.689244Z",
     "iopub.status.busy": "2025-08-01T07:51:55.689011Z",
     "iopub.status.idle": "2025-08-01T07:51:55.956641Z",
     "shell.execute_reply": "2025-08-01T07:51:55.956055Z"
    },
    "papermill": {
     "duration": 0.275694,
     "end_time": "2025-08-01T07:51:55.957991",
     "exception": false,
     "start_time": "2025-08-01T07:51:55.682297",
     "status": "completed"
    },
    "tags": []
   },
   "outputs": [],
   "source": [
    "device = torch.device(\"cuda\" if torch.cuda.is_available() else \"cpu\")\n",
    "\n",
    "model = TinyCNN().to(device)\n",
    "\n",
    "criterion = nn.BCELoss()  # Since you're using sigmoid\n",
    "optimizer = torch.optim.AdamW(model.parameters(), lr=1e-4)"
   ]
  },
  {
   "cell_type": "code",
   "execution_count": 12,
   "id": "6825ede0",
   "metadata": {
    "execution": {
     "iopub.execute_input": "2025-08-01T07:51:55.971890Z",
     "iopub.status.busy": "2025-08-01T07:51:55.971648Z",
     "iopub.status.idle": "2025-08-01T07:55:45.180675Z",
     "shell.execute_reply": "2025-08-01T07:55:45.180060Z"
    },
    "papermill": {
     "duration": 229.217082,
     "end_time": "2025-08-01T07:55:45.181817",
     "exception": false,
     "start_time": "2025-08-01T07:51:55.964735",
     "status": "completed"
    },
    "tags": []
   },
   "outputs": [
    {
     "name": "stderr",
     "output_type": "stream",
     "text": [
      "                                                                                           \r"
     ]
    },
    {
     "name": "stdout",
     "output_type": "stream",
     "text": [
      "Epoch 01/20 Train Loss: 0.6942  Val Loss: 0.6945  Train Acc: 0.5159  Val Acc: 0.4943\n"
     ]
    },
    {
     "name": "stderr",
     "output_type": "stream",
     "text": [
      "                                                                                           \r"
     ]
    },
    {
     "name": "stdout",
     "output_type": "stream",
     "text": [
      "Epoch 02/20 Train Loss: 0.6917  Val Loss: 0.6923  Train Acc: 0.5186  Val Acc: 0.5057\n"
     ]
    },
    {
     "name": "stderr",
     "output_type": "stream",
     "text": [
      "                                                                                           \r"
     ]
    },
    {
     "name": "stdout",
     "output_type": "stream",
     "text": [
      "Epoch 03/20 Train Loss: 0.6912  Val Loss: 0.6901  Train Acc: 0.5330  Val Acc: 0.5230\n"
     ]
    },
    {
     "name": "stderr",
     "output_type": "stream",
     "text": [
      "                                                                                           \r"
     ]
    },
    {
     "name": "stdout",
     "output_type": "stream",
     "text": [
      "Epoch 04/20 Train Loss: 0.6901  Val Loss: 0.6897  Train Acc: 0.5384  Val Acc: 0.5259\n"
     ]
    },
    {
     "name": "stderr",
     "output_type": "stream",
     "text": [
      "                                                                                           \r"
     ]
    },
    {
     "name": "stdout",
     "output_type": "stream",
     "text": [
      "Epoch 05/20 Train Loss: 0.6900  Val Loss: 0.6918  Train Acc: 0.5387  Val Acc: 0.5115\n"
     ]
    },
    {
     "name": "stderr",
     "output_type": "stream",
     "text": [
      "                                                                                           \r"
     ]
    },
    {
     "name": "stdout",
     "output_type": "stream",
     "text": [
      "Epoch 06/20 Train Loss: 0.6890  Val Loss: 0.6899  Train Acc: 0.5243  Val Acc: 0.5374\n"
     ]
    },
    {
     "name": "stderr",
     "output_type": "stream",
     "text": [
      "                                                                                           \r"
     ]
    },
    {
     "name": "stdout",
     "output_type": "stream",
     "text": [
      "Epoch 07/20 Train Loss: 0.6878  Val Loss: 0.6868  Train Acc: 0.5369  Val Acc: 0.5374\n"
     ]
    },
    {
     "name": "stderr",
     "output_type": "stream",
     "text": [
      "                                                                                           \r"
     ]
    },
    {
     "name": "stdout",
     "output_type": "stream",
     "text": [
      "Epoch 08/20 Train Loss: 0.6850  Val Loss: 0.6850  Train Acc: 0.5480  Val Acc: 0.5086\n"
     ]
    },
    {
     "name": "stderr",
     "output_type": "stream",
     "text": [
      "                                                                                           \r"
     ]
    },
    {
     "name": "stdout",
     "output_type": "stream",
     "text": [
      "Epoch 09/20 Train Loss: 0.6790  Val Loss: 0.6833  Train Acc: 0.5513  Val Acc: 0.5000\n"
     ]
    },
    {
     "name": "stderr",
     "output_type": "stream",
     "text": [
      "                                                                                            \r"
     ]
    },
    {
     "name": "stdout",
     "output_type": "stream",
     "text": [
      "Epoch 10/20 Train Loss: 0.6765  Val Loss: 0.6971  Train Acc: 0.5669  Val Acc: 0.5230\n"
     ]
    },
    {
     "name": "stderr",
     "output_type": "stream",
     "text": [
      "                                                                                            \r"
     ]
    },
    {
     "name": "stdout",
     "output_type": "stream",
     "text": [
      "Epoch 11/20 Train Loss: 0.6811  Val Loss: 0.6825  Train Acc: 0.5519  Val Acc: 0.5201\n"
     ]
    },
    {
     "name": "stderr",
     "output_type": "stream",
     "text": [
      "                                                                                            \r"
     ]
    },
    {
     "name": "stdout",
     "output_type": "stream",
     "text": [
      "Epoch 12/20 Train Loss: 0.6742  Val Loss: 0.6858  Train Acc: 0.5723  Val Acc: 0.5402\n"
     ]
    },
    {
     "name": "stderr",
     "output_type": "stream",
     "text": [
      "                                                                                            \r"
     ]
    },
    {
     "name": "stdout",
     "output_type": "stream",
     "text": [
      "Epoch 13/20 Train Loss: 0.6702  Val Loss: 0.6845  Train Acc: 0.5765  Val Acc: 0.5230\n"
     ]
    },
    {
     "name": "stderr",
     "output_type": "stream",
     "text": [
      "                                                                                            \r"
     ]
    },
    {
     "name": "stdout",
     "output_type": "stream",
     "text": [
      "Epoch 14/20 Train Loss: 0.6640  Val Loss: 0.6828  Train Acc: 0.5816  Val Acc: 0.5431\n"
     ]
    },
    {
     "name": "stderr",
     "output_type": "stream",
     "text": [
      "                                                                                            \r"
     ]
    },
    {
     "name": "stdout",
     "output_type": "stream",
     "text": [
      "Epoch 15/20 Train Loss: 0.6573  Val Loss: 0.6823  Train Acc: 0.5966  Val Acc: 0.5517\n"
     ]
    },
    {
     "name": "stderr",
     "output_type": "stream",
     "text": [
      "                                                                                            \r"
     ]
    },
    {
     "name": "stdout",
     "output_type": "stream",
     "text": [
      "Epoch 16/20 Train Loss: 0.6636  Val Loss: 0.6850  Train Acc: 0.5852  Val Acc: 0.5546\n"
     ]
    },
    {
     "name": "stderr",
     "output_type": "stream",
     "text": [
      "                                                                                            \r"
     ]
    },
    {
     "name": "stdout",
     "output_type": "stream",
     "text": [
      "Epoch 17/20 Train Loss: 0.6543  Val Loss: 0.6881  Train Acc: 0.6041  Val Acc: 0.5316\n"
     ]
    },
    {
     "name": "stderr",
     "output_type": "stream",
     "text": [
      "                                                                                            \r"
     ]
    },
    {
     "name": "stdout",
     "output_type": "stream",
     "text": [
      "Epoch 18/20 Train Loss: 0.6491  Val Loss: 0.6846  Train Acc: 0.6008  Val Acc: 0.5747\n"
     ]
    },
    {
     "name": "stderr",
     "output_type": "stream",
     "text": [
      "                                                                                            \r"
     ]
    },
    {
     "name": "stdout",
     "output_type": "stream",
     "text": [
      "Epoch 19/20 Train Loss: 0.6473  Val Loss: 0.6780  Train Acc: 0.6038  Val Acc: 0.5546\n"
     ]
    },
    {
     "name": "stderr",
     "output_type": "stream",
     "text": [
      "                                                                                            \r"
     ]
    },
    {
     "name": "stdout",
     "output_type": "stream",
     "text": [
      "Epoch 20/20 Train Loss: 0.6431  Val Loss: 0.6879  Train Acc: 0.6236  Val Acc: 0.5661\n"
     ]
    }
   ],
   "source": [
    "num_epochs = 20\n",
    "\n",
    "# Trackers for plotting\n",
    "train_losses = []\n",
    "val_losses = []\n",
    "train_accuracies = []\n",
    "val_accuracies = []\n",
    "\n",
    "for epoch in range(num_epochs):\n",
    "    model.train()\n",
    "    total_train_loss = 0\n",
    "    correct_train = 0\n",
    "    total_train = 0\n",
    "\n",
    "    train_bar = tqdm(train_loader, desc=f\"Epoch {epoch+1}/{num_epochs} [Train]\", leave=False)\n",
    "    for images, labels in train_bar:\n",
    "        images = images.to(device)\n",
    "        labels = labels.to(device).float().unsqueeze(1)\n",
    "\n",
    "        outputs = model(images)\n",
    "        loss = criterion(outputs, labels)\n",
    "\n",
    "        optimizer.zero_grad()\n",
    "        loss.backward()\n",
    "        optimizer.step()\n",
    "\n",
    "        total_train_loss += loss.item()\n",
    "\n",
    "        preds = (outputs > 0.5).float()\n",
    "        correct_train += (preds == labels).sum().item()\n",
    "        total_train += labels.size(0)\n",
    "\n",
    "        train_bar.set_postfix(loss=f\"{total_train_loss / len(train_bar):.4f}\")\n",
    "\n",
    "    avg_train_loss = total_train_loss / len(train_loader)\n",
    "    train_accuracy = correct_train / total_train\n",
    "    train_losses.append(avg_train_loss)\n",
    "    train_accuracies.append(train_accuracy)\n",
    "\n",
    "    # Validation\n",
    "    model.eval()\n",
    "    total_val_loss = 0\n",
    "    correct_val = 0\n",
    "    total_val = 0\n",
    "\n",
    "    val_bar = tqdm(valid_loader, desc=f\"Epoch {epoch+1}/{num_epochs} [Val]  \", leave=False)\n",
    "    with torch.no_grad():\n",
    "        for val_images, val_labels in val_bar:\n",
    "            val_images = val_images.to(device)\n",
    "            val_labels = val_labels.to(device).float().unsqueeze(1)\n",
    "\n",
    "            val_outputs = model(val_images)\n",
    "            val_loss = criterion(val_outputs, val_labels)\n",
    "            total_val_loss += val_loss.item()\n",
    "\n",
    "            preds = (val_outputs > 0.5).float()\n",
    "            correct_val += (preds == val_labels).sum().item()\n",
    "            total_val += val_labels.size(0)\n",
    "\n",
    "            val_bar.set_postfix(loss=f\"{total_val_loss / len(val_bar):.4f}\",\n",
    "                                acc=f\"{correct_val / total_val:.4f}\")\n",
    "\n",
    "    avg_val_loss = total_val_loss / len(valid_loader)\n",
    "    val_accuracy = correct_val / total_val\n",
    "    val_losses.append(avg_val_loss)\n",
    "    val_accuracies.append(val_accuracy)\n",
    "\n",
    "    # Final summary print\n",
    "    print(f\"Epoch {epoch+1:02}/{num_epochs} \"\n",
    "          f\"Train Loss: {avg_train_loss:.4f}  \"\n",
    "          f\"Val Loss: {avg_val_loss:.4f}  \"\n",
    "          f\"Train Acc: {train_accuracy:.4f}  \"\n",
    "          f\"Val Acc: {val_accuracy:.4f}\")\n"
   ]
  },
  {
   "cell_type": "code",
   "execution_count": 13,
   "id": "0472ee46",
   "metadata": {
    "execution": {
     "iopub.execute_input": "2025-08-01T07:55:45.535131Z",
     "iopub.status.busy": "2025-08-01T07:55:45.534640Z",
     "iopub.status.idle": "2025-08-01T07:55:45.844820Z",
     "shell.execute_reply": "2025-08-01T07:55:45.844110Z"
    },
    "papermill": {
     "duration": 0.4859,
     "end_time": "2025-08-01T07:55:45.845914",
     "exception": false,
     "start_time": "2025-08-01T07:55:45.360014",
     "status": "completed"
    },
    "tags": []
   },
   "outputs": [
    {
     "data": {
      "image/png": "[encoded data removed]",
      "text/plain": [
       "<Figure size 640x480 with 1 Axes>"
      ]
     },
     "metadata": {},
     "output_type": "display_data"
    },
    {
     "data": {
      "image/png": "[encoded data removed]",
      "text/plain": [
       "<Figure size 640x480 with 1 Axes>"
      ]
     },
     "metadata": {},
     "output_type": "display_data"
    }
   ],
   "source": [
    "plt.plot(train_losses, label=\"train\")\n",
    "plt.plot(val_losses, label=\"test\")\n",
    "plt.xlabel(\"epochs\")\n",
    "plt.ylabel(\"loss\")\n",
    "plt.legend()\n",
    "plt.show()\n",
    "\n",
    "plt.plot(train_accuracies, label=\"train\")\n",
    "plt.plot(val_accuracies, label=\"test\")\n",
    "plt.xlabel(\"epochs\") \n",
    "plt.ylabel(\"accuracy\")\n",
    "plt.legend()\n",
    "plt.show()"
   ]
  },
  {
   "cell_type": "code",
   "execution_count": 14,
   "id": "3dbe62da",
   "metadata": {
    "execution": {
     "iopub.execute_input": "2025-08-01T07:55:46.261354Z",
     "iopub.status.busy": "2025-08-01T07:55:46.260773Z",
     "iopub.status.idle": "2025-08-01T07:55:46.483422Z",
     "shell.execute_reply": "2025-08-01T07:55:46.482630Z"
    },
    "papermill": {
     "duration": 0.452016,
     "end_time": "2025-08-01T07:55:46.484864",
     "exception": false,
     "start_time": "2025-08-01T07:55:46.032848",
     "status": "completed"
    },
    "tags": []
   },
   "outputs": [],
   "source": [
    "model.eval()\n",
    "all_preds = []\n",
    "all_labels = []\n",
    "\n",
    "with torch.no_grad():\n",
    "    for images, labels in test_loader:\n",
    "        images = images.to(device)\n",
    "        outputs = model(images)\n",
    "        all_preds.extend(outputs.cpu().numpy().flatten())\n",
    "        all_labels.extend(labels.cpu().numpy().flatten())\n",
    "\n",
    "pred_labels = (np.array(all_preds) > 0.5).astype(int)\n",
    "true_labels = np.array(all_labels).astype(int)"
   ]
  },
  {
   "cell_type": "code",
   "execution_count": 15,
   "id": "974a314a",
   "metadata": {
    "execution": {
     "iopub.execute_input": "2025-08-01T07:55:46.843900Z",
     "iopub.status.busy": "2025-08-01T07:55:46.843632Z",
     "iopub.status.idle": "2025-08-01T07:55:46.999917Z",
     "shell.execute_reply": "2025-08-01T07:55:46.999181Z"
    },
    "papermill": {
     "duration": 0.33787,
     "end_time": "2025-08-01T07:55:47.001195",
     "exception": false,
     "start_time": "2025-08-01T07:55:46.663325",
     "status": "completed"
    },
    "tags": []
   },
   "outputs": [
    {
     "name": "stdout",
     "output_type": "stream",
     "text": [
      "Confusion Matrix:\n",
      " [[48 38]\n",
      " [30 53]]\n",
      "\n",
      "Classification Report:\n",
      "               precision    recall  f1-score   support\n",
      "\n",
      "           0       0.62      0.56      0.59        86\n",
      "           1       0.58      0.64      0.61        83\n",
      "\n",
      "    accuracy                           0.60       169\n",
      "   macro avg       0.60      0.60      0.60       169\n",
      "weighted avg       0.60      0.60      0.60       169\n",
      "\n",
      "ROC AUC: 0.5770523956290278\n"
     ]
    },
    {
     "data": {
      "image/png": "[encoded data removed]",
      "text/plain": [
       "<Figure size 600x400 with 1 Axes>"
      ]
     },
     "metadata": {},
     "output_type": "display_data"
    }
   ],
   "source": [
    "print(\"Confusion Matrix:\\n\", confusion_matrix(true_labels, pred_labels))\n",
    "print(\"\\nClassification Report:\\n\", classification_report(true_labels, pred_labels))\n",
    "print(\"ROC AUC:\", roc_auc_score(true_labels, all_preds))\n",
    "\n",
    "# ROC curve\n",
    "fpr, tpr, thresholds = roc_curve(true_labels, all_preds)\n",
    "plt.figure(figsize=(6,4))\n",
    "plt.plot(fpr, tpr, label=f\"AUC={roc_auc_score(true_labels, all_preds):.2f}\")\n",
    "plt.xlabel(\"False Positive Rate\")\n",
    "plt.ylabel(\"True Positive Rate\")\n",
    "plt.title(\"ROC Curve\")\n",
    "plt.legend()\n",
    "plt.show()"
   ]
  },
  {
   "cell_type": "code",
   "execution_count": 16,
   "id": "429ab4d9",
   "metadata": {
    "execution": {
     "iopub.execute_input": "2025-08-01T07:55:47.370975Z",
     "iopub.status.busy": "2025-08-01T07:55:47.370285Z",
     "iopub.status.idle": "2025-08-01T07:55:47.373730Z",
     "shell.execute_reply": "2025-08-01T07:55:47.373168Z"
    },
    "papermill": {
     "duration": 0.186062,
     "end_time": "2025-08-01T07:55:47.374759",
     "exception": false,
     "start_time": "2025-08-01T07:55:47.188697",
     "status": "completed"
    },
    "tags": []
   },
   "outputs": [],
   "source": [
    "model = 1"
   ]
  },
  {
   "cell_type": "markdown",
   "id": "081e8fe8",
   "metadata": {
    "papermill": {
     "duration": 0.186382,
     "end_time": "2025-08-01T07:55:47.784744",
     "exception": false,
     "start_time": "2025-08-01T07:55:47.598362",
     "status": "completed"
    },
    "tags": []
   },
   "source": [
    "**Alexnet**"
   ]
  },
  {
   "cell_type": "code",
   "execution_count": 17,
   "id": "0210d33b",
   "metadata": {
    "execution": {
     "iopub.execute_input": "2025-08-01T07:55:48.136549Z",
     "iopub.status.busy": "2025-08-01T07:55:48.136275Z",
     "iopub.status.idle": "2025-08-01T07:55:50.168426Z",
     "shell.execute_reply": "2025-08-01T07:55:50.167627Z"
    },
    "papermill": {
     "duration": 2.208379,
     "end_time": "2025-08-01T07:55:50.169866",
     "exception": false,
     "start_time": "2025-08-01T07:55:47.961487",
     "status": "completed"
    },
    "tags": []
   },
   "outputs": [
    {
     "name": "stderr",
     "output_type": "stream",
     "text": [
      "/usr/local/lib/python3.11/dist-packages/torchvision/models/_utils.py:208: UserWarning: The parameter 'pretrained' is deprecated since 0.13 and may be removed in the future, please use 'weights' instead.\n",
      "  warnings.warn(\n",
      "/usr/local/lib/python3.11/dist-packages/torchvision/models/_utils.py:223: UserWarning: Arguments other than a weight enum or `None` for 'weights' are deprecated since 0.13 and may be removed in the future. The current behavior is equivalent to passing `weights=AlexNet_Weights.IMAGENET1K_V1`. You can also use `weights=AlexNet_Weights.DEFAULT` to get the most up-to-date weights.\n",
      "  warnings.warn(msg)\n",
      "Downloading: \"https://download.pytorch.org/models/alexnet-owt-7be5be79.pth\" to /root/.cache/torch/hub/checkpoints/alexnet-owt-7be5be79.pth\n",
      "100%|██████████| 233M/233M [00:01<00:00, 214MB/s]\n"
     ]
    }
   ],
   "source": [
    "# Load pretrained AlexNet\n",
    "model = models.alexnet(pretrained=True)\n",
    "\n",
    "# Modify the classifier for binary classification\n",
    "model.classifier[6] = nn.Sequential(\n",
    "    nn.Linear(4096, 1),\n",
    "    nn.Sigmoid()  # For binary classification\n",
    ")\n",
    "\n",
    "# Send model to device\n",
    "device = torch.device(\"cuda\" if torch.cuda.is_available() else \"cpu\")\n",
    "model = model.to(device)\n",
    "\n",
    "criterion = nn.BCELoss()  # Binary cross-entropy loss\n",
    "optimizer = torch.optim.Adam(model.parameters(), lr=1e-4)"
   ]
  },
  {
   "cell_type": "code",
   "execution_count": 18,
   "id": "b3e5250a",
   "metadata": {
    "execution": {
     "iopub.execute_input": "2025-08-01T07:55:50.524575Z",
     "iopub.status.busy": "2025-08-01T07:55:50.524313Z",
     "iopub.status.idle": "2025-08-01T07:57:42.699562Z",
     "shell.execute_reply": "2025-08-01T07:57:42.698750Z"
    },
    "papermill": {
     "duration": 112.354484,
     "end_time": "2025-08-01T07:57:42.700686",
     "exception": false,
     "start_time": "2025-08-01T07:55:50.346202",
     "status": "completed"
    },
    "tags": []
   },
   "outputs": [
    {
     "name": "stderr",
     "output_type": "stream",
     "text": [
      "                                                                                            \r"
     ]
    },
    {
     "name": "stdout",
     "output_type": "stream",
     "text": [
      "Epoch 01/20 Train Loss: 0.5837  Val Loss: 0.5041  Train Acc: 0.6857  Val Acc: 0.7586\n"
     ]
    },
    {
     "name": "stderr",
     "output_type": "stream",
     "text": [
      "                                                                                           \r"
     ]
    },
    {
     "name": "stdout",
     "output_type": "stream",
     "text": [
      "Epoch 02/20 Train Loss: 0.3993  Val Loss: 0.6184  Train Acc: 0.8128  Val Acc: 0.7299\n"
     ]
    },
    {
     "name": "stderr",
     "output_type": "stream",
     "text": [
      "                                                                                           \r"
     ]
    },
    {
     "name": "stdout",
     "output_type": "stream",
     "text": [
      "Epoch 03/20 Train Loss: 0.2621  Val Loss: 0.6251  Train Acc: 0.8890  Val Acc: 0.7385\n"
     ]
    },
    {
     "name": "stderr",
     "output_type": "stream",
     "text": [
      "                                                                                           \r"
     ]
    },
    {
     "name": "stdout",
     "output_type": "stream",
     "text": [
      "Epoch 04/20 Train Loss: 0.1670  Val Loss: 0.8333  Train Acc: 0.9322  Val Acc: 0.7615\n"
     ]
    },
    {
     "name": "stderr",
     "output_type": "stream",
     "text": [
      "                                                                                            \r"
     ]
    },
    {
     "name": "stdout",
     "output_type": "stream",
     "text": [
      "Epoch 05/20 Train Loss: 0.1204  Val Loss: 0.9412  Train Acc: 0.9571  Val Acc: 0.7241\n"
     ]
    },
    {
     "name": "stderr",
     "output_type": "stream",
     "text": [
      "                                                                                           \r"
     ]
    },
    {
     "name": "stdout",
     "output_type": "stream",
     "text": [
      "Epoch 06/20 Train Loss: 0.0998  Val Loss: 1.0283  Train Acc: 0.9640  Val Acc: 0.7299\n"
     ]
    },
    {
     "name": "stderr",
     "output_type": "stream",
     "text": [
      "                                                                                           \r"
     ]
    },
    {
     "name": "stdout",
     "output_type": "stream",
     "text": [
      "Epoch 07/20 Train Loss: 0.0714  Val Loss: 1.1533  Train Acc: 0.9739  Val Acc: 0.7586\n"
     ]
    },
    {
     "name": "stderr",
     "output_type": "stream",
     "text": [
      "                                                                                           \r"
     ]
    },
    {
     "name": "stdout",
     "output_type": "stream",
     "text": [
      "Epoch 08/20 Train Loss: 0.0625  Val Loss: 1.2343  Train Acc: 0.9769  Val Acc: 0.7213\n"
     ]
    },
    {
     "name": "stderr",
     "output_type": "stream",
     "text": [
      "                                                                                           \r"
     ]
    },
    {
     "name": "stdout",
     "output_type": "stream",
     "text": [
      "Epoch 09/20 Train Loss: 0.0459  Val Loss: 1.9016  Train Acc: 0.9826  Val Acc: 0.7184\n"
     ]
    },
    {
     "name": "stderr",
     "output_type": "stream",
     "text": [
      "                                                                                            \r"
     ]
    },
    {
     "name": "stdout",
     "output_type": "stream",
     "text": [
      "Epoch 10/20 Train Loss: 0.0480  Val Loss: 2.4082  Train Acc: 0.9826  Val Acc: 0.7471\n"
     ]
    },
    {
     "name": "stderr",
     "output_type": "stream",
     "text": [
      "                                                                                            \r"
     ]
    },
    {
     "name": "stdout",
     "output_type": "stream",
     "text": [
      "Epoch 11/20 Train Loss: 0.0578  Val Loss: 1.8262  Train Acc: 0.9805  Val Acc: 0.6810\n"
     ]
    },
    {
     "name": "stderr",
     "output_type": "stream",
     "text": [
      "                                                                                            \r"
     ]
    },
    {
     "name": "stdout",
     "output_type": "stream",
     "text": [
      "Epoch 12/20 Train Loss: 0.0382  Val Loss: 1.6283  Train Acc: 0.9844  Val Acc: 0.7385\n"
     ]
    },
    {
     "name": "stderr",
     "output_type": "stream",
     "text": [
      "                                                                                            \r"
     ]
    },
    {
     "name": "stdout",
     "output_type": "stream",
     "text": [
      "Epoch 13/20 Train Loss: 0.0240  Val Loss: 1.3825  Train Acc: 0.9901  Val Acc: 0.7414\n"
     ]
    },
    {
     "name": "stderr",
     "output_type": "stream",
     "text": [
      "                                                                                            \r"
     ]
    },
    {
     "name": "stdout",
     "output_type": "stream",
     "text": [
      "Epoch 14/20 Train Loss: 0.0269  Val Loss: 1.8243  Train Acc: 0.9901  Val Acc: 0.7385\n"
     ]
    },
    {
     "name": "stderr",
     "output_type": "stream",
     "text": [
      "                                                                                             \r"
     ]
    },
    {
     "name": "stdout",
     "output_type": "stream",
     "text": [
      "Epoch 15/20 Train Loss: 0.0173  Val Loss: 2.7048  Train Acc: 0.9946  Val Acc: 0.7069\n"
     ]
    },
    {
     "name": "stderr",
     "output_type": "stream",
     "text": [
      "                                                                                             \r"
     ]
    },
    {
     "name": "stdout",
     "output_type": "stream",
     "text": [
      "Epoch 16/20 Train Loss: 0.0351  Val Loss: 1.6326  Train Acc: 0.9880  Val Acc: 0.7500\n"
     ]
    },
    {
     "name": "stderr",
     "output_type": "stream",
     "text": [
      "                                                                                            \r"
     ]
    },
    {
     "name": "stdout",
     "output_type": "stream",
     "text": [
      "Epoch 17/20 Train Loss: 0.0464  Val Loss: 2.5711  Train Acc: 0.9859  Val Acc: 0.7414\n"
     ]
    },
    {
     "name": "stderr",
     "output_type": "stream",
     "text": [
      "                                                                                            \r"
     ]
    },
    {
     "name": "stdout",
     "output_type": "stream",
     "text": [
      "Epoch 18/20 Train Loss: 0.0168  Val Loss: 1.8528  Train Acc: 0.9943  Val Acc: 0.7328\n"
     ]
    },
    {
     "name": "stderr",
     "output_type": "stream",
     "text": [
      "                                                                                            \r"
     ]
    },
    {
     "name": "stdout",
     "output_type": "stream",
     "text": [
      "Epoch 19/20 Train Loss: 0.0180  Val Loss: 2.3588  Train Acc: 0.9946  Val Acc: 0.7385\n"
     ]
    },
    {
     "name": "stderr",
     "output_type": "stream",
     "text": [
      "                                                                                            "
     ]
    },
    {
     "name": "stdout",
     "output_type": "stream",
     "text": [
      "Epoch 20/20 Train Loss: 0.0240  Val Loss: 1.9865  Train Acc: 0.9913  Val Acc: 0.7414\n"
     ]
    },
    {
     "name": "stderr",
     "output_type": "stream",
     "text": [
      "\r"
     ]
    }
   ],
   "source": [
    "num_epochs = 20\n",
    "\n",
    "# Trackers for plotting\n",
    "train_losses = []\n",
    "val_losses = []\n",
    "train_accuracies = []\n",
    "val_accuracies = []\n",
    "\n",
    "for epoch in range(num_epochs):\n",
    "    model.train()\n",
    "    total_train_loss = 0\n",
    "    correct_train = 0\n",
    "    total_train = 0\n",
    "\n",
    "    train_bar = tqdm(train_loader, desc=f\"Epoch {epoch+1}/{num_epochs} [Train]\", leave=False)\n",
    "    for images, labels in train_bar:\n",
    "        images = images.to(device)\n",
    "        labels = labels.to(device).float().unsqueeze(1)\n",
    "\n",
    "        outputs = model(images)\n",
    "        loss = criterion(outputs, labels)\n",
    "\n",
    "        optimizer.zero_grad()\n",
    "        loss.backward()\n",
    "        optimizer.step()\n",
    "\n",
    "        total_train_loss += loss.item()\n",
    "\n",
    "        preds = (outputs > 0.5).float()\n",
    "        correct_train += (preds == labels).sum().item()\n",
    "        total_train += labels.size(0)\n",
    "\n",
    "        train_bar.set_postfix(loss=f\"{total_train_loss / len(train_bar):.4f}\")\n",
    "\n",
    "    avg_train_loss = total_train_loss / len(train_loader)\n",
    "    train_accuracy = correct_train / total_train\n",
    "    train_losses.append(avg_train_loss)\n",
    "    train_accuracies.append(train_accuracy)\n",
    "\n",
    "    # Validation\n",
    "    model.eval()\n",
    "    total_val_loss = 0\n",
    "    correct_val = 0\n",
    "    total_val = 0\n",
    "\n",
    "    val_bar = tqdm(valid_loader, desc=f\"Epoch {epoch+1}/{num_epochs} [Val]  \", leave=False)\n",
    "    with torch.no_grad():\n",
    "        for val_images, val_labels in val_bar:\n",
    "            val_images = val_images.to(device)\n",
    "            val_labels = val_labels.to(device).float().unsqueeze(1)\n",
    "\n",
    "            val_outputs = model(val_images)\n",
    "            val_loss = criterion(val_outputs, val_labels)\n",
    "            total_val_loss += val_loss.item()\n",
    "\n",
    "            preds = (val_outputs > 0.5).float()\n",
    "            correct_val += (preds == val_labels).sum().item()\n",
    "            total_val += val_labels.size(0)\n",
    "\n",
    "            val_bar.set_postfix(loss=f\"{total_val_loss / len(val_bar):.4f}\",\n",
    "                                acc=f\"{correct_val / total_val:.4f}\")\n",
    "\n",
    "    avg_val_loss = total_val_loss / len(valid_loader)\n",
    "    val_accuracy = correct_val / total_val\n",
    "    val_losses.append(avg_val_loss)\n",
    "    val_accuracies.append(val_accuracy)\n",
    "\n",
    "    # Final summary print\n",
    "    print(f\"Epoch {epoch+1:02}/{num_epochs} \"\n",
    "          f\"Train Loss: {avg_train_loss:.4f}  \"\n",
    "          f\"Val Loss: {avg_val_loss:.4f}  \"\n",
    "          f\"Train Acc: {train_accuracy:.4f}  \"\n",
    "          f\"Val Acc: {val_accuracy:.4f}\")\n"
   ]
  },
  {
   "cell_type": "code",
   "execution_count": 19,
   "id": "dc283109",
   "metadata": {
    "execution": {
     "iopub.execute_input": "2025-08-01T07:57:43.375906Z",
     "iopub.status.busy": "2025-08-01T07:57:43.375238Z",
     "iopub.status.idle": "2025-08-01T07:57:43.702597Z",
     "shell.execute_reply": "2025-08-01T07:57:43.701854Z"
    },
    "papermill": {
     "duration": 0.639164,
     "end_time": "2025-08-01T07:57:43.703635",
     "exception": false,
     "start_time": "2025-08-01T07:57:43.064471",
     "status": "completed"
    },
    "tags": []
   },
   "outputs": [
    {
     "data": {
      "image/png": "[encoded data removed]",
      "text/plain": [
       "<Figure size 640x480 with 1 Axes>"
      ]
     },
     "metadata": {},
     "output_type": "display_data"
    },
    {
     "data": {
      "image/png": "[encoded data removed]",
      "text/plain": [
       "<Figure size 640x480 with 1 Axes>"
      ]
     },
     "metadata": {},
     "output_type": "display_data"
    }
   ],
   "source": [
    "plt.plot(train_losses, label=\"Train Loss\")\n",
    "plt.plot(val_losses, label=\"Valid Loss\")\n",
    "plt.title('Loss vs. Epochs')\n",
    "plt.xlabel(\"Epochs\")\n",
    "plt.ylabel(\"Loss\")\n",
    "plt.legend()\n",
    "plt.show()\n",
    "\n",
    "plt.plot(train_accuracies, label=\"Train Accuracy\")\n",
    "plt.plot(val_accuracies, label=\"Valid Accuracy\")\n",
    "plt.title('Accuracy vs. Epochs')\n",
    "plt.xlabel(\"Epochs\") \n",
    "plt.ylabel(\"Accuracy\")\n",
    "plt.legend()\n",
    "plt.show()"
   ]
  },
  {
   "cell_type": "code",
   "execution_count": 20,
   "id": "0d5ad8a3",
   "metadata": {
    "execution": {
     "iopub.execute_input": "2025-08-01T07:57:44.326402Z",
     "iopub.status.busy": "2025-08-01T07:57:44.325811Z",
     "iopub.status.idle": "2025-08-01T07:57:44.419059Z",
     "shell.execute_reply": "2025-08-01T07:57:44.418444Z"
    },
    "papermill": {
     "duration": 0.405477,
     "end_time": "2025-08-01T07:57:44.420468",
     "exception": false,
     "start_time": "2025-08-01T07:57:44.014991",
     "status": "completed"
    },
    "tags": []
   },
   "outputs": [],
   "source": [
    "model.eval()\n",
    "all_preds = []\n",
    "all_labels = []\n",
    "\n",
    "with torch.no_grad():\n",
    "    for images, labels in test_loader:\n",
    "        images = images.to(device)\n",
    "        outputs = model(images)\n",
    "        all_preds.extend(outputs.cpu().numpy().flatten())\n",
    "        all_labels.extend(labels.cpu().numpy().flatten())\n",
    "\n",
    "pred_labels = (np.array(all_preds) > 0.5).astype(int)\n",
    "true_labels = np.array(all_labels).astype(int)"
   ]
  },
  {
   "cell_type": "code",
   "execution_count": 21,
   "id": "8590c04e",
   "metadata": {
    "execution": {
     "iopub.execute_input": "2025-08-01T07:57:45.086781Z",
     "iopub.status.busy": "2025-08-01T07:57:45.086507Z",
     "iopub.status.idle": "2025-08-01T07:57:45.237151Z",
     "shell.execute_reply": "2025-08-01T07:57:45.236546Z"
    },
    "papermill": {
     "duration": 0.463063,
     "end_time": "2025-08-01T07:57:45.238223",
     "exception": false,
     "start_time": "2025-08-01T07:57:44.775160",
     "status": "completed"
    },
    "tags": []
   },
   "outputs": [
    {
     "name": "stdout",
     "output_type": "stream",
     "text": [
      "Confusion Matrix:\n",
      " [[57 29]\n",
      " [20 63]]\n",
      "\n",
      "Classification Report:\n",
      "               precision    recall  f1-score   support\n",
      "\n",
      "           0       0.74      0.66      0.70        86\n",
      "           1       0.68      0.76      0.72        83\n",
      "\n",
      "    accuracy                           0.71       169\n",
      "   macro avg       0.71      0.71      0.71       169\n",
      "weighted avg       0.71      0.71      0.71       169\n",
      "\n",
      "ROC AUC: 0.7974222471280471\n"
     ]
    },
    {
     "data": {
      "image/png": "[encoded data removed]",
      "text/plain": [
       "<Figure size 600x400 with 1 Axes>"
      ]
     },
     "metadata": {},
     "output_type": "display_data"
    }
   ],
   "source": [
    "print(\"Confusion Matrix:\\n\", confusion_matrix(true_labels, pred_labels))\n",
    "print(\"\\nClassification Report:\\n\", classification_report(true_labels, pred_labels))\n",
    "print(\"ROC AUC:\", roc_auc_score(true_labels, all_preds))\n",
    "\n",
    "# ROC curve\n",
    "fpr, tpr, thresholds = roc_curve(true_labels, all_preds)\n",
    "plt.figure(figsize=(6,4))\n",
    "plt.plot(fpr, tpr, label=f\"AUC={roc_auc_score(true_labels, all_preds):.2f}\")\n",
    "plt.xlabel(\"False Positive Rate\")\n",
    "plt.ylabel(\"True Positive Rate\")\n",
    "plt.title(\"ROC Curve\")\n",
    "plt.legend()\n",
    "plt.show()"
   ]
  },
  {
   "cell_type": "code",
   "execution_count": 22,
   "id": "64c8763d",
   "metadata": {
    "execution": {
     "iopub.execute_input": "2025-08-01T07:57:45.905836Z",
     "iopub.status.busy": "2025-08-01T07:57:45.905587Z",
     "iopub.status.idle": "2025-08-01T07:57:45.908824Z",
     "shell.execute_reply": "2025-08-01T07:57:45.908239Z"
    },
    "papermill": {
     "duration": 0.359899,
     "end_time": "2025-08-01T07:57:45.909926",
     "exception": false,
     "start_time": "2025-08-01T07:57:45.550027",
     "status": "completed"
    },
    "tags": []
   },
   "outputs": [],
   "source": [
    "model = 1"
   ]
  },
  {
   "cell_type": "markdown",
   "id": "f485c903",
   "metadata": {
    "papermill": {
     "duration": 0.308523,
     "end_time": "2025-08-01T07:57:46.526092",
     "exception": false,
     "start_time": "2025-08-01T07:57:46.217569",
     "status": "completed"
    },
    "tags": []
   },
   "source": [
    "**Resnet 18**"
   ]
  },
  {
   "cell_type": "code",
   "execution_count": 23,
   "id": "8021cf34",
   "metadata": {
    "execution": {
     "iopub.execute_input": "2025-08-01T07:57:47.199408Z",
     "iopub.status.busy": "2025-08-01T07:57:47.198687Z",
     "iopub.status.idle": "2025-08-01T07:57:47.767019Z",
     "shell.execute_reply": "2025-08-01T07:57:47.766188Z"
    },
    "papermill": {
     "duration": 0.882805,
     "end_time": "2025-08-01T07:57:47.768412",
     "exception": false,
     "start_time": "2025-08-01T07:57:46.885607",
     "status": "completed"
    },
    "tags": []
   },
   "outputs": [
    {
     "name": "stderr",
     "output_type": "stream",
     "text": [
      "/usr/local/lib/python3.11/dist-packages/torchvision/models/_utils.py:208: UserWarning: The parameter 'pretrained' is deprecated since 0.13 and may be removed in the future, please use 'weights' instead.\n",
      "  warnings.warn(\n",
      "/usr/local/lib/python3.11/dist-packages/torchvision/models/_utils.py:223: UserWarning: Arguments other than a weight enum or `None` for 'weights' are deprecated since 0.13 and may be removed in the future. The current behavior is equivalent to passing `weights=ResNet18_Weights.IMAGENET1K_V1`. You can also use `weights=ResNet18_Weights.DEFAULT` to get the most up-to-date weights.\n",
      "  warnings.warn(msg)\n",
      "Downloading: \"https://download.pytorch.org/models/resnet18-f37072fd.pth\" to /root/.cache/torch/hub/checkpoints/resnet18-f37072fd.pth\n",
      "100%|██████████| 44.7M/44.7M [00:00<00:00, 170MB/s]\n"
     ]
    }
   ],
   "source": [
    "device = torch.device(\"cuda\" if torch.cuda.is_available() else \"cpu\")\n",
    "\n",
    "# Load pretrained ResNet18\n",
    "model = models.resnet18(pretrained=True)\n",
    "\n",
    "# Modify the last layer for binary classification\n",
    "num_features = model.fc.in_features\n",
    "model.fc = nn.Sequential(\n",
    "    nn.Linear(num_features, 1), \n",
    "    # nn.ReLU(),\n",
    "    # nn.Dropout(0.4),\n",
    "    # nn.Linear(32,16),\n",
    "    # nn.ReLU(),\n",
    "    # nn.Dropout(0.4),\n",
    "    # nn.Linear(16,1),\n",
    "    nn.Sigmoid()                 # use sigmoid to output probability\n",
    ")\n",
    "\n",
    "model = model.to(device)\n",
    "\n",
    "criterion = nn.BCELoss()  # Binary Cross Entropy\n",
    "optimizer = torch.optim.Adam(model.parameters(), lr=1e-4)"
   ]
  },
  {
   "cell_type": "code",
   "execution_count": 24,
   "id": "4c07f348",
   "metadata": {
    "execution": {
     "iopub.execute_input": "2025-08-01T07:57:48.402631Z",
     "iopub.status.busy": "2025-08-01T07:57:48.402367Z",
     "iopub.status.idle": "2025-08-01T08:01:38.037021Z",
     "shell.execute_reply": "2025-08-01T08:01:38.036327Z"
    },
    "papermill": {
     "duration": 229.955142,
     "end_time": "2025-08-01T08:01:38.038340",
     "exception": false,
     "start_time": "2025-08-01T07:57:48.083198",
     "status": "completed"
    },
    "tags": []
   },
   "outputs": [
    {
     "name": "stderr",
     "output_type": "stream",
     "text": [
      "                                                                                           \r"
     ]
    },
    {
     "name": "stdout",
     "output_type": "stream",
     "text": [
      "Epoch 01/20 Train Loss: 0.4855  Val Loss: 0.4628  Train Acc: 0.7603  Val Acc: 0.7787\n"
     ]
    },
    {
     "name": "stderr",
     "output_type": "stream",
     "text": [
      "                                                                                           \r"
     ]
    },
    {
     "name": "stdout",
     "output_type": "stream",
     "text": [
      "Epoch 02/20 Train Loss: 0.1625  Val Loss: 0.6944  Train Acc: 0.9418  Val Acc: 0.7730\n"
     ]
    },
    {
     "name": "stderr",
     "output_type": "stream",
     "text": [
      "                                                                                           \r"
     ]
    },
    {
     "name": "stdout",
     "output_type": "stream",
     "text": [
      "Epoch 03/20 Train Loss: 0.0605  Val Loss: 0.6306  Train Acc: 0.9835  Val Acc: 0.7989\n"
     ]
    },
    {
     "name": "stderr",
     "output_type": "stream",
     "text": [
      "                                                                                           \r"
     ]
    },
    {
     "name": "stdout",
     "output_type": "stream",
     "text": [
      "Epoch 04/20 Train Loss: 0.0590  Val Loss: 0.5767  Train Acc: 0.9835  Val Acc: 0.8075\n"
     ]
    },
    {
     "name": "stderr",
     "output_type": "stream",
     "text": [
      "                                                                                           \r"
     ]
    },
    {
     "name": "stdout",
     "output_type": "stream",
     "text": [
      "Epoch 05/20 Train Loss: 0.0321  Val Loss: 0.8948  Train Acc: 0.9910  Val Acc: 0.7529\n"
     ]
    },
    {
     "name": "stderr",
     "output_type": "stream",
     "text": [
      "                                                                                           \r"
     ]
    },
    {
     "name": "stdout",
     "output_type": "stream",
     "text": [
      "Epoch 06/20 Train Loss: 0.0608  Val Loss: 1.0065  Train Acc: 0.9793  Val Acc: 0.7586\n"
     ]
    },
    {
     "name": "stderr",
     "output_type": "stream",
     "text": [
      "                                                                                           \r"
     ]
    },
    {
     "name": "stdout",
     "output_type": "stream",
     "text": [
      "Epoch 07/20 Train Loss: 0.0451  Val Loss: 0.8046  Train Acc: 0.9835  Val Acc: 0.7845\n"
     ]
    },
    {
     "name": "stderr",
     "output_type": "stream",
     "text": [
      "                                                                                           \r"
     ]
    },
    {
     "name": "stdout",
     "output_type": "stream",
     "text": [
      "Epoch 08/20 Train Loss: 0.0462  Val Loss: 0.7697  Train Acc: 0.9835  Val Acc: 0.7902\n"
     ]
    },
    {
     "name": "stderr",
     "output_type": "stream",
     "text": [
      "                                                                                           \r"
     ]
    },
    {
     "name": "stdout",
     "output_type": "stream",
     "text": [
      "Epoch 09/20 Train Loss: 0.0264  Val Loss: 0.8467  Train Acc: 0.9931  Val Acc: 0.7902\n"
     ]
    },
    {
     "name": "stderr",
     "output_type": "stream",
     "text": [
      "                                                                                            \r"
     ]
    },
    {
     "name": "stdout",
     "output_type": "stream",
     "text": [
      "Epoch 10/20 Train Loss: 0.0449  Val Loss: 0.7119  Train Acc: 0.9865  Val Acc: 0.8132\n"
     ]
    },
    {
     "name": "stderr",
     "output_type": "stream",
     "text": [
      "                                                                                            \r"
     ]
    },
    {
     "name": "stdout",
     "output_type": "stream",
     "text": [
      "Epoch 11/20 Train Loss: 0.0076  Val Loss: 0.6227  Train Acc: 0.9991  Val Acc: 0.8333\n"
     ]
    },
    {
     "name": "stderr",
     "output_type": "stream",
     "text": [
      "                                                                                            \r"
     ]
    },
    {
     "name": "stdout",
     "output_type": "stream",
     "text": [
      "Epoch 12/20 Train Loss: 0.0024  Val Loss: 0.6458  Train Acc: 1.0000  Val Acc: 0.8305\n"
     ]
    },
    {
     "name": "stderr",
     "output_type": "stream",
     "text": [
      "                                                                                            \r"
     ]
    },
    {
     "name": "stdout",
     "output_type": "stream",
     "text": [
      "Epoch 13/20 Train Loss: 0.0024  Val Loss: 0.6611  Train Acc: 1.0000  Val Acc: 0.8218\n"
     ]
    },
    {
     "name": "stderr",
     "output_type": "stream",
     "text": [
      "                                                                                            \r"
     ]
    },
    {
     "name": "stdout",
     "output_type": "stream",
     "text": [
      "Epoch 14/20 Train Loss: 0.0119  Val Loss: 0.6793  Train Acc: 0.9955  Val Acc: 0.8132\n"
     ]
    },
    {
     "name": "stderr",
     "output_type": "stream",
     "text": [
      "                                                                                            \r"
     ]
    },
    {
     "name": "stdout",
     "output_type": "stream",
     "text": [
      "Epoch 15/20 Train Loss: 0.0117  Val Loss: 0.6616  Train Acc: 0.9964  Val Acc: 0.8247\n"
     ]
    },
    {
     "name": "stderr",
     "output_type": "stream",
     "text": [
      "                                                                                            \r"
     ]
    },
    {
     "name": "stdout",
     "output_type": "stream",
     "text": [
      "Epoch 16/20 Train Loss: 0.0208  Val Loss: 0.8100  Train Acc: 0.9934  Val Acc: 0.8190\n"
     ]
    },
    {
     "name": "stderr",
     "output_type": "stream",
     "text": [
      "                                                                                            \r"
     ]
    },
    {
     "name": "stdout",
     "output_type": "stream",
     "text": [
      "Epoch 17/20 Train Loss: 0.0114  Val Loss: 0.7415  Train Acc: 0.9964  Val Acc: 0.8333\n"
     ]
    },
    {
     "name": "stderr",
     "output_type": "stream",
     "text": [
      "                                                                                            \r"
     ]
    },
    {
     "name": "stdout",
     "output_type": "stream",
     "text": [
      "Epoch 18/20 Train Loss: 0.0475  Val Loss: 0.8950  Train Acc: 0.9922  Val Acc: 0.7989\n"
     ]
    },
    {
     "name": "stderr",
     "output_type": "stream",
     "text": [
      "                                                                                            \r"
     ]
    },
    {
     "name": "stdout",
     "output_type": "stream",
     "text": [
      "Epoch 19/20 Train Loss: 0.1014  Val Loss: 0.7989  Train Acc: 0.9664  Val Acc: 0.7701\n"
     ]
    },
    {
     "name": "stderr",
     "output_type": "stream",
     "text": [
      "                                                                                            "
     ]
    },
    {
     "name": "stdout",
     "output_type": "stream",
     "text": [
      "Epoch 20/20 Train Loss: 0.0192  Val Loss: 0.8479  Train Acc: 0.9925  Val Acc: 0.8075\n"
     ]
    },
    {
     "name": "stderr",
     "output_type": "stream",
     "text": [
      "\r"
     ]
    }
   ],
   "source": [
    "num_epochs = 20\n",
    "\n",
    "# Trackers for plotting\n",
    "train_losses = []\n",
    "val_losses = []\n",
    "train_accuracies = []\n",
    "val_accuracies = []\n",
    "\n",
    "for epoch in range(num_epochs):\n",
    "    model.train()\n",
    "    total_train_loss = 0\n",
    "    correct_train = 0\n",
    "    total_train = 0\n",
    "\n",
    "    train_bar = tqdm(train_loader, desc=f\"Epoch {epoch+1}/{num_epochs} [Train]\", leave=False)\n",
    "    for images, labels in train_bar:\n",
    "        images = images.to(device)\n",
    "        labels = labels.to(device).float().unsqueeze(1)\n",
    "\n",
    "        outputs = model(images)\n",
    "        loss = criterion(outputs, labels)\n",
    "\n",
    "        optimizer.zero_grad()\n",
    "        loss.backward()\n",
    "        optimizer.step()\n",
    "\n",
    "        total_train_loss += loss.item()\n",
    "\n",
    "        preds = (outputs > 0.5).float()\n",
    "        correct_train += (preds == labels).sum().item()\n",
    "        total_train += labels.size(0)\n",
    "\n",
    "        train_bar.set_postfix(loss=f\"{total_train_loss / len(train_bar):.4f}\")\n",
    "\n",
    "    avg_train_loss = total_train_loss / len(train_loader)\n",
    "    train_accuracy = correct_train / total_train\n",
    "    train_losses.append(avg_train_loss)\n",
    "    train_accuracies.append(train_accuracy)\n",
    "\n",
    "    # Validation\n",
    "    model.eval()\n",
    "    total_val_loss = 0\n",
    "    correct_val = 0\n",
    "    total_val = 0\n",
    "\n",
    "    val_bar = tqdm(valid_loader, desc=f\"Epoch {epoch+1}/{num_epochs} [Val]  \", leave=False)\n",
    "    with torch.no_grad():\n",
    "        for val_images, val_labels in val_bar:\n",
    "            val_images = val_images.to(device)\n",
    "            val_labels = val_labels.to(device).float().unsqueeze(1)\n",
    "\n",
    "            val_outputs = model(val_images)\n",
    "            val_loss = criterion(val_outputs, val_labels)\n",
    "            total_val_loss += val_loss.item()\n",
    "\n",
    "            preds = (val_outputs > 0.5).float()\n",
    "            correct_val += (preds == val_labels).sum().item()\n",
    "            total_val += val_labels.size(0)\n",
    "\n",
    "            val_bar.set_postfix(loss=f\"{total_val_loss / len(val_bar):.4f}\",\n",
    "                                acc=f\"{correct_val / total_val:.4f}\")\n",
    "\n",
    "    avg_val_loss = total_val_loss / len(valid_loader)\n",
    "    val_accuracy = correct_val / total_val\n",
    "    val_losses.append(avg_val_loss)\n",
    "    val_accuracies.append(val_accuracy)\n",
    "\n",
    "    # Final summary print\n",
    "    print(f\"Epoch {epoch+1:02}/{num_epochs} \"\n",
    "          f\"Train Loss: {avg_train_loss:.4f}  \"\n",
    "          f\"Val Loss: {avg_val_loss:.4f}  \"\n",
    "          f\"Train Acc: {train_accuracy:.4f}  \"\n",
    "          f\"Val Acc: {val_accuracy:.4f}\")\n"
   ]
  },
  {
   "cell_type": "code",
   "execution_count": 25,
   "id": "63fb6668",
   "metadata": {
    "execution": {
     "iopub.execute_input": "2025-08-01T08:01:39.097733Z",
     "iopub.status.busy": "2025-08-01T08:01:39.097140Z",
     "iopub.status.idle": "2025-08-01T08:01:39.418882Z",
     "shell.execute_reply": "2025-08-01T08:01:39.418168Z"
    },
    "papermill": {
     "duration": 0.818394,
     "end_time": "2025-08-01T08:01:39.420053",
     "exception": false,
     "start_time": "2025-08-01T08:01:38.601659",
     "status": "completed"
    },
    "tags": []
   },
   "outputs": [
    {
     "data": {
      "image/png": "[encoded data removed]",
      "text/plain": [
       "<Figure size 640x480 with 1 Axes>"
      ]
     },
     "metadata": {},
     "output_type": "display_data"
    },
    {
     "data": {
      "image/png": "[encoded data removed]",
      "text/plain": [
       "<Figure size 640x480 with 1 Axes>"
      ]
     },
     "metadata": {},
     "output_type": "display_data"
    }
   ],
   "source": [
    "plt.plot(train_losses, label=\"Train Loss\")\n",
    "plt.plot(val_losses, label=\"Valid Loss\")\n",
    "plt.title('Loss vs. Epochs')\n",
    "plt.xlabel(\"Epochs\")\n",
    "plt.ylabel(\"Loss\")\n",
    "plt.legend()\n",
    "plt.show()\n",
    "\n",
    "plt.plot(train_accuracies, label=\"Train Accuracy\")\n",
    "plt.plot(val_accuracies, label=\"Valid Accuracy\")\n",
    "plt.title('Accuracy vs. Epochs')\n",
    "plt.xlabel(\"Epochs\") \n",
    "plt.ylabel(\"Accuracy\")\n",
    "plt.legend()\n",
    "plt.show()"
   ]
  },
  {
   "cell_type": "code",
   "execution_count": 26,
   "id": "4ac98a34",
   "metadata": {
    "execution": {
     "iopub.execute_input": "2025-08-01T08:01:40.538776Z",
     "iopub.status.busy": "2025-08-01T08:01:40.538377Z",
     "iopub.status.idle": "2025-08-01T08:01:40.769807Z",
     "shell.execute_reply": "2025-08-01T08:01:40.769194Z"
    },
    "papermill": {
     "duration": 0.744579,
     "end_time": "2025-08-01T08:01:40.771263",
     "exception": false,
     "start_time": "2025-08-01T08:01:40.026684",
     "status": "completed"
    },
    "tags": []
   },
   "outputs": [],
   "source": [
    "model.eval()\n",
    "all_preds = []\n",
    "all_labels = []\n",
    "\n",
    "with torch.no_grad():\n",
    "    for images, labels in test_loader:\n",
    "        images = images.to(device)\n",
    "        outputs = model(images)\n",
    "        all_preds.extend(outputs.cpu().numpy().flatten())\n",
    "        all_labels.extend(labels.cpu().numpy().flatten())\n",
    "\n",
    "pred_labels = (np.array(all_preds) > 0.5).astype(int)\n",
    "true_labels = np.array(all_labels).astype(int)"
   ]
  },
  {
   "cell_type": "code",
   "execution_count": 27,
   "id": "010f0c5c",
   "metadata": {
    "execution": {
     "iopub.execute_input": "2025-08-01T08:01:41.830843Z",
     "iopub.status.busy": "2025-08-01T08:01:41.830565Z",
     "iopub.status.idle": "2025-08-01T08:01:41.980490Z",
     "shell.execute_reply": "2025-08-01T08:01:41.979825Z"
    },
    "papermill": {
     "duration": 0.651921,
     "end_time": "2025-08-01T08:01:41.981726",
     "exception": false,
     "start_time": "2025-08-01T08:01:41.329805",
     "status": "completed"
    },
    "tags": []
   },
   "outputs": [
    {
     "name": "stdout",
     "output_type": "stream",
     "text": [
      "Confusion Matrix:\n",
      " [[73 13]\n",
      " [23 60]]\n",
      "\n",
      "Classification Report:\n",
      "               precision    recall  f1-score   support\n",
      "\n",
      "           0       0.76      0.85      0.80        86\n",
      "           1       0.82      0.72      0.77        83\n",
      "\n",
      "    accuracy                           0.79       169\n",
      "   macro avg       0.79      0.79      0.79       169\n",
      "weighted avg       0.79      0.79      0.79       169\n",
      "\n",
      "ROC AUC: 0.8715326421966938\n"
     ]
    },
    {
     "data": {
      "image/png": "[encoded data removed]",
      "text/plain": [
       "<Figure size 600x400 with 1 Axes>"
      ]
     },
     "metadata": {},
     "output_type": "display_data"
    }
   ],
   "source": [
    "print(\"Confusion Matrix:\\n\", confusion_matrix(true_labels, pred_labels))\n",
    "print(\"\\nClassification Report:\\n\", classification_report(true_labels, pred_labels))\n",
    "print(\"ROC AUC:\", roc_auc_score(true_labels, all_preds))\n",
    "\n",
    "# ROC curve\n",
    "fpr, tpr, thresholds = roc_curve(true_labels, all_preds)\n",
    "plt.figure(figsize=(6,4))\n",
    "plt.plot(fpr, tpr, label=f\"AUC={roc_auc_score(true_labels, all_preds):.2f}\")\n",
    "plt.xlabel(\"False Positive Rate\")\n",
    "plt.ylabel(\"True Positive Rate\")\n",
    "plt.title(\"ROC Curve\")\n",
    "plt.legend()\n",
    "plt.show()"
   ]
  },
  {
   "cell_type": "code",
   "execution_count": 28,
   "id": "22893946",
   "metadata": {
    "execution": {
     "iopub.execute_input": "2025-08-01T08:01:43.125967Z",
     "iopub.status.busy": "2025-08-01T08:01:43.125690Z",
     "iopub.status.idle": "2025-08-01T08:01:43.129925Z",
     "shell.execute_reply": "2025-08-01T08:01:43.129385Z"
    },
    "papermill": {
     "duration": 0.563234,
     "end_time": "2025-08-01T08:01:43.131034",
     "exception": false,
     "start_time": "2025-08-01T08:01:42.567800",
     "status": "completed"
    },
    "tags": []
   },
   "outputs": [],
   "source": [
    "model = 1"
   ]
  },
  {
   "cell_type": "markdown",
   "id": "ee145846",
   "metadata": {
    "papermill": {
     "duration": 0.559878,
     "end_time": "2025-08-01T08:01:44.192780",
     "exception": false,
     "start_time": "2025-08-01T08:01:43.632902",
     "status": "completed"
    },
    "tags": []
   },
   "source": [
    "**EfficientNetB0**"
   ]
  },
  {
   "cell_type": "code",
   "execution_count": 29,
   "id": "75c4209f",
   "metadata": {
    "execution": {
     "iopub.execute_input": "2025-08-01T08:01:45.200335Z",
     "iopub.status.busy": "2025-08-01T08:01:45.200017Z",
     "iopub.status.idle": "2025-08-01T08:01:45.401917Z",
     "shell.execute_reply": "2025-08-01T08:01:45.401108Z"
    },
    "papermill": {
     "duration": 0.707462,
     "end_time": "2025-08-01T08:01:45.403318",
     "exception": false,
     "start_time": "2025-08-01T08:01:44.695856",
     "status": "completed"
    },
    "tags": []
   },
   "outputs": [
    {
     "name": "stderr",
     "output_type": "stream",
     "text": [
      "/usr/local/lib/python3.11/dist-packages/torchvision/models/_utils.py:208: UserWarning: The parameter 'pretrained' is deprecated since 0.13 and may be removed in the future, please use 'weights' instead.\n",
      "  warnings.warn(\n",
      "/usr/local/lib/python3.11/dist-packages/torchvision/models/_utils.py:223: UserWarning: Arguments other than a weight enum or `None` for 'weights' are deprecated since 0.13 and may be removed in the future. The current behavior is equivalent to passing `weights=ResNet18_Weights.IMAGENET1K_V1`. You can also use `weights=ResNet18_Weights.DEFAULT` to get the most up-to-date weights.\n",
      "  warnings.warn(msg)\n"
     ]
    }
   ],
   "source": [
    "device = torch.device(\"cuda\" if torch.cuda.is_available() else \"cpu\")\n",
    "\n",
    "model = models.resnet18(pretrained=True)\n",
    "model.fc = nn.Sequential(\n",
    "    nn.Linear(model.fc.in_features, 32),\n",
    "    nn.ReLU(),\n",
    "    nn.Dropout(0.5),\n",
    "    nn.Linear(32,16),\n",
    "    nn.ReLU(),\n",
    "    nn.Dropout(0.3),\n",
    "    nn.Linear(16,1),\n",
    "    nn.Sigmoid() \n",
    ")\n",
    "\n",
    "model = model.to(device)\n",
    "\n",
    "criterion = nn.BCELoss()  # Binary Cross Entropy\n",
    "optimizer = torch.optim.Adam(model.parameters(), lr=1e-4)"
   ]
  },
  {
   "cell_type": "code",
   "execution_count": 30,
   "id": "df243a76",
   "metadata": {
    "execution": {
     "iopub.execute_input": "2025-08-01T08:01:46.462682Z",
     "iopub.status.busy": "2025-08-01T08:01:46.462260Z",
     "iopub.status.idle": "2025-08-01T08:05:34.884748Z",
     "shell.execute_reply": "2025-08-01T08:05:34.883988Z"
    },
    "papermill": {
     "duration": 228.924352,
     "end_time": "2025-08-01T08:05:34.885876",
     "exception": false,
     "start_time": "2025-08-01T08:01:45.961524",
     "status": "completed"
    },
    "tags": []
   },
   "outputs": [
    {
     "name": "stderr",
     "output_type": "stream",
     "text": [
      "                                                                                           \r"
     ]
    },
    {
     "name": "stdout",
     "output_type": "stream",
     "text": [
      "Epoch 01/20 Train Loss: 0.6304  Val Loss: 0.5106  Train Acc: 0.6350  Val Acc: 0.7730\n"
     ]
    },
    {
     "name": "stderr",
     "output_type": "stream",
     "text": [
      "                                                                                           \r"
     ]
    },
    {
     "name": "stdout",
     "output_type": "stream",
     "text": [
      "Epoch 02/20 Train Loss: 0.4484  Val Loss: 0.4317  Train Acc: 0.8107  Val Acc: 0.8161\n"
     ]
    },
    {
     "name": "stderr",
     "output_type": "stream",
     "text": [
      "                                                                                           \r"
     ]
    },
    {
     "name": "stdout",
     "output_type": "stream",
     "text": [
      "Epoch 03/20 Train Loss: 0.2882  Val Loss: 0.5045  Train Acc: 0.9043  Val Acc: 0.7902\n"
     ]
    },
    {
     "name": "stderr",
     "output_type": "stream",
     "text": [
      "                                                                                           \r"
     ]
    },
    {
     "name": "stdout",
     "output_type": "stream",
     "text": [
      "Epoch 04/20 Train Loss: 0.1772  Val Loss: 0.5679  Train Acc: 0.9451  Val Acc: 0.7902\n"
     ]
    },
    {
     "name": "stderr",
     "output_type": "stream",
     "text": [
      "                                                                                           \r"
     ]
    },
    {
     "name": "stdout",
     "output_type": "stream",
     "text": [
      "Epoch 05/20 Train Loss: 0.1070  Val Loss: 0.7125  Train Acc: 0.9709  Val Acc: 0.7672\n"
     ]
    },
    {
     "name": "stderr",
     "output_type": "stream",
     "text": [
      "                                                                                           \r"
     ]
    },
    {
     "name": "stdout",
     "output_type": "stream",
     "text": [
      "Epoch 06/20 Train Loss: 0.1392  Val Loss: 0.6865  Train Acc: 0.9613  Val Acc: 0.8276\n"
     ]
    },
    {
     "name": "stderr",
     "output_type": "stream",
     "text": [
      "                                                                                           \r"
     ]
    },
    {
     "name": "stdout",
     "output_type": "stream",
     "text": [
      "Epoch 07/20 Train Loss: 0.1070  Val Loss: 0.7568  Train Acc: 0.9694  Val Acc: 0.7902\n"
     ]
    },
    {
     "name": "stderr",
     "output_type": "stream",
     "text": [
      "                                                                                           \r"
     ]
    },
    {
     "name": "stdout",
     "output_type": "stream",
     "text": [
      "Epoch 08/20 Train Loss: 0.0818  Val Loss: 0.6749  Train Acc: 0.9796  Val Acc: 0.8017\n"
     ]
    },
    {
     "name": "stderr",
     "output_type": "stream",
     "text": [
      "                                                                                           \r"
     ]
    },
    {
     "name": "stdout",
     "output_type": "stream",
     "text": [
      "Epoch 09/20 Train Loss: 0.0514  Val Loss: 0.7000  Train Acc: 0.9898  Val Acc: 0.8190\n"
     ]
    },
    {
     "name": "stderr",
     "output_type": "stream",
     "text": [
      "                                                                                            \r"
     ]
    },
    {
     "name": "stdout",
     "output_type": "stream",
     "text": [
      "Epoch 10/20 Train Loss: 0.1034  Val Loss: 0.8639  Train Acc: 0.9715  Val Acc: 0.7931\n"
     ]
    },
    {
     "name": "stderr",
     "output_type": "stream",
     "text": [
      "                                                                                            \r"
     ]
    },
    {
     "name": "stdout",
     "output_type": "stream",
     "text": [
      "Epoch 11/20 Train Loss: 0.0553  Val Loss: 0.8162  Train Acc: 0.9862  Val Acc: 0.8132\n"
     ]
    },
    {
     "name": "stderr",
     "output_type": "stream",
     "text": [
      "                                                                                            \r"
     ]
    },
    {
     "name": "stdout",
     "output_type": "stream",
     "text": [
      "Epoch 12/20 Train Loss: 0.0385  Val Loss: 0.9124  Train Acc: 0.9913  Val Acc: 0.8132\n"
     ]
    },
    {
     "name": "stderr",
     "output_type": "stream",
     "text": [
      "                                                                                            \r"
     ]
    },
    {
     "name": "stdout",
     "output_type": "stream",
     "text": [
      "Epoch 13/20 Train Loss: 0.0281  Val Loss: 1.1148  Train Acc: 0.9940  Val Acc: 0.7816\n"
     ]
    },
    {
     "name": "stderr",
     "output_type": "stream",
     "text": [
      "                                                                                            \r"
     ]
    },
    {
     "name": "stdout",
     "output_type": "stream",
     "text": [
      "Epoch 14/20 Train Loss: 0.0843  Val Loss: 0.7707  Train Acc: 0.9787  Val Acc: 0.8190\n"
     ]
    },
    {
     "name": "stderr",
     "output_type": "stream",
     "text": [
      "                                                                                            \r"
     ]
    },
    {
     "name": "stdout",
     "output_type": "stream",
     "text": [
      "Epoch 15/20 Train Loss: 0.0292  Val Loss: 0.8531  Train Acc: 0.9919  Val Acc: 0.8305\n"
     ]
    },
    {
     "name": "stderr",
     "output_type": "stream",
     "text": [
      "                                                                                            \r"
     ]
    },
    {
     "name": "stdout",
     "output_type": "stream",
     "text": [
      "Epoch 16/20 Train Loss: 0.0508  Val Loss: 1.0318  Train Acc: 0.9859  Val Acc: 0.8017\n"
     ]
    },
    {
     "name": "stderr",
     "output_type": "stream",
     "text": [
      "                                                                                            \r"
     ]
    },
    {
     "name": "stdout",
     "output_type": "stream",
     "text": [
      "Epoch 17/20 Train Loss: 0.0474  Val Loss: 1.2002  Train Acc: 0.9895  Val Acc: 0.7529\n"
     ]
    },
    {
     "name": "stderr",
     "output_type": "stream",
     "text": [
      "                                                                                            \r"
     ]
    },
    {
     "name": "stdout",
     "output_type": "stream",
     "text": [
      "Epoch 18/20 Train Loss: 0.0224  Val Loss: 0.9180  Train Acc: 0.9955  Val Acc: 0.8276\n"
     ]
    },
    {
     "name": "stderr",
     "output_type": "stream",
     "text": [
      "                                                                                            \r"
     ]
    },
    {
     "name": "stdout",
     "output_type": "stream",
     "text": [
      "Epoch 19/20 Train Loss: 0.0823  Val Loss: 1.2699  Train Acc: 0.9892  Val Acc: 0.7960\n"
     ]
    },
    {
     "name": "stderr",
     "output_type": "stream",
     "text": [
      "                                                                                            "
     ]
    },
    {
     "name": "stdout",
     "output_type": "stream",
     "text": [
      "Epoch 20/20 Train Loss: 0.1322  Val Loss: 0.8707  Train Acc: 0.9739  Val Acc: 0.7960\n"
     ]
    },
    {
     "name": "stderr",
     "output_type": "stream",
     "text": [
      "\r"
     ]
    }
   ],
   "source": [
    "num_epochs = 20\n",
    "\n",
    "# Trackers for plotting\n",
    "train_losses = []\n",
    "val_losses = []\n",
    "train_accuracies = []\n",
    "val_accuracies = []\n",
    "\n",
    "for epoch in range(num_epochs):\n",
    "    model.train()\n",
    "    total_train_loss = 0\n",
    "    correct_train = 0\n",
    "    total_train = 0\n",
    "\n",
    "    train_bar = tqdm(train_loader, desc=f\"Epoch {epoch+1}/{num_epochs} [Train]\", leave=False)\n",
    "    for images, labels in train_bar:\n",
    "        images = images.to(device)\n",
    "        labels = labels.to(device).float().unsqueeze(1)\n",
    "\n",
    "        outputs = model(images)\n",
    "        loss = criterion(outputs, labels)\n",
    "\n",
    "        optimizer.zero_grad()\n",
    "        loss.backward()\n",
    "        optimizer.step()\n",
    "\n",
    "        total_train_loss += loss.item()\n",
    "\n",
    "        preds = (outputs > 0.5).float()\n",
    "        correct_train += (preds == labels).sum().item()\n",
    "        total_train += labels.size(0)\n",
    "\n",
    "        train_bar.set_postfix(loss=f\"{total_train_loss / len(train_bar):.4f}\")\n",
    "\n",
    "    avg_train_loss = total_train_loss / len(train_loader)\n",
    "    train_accuracy = correct_train / total_train\n",
    "    train_losses.append(avg_train_loss)\n",
    "    train_accuracies.append(train_accuracy)\n",
    "\n",
    "    # Validation\n",
    "    model.eval()\n",
    "    total_val_loss = 0\n",
    "    correct_val = 0\n",
    "    total_val = 0\n",
    "\n",
    "    val_bar = tqdm(valid_loader, desc=f\"Epoch {epoch+1}/{num_epochs} [Val]  \", leave=False)\n",
    "    with torch.no_grad():\n",
    "        for val_images, val_labels in val_bar:\n",
    "            val_images = val_images.to(device)\n",
    "            val_labels = val_labels.to(device).float().unsqueeze(1)\n",
    "\n",
    "            val_outputs = model(val_images)\n",
    "            val_loss = criterion(val_outputs, val_labels)\n",
    "            total_val_loss += val_loss.item()\n",
    "\n",
    "            preds = (val_outputs > 0.5).float()\n",
    "            correct_val += (preds == val_labels).sum().item()\n",
    "            total_val += val_labels.size(0)\n",
    "\n",
    "            val_bar.set_postfix(loss=f\"{total_val_loss / len(val_bar):.4f}\",\n",
    "                                acc=f\"{correct_val / total_val:.4f}\")\n",
    "\n",
    "    avg_val_loss = total_val_loss / len(valid_loader)\n",
    "    val_accuracy = correct_val / total_val\n",
    "    val_losses.append(avg_val_loss)\n",
    "    val_accuracies.append(val_accuracy)\n",
    "\n",
    "    # Final summary print\n",
    "    print(f\"Epoch {epoch+1:02}/{num_epochs} \"\n",
    "          f\"Train Loss: {avg_train_loss:.4f}  \"\n",
    "          f\"Val Loss: {avg_val_loss:.4f}  \"\n",
    "          f\"Train Acc: {train_accuracy:.4f}  \"\n",
    "          f\"Val Acc: {val_accuracy:.4f}\")"
   ]
  },
  {
   "cell_type": "code",
   "execution_count": 31,
   "id": "3957bcc8",
   "metadata": {
    "execution": {
     "iopub.execute_input": "2025-08-01T08:05:36.342392Z",
     "iopub.status.busy": "2025-08-01T08:05:36.341666Z",
     "iopub.status.idle": "2025-08-01T08:05:36.674638Z",
     "shell.execute_reply": "2025-08-01T08:05:36.674014Z"
    },
    "papermill": {
     "duration": 1.065212,
     "end_time": "2025-08-01T08:05:36.675885",
     "exception": false,
     "start_time": "2025-08-01T08:05:35.610673",
     "status": "completed"
    },
    "tags": []
   },
   "outputs": [
    {
     "data": {
      "image/png": "[encoded data removed]",
      "text/plain": [
       "<Figure size 640x480 with 1 Axes>"
      ]
     },
     "metadata": {},
     "output_type": "display_data"
    },
    {
     "data": {
      "image/png": "[encoded data removed]",
      "text/plain": [
       "<Figure size 640x480 with 1 Axes>"
      ]
     },
     "metadata": {},
     "output_type": "display_data"
    }
   ],
   "source": [
    "plt.plot(train_losses, label=\"Train Loss\")\n",
    "plt.plot(val_losses, label=\"Valid Loss\")\n",
    "plt.title('Loss vs. Epochs')\n",
    "plt.xlabel(\"Epochs\")\n",
    "plt.ylabel(\"Loss\")\n",
    "plt.legend()\n",
    "plt.show()\n",
    "\n",
    "plt.plot(train_accuracies, label=\"Train Accuracy\")\n",
    "plt.plot(val_accuracies, label=\"Valid Accuracy\")\n",
    "plt.title('Accuracy vs. Epochs')\n",
    "plt.xlabel(\"Epochs\") \n",
    "plt.ylabel(\"Accuracy\")\n",
    "plt.legend()\n",
    "plt.show()"
   ]
  },
  {
   "cell_type": "code",
   "execution_count": 32,
   "id": "df06826b",
   "metadata": {
    "execution": {
     "iopub.execute_input": "2025-08-01T08:05:38.125765Z",
     "iopub.status.busy": "2025-08-01T08:05:38.125495Z",
     "iopub.status.idle": "2025-08-01T08:05:38.372702Z",
     "shell.execute_reply": "2025-08-01T08:05:38.371901Z"
    },
    "papermill": {
     "duration": 0.912473,
     "end_time": "2025-08-01T08:05:38.374043",
     "exception": false,
     "start_time": "2025-08-01T08:05:37.461570",
     "status": "completed"
    },
    "tags": []
   },
   "outputs": [],
   "source": [
    "model.eval()\n",
    "all_preds = []\n",
    "all_labels = []\n",
    "\n",
    "with torch.no_grad():\n",
    "    for images, labels in test_loader:\n",
    "        images = images.to(device)\n",
    "        outputs = model(images)\n",
    "        all_preds.extend(outputs.cpu().numpy().flatten())\n",
    "        all_labels.extend(labels.cpu().numpy().flatten())\n",
    "\n",
    "pred_labels = (np.array(all_preds) > 0.5).astype(int)\n",
    "true_labels = np.array(all_labels).astype(int)"
   ]
  },
  {
   "cell_type": "code",
   "execution_count": 33,
   "id": "93adbf68",
   "metadata": {
    "execution": {
     "iopub.execute_input": "2025-08-01T08:05:39.833191Z",
     "iopub.status.busy": "2025-08-01T08:05:39.832425Z",
     "iopub.status.idle": "2025-08-01T08:05:39.998094Z",
     "shell.execute_reply": "2025-08-01T08:05:39.997112Z"
    },
    "papermill": {
     "duration": 0.904016,
     "end_time": "2025-08-01T08:05:39.999619",
     "exception": false,
     "start_time": "2025-08-01T08:05:39.095603",
     "status": "completed"
    },
    "tags": []
   },
   "outputs": [
    {
     "name": "stdout",
     "output_type": "stream",
     "text": [
      "Confusion Matrix:\n",
      " [[72 14]\n",
      " [27 56]]\n",
      "\n",
      "Classification Report:\n",
      "               precision    recall  f1-score   support\n",
      "\n",
      "           0       0.73      0.84      0.78        86\n",
      "           1       0.80      0.67      0.73        83\n",
      "\n",
      "    accuracy                           0.76       169\n",
      "   macro avg       0.76      0.76      0.76       169\n",
      "weighted avg       0.76      0.76      0.76       169\n",
      "\n",
      "ROC AUC: 0.8592042588960493\n"
     ]
    },
    {
     "data": {
      "image/png": "[encoded data removed]",
      "text/plain": [
       "<Figure size 600x400 with 1 Axes>"
      ]
     },
     "metadata": {},
     "output_type": "display_data"
    }
   ],
   "source": [
    "print(\"Confusion Matrix:\\n\", confusion_matrix(true_labels, pred_labels))\n",
    "print(\"\\nClassification Report:\\n\", classification_report(true_labels, pred_labels))\n",
    "print(\"ROC AUC:\", roc_auc_score(true_labels, all_preds))\n",
    "\n",
    "# ROC curve\n",
    "fpr, tpr, thresholds = roc_curve(true_labels, all_preds)\n",
    "plt.figure(figsize=(6,4))\n",
    "plt.plot(fpr, tpr, label=f\"AUC={roc_auc_score(true_labels, all_preds):.2f}\")\n",
    "plt.xlabel(\"False Positive Rate\")\n",
    "plt.ylabel(\"True Positive Rate\")\n",
    "plt.title(\"ROC Curve\")\n",
    "plt.legend()\n",
    "plt.show()"
   ]
  },
  {
   "cell_type": "code",
   "execution_count": 34,
   "id": "d304709a",
   "metadata": {
    "execution": {
     "iopub.execute_input": "2025-08-01T08:05:41.474262Z",
     "iopub.status.busy": "2025-08-01T08:05:41.473575Z",
     "iopub.status.idle": "2025-08-01T08:05:41.477503Z",
     "shell.execute_reply": "2025-08-01T08:05:41.476941Z"
    },
    "papermill": {
     "duration": 0.748273,
     "end_time": "2025-08-01T08:05:41.478593",
     "exception": false,
     "start_time": "2025-08-01T08:05:40.730320",
     "status": "completed"
    },
    "tags": []
   },
   "outputs": [],
   "source": [
    "model = 1"
   ]
  },
  {
   "cell_type": "markdown",
   "id": "55c5cae9",
   "metadata": {
    "papermill": {
     "duration": 0.77837,
     "end_time": "2025-08-01T08:05:42.922690",
     "exception": false,
     "start_time": "2025-08-01T08:05:42.144320",
     "status": "completed"
    },
    "tags": []
   },
   "source": [
    "**ResNet152**"
   ]
  },
  {
   "cell_type": "code",
   "execution_count": 35,
   "id": "d005f7e4",
   "metadata": {
    "execution": {
     "iopub.execute_input": "2025-08-01T08:05:44.333447Z",
     "iopub.status.busy": "2025-08-01T08:05:44.333172Z",
     "iopub.status.idle": "2025-08-01T08:05:46.763721Z",
     "shell.execute_reply": "2025-08-01T08:05:46.762870Z"
    },
    "papermill": {
     "duration": 3.101104,
     "end_time": "2025-08-01T08:05:46.765268",
     "exception": false,
     "start_time": "2025-08-01T08:05:43.664164",
     "status": "completed"
    },
    "tags": []
   },
   "outputs": [
    {
     "name": "stderr",
     "output_type": "stream",
     "text": [
      "/usr/local/lib/python3.11/dist-packages/torchvision/models/_utils.py:208: UserWarning: The parameter 'pretrained' is deprecated since 0.13 and may be removed in the future, please use 'weights' instead.\n",
      "  warnings.warn(\n",
      "/usr/local/lib/python3.11/dist-packages/torchvision/models/_utils.py:223: UserWarning: Arguments other than a weight enum or `None` for 'weights' are deprecated since 0.13 and may be removed in the future. The current behavior is equivalent to passing `weights=ResNet152_Weights.IMAGENET1K_V1`. You can also use `weights=ResNet152_Weights.DEFAULT` to get the most up-to-date weights.\n",
      "  warnings.warn(msg)\n",
      "Downloading: \"https://download.pytorch.org/models/resnet152-394f9c45.pth\" to /root/.cache/torch/hub/checkpoints/resnet152-394f9c45.pth\n",
      "100%|██████████| 230M/230M [00:01<00:00, 223MB/s]\n"
     ]
    }
   ],
   "source": [
    "model = models.resnet152(pretrained=True)\n",
    "\n",
    "# Replace the final fully connected layer\n",
    "model.fc = nn.Sequential(\n",
    "    nn.Linear(model.fc.in_features, 1),  # One output for binary classification\n",
    "    nn.Sigmoid()                         # Because you're using nn.BCELoss()\n",
    ")\n",
    "\n",
    "model = model.to(device)\n",
    "\n",
    "criterion = nn.BCELoss()  # Binary Cross Entropy\n",
    "optimizer = torch.optim.Adam(model.parameters(), lr=1e-4)"
   ]
  },
  {
   "cell_type": "code",
   "execution_count": 36,
   "id": "eb9a96da",
   "metadata": {
    "execution": {
     "iopub.execute_input": "2025-08-01T08:05:48.235887Z",
     "iopub.status.busy": "2025-08-01T08:05:48.235564Z",
     "iopub.status.idle": "2025-08-01T08:35:08.990094Z",
     "shell.execute_reply": "2025-08-01T08:35:08.989223Z"
    },
    "papermill": {
     "duration": 1761.493074,
     "end_time": "2025-08-01T08:35:08.991395",
     "exception": false,
     "start_time": "2025-08-01T08:05:47.498321",
     "status": "completed"
    },
    "tags": []
   },
   "outputs": [
    {
     "name": "stderr",
     "output_type": "stream",
     "text": [
      "                                                                                            \r"
     ]
    },
    {
     "name": "stdout",
     "output_type": "stream",
     "text": [
      "Epoch 01/20 Train Loss: 0.4301  Val Loss: 0.4680  Train Acc: 0.7945  Val Acc: 0.7845\n"
     ]
    },
    {
     "name": "stderr",
     "output_type": "stream",
     "text": [
      "                                                                                            \r"
     ]
    },
    {
     "name": "stdout",
     "output_type": "stream",
     "text": [
      "Epoch 02/20 Train Loss: 0.1704  Val Loss: 0.6472  Train Acc: 0.9343  Val Acc: 0.7989\n"
     ]
    },
    {
     "name": "stderr",
     "output_type": "stream",
     "text": [
      "                                                                                            \r"
     ]
    },
    {
     "name": "stdout",
     "output_type": "stream",
     "text": [
      "Epoch 03/20 Train Loss: 0.0949  Val Loss: 0.6808  Train Acc: 0.9631  Val Acc: 0.8190\n"
     ]
    },
    {
     "name": "stderr",
     "output_type": "stream",
     "text": [
      "                                                                                            \r"
     ]
    },
    {
     "name": "stdout",
     "output_type": "stream",
     "text": [
      "Epoch 04/20 Train Loss: 0.0679  Val Loss: 0.6218  Train Acc: 0.9790  Val Acc: 0.7960\n"
     ]
    },
    {
     "name": "stderr",
     "output_type": "stream",
     "text": [
      "                                                                                            \r"
     ]
    },
    {
     "name": "stdout",
     "output_type": "stream",
     "text": [
      "Epoch 05/20 Train Loss: 0.0508  Val Loss: 0.5549  Train Acc: 0.9826  Val Acc: 0.8333\n"
     ]
    },
    {
     "name": "stderr",
     "output_type": "stream",
     "text": [
      "                                                                                            \r"
     ]
    },
    {
     "name": "stdout",
     "output_type": "stream",
     "text": [
      "Epoch 06/20 Train Loss: 0.0302  Val Loss: 0.6449  Train Acc: 0.9907  Val Acc: 0.8247\n"
     ]
    },
    {
     "name": "stderr",
     "output_type": "stream",
     "text": [
      "                                                                                            \r"
     ]
    },
    {
     "name": "stdout",
     "output_type": "stream",
     "text": [
      "Epoch 07/20 Train Loss: 0.0549  Val Loss: 0.6362  Train Acc: 0.9823  Val Acc: 0.8132\n"
     ]
    },
    {
     "name": "stderr",
     "output_type": "stream",
     "text": [
      "                                                                                            \r"
     ]
    },
    {
     "name": "stdout",
     "output_type": "stream",
     "text": [
      "Epoch 08/20 Train Loss: 0.0601  Val Loss: 0.6001  Train Acc: 0.9811  Val Acc: 0.8391\n"
     ]
    },
    {
     "name": "stderr",
     "output_type": "stream",
     "text": [
      "                                                                                            \r"
     ]
    },
    {
     "name": "stdout",
     "output_type": "stream",
     "text": [
      "Epoch 09/20 Train Loss: 0.0728  Val Loss: 0.6504  Train Acc: 0.9730  Val Acc: 0.8103\n"
     ]
    },
    {
     "name": "stderr",
     "output_type": "stream",
     "text": [
      "                                                                                             \r"
     ]
    },
    {
     "name": "stdout",
     "output_type": "stream",
     "text": [
      "Epoch 10/20 Train Loss: 0.0197  Val Loss: 0.6697  Train Acc: 0.9934  Val Acc: 0.8333\n"
     ]
    },
    {
     "name": "stderr",
     "output_type": "stream",
     "text": [
      "                                                                                             \r"
     ]
    },
    {
     "name": "stdout",
     "output_type": "stream",
     "text": [
      "Epoch 11/20 Train Loss: 0.0137  Val Loss: 0.5855  Train Acc: 0.9973  Val Acc: 0.8333\n"
     ]
    },
    {
     "name": "stderr",
     "output_type": "stream",
     "text": [
      "                                                                                             \r"
     ]
    },
    {
     "name": "stdout",
     "output_type": "stream",
     "text": [
      "Epoch 12/20 Train Loss: 0.0066  Val Loss: 0.5936  Train Acc: 0.9985  Val Acc: 0.8218\n"
     ]
    },
    {
     "name": "stderr",
     "output_type": "stream",
     "text": [
      "                                                                                             \r"
     ]
    },
    {
     "name": "stdout",
     "output_type": "stream",
     "text": [
      "Epoch 13/20 Train Loss: 0.0134  Val Loss: 0.6788  Train Acc: 0.9994  Val Acc: 0.8420\n"
     ]
    },
    {
     "name": "stderr",
     "output_type": "stream",
     "text": [
      "                                                                                             \r"
     ]
    },
    {
     "name": "stdout",
     "output_type": "stream",
     "text": [
      "Epoch 14/20 Train Loss: 0.0672  Val Loss: 0.7012  Train Acc: 0.9766  Val Acc: 0.8247\n"
     ]
    },
    {
     "name": "stderr",
     "output_type": "stream",
     "text": [
      "                                                                                             \r"
     ]
    },
    {
     "name": "stdout",
     "output_type": "stream",
     "text": [
      "Epoch 15/20 Train Loss: 0.0145  Val Loss: 0.6099  Train Acc: 0.9973  Val Acc: 0.8362\n"
     ]
    },
    {
     "name": "stderr",
     "output_type": "stream",
     "text": [
      "                                                                                             \r"
     ]
    },
    {
     "name": "stdout",
     "output_type": "stream",
     "text": [
      "Epoch 16/20 Train Loss: 0.0039  Val Loss: 0.7063  Train Acc: 0.9994  Val Acc: 0.8305\n"
     ]
    },
    {
     "name": "stderr",
     "output_type": "stream",
     "text": [
      "                                                                                             \r"
     ]
    },
    {
     "name": "stdout",
     "output_type": "stream",
     "text": [
      "Epoch 17/20 Train Loss: 0.0011  Val Loss: 0.6311  Train Acc: 1.0000  Val Acc: 0.8305\n"
     ]
    },
    {
     "name": "stderr",
     "output_type": "stream",
     "text": [
      "                                                                                             \r"
     ]
    },
    {
     "name": "stdout",
     "output_type": "stream",
     "text": [
      "Epoch 18/20 Train Loss: 0.0005  Val Loss: 0.6411  Train Acc: 1.0000  Val Acc: 0.8448\n"
     ]
    },
    {
     "name": "stderr",
     "output_type": "stream",
     "text": [
      "                                                                                             \r"
     ]
    },
    {
     "name": "stdout",
     "output_type": "stream",
     "text": [
      "Epoch 19/20 Train Loss: 0.0004  Val Loss: 0.6805  Train Acc: 1.0000  Val Acc: 0.8448\n"
     ]
    },
    {
     "name": "stderr",
     "output_type": "stream",
     "text": [
      "                                                                                             "
     ]
    },
    {
     "name": "stdout",
     "output_type": "stream",
     "text": [
      "Epoch 20/20 Train Loss: 0.0003  Val Loss: 0.6651  Train Acc: 1.0000  Val Acc: 0.8477\n"
     ]
    },
    {
     "name": "stderr",
     "output_type": "stream",
     "text": [
      "\r"
     ]
    }
   ],
   "source": [
    "num_epochs = 20\n",
    "\n",
    "# Trackers for plotting\n",
    "train_losses = []\n",
    "val_losses = []\n",
    "train_accuracies = []\n",
    "val_accuracies = []\n",
    "\n",
    "for epoch in range(num_epochs):\n",
    "    model.train()\n",
    "    total_train_loss = 0\n",
    "    correct_train = 0\n",
    "    total_train = 0\n",
    "\n",
    "    train_bar = tqdm(train_loader, desc=f\"Epoch {epoch+1}/{num_epochs} [Train]\", leave=False)\n",
    "    for images, labels in train_bar:\n",
    "        images = images.to(device)\n",
    "        labels = labels.to(device).float().unsqueeze(1)\n",
    "\n",
    "        outputs = model(images)\n",
    "        loss = criterion(outputs, labels)\n",
    "\n",
    "        optimizer.zero_grad()\n",
    "        loss.backward()\n",
    "        optimizer.step()\n",
    "\n",
    "        total_train_loss += loss.item()\n",
    "\n",
    "        preds = (outputs > 0.5).float()\n",
    "        correct_train += (preds == labels).sum().item()\n",
    "        total_train += labels.size(0)\n",
    "\n",
    "        train_bar.set_postfix(loss=f\"{total_train_loss / len(train_bar):.4f}\")\n",
    "\n",
    "    avg_train_loss = total_train_loss / len(train_loader)\n",
    "    train_accuracy = correct_train / total_train\n",
    "    train_losses.append(avg_train_loss)\n",
    "    train_accuracies.append(train_accuracy)\n",
    "\n",
    "    # Validation\n",
    "    model.eval()\n",
    "    total_val_loss = 0\n",
    "    correct_val = 0\n",
    "    total_val = 0\n",
    "\n",
    "    val_bar = tqdm(valid_loader, desc=f\"Epoch {epoch+1}/{num_epochs} [Val]  \", leave=False)\n",
    "    with torch.no_grad():\n",
    "        for val_images, val_labels in val_bar:\n",
    "            val_images = val_images.to(device)\n",
    "            val_labels = val_labels.to(device).float().unsqueeze(1)\n",
    "\n",
    "            val_outputs = model(val_images)\n",
    "            val_loss = criterion(val_outputs, val_labels)\n",
    "            total_val_loss += val_loss.item()\n",
    "\n",
    "            preds = (val_outputs > 0.5).float()\n",
    "            correct_val += (preds == val_labels).sum().item()\n",
    "            total_val += val_labels.size(0)\n",
    "\n",
    "            val_bar.set_postfix(loss=f\"{total_val_loss / len(val_bar):.4f}\",\n",
    "                                acc=f\"{correct_val / total_val:.4f}\")\n",
    "\n",
    "    avg_val_loss = total_val_loss / len(valid_loader)\n",
    "    val_accuracy = correct_val / total_val\n",
    "    val_losses.append(avg_val_loss)\n",
    "    val_accuracies.append(val_accuracy)\n",
    "\n",
    "    # Final summary print\n",
    "    print(f\"Epoch {epoch+1:02}/{num_epochs} \"\n",
    "          f\"Train Loss: {avg_train_loss:.4f}  \"\n",
    "          f\"Val Loss: {avg_val_loss:.4f}  \"\n",
    "          f\"Train Acc: {train_accuracy:.4f}  \"\n",
    "          f\"Val Acc: {val_accuracy:.4f}\")"
   ]
  },
  {
   "cell_type": "code",
   "execution_count": 37,
   "id": "f3131f19",
   "metadata": {
    "execution": {
     "iopub.execute_input": "2025-08-01T08:35:10.797734Z",
     "iopub.status.busy": "2025-08-01T08:35:10.797165Z",
     "iopub.status.idle": "2025-08-01T08:35:11.130849Z",
     "shell.execute_reply": "2025-08-01T08:35:11.129935Z"
    },
    "papermill": {
     "duration": 1.282983,
     "end_time": "2025-08-01T08:35:11.132099",
     "exception": false,
     "start_time": "2025-08-01T08:35:09.849116",
     "status": "completed"
    },
    "tags": []
   },
   "outputs": [
    {
     "data": {
      "image/png": "[encoded data removed]",
      "text/plain": [
       "<Figure size 640x480 with 1 Axes>"
      ]
     },
     "metadata": {},
     "output_type": "display_data"
    },
    {
     "data": {
      "image/png": "[encoded data removed]",
      "text/plain": [
       "<Figure size 640x480 with 1 Axes>"
      ]
     },
     "metadata": {},
     "output_type": "display_data"
    }
   ],
   "source": [
    "plt.plot(train_losses, label=\"Train Loss\")\n",
    "plt.plot(val_losses, label=\"Valid Loss\")\n",
    "plt.title('Loss vs. Epochs')\n",
    "plt.xlabel(\"Epochs\")\n",
    "plt.ylabel(\"Loss\")\n",
    "plt.legend()\n",
    "plt.show()\n",
    "\n",
    "plt.plot(train_accuracies, label=\"Train Accuracy\")\n",
    "plt.plot(val_accuracies, label=\"Valid Accuracy\")\n",
    "plt.title('Accuracy vs. Epochs')\n",
    "plt.xlabel(\"Epochs\") \n",
    "plt.ylabel(\"Accuracy\")\n",
    "plt.legend()\n",
    "plt.show()"
   ]
  },
  {
   "cell_type": "code",
   "execution_count": 38,
   "id": "4f36011d",
   "metadata": {
    "execution": {
     "iopub.execute_input": "2025-08-01T08:35:12.981466Z",
     "iopub.status.busy": "2025-08-01T08:35:12.980877Z",
     "iopub.status.idle": "2025-08-01T08:35:14.347181Z",
     "shell.execute_reply": "2025-08-01T08:35:14.346304Z"
    },
    "papermill": {
     "duration": 2.300072,
     "end_time": "2025-08-01T08:35:14.348565",
     "exception": false,
     "start_time": "2025-08-01T08:35:12.048493",
     "status": "completed"
    },
    "tags": []
   },
   "outputs": [],
   "source": [
    "model.eval()\n",
    "all_preds = []\n",
    "all_labels = []\n",
    "\n",
    "with torch.no_grad():\n",
    "    for images, labels in test_loader:\n",
    "        images = images.to(device)\n",
    "        outputs = model(images)\n",
    "        all_preds.extend(outputs.cpu().numpy().flatten())\n",
    "        all_labels.extend(labels.cpu().numpy().flatten())\n",
    "\n",
    "pred_labels = (np.array(all_preds) > 0.5).astype(int)\n",
    "true_labels = np.array(all_labels).astype(int)"
   ]
  },
  {
   "cell_type": "code",
   "execution_count": 39,
   "id": "620031c9",
   "metadata": {
    "execution": {
     "iopub.execute_input": "2025-08-01T08:35:16.108879Z",
     "iopub.status.busy": "2025-08-01T08:35:16.108596Z",
     "iopub.status.idle": "2025-08-01T08:35:16.254209Z",
     "shell.execute_reply": "2025-08-01T08:35:16.253527Z"
    },
    "papermill": {
     "duration": 1.060324,
     "end_time": "2025-08-01T08:35:16.255383",
     "exception": false,
     "start_time": "2025-08-01T08:35:15.195059",
     "status": "completed"
    },
    "tags": []
   },
   "outputs": [
    {
     "name": "stdout",
     "output_type": "stream",
     "text": [
      "Confusion Matrix:\n",
      " [[75 11]\n",
      " [21 62]]\n",
      "\n",
      "Classification Report:\n",
      "               precision    recall  f1-score   support\n",
      "\n",
      "           0       0.78      0.87      0.82        86\n",
      "           1       0.85      0.75      0.79        83\n",
      "\n",
      "    accuracy                           0.81       169\n",
      "   macro avg       0.82      0.81      0.81       169\n",
      "weighted avg       0.81      0.81      0.81       169\n",
      "\n",
      "ROC AUC: 0.9030540767722051\n"
     ]
    },
    {
     "data": {
      "image/png": "[encoded data removed]",
      "text/plain": [
       "<Figure size 600x400 with 1 Axes>"
      ]
     },
     "metadata": {},
     "output_type": "display_data"
    }
   ],
   "source": [
    "print(\"Confusion Matrix:\\n\", confusion_matrix(true_labels, pred_labels))\n",
    "print(\"\\nClassification Report:\\n\", classification_report(true_labels, pred_labels))\n",
    "print(\"ROC AUC:\", roc_auc_score(true_labels, all_preds))\n",
    "\n",
    "# ROC curve\n",
    "fpr, tpr, thresholds = roc_curve(true_labels, all_preds)\n",
    "plt.figure(figsize=(6,4))\n",
    "plt.plot(fpr, tpr, label=f\"AUC={roc_auc_score(true_labels, all_preds):.2f}\")\n",
    "plt.xlabel(\"False Positive Rate\")\n",
    "plt.ylabel(\"True Positive Rate\")\n",
    "plt.title(\"ROC Curve\")\n",
    "plt.legend()\n",
    "plt.show()"
   ]
  },
  {
   "cell_type": "code",
   "execution_count": null,
   "id": "127c472b",
   "metadata": {
    "papermill": {
     "duration": 0.919989,
     "end_time": "2025-08-01T08:35:18.088870",
     "exception": false,
     "start_time": "2025-08-01T08:35:17.168881",
     "status": "completed"
    },
    "tags": []
   },
   "outputs": [],
   "source": []
  }
 ],
 "metadata": {
  "kaggle": {
   "accelerator": "nvidiaTeslaT4",
   "dataSources": [
    {
     "datasetId": 4296838,
     "sourceId": 8961495,
     "sourceType": "datasetVersion"
    }
   ],
   "dockerImageVersionId": 31089,
   "isGpuEnabled": true,
   "isInternetEnabled": true,
   "language": "python",
   "sourceType": "notebook"
  },
  "kernelspec": {
   "display_name": "Python 3",
   "language": "python",
   "name": "python3"
  },
  "language_info": {
   "codemirror_mode": {
    "name": "ipython",
    "version": 3
   },
   "file_extension": ".py",
   "mimetype": "text/x-python",
   "name": "python",
   "nbconvert_exporter": "python",
   "pygments_lexer": "ipython3",
   "version": "3.11.13"
  },
  "papermill": {
   "default_parameters": {},
   "duration": 2697.421331,
   "end_time": "2025-08-01T08:35:21.030050",
   "environment_variables": {},
   "exception": null,
   "input_path": "__notebook__.ipynb",
   "output_path": "__notebook__.ipynb",
   "parameters": {},
   "start_time": "2025-08-01T07:50:23.608719",
   "version": "2.6.0"
  }
 },
 "nbformat": 4,
 "nbformat_minor": 5
}
