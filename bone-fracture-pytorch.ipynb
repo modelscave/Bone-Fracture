{
 "cells": [
  {
   "cell_type": "code",
   "execution_count": 1,
   "id": "6229d752",
   "metadata": {
    "_cell_guid": "b1076dfc-b9ad-4769-8c92-a6c4dae69d19",
    "_uuid": "8f2839f25d086af736a60e9eeb907d3b93b6e0e5",
    "execution": {
     "iopub.execute_input": "2025-08-02T07:52:16.449783Z",
     "iopub.status.busy": "2025-08-02T07:52:16.449580Z",
     "iopub.status.idle": "2025-08-02T07:52:36.218122Z",
     "shell.execute_reply": "2025-08-02T07:52:36.217485Z"
    },
    "papermill": {
     "duration": 19.778878,
     "end_time": "2025-08-02T07:52:36.219490",
     "exception": false,
     "start_time": "2025-08-02T07:52:16.440612",
     "status": "completed"
    },
    "tags": []
   },
   "outputs": [],
   "source": [
    "import numpy as np\n",
    "import pandas as pd\n",
    "import seaborn as sns\n",
    "import matplotlib.pyplot as plt\n",
    "import os \n",
    "from tqdm import trange, tqdm\n",
    "import random\n",
    "import cv2\n",
    "from collections import Counter, defaultdict\n",
    "from sklearn.preprocessing import LabelEncoder\n",
    "from sklearn.metrics import confusion_matrix, classification_report, roc_auc_score, roc_curve\n",
    "import torch\n",
    "from torch.utils.data import DataLoader, TensorDataset\n",
    "import torch.nn as nn\n",
    "import torch.nn.functional as F\n",
    "from torchvision import models, transforms"
   ]
  },
  {
   "cell_type": "code",
   "execution_count": 2,
   "id": "708310c3",
   "metadata": {
    "execution": {
     "iopub.execute_input": "2025-08-02T07:52:36.235946Z",
     "iopub.status.busy": "2025-08-02T07:52:36.235263Z",
     "iopub.status.idle": "2025-08-02T07:53:53.670492Z",
     "shell.execute_reply": "2025-08-02T07:53:53.669684Z"
    },
    "papermill": {
     "duration": 77.45163,
     "end_time": "2025-08-02T07:53:53.679532",
     "exception": false,
     "start_time": "2025-08-02T07:52:36.227902",
     "status": "completed"
    },
    "tags": []
   },
   "outputs": [
    {
     "name": "stdout",
     "output_type": "stream",
     "text": [
      "Loaded 3631 images, 3631 class labels, and 3631 sets of polygons.\n",
      "Loaded 348 images, 348 class labels, and 348 sets of polygons.\n",
      "Loaded 169 images, 169 class labels, and 169 sets of polygons.\n"
     ]
    }
   ],
   "source": [
    "TRAIN_IMAGE_DIR = '/kaggle/input/bone-fracture-detection-computer-vision-project/BoneFractureYolo8/train/images'\n",
    "TRAIN_LABEL_DIR = '/kaggle/input/bone-fracture-detection-computer-vision-project/BoneFractureYolo8/train/labels'\n",
    "VALID_IMAGE_DIR = '/kaggle/input/bone-fracture-detection-computer-vision-project/BoneFractureYolo8/valid/images'\n",
    "VALID_LABEL_DIR = '/kaggle/input/bone-fracture-detection-computer-vision-project/BoneFractureYolo8/valid/labels'\n",
    "TEST_IMAGE_DIR = '/kaggle/input/bone-fracture-detection-computer-vision-project/BoneFractureYolo8/test/images'\n",
    "TEST_LABEL_DIR = '/kaggle/input/bone-fracture-detection-computer-vision-project/BoneFractureYolo8/test/labels'\n",
    "\n",
    "TARGET_SIZE = [224, 224]\n",
    "\n",
    "def load_images_and_labels(image_dir, label_dir):\n",
    "    images = []\n",
    "    class_labels = []\n",
    "    polygons_list = []\n",
    "\n",
    "    for img_name in os.listdir(image_dir):\n",
    "        if img_name.endswith(\".jpg\") or img_name.endswith(\".png\"):\n",
    "            img_path = os.path.join(image_dir, img_name)\n",
    "            image = cv2.imread(img_path)\n",
    "            image = cv2.resize(image, TARGET_SIZE)\n",
    "            image = cv2.cvtColor(image, cv2.COLOR_BGR2RGB)\n",
    "\n",
    "            # Normalize\n",
    "            image = image.astype(np.float32) / 255.0\n",
    "\n",
    "            label_path = os.path.join(label_dir, img_name.replace(\".jpg\", \".txt\").replace(\".png\", \".txt\"))\n",
    "            polygons = []\n",
    "            classes = []\n",
    "\n",
    "            if os.path.exists(label_path):\n",
    "                with open(label_path, \"r\") as f:\n",
    "                    lines = f.read().strip().split(\"\\n\")\n",
    "                for line in lines:\n",
    "                    components = line.strip().split()\n",
    "                    if len(components) > 1:\n",
    "                        class_id = int(components[0])\n",
    "                        coords = list(map(float, components[1:]))\n",
    "                        # Only keep polygons with even number of coords\n",
    "                        if len(coords) % 2 == 0:\n",
    "                            classes.append(class_id)\n",
    "                            polygons.append(coords)\n",
    "\n",
    "            # Decide image-level class label\n",
    "            if classes:\n",
    "                image_level_label = classes[0]   # or use most frequent: max(set(classes), key=classes.count)\n",
    "            else:\n",
    "                image_level_label = 'no_fracture'  # your 'no_fracture' label\n",
    "\n",
    "            images.append(image)\n",
    "            class_labels.append(image_level_label)\n",
    "            polygons_list.append(polygons)\n",
    "\n",
    "    return np.array(images), np.array(class_labels), polygons_list\n",
    "\n",
    "\n",
    "# Load images, class labels, and polygons\n",
    "train_images, train_class_labels, train_polygons = load_images_and_labels(TRAIN_IMAGE_DIR, TRAIN_LABEL_DIR)\n",
    "valid_images, valid_class_labels, valid_polygons = load_images_and_labels(VALID_IMAGE_DIR, VALID_LABEL_DIR)\n",
    "test_images, test_class_labels, test_polygons = load_images_and_labels(TEST_IMAGE_DIR, TEST_LABEL_DIR)\n",
    "\n",
    "print(f\"Loaded {len(train_images)} images, {len(train_class_labels)} class labels, and {len(train_polygons)} sets of polygons.\")\n",
    "print(f\"Loaded {len(valid_images)} images, {len(valid_class_labels)} class labels, and {len(valid_polygons)} sets of polygons.\")\n",
    "print(f\"Loaded {len(test_images)} images, {len(test_class_labels)} class labels, and {len(test_polygons)} sets of polygons.\")"
   ]
  },
  {
   "cell_type": "code",
   "execution_count": 3,
   "id": "d11fddb1",
   "metadata": {
    "execution": {
     "iopub.execute_input": "2025-08-02T07:53:53.693971Z",
     "iopub.status.busy": "2025-08-02T07:53:53.693733Z",
     "iopub.status.idle": "2025-08-02T07:53:55.661821Z",
     "shell.execute_reply": "2025-08-02T07:53:55.660864Z"
    },
    "papermill": {
     "duration": 1.976696,
     "end_time": "2025-08-02T07:53:55.663208",
     "exception": false,
     "start_time": "2025-08-02T07:53:53.686512",
     "status": "completed"
    },
    "tags": []
   },
   "outputs": [
    {
     "name": "stdout",
     "output_type": "stream",
     "text": [
      "Original images: 3631\n",
      "Filtered images: 3334\n"
     ]
    }
   ],
   "source": [
    "# prepare CLAHE once\n",
    "clahe = cv2.createCLAHE(clipLimit=2.0, tileGridSize=(8,8))\n",
    "\n",
    "filtered_images = []\n",
    "filtered_labels = []\n",
    "mean_pixels = []\n",
    "\n",
    "for img, label in zip(train_images, train_class_labels):\n",
    "    # convert normalized [0,1] RGB → uint8 RGB, then to grayscale\n",
    "    img_uint8 = (img * 255).astype(np.uint8)\n",
    "    gray      = cv2.cvtColor(img_uint8, cv2.COLOR_RGB2GRAY)\n",
    "    \n",
    "    # apply CLAHE on the gray image\n",
    "    gray_clahe = clahe.apply(gray)\n",
    "    \n",
    "    # compute mean on the CLAHE’d result\n",
    "    mean_pixel = np.mean(gray_clahe)\n",
    "    mean_pixels.append(mean_pixel)\n",
    "    \n",
    "    #  threshold as before\n",
    "    if (mean_pixel >= 15) & (mean_pixel <= 130):\n",
    "        filtered_images.append(img)\n",
    "        filtered_labels.append(label)\n",
    "\n",
    "print(f\"Original images: {len(train_images)}\")\n",
    "print(f\"Filtered images: {len(filtered_images)}\")"
   ]
  },
  {
   "cell_type": "code",
   "execution_count": 4,
   "id": "a4260e0a",
   "metadata": {
    "execution": {
     "iopub.execute_input": "2025-08-02T07:53:55.678218Z",
     "iopub.status.busy": "2025-08-02T07:53:55.677973Z",
     "iopub.status.idle": "2025-08-02T07:53:56.017908Z",
     "shell.execute_reply": "2025-08-02T07:53:56.017341Z"
    },
    "papermill": {
     "duration": 0.348782,
     "end_time": "2025-08-02T07:53:56.019081",
     "exception": false,
     "start_time": "2025-08-02T07:53:55.670299",
     "status": "completed"
    },
    "tags": []
   },
   "outputs": [
    {
     "name": "stderr",
     "output_type": "stream",
     "text": [
      "/usr/local/lib/python3.11/dist-packages/seaborn/_oldcore.py:1119: FutureWarning: use_inf_as_na option is deprecated and will be removed in a future version. Convert inf values to NaN before operating instead.\n",
      "  with pd.option_context('mode.use_inf_as_na', True):\n"
     ]
    },
    {
     "data": {
      "text/plain": [
       "<Axes: ylabel='Count'>"
      ]
     },
     "execution_count": 4,
     "metadata": {},
     "output_type": "execute_result"
    },
    {
     "data": {
      "image/png": "[encoded data removed]",
      "text/plain": [
       "<Figure size 640x480 with 1 Axes>"
      ]
     },
     "metadata": {},
     "output_type": "display_data"
    }
   ],
   "source": [
    "sns.histplot(train_class_labels)"
   ]
  },
  {
   "cell_type": "code",
   "execution_count": 5,
   "id": "b0fd46b9",
   "metadata": {
    "execution": {
     "iopub.execute_input": "2025-08-02T07:53:56.034061Z",
     "iopub.status.busy": "2025-08-02T07:53:56.033867Z",
     "iopub.status.idle": "2025-08-02T07:53:56.039753Z",
     "shell.execute_reply": "2025-08-02T07:53:56.038979Z"
    },
    "papermill": {
     "duration": 0.014471,
     "end_time": "2025-08-02T07:53:56.040781",
     "exception": false,
     "start_time": "2025-08-02T07:53:56.026310",
     "status": "completed"
    },
    "tags": []
   },
   "outputs": [
    {
     "name": "stdout",
     "output_type": "stream",
     "text": [
      "['0' '1' '2' '4' '5' '6' 'no_fracture']\n"
     ]
    }
   ],
   "source": [
    "label_encoder = LabelEncoder()\n",
    "train_labels_enc = label_encoder.fit_transform(filtered_labels)\n",
    "valid_labels_enc = label_encoder.transform(valid_class_labels)\n",
    "test_labels_enc = label_encoder.transform(test_class_labels)\n",
    "\n",
    "print(label_encoder.classes_)  # to know the actual labels"
   ]
  },
  {
   "cell_type": "code",
   "execution_count": 6,
   "id": "80fc4557",
   "metadata": {
    "execution": {
     "iopub.execute_input": "2025-08-02T07:53:56.055768Z",
     "iopub.status.busy": "2025-08-02T07:53:56.055345Z",
     "iopub.status.idle": "2025-08-02T07:53:57.164909Z",
     "shell.execute_reply": "2025-08-02T07:53:57.163969Z"
    },
    "papermill": {
     "duration": 1.118254,
     "end_time": "2025-08-02T07:53:57.166110",
     "exception": false,
     "start_time": "2025-08-02T07:53:56.047856",
     "status": "completed"
    },
    "tags": []
   },
   "outputs": [
    {
     "name": "stdout",
     "output_type": "stream",
     "text": [
      "(array([0, 1]), array([1628, 1706]))\n"
     ]
    }
   ],
   "source": [
    "class_groups = defaultdict(list)\n",
    "\n",
    "for img, label in zip(filtered_images, train_labels_enc):\n",
    "    class_groups[label].append(img)\n",
    "\n",
    "for k in class_groups:\n",
    "    class_groups[k] = np.array(class_groups[k])\n",
    "\n",
    "no_fracture_label = 6 \n",
    "train_images_list, train_labels_list = [], []\n",
    "\n",
    "for label, images in class_groups.items():\n",
    "    if len(images) == 0:\n",
    "        continue\n",
    "    if label == no_fracture_label:\n",
    "        train_images_list.append(images)\n",
    "        train_labels_list.extend([0] * len(images))\n",
    "    else:\n",
    "        train_images_list.append(images)\n",
    "        train_labels_list.extend([1] * len(images))\n",
    "\n",
    "train_images = np.concatenate(train_images_list, axis=0)\n",
    "train_labels = np.array(train_labels_list)\n",
    "\n",
    "print(np.unique(train_labels, return_counts=True))"
   ]
  },
  {
   "cell_type": "code",
   "execution_count": 7,
   "id": "13172af1",
   "metadata": {
    "execution": {
     "iopub.execute_input": "2025-08-02T07:53:57.181553Z",
     "iopub.status.busy": "2025-08-02T07:53:57.181147Z",
     "iopub.status.idle": "2025-08-02T07:53:57.328101Z",
     "shell.execute_reply": "2025-08-02T07:53:57.327311Z"
    },
    "papermill": {
     "duration": 0.155787,
     "end_time": "2025-08-02T07:53:57.329244",
     "exception": false,
     "start_time": "2025-08-02T07:53:57.173457",
     "status": "completed"
    },
    "tags": []
   },
   "outputs": [
    {
     "name": "stdout",
     "output_type": "stream",
     "text": [
      "(array([0, 1]), array([175, 173]))\n"
     ]
    }
   ],
   "source": [
    "class_groups_1 = defaultdict(list)\n",
    "\n",
    "for img, label in zip(valid_images, valid_labels_enc):\n",
    "    class_groups_1[label].append(img)\n",
    "\n",
    "for k in class_groups_1:\n",
    "    class_groups_1[k] = np.array(class_groups_1[k])\n",
    "\n",
    "valid_images_list, valid_labels_list = [], []\n",
    "\n",
    "for label, images in class_groups_1.items():\n",
    "    if len(images) == 0:\n",
    "        continue\n",
    "    if label == no_fracture_label:\n",
    "        valid_images_list.append(images)\n",
    "        valid_labels_list.extend([0] * len(images))\n",
    "    else:\n",
    "        valid_images_list.append(images)\n",
    "        valid_labels_list.extend([1] * len(images))\n",
    "\n",
    "valid_images = np.concatenate(valid_images_list, axis=0)\n",
    "valid_labels = np.array(valid_labels_list)\n",
    "\n",
    "print(np.unique(valid_labels, return_counts=True))"
   ]
  },
  {
   "cell_type": "code",
   "execution_count": 8,
   "id": "41779bb8",
   "metadata": {
    "execution": {
     "iopub.execute_input": "2025-08-02T07:53:57.345098Z",
     "iopub.status.busy": "2025-08-02T07:53:57.344886Z",
     "iopub.status.idle": "2025-08-02T07:53:57.392671Z",
     "shell.execute_reply": "2025-08-02T07:53:57.391843Z"
    },
    "papermill": {
     "duration": 0.057208,
     "end_time": "2025-08-02T07:53:57.393911",
     "exception": false,
     "start_time": "2025-08-02T07:53:57.336703",
     "status": "completed"
    },
    "tags": []
   },
   "outputs": [
    {
     "name": "stdout",
     "output_type": "stream",
     "text": [
      "(array([0, 1]), array([86, 83]))\n"
     ]
    }
   ],
   "source": [
    "class_groups_2 = defaultdict(list)\n",
    "\n",
    "for img, label in zip(test_images, test_labels_enc):\n",
    "    class_groups_2[label].append(img)\n",
    "\n",
    "for k in class_groups_2:\n",
    "    class_groups_2[k] = np.array(class_groups_2[k])\n",
    "\n",
    "test_images_list, test_labels_list = [], []\n",
    "\n",
    "for label, images in class_groups_2.items():\n",
    "    if len(images) == 0:\n",
    "        continue\n",
    "    if label == no_fracture_label:\n",
    "        test_images_list.append(images)\n",
    "        test_labels_list.extend([0] * len(images))\n",
    "    else:\n",
    "        test_images_list.append(images)\n",
    "        test_labels_list.extend([1] * len(images))\n",
    "\n",
    "test_images = np.concatenate(test_images_list, axis=0)\n",
    "test_labels = np.array(test_labels_list)\n",
    "\n",
    "print(np.unique(test_labels, return_counts=True))"
   ]
  },
  {
   "cell_type": "code",
   "execution_count": 9,
   "id": "cc358829",
   "metadata": {
    "execution": {
     "iopub.execute_input": "2025-08-02T07:53:57.410418Z",
     "iopub.status.busy": "2025-08-02T07:53:57.409992Z",
     "iopub.status.idle": "2025-08-02T07:54:01.666525Z",
     "shell.execute_reply": "2025-08-02T07:54:01.665935Z"
    },
    "papermill": {
     "duration": 4.26568,
     "end_time": "2025-08-02T07:54:01.667779",
     "exception": false,
     "start_time": "2025-08-02T07:53:57.402099",
     "status": "completed"
    },
    "tags": []
   },
   "outputs": [],
   "source": [
    "# ImageNet normalization values\n",
    "imagenet_mean = torch.tensor([0.485, 0.456, 0.406]).view(1, 3, 1, 1)   \n",
    "imagenet_std = torch.tensor([0.229, 0.224, 0.225]).view(1, 3, 1, 1)\n",
    "\n",
    "# Convert and normalize\n",
    "train_images_tensor = torch.tensor(train_images).permute(0, 3, 1, 2).float()\n",
    "train_images_tensor = (train_images_tensor - imagenet_mean) / imagenet_std\n",
    "train_labels_tensor = torch.tensor(train_labels).long()\n",
    "\n",
    "valid_images_tensor = torch.tensor(valid_images).permute(0, 3, 1, 2).float()\n",
    "valid_images_tensor = (valid_images_tensor - imagenet_mean) / imagenet_std\n",
    "valid_labels_tensor = torch.tensor(valid_labels).long()\n",
    "\n",
    "test_images_tensor = torch.tensor(test_images).permute(0, 3, 1, 2).float()\n",
    "test_images_tensor = (test_images_tensor - imagenet_mean) / imagenet_std\n",
    "test_labels_tensor = torch.tensor(test_labels).long()\n",
    "\n",
    "train_dataset = TensorDataset(train_images_tensor, train_labels_tensor)\n",
    "valid_dataset = TensorDataset(valid_images_tensor, valid_labels_tensor)\n",
    "test_dataset = TensorDataset(test_images_tensor, test_labels_tensor)\n",
    "\n",
    "# Set batch size\n",
    "batch_size = 32\n",
    "\n",
    "train_loader = DataLoader(train_dataset, batch_size=batch_size, shuffle=True)\n",
    "valid_loader = DataLoader(valid_dataset, batch_size=batch_size, shuffle=False)\n",
    "test_loader = DataLoader(test_dataset, batch_size=batch_size, shuffle=True)\n"
   ]
  },
  {
   "cell_type": "markdown",
   "id": "a800a857",
   "metadata": {
    "papermill": {
     "duration": 0.007309,
     "end_time": "2025-08-02T07:54:01.683281",
     "exception": false,
     "start_time": "2025-08-02T07:54:01.675972",
     "status": "completed"
    },
    "tags": []
   },
   "source": [
    "**Small Network**"
   ]
  },
  {
   "cell_type": "code",
   "execution_count": 10,
   "id": "fcf23251",
   "metadata": {
    "execution": {
     "iopub.execute_input": "2025-08-02T07:54:01.698474Z",
     "iopub.status.busy": "2025-08-02T07:54:01.698271Z",
     "iopub.status.idle": "2025-08-02T07:54:01.704997Z",
     "shell.execute_reply": "2025-08-02T07:54:01.704401Z"
    },
    "papermill": {
     "duration": 0.01576,
     "end_time": "2025-08-02T07:54:01.706098",
     "exception": false,
     "start_time": "2025-08-02T07:54:01.690338",
     "status": "completed"
    },
    "tags": []
   },
   "outputs": [],
   "source": [
    "class TinyCNN(nn.Module):\n",
    "    def __init__(self):\n",
    "        super(TinyCNN, self).__init__()\n",
    "        self.conv_layers = nn.Sequential(\n",
    "            nn.Conv2d(3, 64, kernel_size=3),  # [batch, 64, 22, 222]\n",
    "            nn.ReLU(),\n",
    "            nn.MaxPool2d(2),                 # [batch, 64, 111, 111]\n",
    "\n",
    "            nn.Conv2d(64, 128, kernel_size=3),  # [batch, 128, 109, 109]\n",
    "            nn.ReLU(),\n",
    "            nn.MaxPool2d(2),                   # [batch, 128, 54, 54]\n",
    "\n",
    "            nn.Conv2d(128, 128, kernel_size=3),  # [batch, 128, 52, 52]\n",
    "            nn.ReLU(),\n",
    "            nn.MaxPool2d(2),                    # [batch, 128, 26, 26]\n",
    "\n",
    "            nn.Conv2d(128, 64, kernel_size=3),   # [batch, 64, 24, 24]\n",
    "            nn.ReLU(),\n",
    "            nn.MaxPool2d(2),                     # [batch, 64, 12, 12]\n",
    "\n",
    "            nn.Conv2d(64, 32, kernel_size=3),    # [batch, 32, 10, 10]\n",
    "            nn.ReLU(),\n",
    "            nn.MaxPool2d(2)                      # [batch, 32, 5, 5]\n",
    "        )\n",
    "\n",
    "        self.dropout = nn.Dropout(0.5)\n",
    "        self.flattened_size = 32 * 5 * 5  \n",
    "        self.fc1 = nn.Linear(self.flattened_size, 16)\n",
    "        self.fc2 = nn.Linear(16, 1)\n",
    "\n",
    "    def forward(self, x):\n",
    "        x = self.conv_layers(x)\n",
    "        x = torch.flatten(x, 1)\n",
    "        x = self.dropout(x)\n",
    "        x = F.relu(self.fc1(x))\n",
    "        x = self.dropout(x)\n",
    "        x = torch.sigmoid(self.fc2(x))\n",
    "        return x\n"
   ]
  },
  {
   "cell_type": "code",
   "execution_count": 11,
   "id": "e3993ebc",
   "metadata": {
    "execution": {
     "iopub.execute_input": "2025-08-02T07:54:01.721328Z",
     "iopub.status.busy": "2025-08-02T07:54:01.721142Z",
     "iopub.status.idle": "2025-08-02T07:54:02.032141Z",
     "shell.execute_reply": "2025-08-02T07:54:02.031494Z"
    },
    "papermill": {
     "duration": 0.320071,
     "end_time": "2025-08-02T07:54:02.033480",
     "exception": false,
     "start_time": "2025-08-02T07:54:01.713409",
     "status": "completed"
    },
    "tags": []
   },
   "outputs": [],
   "source": [
    "device = torch.device(\"cuda\" if torch.cuda.is_available() else \"cpu\")\n",
    "\n",
    "model = TinyCNN().to(device)\n",
    "\n",
    "criterion = nn.BCELoss()  # Since you're using sigmoid\n",
    "optimizer = torch.optim.AdamW(model.parameters(), lr=1e-4)"
   ]
  },
  {
   "cell_type": "code",
   "execution_count": 12,
   "id": "92a0155c",
   "metadata": {
    "execution": {
     "iopub.execute_input": "2025-08-02T07:54:02.049290Z",
     "iopub.status.busy": "2025-08-02T07:54:02.048775Z",
     "iopub.status.idle": "2025-08-02T07:57:40.291622Z",
     "shell.execute_reply": "2025-08-02T07:57:40.290753Z"
    },
    "papermill": {
     "duration": 218.251711,
     "end_time": "2025-08-02T07:57:40.292707",
     "exception": false,
     "start_time": "2025-08-02T07:54:02.040996",
     "status": "completed"
    },
    "tags": []
   },
   "outputs": [
    {
     "name": "stderr",
     "output_type": "stream",
     "text": [
      "                                                                                           \r"
     ]
    },
    {
     "name": "stdout",
     "output_type": "stream",
     "text": [
      "Epoch 01/20 Train Loss: 0.6941  Val Loss: 0.6934  Train Acc: 0.4745  Val Acc: 0.5029\n"
     ]
    },
    {
     "name": "stderr",
     "output_type": "stream",
     "text": [
      "                                                                                           \r"
     ]
    },
    {
     "name": "stdout",
     "output_type": "stream",
     "text": [
      "Epoch 02/20 Train Loss: 0.6937  Val Loss: 0.6931  Train Acc: 0.5000  Val Acc: 0.5086\n"
     ]
    },
    {
     "name": "stderr",
     "output_type": "stream",
     "text": [
      "                                                                                           \r"
     ]
    },
    {
     "name": "stdout",
     "output_type": "stream",
     "text": [
      "Epoch 03/20 Train Loss: 0.6940  Val Loss: 0.6931  Train Acc: 0.4814  Val Acc: 0.5029\n"
     ]
    },
    {
     "name": "stderr",
     "output_type": "stream",
     "text": [
      "                                                                                            \r"
     ]
    },
    {
     "name": "stdout",
     "output_type": "stream",
     "text": [
      "Epoch 04/20 Train Loss: 0.6937  Val Loss: 0.6931  Train Acc: 0.5006  Val Acc: 0.5029\n"
     ]
    },
    {
     "name": "stderr",
     "output_type": "stream",
     "text": [
      "                                                                                           \r"
     ]
    },
    {
     "name": "stdout",
     "output_type": "stream",
     "text": [
      "Epoch 05/20 Train Loss: 0.6930  Val Loss: 0.6930  Train Acc: 0.5012  Val Acc: 0.5172\n"
     ]
    },
    {
     "name": "stderr",
     "output_type": "stream",
     "text": [
      "                                                                                           \r"
     ]
    },
    {
     "name": "stdout",
     "output_type": "stream",
     "text": [
      "Epoch 06/20 Train Loss: 0.6923  Val Loss: 0.6925  Train Acc: 0.4991  Val Acc: 0.5316\n"
     ]
    },
    {
     "name": "stderr",
     "output_type": "stream",
     "text": [
      "                                                                                           \r"
     ]
    },
    {
     "name": "stdout",
     "output_type": "stream",
     "text": [
      "Epoch 07/20 Train Loss: 0.6921  Val Loss: 0.6921  Train Acc: 0.5090  Val Acc: 0.5201\n"
     ]
    },
    {
     "name": "stderr",
     "output_type": "stream",
     "text": [
      "                                                                                           \r"
     ]
    },
    {
     "name": "stdout",
     "output_type": "stream",
     "text": [
      "Epoch 08/20 Train Loss: 0.6895  Val Loss: 0.6917  Train Acc: 0.5387  Val Acc: 0.5517\n"
     ]
    },
    {
     "name": "stderr",
     "output_type": "stream",
     "text": [
      "                                                                                           \r"
     ]
    },
    {
     "name": "stdout",
     "output_type": "stream",
     "text": [
      "Epoch 09/20 Train Loss: 0.6880  Val Loss: 0.6923  Train Acc: 0.5372  Val Acc: 0.5345\n"
     ]
    },
    {
     "name": "stderr",
     "output_type": "stream",
     "text": [
      "                                                                                            \r"
     ]
    },
    {
     "name": "stdout",
     "output_type": "stream",
     "text": [
      "Epoch 10/20 Train Loss: 0.6847  Val Loss: 0.6858  Train Acc: 0.5456  Val Acc: 0.5517\n"
     ]
    },
    {
     "name": "stderr",
     "output_type": "stream",
     "text": [
      "                                                                                            \r"
     ]
    },
    {
     "name": "stdout",
     "output_type": "stream",
     "text": [
      "Epoch 11/20 Train Loss: 0.6806  Val Loss: 0.6845  Train Acc: 0.5465  Val Acc: 0.5345\n"
     ]
    },
    {
     "name": "stderr",
     "output_type": "stream",
     "text": [
      "                                                                                            \r"
     ]
    },
    {
     "name": "stdout",
     "output_type": "stream",
     "text": [
      "Epoch 12/20 Train Loss: 0.6757  Val Loss: 0.6838  Train Acc: 0.5615  Val Acc: 0.5287\n"
     ]
    },
    {
     "name": "stderr",
     "output_type": "stream",
     "text": [
      "                                                                                            \r"
     ]
    },
    {
     "name": "stdout",
     "output_type": "stream",
     "text": [
      "Epoch 13/20 Train Loss: 0.6743  Val Loss: 0.6789  Train Acc: 0.5552  Val Acc: 0.5575\n"
     ]
    },
    {
     "name": "stderr",
     "output_type": "stream",
     "text": [
      "                                                                                            \r"
     ]
    },
    {
     "name": "stdout",
     "output_type": "stream",
     "text": [
      "Epoch 14/20 Train Loss: 0.6668  Val Loss: 0.6799  Train Acc: 0.5849  Val Acc: 0.5575\n"
     ]
    },
    {
     "name": "stderr",
     "output_type": "stream",
     "text": [
      "                                                                                            \r"
     ]
    },
    {
     "name": "stdout",
     "output_type": "stream",
     "text": [
      "Epoch 15/20 Train Loss: 0.6694  Val Loss: 0.6789  Train Acc: 0.5804  Val Acc: 0.5374\n"
     ]
    },
    {
     "name": "stderr",
     "output_type": "stream",
     "text": [
      "                                                                                            \r"
     ]
    },
    {
     "name": "stdout",
     "output_type": "stream",
     "text": [
      "Epoch 16/20 Train Loss: 0.6594  Val Loss: 0.6802  Train Acc: 0.5855  Val Acc: 0.5632\n"
     ]
    },
    {
     "name": "stderr",
     "output_type": "stream",
     "text": [
      "                                                                                            \r"
     ]
    },
    {
     "name": "stdout",
     "output_type": "stream",
     "text": [
      "Epoch 17/20 Train Loss: 0.6574  Val Loss: 0.6841  Train Acc: 0.5921  Val Acc: 0.5747\n"
     ]
    },
    {
     "name": "stderr",
     "output_type": "stream",
     "text": [
      "                                                                                            \r"
     ]
    },
    {
     "name": "stdout",
     "output_type": "stream",
     "text": [
      "Epoch 18/20 Train Loss: 0.6543  Val Loss: 0.6798  Train Acc: 0.5957  Val Acc: 0.5632\n"
     ]
    },
    {
     "name": "stderr",
     "output_type": "stream",
     "text": [
      "                                                                                            \r"
     ]
    },
    {
     "name": "stdout",
     "output_type": "stream",
     "text": [
      "Epoch 19/20 Train Loss: 0.6464  Val Loss: 0.6743  Train Acc: 0.5999  Val Acc: 0.5603\n"
     ]
    },
    {
     "name": "stderr",
     "output_type": "stream",
     "text": [
      "                                                                                            "
     ]
    },
    {
     "name": "stdout",
     "output_type": "stream",
     "text": [
      "Epoch 20/20 Train Loss: 0.6421  Val Loss: 0.6786  Train Acc: 0.6119  Val Acc: 0.5833\n"
     ]
    },
    {
     "name": "stderr",
     "output_type": "stream",
     "text": [
      "\r"
     ]
    }
   ],
   "source": [
    "num_epochs = 20\n",
    "\n",
    "# Trackers for plotting\n",
    "train_losses = []\n",
    "val_losses = []\n",
    "train_accuracies = []\n",
    "val_accuracies = []\n",
    "\n",
    "for epoch in range(num_epochs):\n",
    "    model.train()\n",
    "    total_train_loss = 0\n",
    "    correct_train = 0\n",
    "    total_train = 0\n",
    "\n",
    "    train_bar = tqdm(train_loader, desc=f\"Epoch {epoch+1}/{num_epochs} [Train]\", leave=False)\n",
    "    for images, labels in train_bar:\n",
    "        images = images.to(device)\n",
    "        labels = labels.to(device).float().unsqueeze(1)\n",
    "\n",
    "        outputs = model(images)\n",
    "        loss = criterion(outputs, labels)\n",
    "\n",
    "        optimizer.zero_grad()\n",
    "        loss.backward()\n",
    "        optimizer.step()\n",
    "\n",
    "        total_train_loss += loss.item()\n",
    "\n",
    "        preds = (outputs > 0.5).float()\n",
    "        correct_train += (preds == labels).sum().item()\n",
    "        total_train += labels.size(0)\n",
    "\n",
    "        train_bar.set_postfix(loss=f\"{total_train_loss / len(train_bar):.4f}\")\n",
    "\n",
    "    avg_train_loss = total_train_loss / len(train_loader)\n",
    "    train_accuracy = correct_train / total_train\n",
    "    train_losses.append(avg_train_loss)\n",
    "    train_accuracies.append(train_accuracy)\n",
    "\n",
    "    # Validation\n",
    "    model.eval()\n",
    "    total_val_loss = 0\n",
    "    correct_val = 0\n",
    "    total_val = 0\n",
    "\n",
    "    val_bar = tqdm(valid_loader, desc=f\"Epoch {epoch+1}/{num_epochs} [Val]  \", leave=False)\n",
    "    with torch.no_grad():\n",
    "        for val_images, val_labels in val_bar:\n",
    "            val_images = val_images.to(device)\n",
    "            val_labels = val_labels.to(device).float().unsqueeze(1)\n",
    "\n",
    "            val_outputs = model(val_images)\n",
    "            val_loss = criterion(val_outputs, val_labels)\n",
    "            total_val_loss += val_loss.item()\n",
    "\n",
    "            preds = (val_outputs > 0.5).float()\n",
    "            correct_val += (preds == val_labels).sum().item()\n",
    "            total_val += val_labels.size(0)\n",
    "\n",
    "            val_bar.set_postfix(loss=f\"{total_val_loss / len(val_bar):.4f}\",\n",
    "                                acc=f\"{correct_val / total_val:.4f}\")\n",
    "\n",
    "    avg_val_loss = total_val_loss / len(valid_loader)\n",
    "    val_accuracy = correct_val / total_val\n",
    "    val_losses.append(avg_val_loss)\n",
    "    val_accuracies.append(val_accuracy)\n",
    "\n",
    "    # Final summary print\n",
    "    print(f\"Epoch {epoch+1:02}/{num_epochs} \"\n",
    "          f\"Train Loss: {avg_train_loss:.4f}  \"\n",
    "          f\"Val Loss: {avg_val_loss:.4f}  \"\n",
    "          f\"Train Acc: {train_accuracy:.4f}  \"\n",
    "          f\"Val Acc: {val_accuracy:.4f}\")\n"
   ]
  },
  {
   "cell_type": "code",
   "execution_count": 13,
   "id": "2f85574f",
   "metadata": {
    "execution": {
     "iopub.execute_input": "2025-08-02T07:57:40.608686Z",
     "iopub.status.busy": "2025-08-02T07:57:40.608416Z",
     "iopub.status.idle": "2025-08-02T07:57:40.902978Z",
     "shell.execute_reply": "2025-08-02T07:57:40.902290Z"
    },
    "papermill": {
     "duration": 0.449048,
     "end_time": "2025-08-02T07:57:40.904319",
     "exception": false,
     "start_time": "2025-08-02T07:57:40.455271",
     "status": "completed"
    },
    "tags": []
   },
   "outputs": [
    {
     "data": {
      "image/png": "[encoded data removed]",
      "text/plain": [
       "<Figure size 640x480 with 1 Axes>"
      ]
     },
     "metadata": {},
     "output_type": "display_data"
    },
    {
     "data": {
      "image/png": "[encoded data removed]",
      "text/plain": [
       "<Figure size 640x480 with 1 Axes>"
      ]
     },
     "metadata": {},
     "output_type": "display_data"
    }
   ],
   "source": [
    "plt.plot(train_losses, label=\"train\")\n",
    "plt.plot(val_losses, label=\"test\")\n",
    "plt.xlabel(\"epochs\")\n",
    "plt.ylabel(\"loss\")\n",
    "plt.legend()\n",
    "plt.show()\n",
    "\n",
    "plt.plot(train_accuracies, label=\"train\")\n",
    "plt.plot(val_accuracies, label=\"test\")\n",
    "plt.xlabel(\"epochs\") \n",
    "plt.ylabel(\"accuracy\")\n",
    "plt.legend()\n",
    "plt.show()"
   ]
  },
  {
   "cell_type": "code",
   "execution_count": 14,
   "id": "0ff1ee45",
   "metadata": {
    "execution": {
     "iopub.execute_input": "2025-08-02T07:57:41.273627Z",
     "iopub.status.busy": "2025-08-02T07:57:41.273029Z",
     "iopub.status.idle": "2025-08-02T07:57:41.499875Z",
     "shell.execute_reply": "2025-08-02T07:57:41.499048Z"
    },
    "papermill": {
     "duration": 0.437214,
     "end_time": "2025-08-02T07:57:41.501339",
     "exception": false,
     "start_time": "2025-08-02T07:57:41.064125",
     "status": "completed"
    },
    "tags": []
   },
   "outputs": [],
   "source": [
    "model.eval()\n",
    "all_preds = []\n",
    "all_labels = []\n",
    "\n",
    "with torch.no_grad():\n",
    "    for images, labels in test_loader:\n",
    "        images = images.to(device)\n",
    "        outputs = model(images)\n",
    "        all_preds.extend(outputs.cpu().numpy().flatten())\n",
    "        all_labels.extend(labels.cpu().numpy().flatten())\n",
    "\n",
    "pred_labels = (np.array(all_preds) > 0.5).astype(int)\n",
    "true_labels = np.array(all_labels).astype(int)"
   ]
  },
  {
   "cell_type": "code",
   "execution_count": 15,
   "id": "3c9b0e90",
   "metadata": {
    "execution": {
     "iopub.execute_input": "2025-08-02T07:57:41.802884Z",
     "iopub.status.busy": "2025-08-02T07:57:41.802611Z",
     "iopub.status.idle": "2025-08-02T07:57:41.958617Z",
     "shell.execute_reply": "2025-08-02T07:57:41.957690Z"
    },
    "papermill": {
     "duration": 0.306549,
     "end_time": "2025-08-02T07:57:41.959608",
     "exception": false,
     "start_time": "2025-08-02T07:57:41.653059",
     "status": "completed"
    },
    "tags": []
   },
   "outputs": [
    {
     "name": "stdout",
     "output_type": "stream",
     "text": [
      "Confusion Matrix:\n",
      " [[46 40]\n",
      " [36 47]]\n",
      "\n",
      "Classification Report:\n",
      "               precision    recall  f1-score   support\n",
      "\n",
      "           0       0.56      0.53      0.55        86\n",
      "           1       0.54      0.57      0.55        83\n",
      "\n",
      "    accuracy                           0.55       169\n",
      "   macro avg       0.55      0.55      0.55       169\n",
      "weighted avg       0.55      0.55      0.55       169\n",
      "\n",
      "ROC AUC: 0.5965256374334548\n"
     ]
    },
    {
     "data": {
      "image/png": "[encoded data removed]",
      "text/plain": [
       "<Figure size 600x400 with 1 Axes>"
      ]
     },
     "metadata": {},
     "output_type": "display_data"
    }
   ],
   "source": [
    "print(\"Confusion Matrix:\\n\", confusion_matrix(true_labels, pred_labels))\n",
    "print(\"\\nClassification Report:\\n\", classification_report(true_labels, pred_labels))\n",
    "print(\"ROC AUC:\", roc_auc_score(true_labels, all_preds))\n",
    "\n",
    "# ROC curve\n",
    "fpr, tpr, thresholds = roc_curve(true_labels, all_preds)\n",
    "plt.figure(figsize=(6,4))\n",
    "plt.plot(fpr, tpr, label=f\"AUC={roc_auc_score(true_labels, all_preds):.2f}\")\n",
    "plt.xlabel(\"False Positive Rate\")\n",
    "plt.ylabel(\"True Positive Rate\")\n",
    "plt.title(\"ROC Curve\")\n",
    "plt.legend()\n",
    "plt.show()"
   ]
  },
  {
   "cell_type": "code",
   "execution_count": 16,
   "id": "37ca413e",
   "metadata": {
    "execution": {
     "iopub.execute_input": "2025-08-02T07:57:42.273177Z",
     "iopub.status.busy": "2025-08-02T07:57:42.272906Z",
     "iopub.status.idle": "2025-08-02T07:57:42.276408Z",
     "shell.execute_reply": "2025-08-02T07:57:42.275825Z"
    },
    "papermill": {
     "duration": 0.163378,
     "end_time": "2025-08-02T07:57:42.277456",
     "exception": false,
     "start_time": "2025-08-02T07:57:42.114078",
     "status": "completed"
    },
    "tags": []
   },
   "outputs": [],
   "source": [
    "model = 1"
   ]
  },
  {
   "cell_type": "markdown",
   "id": "14595555",
   "metadata": {
    "papermill": {
     "duration": 0.150276,
     "end_time": "2025-08-02T07:57:42.578469",
     "exception": false,
     "start_time": "2025-08-02T07:57:42.428193",
     "status": "completed"
    },
    "tags": []
   },
   "source": [
    "**Alexnet**"
   ]
  },
  {
   "cell_type": "code",
   "execution_count": 17,
   "id": "0fd6c5c0",
   "metadata": {
    "execution": {
     "iopub.execute_input": "2025-08-02T07:57:42.921372Z",
     "iopub.status.busy": "2025-08-02T07:57:42.920850Z",
     "iopub.status.idle": "2025-08-02T07:57:44.932114Z",
     "shell.execute_reply": "2025-08-02T07:57:44.931519Z"
    },
    "papermill": {
     "duration": 2.20633,
     "end_time": "2025-08-02T07:57:44.933409",
     "exception": false,
     "start_time": "2025-08-02T07:57:42.727079",
     "status": "completed"
    },
    "tags": []
   },
   "outputs": [
    {
     "name": "stderr",
     "output_type": "stream",
     "text": [
      "/usr/local/lib/python3.11/dist-packages/torchvision/models/_utils.py:208: UserWarning: The parameter 'pretrained' is deprecated since 0.13 and may be removed in the future, please use 'weights' instead.\n",
      "  warnings.warn(\n",
      "/usr/local/lib/python3.11/dist-packages/torchvision/models/_utils.py:223: UserWarning: Arguments other than a weight enum or `None` for 'weights' are deprecated since 0.13 and may be removed in the future. The current behavior is equivalent to passing `weights=AlexNet_Weights.IMAGENET1K_V1`. You can also use `weights=AlexNet_Weights.DEFAULT` to get the most up-to-date weights.\n",
      "  warnings.warn(msg)\n",
      "Downloading: \"https://download.pytorch.org/models/alexnet-owt-7be5be79.pth\" to /root/.cache/torch/hub/checkpoints/alexnet-owt-7be5be79.pth\n",
      "100%|██████████| 233M/233M [00:01<00:00, 221MB/s]\n"
     ]
    }
   ],
   "source": [
    "# Load pretrained AlexNet\n",
    "model = models.alexnet(pretrained=True)\n",
    "\n",
    "# Modify the classifier for binary classification\n",
    "model.classifier[6] = nn.Sequential(\n",
    "    nn.Linear(4096, 1),\n",
    "    nn.Sigmoid()  # For binary classification\n",
    ")\n",
    "\n",
    "# Send model to device\n",
    "device = torch.device(\"cuda\" if torch.cuda.is_available() else \"cpu\")\n",
    "model = model.to(device)\n",
    "\n",
    "criterion = nn.BCELoss()  # Binary cross-entropy loss\n",
    "optimizer = torch.optim.Adam(model.parameters(), lr=1e-4)"
   ]
  },
  {
   "cell_type": "code",
   "execution_count": 18,
   "id": "fd5679bf",
   "metadata": {
    "execution": {
     "iopub.execute_input": "2025-08-02T07:57:45.249525Z",
     "iopub.status.busy": "2025-08-02T07:57:45.249054Z",
     "iopub.status.idle": "2025-08-02T07:59:30.022954Z",
     "shell.execute_reply": "2025-08-02T07:59:30.022174Z"
    },
    "papermill": {
     "duration": 104.928181,
     "end_time": "2025-08-02T07:59:30.024123",
     "exception": false,
     "start_time": "2025-08-02T07:57:45.095942",
     "status": "completed"
    },
    "tags": []
   },
   "outputs": [
    {
     "name": "stderr",
     "output_type": "stream",
     "text": [
      "                                                                                            \r"
     ]
    },
    {
     "name": "stdout",
     "output_type": "stream",
     "text": [
      "Epoch 01/20 Train Loss: 0.5894  Val Loss: 0.5105  Train Acc: 0.6818  Val Acc: 0.7529\n"
     ]
    },
    {
     "name": "stderr",
     "output_type": "stream",
     "text": [
      "                                                                                           \r"
     ]
    },
    {
     "name": "stdout",
     "output_type": "stream",
     "text": [
      "Epoch 02/20 Train Loss: 0.3887  Val Loss: 0.5480  Train Acc: 0.8158  Val Acc: 0.7270\n"
     ]
    },
    {
     "name": "stderr",
     "output_type": "stream",
     "text": [
      "                                                                                           \r"
     ]
    },
    {
     "name": "stdout",
     "output_type": "stream",
     "text": [
      "Epoch 03/20 Train Loss: 0.2866  Val Loss: 0.5488  Train Acc: 0.8776  Val Acc: 0.7644\n"
     ]
    },
    {
     "name": "stderr",
     "output_type": "stream",
     "text": [
      "                                                                                           \r"
     ]
    },
    {
     "name": "stdout",
     "output_type": "stream",
     "text": [
      "Epoch 04/20 Train Loss: 0.1852  Val Loss: 0.7752  Train Acc: 0.9253  Val Acc: 0.7328\n"
     ]
    },
    {
     "name": "stderr",
     "output_type": "stream",
     "text": [
      "                                                                                           \r"
     ]
    },
    {
     "name": "stdout",
     "output_type": "stream",
     "text": [
      "Epoch 05/20 Train Loss: 0.1076  Val Loss: 0.9422  Train Acc: 0.9580  Val Acc: 0.7443\n"
     ]
    },
    {
     "name": "stderr",
     "output_type": "stream",
     "text": [
      "                                                                                           \r"
     ]
    },
    {
     "name": "stdout",
     "output_type": "stream",
     "text": [
      "Epoch 06/20 Train Loss: 0.0953  Val Loss: 1.1031  Train Acc: 0.9616  Val Acc: 0.7040\n"
     ]
    },
    {
     "name": "stderr",
     "output_type": "stream",
     "text": [
      "                                                                                           \r"
     ]
    },
    {
     "name": "stdout",
     "output_type": "stream",
     "text": [
      "Epoch 07/20 Train Loss: 0.0724  Val Loss: 1.1232  Train Acc: 0.9712  Val Acc: 0.7184\n"
     ]
    },
    {
     "name": "stderr",
     "output_type": "stream",
     "text": [
      "                                                                                           \r"
     ]
    },
    {
     "name": "stdout",
     "output_type": "stream",
     "text": [
      "Epoch 08/20 Train Loss: 0.0572  Val Loss: 1.2230  Train Acc: 0.9790  Val Acc: 0.7443\n"
     ]
    },
    {
     "name": "stderr",
     "output_type": "stream",
     "text": [
      "                                                                                           \r"
     ]
    },
    {
     "name": "stdout",
     "output_type": "stream",
     "text": [
      "Epoch 09/20 Train Loss: 0.0592  Val Loss: 1.3359  Train Acc: 0.9784  Val Acc: 0.7385\n"
     ]
    },
    {
     "name": "stderr",
     "output_type": "stream",
     "text": [
      "                                                                                            \r"
     ]
    },
    {
     "name": "stdout",
     "output_type": "stream",
     "text": [
      "Epoch 10/20 Train Loss: 0.1311  Val Loss: 1.4567  Train Acc: 0.9628  Val Acc: 0.6954\n"
     ]
    },
    {
     "name": "stderr",
     "output_type": "stream",
     "text": [
      "                                                                                            \r"
     ]
    },
    {
     "name": "stdout",
     "output_type": "stream",
     "text": [
      "Epoch 11/20 Train Loss: 0.0230  Val Loss: 2.3714  Train Acc: 0.9928  Val Acc: 0.7126\n"
     ]
    },
    {
     "name": "stderr",
     "output_type": "stream",
     "text": [
      "                                                                                            \r"
     ]
    },
    {
     "name": "stdout",
     "output_type": "stream",
     "text": [
      "Epoch 12/20 Train Loss: 0.0193  Val Loss: 1.8541  Train Acc: 0.9952  Val Acc: 0.7299\n"
     ]
    },
    {
     "name": "stderr",
     "output_type": "stream",
     "text": [
      "                                                                                            \r"
     ]
    },
    {
     "name": "stdout",
     "output_type": "stream",
     "text": [
      "Epoch 13/20 Train Loss: 0.0419  Val Loss: 1.7593  Train Acc: 0.9868  Val Acc: 0.7586\n"
     ]
    },
    {
     "name": "stderr",
     "output_type": "stream",
     "text": [
      "                                                                                            \r"
     ]
    },
    {
     "name": "stdout",
     "output_type": "stream",
     "text": [
      "Epoch 14/20 Train Loss: 0.0296  Val Loss: 1.1202  Train Acc: 0.9910  Val Acc: 0.7356\n"
     ]
    },
    {
     "name": "stderr",
     "output_type": "stream",
     "text": [
      "                                                                                            \r"
     ]
    },
    {
     "name": "stdout",
     "output_type": "stream",
     "text": [
      "Epoch 15/20 Train Loss: 0.0201  Val Loss: 2.7203  Train Acc: 0.9925  Val Acc: 0.7270\n"
     ]
    },
    {
     "name": "stderr",
     "output_type": "stream",
     "text": [
      "                                                                                            \r"
     ]
    },
    {
     "name": "stdout",
     "output_type": "stream",
     "text": [
      "Epoch 16/20 Train Loss: 0.0195  Val Loss: 2.9172  Train Acc: 0.9928  Val Acc: 0.7098\n"
     ]
    },
    {
     "name": "stderr",
     "output_type": "stream",
     "text": [
      "                                                                                            \r"
     ]
    },
    {
     "name": "stdout",
     "output_type": "stream",
     "text": [
      "Epoch 17/20 Train Loss: 0.0592  Val Loss: 1.4427  Train Acc: 0.9901  Val Acc: 0.7299\n"
     ]
    },
    {
     "name": "stderr",
     "output_type": "stream",
     "text": [
      "                                                                                            \r"
     ]
    },
    {
     "name": "stdout",
     "output_type": "stream",
     "text": [
      "Epoch 18/20 Train Loss: 0.0458  Val Loss: 2.0996  Train Acc: 0.9856  Val Acc: 0.7126\n"
     ]
    },
    {
     "name": "stderr",
     "output_type": "stream",
     "text": [
      "                                                                                            \r"
     ]
    },
    {
     "name": "stdout",
     "output_type": "stream",
     "text": [
      "Epoch 19/20 Train Loss: 0.0177  Val Loss: 1.7883  Train Acc: 0.9940  Val Acc: 0.7126\n"
     ]
    },
    {
     "name": "stderr",
     "output_type": "stream",
     "text": [
      "                                                                                            "
     ]
    },
    {
     "name": "stdout",
     "output_type": "stream",
     "text": [
      "Epoch 20/20 Train Loss: 0.0238  Val Loss: 2.1646  Train Acc: 0.9916  Val Acc: 0.7328\n"
     ]
    },
    {
     "name": "stderr",
     "output_type": "stream",
     "text": [
      "\r"
     ]
    }
   ],
   "source": [
    "num_epochs = 20\n",
    "\n",
    "# Trackers for plotting\n",
    "train_losses = []\n",
    "val_losses = []\n",
    "train_accuracies = []\n",
    "val_accuracies = []\n",
    "\n",
    "for epoch in range(num_epochs):\n",
    "    model.train()\n",
    "    total_train_loss = 0\n",
    "    correct_train = 0\n",
    "    total_train = 0\n",
    "\n",
    "    train_bar = tqdm(train_loader, desc=f\"Epoch {epoch+1}/{num_epochs} [Train]\", leave=False)\n",
    "    for images, labels in train_bar:\n",
    "        images = images.to(device)\n",
    "        labels = labels.to(device).float().unsqueeze(1)\n",
    "\n",
    "        outputs = model(images)\n",
    "        loss = criterion(outputs, labels)\n",
    "\n",
    "        optimizer.zero_grad()\n",
    "        loss.backward()\n",
    "        optimizer.step()\n",
    "\n",
    "        total_train_loss += loss.item()\n",
    "\n",
    "        preds = (outputs > 0.5).float()\n",
    "        correct_train += (preds == labels).sum().item()\n",
    "        total_train += labels.size(0)\n",
    "\n",
    "        train_bar.set_postfix(loss=f\"{total_train_loss / len(train_bar):.4f}\")\n",
    "\n",
    "    avg_train_loss = total_train_loss / len(train_loader)\n",
    "    train_accuracy = correct_train / total_train\n",
    "    train_losses.append(avg_train_loss)\n",
    "    train_accuracies.append(train_accuracy)\n",
    "\n",
    "    # Validation\n",
    "    model.eval()\n",
    "    total_val_loss = 0\n",
    "    correct_val = 0\n",
    "    total_val = 0\n",
    "\n",
    "    val_bar = tqdm(valid_loader, desc=f\"Epoch {epoch+1}/{num_epochs} [Val]  \", leave=False)\n",
    "    with torch.no_grad():\n",
    "        for val_images, val_labels in val_bar:\n",
    "            val_images = val_images.to(device)\n",
    "            val_labels = val_labels.to(device).float().unsqueeze(1)\n",
    "\n",
    "            val_outputs = model(val_images)\n",
    "            val_loss = criterion(val_outputs, val_labels)\n",
    "            total_val_loss += val_loss.item()\n",
    "\n",
    "            preds = (val_outputs > 0.5).float()\n",
    "            correct_val += (preds == val_labels).sum().item()\n",
    "            total_val += val_labels.size(0)\n",
    "\n",
    "            val_bar.set_postfix(loss=f\"{total_val_loss / len(val_bar):.4f}\",\n",
    "                                acc=f\"{correct_val / total_val:.4f}\")\n",
    "\n",
    "    avg_val_loss = total_val_loss / len(valid_loader)\n",
    "    val_accuracy = correct_val / total_val\n",
    "    val_losses.append(avg_val_loss)\n",
    "    val_accuracies.append(val_accuracy)\n",
    "\n",
    "    # Final summary print\n",
    "    print(f\"Epoch {epoch+1:02}/{num_epochs} \"\n",
    "          f\"Train Loss: {avg_train_loss:.4f}  \"\n",
    "          f\"Val Loss: {avg_val_loss:.4f}  \"\n",
    "          f\"Train Acc: {train_accuracy:.4f}  \"\n",
    "          f\"Val Acc: {val_accuracy:.4f}\")\n"
   ]
  },
  {
   "cell_type": "code",
   "execution_count": 19,
   "id": "b2c2b4a5",
   "metadata": {
    "execution": {
     "iopub.execute_input": "2025-08-02T07:59:30.631957Z",
     "iopub.status.busy": "2025-08-02T07:59:30.631257Z",
     "iopub.status.idle": "2025-08-02T07:59:30.964752Z",
     "shell.execute_reply": "2025-08-02T07:59:30.964030Z"
    },
    "papermill": {
     "duration": 0.611282,
     "end_time": "2025-08-02T07:59:30.965897",
     "exception": false,
     "start_time": "2025-08-02T07:59:30.354615",
     "status": "completed"
    },
    "tags": []
   },
   "outputs": [
    {
     "data": {
      "image/png": "[encoded data removed]",
      "text/plain": [
       "<Figure size 640x480 with 1 Axes>"
      ]
     },
     "metadata": {},
     "output_type": "display_data"
    },
    {
     "data": {
      "image/png": "[encoded data removed]",
      "text/plain": [
       "<Figure size 640x480 with 1 Axes>"
      ]
     },
     "metadata": {},
     "output_type": "display_data"
    }
   ],
   "source": [
    "plt.plot(train_losses, label=\"Train Loss\")\n",
    "plt.plot(val_losses, label=\"Valid Loss\")\n",
    "plt.title('Loss vs. Epochs')\n",
    "plt.xlabel(\"Epochs\")\n",
    "plt.ylabel(\"Loss\")\n",
    "plt.legend()\n",
    "plt.show()\n",
    "\n",
    "plt.plot(train_accuracies, label=\"Train Accuracy\")\n",
    "plt.plot(val_accuracies, label=\"Valid Accuracy\")\n",
    "plt.title('Accuracy vs. Epochs')\n",
    "plt.xlabel(\"Epochs\") \n",
    "plt.ylabel(\"Accuracy\")\n",
    "plt.legend()\n",
    "plt.show()"
   ]
  },
  {
   "cell_type": "code",
   "execution_count": 20,
   "id": "b4bd3d9f",
   "metadata": {
    "execution": {
     "iopub.execute_input": "2025-08-02T07:59:31.571915Z",
     "iopub.status.busy": "2025-08-02T07:59:31.571325Z",
     "iopub.status.idle": "2025-08-02T07:59:31.690966Z",
     "shell.execute_reply": "2025-08-02T07:59:31.690357Z"
    },
    "papermill": {
     "duration": 0.449532,
     "end_time": "2025-08-02T07:59:31.692213",
     "exception": false,
     "start_time": "2025-08-02T07:59:31.242681",
     "status": "completed"
    },
    "tags": []
   },
   "outputs": [],
   "source": [
    "model.eval()\n",
    "all_preds = []\n",
    "all_labels = []\n",
    "\n",
    "with torch.no_grad():\n",
    "    for images, labels in test_loader:\n",
    "        images = images.to(device)\n",
    "        outputs = model(images)\n",
    "        all_preds.extend(outputs.cpu().numpy().flatten())\n",
    "        all_labels.extend(labels.cpu().numpy().flatten())\n",
    "\n",
    "pred_labels = (np.array(all_preds) > 0.5).astype(int)\n",
    "true_labels = np.array(all_labels).astype(int)"
   ]
  },
  {
   "cell_type": "code",
   "execution_count": 21,
   "id": "21ea5d69",
   "metadata": {
    "execution": {
     "iopub.execute_input": "2025-08-02T07:59:32.236912Z",
     "iopub.status.busy": "2025-08-02T07:59:32.236371Z",
     "iopub.status.idle": "2025-08-02T07:59:32.387220Z",
     "shell.execute_reply": "2025-08-02T07:59:32.386512Z"
    },
    "papermill": {
     "duration": 0.42281,
     "end_time": "2025-08-02T07:59:32.388280",
     "exception": false,
     "start_time": "2025-08-02T07:59:31.965470",
     "status": "completed"
    },
    "tags": []
   },
   "outputs": [
    {
     "name": "stdout",
     "output_type": "stream",
     "text": [
      "Confusion Matrix:\n",
      " [[60 26]\n",
      " [23 60]]\n",
      "\n",
      "Classification Report:\n",
      "               precision    recall  f1-score   support\n",
      "\n",
      "           0       0.72      0.70      0.71        86\n",
      "           1       0.70      0.72      0.71        83\n",
      "\n",
      "    accuracy                           0.71       169\n",
      "   macro avg       0.71      0.71      0.71       169\n",
      "weighted avg       0.71      0.71      0.71       169\n",
      "\n",
      "ROC AUC: 0.7950406276267863\n"
     ]
    },
    {
     "data": {
      "image/png": "[encoded data removed]",
      "text/plain": [
       "<Figure size 600x400 with 1 Axes>"
      ]
     },
     "metadata": {},
     "output_type": "display_data"
    }
   ],
   "source": [
    "print(\"Confusion Matrix:\\n\", confusion_matrix(true_labels, pred_labels))\n",
    "print(\"\\nClassification Report:\\n\", classification_report(true_labels, pred_labels))\n",
    "print(\"ROC AUC:\", roc_auc_score(true_labels, all_preds))\n",
    "\n",
    "# ROC curve\n",
    "fpr, tpr, thresholds = roc_curve(true_labels, all_preds)\n",
    "plt.figure(figsize=(6,4))\n",
    "plt.plot(fpr, tpr, label=f\"AUC={roc_auc_score(true_labels, all_preds):.2f}\")\n",
    "plt.xlabel(\"False Positive Rate\")\n",
    "plt.ylabel(\"True Positive Rate\")\n",
    "plt.title(\"ROC Curve\")\n",
    "plt.legend()\n",
    "plt.show()"
   ]
  },
  {
   "cell_type": "code",
   "execution_count": 22,
   "id": "73c1fe1e",
   "metadata": {
    "execution": {
     "iopub.execute_input": "2025-08-02T07:59:32.934142Z",
     "iopub.status.busy": "2025-08-02T07:59:32.933416Z",
     "iopub.status.idle": "2025-08-02T07:59:32.936809Z",
     "shell.execute_reply": "2025-08-02T07:59:32.936268Z"
    },
    "papermill": {
     "duration": 0.276737,
     "end_time": "2025-08-02T07:59:32.937880",
     "exception": false,
     "start_time": "2025-08-02T07:59:32.661143",
     "status": "completed"
    },
    "tags": []
   },
   "outputs": [],
   "source": [
    "model = 1"
   ]
  },
  {
   "cell_type": "markdown",
   "id": "989d99fd",
   "metadata": {
    "papermill": {
     "duration": 0.277576,
     "end_time": "2025-08-02T07:59:33.543092",
     "exception": false,
     "start_time": "2025-08-02T07:59:33.265516",
     "status": "completed"
    },
    "tags": []
   },
   "source": [
    "**Resnet 18**"
   ]
  },
  {
   "cell_type": "code",
   "execution_count": 23,
   "id": "d4dfa89b",
   "metadata": {
    "execution": {
     "iopub.execute_input": "2025-08-02T07:59:34.136127Z",
     "iopub.status.busy": "2025-08-02T07:59:34.135313Z",
     "iopub.status.idle": "2025-08-02T07:59:34.688079Z",
     "shell.execute_reply": "2025-08-02T07:59:34.687511Z"
    },
    "papermill": {
     "duration": 0.873477,
     "end_time": "2025-08-02T07:59:34.689240",
     "exception": false,
     "start_time": "2025-08-02T07:59:33.815763",
     "status": "completed"
    },
    "tags": []
   },
   "outputs": [
    {
     "name": "stderr",
     "output_type": "stream",
     "text": [
      "/usr/local/lib/python3.11/dist-packages/torchvision/models/_utils.py:208: UserWarning: The parameter 'pretrained' is deprecated since 0.13 and may be removed in the future, please use 'weights' instead.\n",
      "  warnings.warn(\n",
      "/usr/local/lib/python3.11/dist-packages/torchvision/models/_utils.py:223: UserWarning: Arguments other than a weight enum or `None` for 'weights' are deprecated since 0.13 and may be removed in the future. The current behavior is equivalent to passing `weights=ResNet18_Weights.IMAGENET1K_V1`. You can also use `weights=ResNet18_Weights.DEFAULT` to get the most up-to-date weights.\n",
      "  warnings.warn(msg)\n",
      "Downloading: \"https://download.pytorch.org/models/resnet18-f37072fd.pth\" to /root/.cache/torch/hub/checkpoints/resnet18-f37072fd.pth\n",
      "100%|██████████| 44.7M/44.7M [00:00<00:00, 185MB/s]\n"
     ]
    }
   ],
   "source": [
    "device = torch.device(\"cuda\" if torch.cuda.is_available() else \"cpu\")\n",
    "\n",
    "# Load pretrained ResNet18\n",
    "model = models.resnet18(pretrained=True)\n",
    "\n",
    "for param in model.parameters():\n",
    "    param.requires_grad = False\n",
    "        \n",
    "# Modify the last layer for binary classification\n",
    "num_features = model.fc.in_features\n",
    "model.fc = nn.Sequential(\n",
    "    nn.Linear(num_features, 1), \n",
    "    # nn.ReLU(),\n",
    "    # nn.Dropout(0.4),\n",
    "    # nn.Linear(32,1),\n",
    "    nn.Sigmoid()                 # use sigmoid to output probability\n",
    ")\n",
    "\n",
    "model = model.to(device)\n",
    "\n",
    "criterion = nn.BCELoss()  # Binary Cross Entropy\n",
    "optimizer = torch.optim.Adam(model.parameters(), lr=1e-4)"
   ]
  },
  {
   "cell_type": "code",
   "execution_count": 24,
   "id": "91e87ada",
   "metadata": {
    "execution": {
     "iopub.execute_input": "2025-08-02T07:59:35.248276Z",
     "iopub.status.busy": "2025-08-02T07:59:35.248012Z",
     "iopub.status.idle": "2025-08-02T08:01:00.050443Z",
     "shell.execute_reply": "2025-08-02T08:01:00.049655Z"
    },
    "papermill": {
     "duration": 85.089191,
     "end_time": "2025-08-02T08:01:00.051536",
     "exception": false,
     "start_time": "2025-08-02T07:59:34.962345",
     "status": "completed"
    },
    "tags": []
   },
   "outputs": [
    {
     "name": "stderr",
     "output_type": "stream",
     "text": [
      "                                                                                           \r"
     ]
    },
    {
     "name": "stdout",
     "output_type": "stream",
     "text": [
      "Epoch 01/20 Train Loss: 0.7014  Val Loss: 0.6978  Train Acc: 0.5327  Val Acc: 0.5374\n"
     ]
    },
    {
     "name": "stderr",
     "output_type": "stream",
     "text": [
      "                                                                                           \r"
     ]
    },
    {
     "name": "stdout",
     "output_type": "stream",
     "text": [
      "Epoch 02/20 Train Loss: 0.6847  Val Loss: 0.6809  Train Acc: 0.5591  Val Acc: 0.5661\n"
     ]
    },
    {
     "name": "stderr",
     "output_type": "stream",
     "text": [
      "                                                                                           \r"
     ]
    },
    {
     "name": "stdout",
     "output_type": "stream",
     "text": [
      "Epoch 03/20 Train Loss: 0.6738  Val Loss: 0.6707  Train Acc: 0.5855  Val Acc: 0.5690\n"
     ]
    },
    {
     "name": "stderr",
     "output_type": "stream",
     "text": [
      "                                                                                           \r"
     ]
    },
    {
     "name": "stdout",
     "output_type": "stream",
     "text": [
      "Epoch 04/20 Train Loss: 0.6624  Val Loss: 0.6594  Train Acc: 0.5993  Val Acc: 0.5891\n"
     ]
    },
    {
     "name": "stderr",
     "output_type": "stream",
     "text": [
      "                                                                                           \r"
     ]
    },
    {
     "name": "stdout",
     "output_type": "stream",
     "text": [
      "Epoch 05/20 Train Loss: 0.6542  Val Loss: 0.6468  Train Acc: 0.6167  Val Acc: 0.6207\n"
     ]
    },
    {
     "name": "stderr",
     "output_type": "stream",
     "text": [
      "                                                                                           \r"
     ]
    },
    {
     "name": "stdout",
     "output_type": "stream",
     "text": [
      "Epoch 06/20 Train Loss: 0.6470  Val Loss: 0.6440  Train Acc: 0.6254  Val Acc: 0.6236\n"
     ]
    },
    {
     "name": "stderr",
     "output_type": "stream",
     "text": [
      "                                                                                           \r"
     ]
    },
    {
     "name": "stdout",
     "output_type": "stream",
     "text": [
      "Epoch 07/20 Train Loss: 0.6357  Val Loss: 0.6318  Train Acc: 0.6485  Val Acc: 0.6408\n"
     ]
    },
    {
     "name": "stderr",
     "output_type": "stream",
     "text": [
      "                                                                                           \r"
     ]
    },
    {
     "name": "stdout",
     "output_type": "stream",
     "text": [
      "Epoch 08/20 Train Loss: 0.6321  Val Loss: 0.6239  Train Acc: 0.6482  Val Acc: 0.6609\n"
     ]
    },
    {
     "name": "stderr",
     "output_type": "stream",
     "text": [
      "                                                                                           \r"
     ]
    },
    {
     "name": "stdout",
     "output_type": "stream",
     "text": [
      "Epoch 09/20 Train Loss: 0.6273  Val Loss: 0.6219  Train Acc: 0.6626  Val Acc: 0.6494\n"
     ]
    },
    {
     "name": "stderr",
     "output_type": "stream",
     "text": [
      "                                                                                            \r"
     ]
    },
    {
     "name": "stdout",
     "output_type": "stream",
     "text": [
      "Epoch 10/20 Train Loss: 0.6182  Val Loss: 0.6153  Train Acc: 0.6752  Val Acc: 0.6695\n"
     ]
    },
    {
     "name": "stderr",
     "output_type": "stream",
     "text": [
      "                                                                                            \r"
     ]
    },
    {
     "name": "stdout",
     "output_type": "stream",
     "text": [
      "Epoch 11/20 Train Loss: 0.6172  Val Loss: 0.6087  Train Acc: 0.6680  Val Acc: 0.6753\n"
     ]
    },
    {
     "name": "stderr",
     "output_type": "stream",
     "text": [
      "                                                                                            \r"
     ]
    },
    {
     "name": "stdout",
     "output_type": "stream",
     "text": [
      "Epoch 12/20 Train Loss: 0.6112  Val Loss: 0.6077  Train Acc: 0.6776  Val Acc: 0.6753\n"
     ]
    },
    {
     "name": "stderr",
     "output_type": "stream",
     "text": [
      "                                                                                            \r"
     ]
    },
    {
     "name": "stdout",
     "output_type": "stream",
     "text": [
      "Epoch 13/20 Train Loss: 0.6072  Val Loss: 0.6013  Train Acc: 0.6884  Val Acc: 0.6897\n"
     ]
    },
    {
     "name": "stderr",
     "output_type": "stream",
     "text": [
      "                                                                                            \r"
     ]
    },
    {
     "name": "stdout",
     "output_type": "stream",
     "text": [
      "Epoch 14/20 Train Loss: 0.6036  Val Loss: 0.5971  Train Acc: 0.6812  Val Acc: 0.6753\n"
     ]
    },
    {
     "name": "stderr",
     "output_type": "stream",
     "text": [
      "                                                                                            \r"
     ]
    },
    {
     "name": "stdout",
     "output_type": "stream",
     "text": [
      "Epoch 15/20 Train Loss: 0.6000  Val Loss: 0.5948  Train Acc: 0.6941  Val Acc: 0.6983\n"
     ]
    },
    {
     "name": "stderr",
     "output_type": "stream",
     "text": [
      "                                                                                            \r"
     ]
    },
    {
     "name": "stdout",
     "output_type": "stream",
     "text": [
      "Epoch 16/20 Train Loss: 0.5977  Val Loss: 0.5933  Train Acc: 0.6914  Val Acc: 0.6954\n"
     ]
    },
    {
     "name": "stderr",
     "output_type": "stream",
     "text": [
      "                                                                                            \r"
     ]
    },
    {
     "name": "stdout",
     "output_type": "stream",
     "text": [
      "Epoch 17/20 Train Loss: 0.5927  Val Loss: 0.5912  Train Acc: 0.6995  Val Acc: 0.6839\n"
     ]
    },
    {
     "name": "stderr",
     "output_type": "stream",
     "text": [
      "                                                                                            \r"
     ]
    },
    {
     "name": "stdout",
     "output_type": "stream",
     "text": [
      "Epoch 18/20 Train Loss: 0.5875  Val Loss: 0.5883  Train Acc: 0.7046  Val Acc: 0.6782\n"
     ]
    },
    {
     "name": "stderr",
     "output_type": "stream",
     "text": [
      "                                                                                            \r"
     ]
    },
    {
     "name": "stdout",
     "output_type": "stream",
     "text": [
      "Epoch 19/20 Train Loss: 0.5847  Val Loss: 0.5819  Train Acc: 0.7112  Val Acc: 0.6925\n"
     ]
    },
    {
     "name": "stderr",
     "output_type": "stream",
     "text": [
      "                                                                                            "
     ]
    },
    {
     "name": "stdout",
     "output_type": "stream",
     "text": [
      "Epoch 20/20 Train Loss: 0.5873  Val Loss: 0.5808  Train Acc: 0.6989  Val Acc: 0.6810\n"
     ]
    },
    {
     "name": "stderr",
     "output_type": "stream",
     "text": [
      "\r"
     ]
    }
   ],
   "source": [
    "num_epochs = 20\n",
    "\n",
    "# Trackers for plotting\n",
    "train_losses = []\n",
    "val_losses = []\n",
    "train_accuracies = []\n",
    "val_accuracies = []\n",
    "\n",
    "for epoch in range(num_epochs):\n",
    "    model.train()\n",
    "    total_train_loss = 0\n",
    "    correct_train = 0\n",
    "    total_train = 0\n",
    "\n",
    "    train_bar = tqdm(train_loader, desc=f\"Epoch {epoch+1}/{num_epochs} [Train]\", leave=False)\n",
    "    for images, labels in train_bar:\n",
    "        images = images.to(device)\n",
    "        labels = labels.to(device).float().unsqueeze(1)\n",
    "\n",
    "        outputs = model(images)\n",
    "        loss = criterion(outputs, labels)\n",
    "\n",
    "        optimizer.zero_grad()\n",
    "        loss.backward()\n",
    "        optimizer.step()\n",
    "\n",
    "        total_train_loss += loss.item()\n",
    "\n",
    "        preds = (outputs > 0.5).float()\n",
    "        correct_train += (preds == labels).sum().item()\n",
    "        total_train += labels.size(0)\n",
    "\n",
    "        train_bar.set_postfix(loss=f\"{total_train_loss / len(train_bar):.4f}\")\n",
    "\n",
    "    avg_train_loss = total_train_loss / len(train_loader)\n",
    "    train_accuracy = correct_train / total_train\n",
    "    train_losses.append(avg_train_loss)\n",
    "    train_accuracies.append(train_accuracy)\n",
    "\n",
    "    # Validation\n",
    "    model.eval()\n",
    "    total_val_loss = 0\n",
    "    correct_val = 0\n",
    "    total_val = 0\n",
    "\n",
    "    val_bar = tqdm(valid_loader, desc=f\"Epoch {epoch+1}/{num_epochs} [Val]  \", leave=False)\n",
    "    with torch.no_grad():\n",
    "        for val_images, val_labels in val_bar:\n",
    "            val_images = val_images.to(device)\n",
    "            val_labels = val_labels.to(device).float().unsqueeze(1)\n",
    "\n",
    "            val_outputs = model(val_images)\n",
    "            val_loss = criterion(val_outputs, val_labels)\n",
    "            total_val_loss += val_loss.item()\n",
    "\n",
    "            preds = (val_outputs > 0.5).float()\n",
    "            correct_val += (preds == val_labels).sum().item()\n",
    "            total_val += val_labels.size(0)\n",
    "\n",
    "            val_bar.set_postfix(loss=f\"{total_val_loss / len(val_bar):.4f}\",\n",
    "                                acc=f\"{correct_val / total_val:.4f}\")\n",
    "\n",
    "    avg_val_loss = total_val_loss / len(valid_loader)\n",
    "    val_accuracy = correct_val / total_val\n",
    "    val_losses.append(avg_val_loss)\n",
    "    val_accuracies.append(val_accuracy)\n",
    "\n",
    "    # Final summary print\n",
    "    print(f\"Epoch {epoch+1:02}/{num_epochs} \"\n",
    "          f\"Train Loss: {avg_train_loss:.4f}  \"\n",
    "          f\"Val Loss: {avg_val_loss:.4f}  \"\n",
    "          f\"Train Acc: {train_accuracy:.4f}  \"\n",
    "          f\"Val Acc: {val_accuracy:.4f}\")\n"
   ]
  },
  {
   "cell_type": "code",
   "execution_count": 25,
   "id": "1617885e",
   "metadata": {
    "execution": {
     "iopub.execute_input": "2025-08-02T08:01:00.908404Z",
     "iopub.status.busy": "2025-08-02T08:01:00.907835Z",
     "iopub.status.idle": "2025-08-02T08:01:01.255266Z",
     "shell.execute_reply": "2025-08-02T08:01:01.254560Z"
    },
    "papermill": {
     "duration": 0.746242,
     "end_time": "2025-08-02T08:01:01.256363",
     "exception": false,
     "start_time": "2025-08-02T08:01:00.510121",
     "status": "completed"
    },
    "tags": []
   },
   "outputs": [
    {
     "data": {
      "image/png": "[encoded data removed]",
      "text/plain": [
       "<Figure size 640x480 with 1 Axes>"
      ]
     },
     "metadata": {},
     "output_type": "display_data"
    },
    {
     "data": {
      "image/png": "[encoded data removed]",
      "text/plain": [
       "<Figure size 640x480 with 1 Axes>"
      ]
     },
     "metadata": {},
     "output_type": "display_data"
    }
   ],
   "source": [
    "plt.plot(train_losses, label=\"Train Loss\")\n",
    "plt.plot(val_losses, label=\"Valid Loss\")\n",
    "plt.title('Loss vs. Epochs')\n",
    "plt.xlabel(\"Epochs\")\n",
    "plt.ylabel(\"Loss\")\n",
    "plt.legend()\n",
    "plt.show()\n",
    "\n",
    "plt.plot(train_accuracies, label=\"Train Accuracy\")\n",
    "plt.plot(val_accuracies, label=\"Valid Accuracy\")\n",
    "plt.title('Accuracy vs. Epochs')\n",
    "plt.xlabel(\"Epochs\") \n",
    "plt.ylabel(\"Accuracy\")\n",
    "plt.legend()\n",
    "plt.show()"
   ]
  },
  {
   "cell_type": "code",
   "execution_count": 26,
   "id": "8c8a1cac",
   "metadata": {
    "execution": {
     "iopub.execute_input": "2025-08-02T08:01:02.109044Z",
     "iopub.status.busy": "2025-08-02T08:01:02.108737Z",
     "iopub.status.idle": "2025-08-02T08:01:02.357592Z",
     "shell.execute_reply": "2025-08-02T08:01:02.356819Z"
    },
    "papermill": {
     "duration": 0.646829,
     "end_time": "2025-08-02T08:01:02.359041",
     "exception": false,
     "start_time": "2025-08-02T08:01:01.712212",
     "status": "completed"
    },
    "tags": []
   },
   "outputs": [],
   "source": [
    "model.eval()\n",
    "all_preds = []\n",
    "all_labels = []\n",
    "\n",
    "with torch.no_grad():\n",
    "    for images, labels in test_loader:\n",
    "        images = images.to(device)\n",
    "        outputs = model(images)\n",
    "        all_preds.extend(outputs.cpu().numpy().flatten())\n",
    "        all_labels.extend(labels.cpu().numpy().flatten())\n",
    "\n",
    "pred_labels = (np.array(all_preds) > 0.5).astype(int)\n",
    "true_labels = np.array(all_labels).astype(int)"
   ]
  },
  {
   "cell_type": "code",
   "execution_count": 27,
   "id": "a30bf3c8",
   "metadata": {
    "execution": {
     "iopub.execute_input": "2025-08-02T08:01:03.208630Z",
     "iopub.status.busy": "2025-08-02T08:01:03.208354Z",
     "iopub.status.idle": "2025-08-02T08:01:03.366501Z",
     "shell.execute_reply": "2025-08-02T08:01:03.365735Z"
    },
    "papermill": {
     "duration": 0.605529,
     "end_time": "2025-08-02T08:01:03.367604",
     "exception": false,
     "start_time": "2025-08-02T08:01:02.762075",
     "status": "completed"
    },
    "tags": []
   },
   "outputs": [
    {
     "name": "stdout",
     "output_type": "stream",
     "text": [
      "Confusion Matrix:\n",
      " [[48 38]\n",
      " [22 61]]\n",
      "\n",
      "Classification Report:\n",
      "               precision    recall  f1-score   support\n",
      "\n",
      "           0       0.69      0.56      0.62        86\n",
      "           1       0.62      0.73      0.67        83\n",
      "\n",
      "    accuracy                           0.64       169\n",
      "   macro avg       0.65      0.65      0.64       169\n",
      "weighted avg       0.65      0.64      0.64       169\n",
      "\n",
      "ROC AUC: 0.7224712804707201\n"
     ]
    },
    {
     "data": {
      "image/png": "[encoded data removed]",
      "text/plain": [
       "<Figure size 600x400 with 1 Axes>"
      ]
     },
     "metadata": {},
     "output_type": "display_data"
    }
   ],
   "source": [
    "print(\"Confusion Matrix:\\n\", confusion_matrix(true_labels, pred_labels))\n",
    "print(\"\\nClassification Report:\\n\", classification_report(true_labels, pred_labels))\n",
    "print(\"ROC AUC:\", roc_auc_score(true_labels, all_preds))\n",
    "\n",
    "# ROC curve\n",
    "fpr, tpr, thresholds = roc_curve(true_labels, all_preds)\n",
    "plt.figure(figsize=(6,4))\n",
    "plt.plot(fpr, tpr, label=f\"AUC={roc_auc_score(true_labels, all_preds):.2f}\")\n",
    "plt.xlabel(\"False Positive Rate\")\n",
    "plt.ylabel(\"True Positive Rate\")\n",
    "plt.title(\"ROC Curve\")\n",
    "plt.legend()\n",
    "plt.show()"
   ]
  },
  {
   "cell_type": "code",
   "execution_count": 28,
   "id": "3e55e8ab",
   "metadata": {
    "execution": {
     "iopub.execute_input": "2025-08-02T08:01:04.207205Z",
     "iopub.status.busy": "2025-08-02T08:01:04.206929Z",
     "iopub.status.idle": "2025-08-02T08:01:04.210914Z",
     "shell.execute_reply": "2025-08-02T08:01:04.210350Z"
    },
    "papermill": {
     "duration": 0.446664,
     "end_time": "2025-08-02T08:01:04.211888",
     "exception": false,
     "start_time": "2025-08-02T08:01:03.765224",
     "status": "completed"
    },
    "tags": []
   },
   "outputs": [],
   "source": [
    "model = 1"
   ]
  },
  {
   "cell_type": "markdown",
   "id": "a06c10c8",
   "metadata": {
    "papermill": {
     "duration": 0.441394,
     "end_time": "2025-08-02T08:01:05.047665",
     "exception": false,
     "start_time": "2025-08-02T08:01:04.606271",
     "status": "completed"
    },
    "tags": []
   },
   "source": [
    "**EfficientNetB0**"
   ]
  },
  {
   "cell_type": "code",
   "execution_count": 29,
   "id": "4fd17682",
   "metadata": {
    "execution": {
     "iopub.execute_input": "2025-08-02T08:01:05.837985Z",
     "iopub.status.busy": "2025-08-02T08:01:05.837684Z",
     "iopub.status.idle": "2025-08-02T08:01:06.221623Z",
     "shell.execute_reply": "2025-08-02T08:01:06.220911Z"
    },
    "papermill": {
     "duration": 0.780703,
     "end_time": "2025-08-02T08:01:06.222716",
     "exception": false,
     "start_time": "2025-08-02T08:01:05.442013",
     "status": "completed"
    },
    "tags": []
   },
   "outputs": [
    {
     "name": "stderr",
     "output_type": "stream",
     "text": [
      "/usr/local/lib/python3.11/dist-packages/torchvision/models/_utils.py:208: UserWarning: The parameter 'pretrained' is deprecated since 0.13 and may be removed in the future, please use 'weights' instead.\n",
      "  warnings.warn(\n",
      "/usr/local/lib/python3.11/dist-packages/torchvision/models/_utils.py:223: UserWarning: Arguments other than a weight enum or `None` for 'weights' are deprecated since 0.13 and may be removed in the future. The current behavior is equivalent to passing `weights=EfficientNet_B0_Weights.IMAGENET1K_V1`. You can also use `weights=EfficientNet_B0_Weights.DEFAULT` to get the most up-to-date weights.\n",
      "  warnings.warn(msg)\n",
      "Downloading: \"https://download.pytorch.org/models/efficientnet_b0_rwightman-7f5810bc.pth\" to /root/.cache/torch/hub/checkpoints/efficientnet_b0_rwightman-7f5810bc.pth\n",
      "100%|██████████| 20.5M/20.5M [00:00<00:00, 140MB/s] \n"
     ]
    }
   ],
   "source": [
    "device = torch.device(\"cuda\" if torch.cuda.is_available() else \"cpu\")\n",
    "\n",
    "model = models.efficientnet_b0(pretrained=True)\n",
    "\n",
    "for param in model.features.parameters():\n",
    "    param.requires_grad = False\n",
    "\n",
    "model.classifier = nn.Sequential(\n",
    "    nn.Dropout(p=0.3),\n",
    "    nn.Linear(model.classifier[1].in_features, 1),\n",
    "    nn.Sigmoid()\n",
    ")\n",
    "model = model.to(device)\n",
    "\n",
    "criterion = nn.BCELoss()  # Binary Cross Entropy\n",
    "optimizer = torch.optim.Adam(model.parameters(), lr=1e-4, weight_decay=1e-5)"
   ]
  },
  {
   "cell_type": "code",
   "execution_count": 30,
   "id": "ccf61d59",
   "metadata": {
    "execution": {
     "iopub.execute_input": "2025-08-02T08:01:07.082880Z",
     "iopub.status.busy": "2025-08-02T08:01:07.082577Z",
     "iopub.status.idle": "2025-08-02T08:02:59.459008Z",
     "shell.execute_reply": "2025-08-02T08:02:59.458249Z"
    },
    "papermill": {
     "duration": 112.776193,
     "end_time": "2025-08-02T08:02:59.460129",
     "exception": false,
     "start_time": "2025-08-02T08:01:06.683936",
     "status": "completed"
    },
    "tags": []
   },
   "outputs": [
    {
     "name": "stderr",
     "output_type": "stream",
     "text": [
      "                                                                                           \r"
     ]
    },
    {
     "name": "stdout",
     "output_type": "stream",
     "text": [
      "Epoch 01/20 Train Loss: 0.6897  Val Loss: 0.6790  Train Acc: 0.5405  Val Acc: 0.5862\n"
     ]
    },
    {
     "name": "stderr",
     "output_type": "stream",
     "text": [
      "                                                                                           \r"
     ]
    },
    {
     "name": "stdout",
     "output_type": "stream",
     "text": [
      "Epoch 02/20 Train Loss: 0.6689  Val Loss: 0.6617  Train Acc: 0.6017  Val Acc: 0.6264\n"
     ]
    },
    {
     "name": "stderr",
     "output_type": "stream",
     "text": [
      "                                                                                           \r"
     ]
    },
    {
     "name": "stdout",
     "output_type": "stream",
     "text": [
      "Epoch 03/20 Train Loss: 0.6537  Val Loss: 0.6478  Train Acc: 0.6296  Val Acc: 0.6782\n"
     ]
    },
    {
     "name": "stderr",
     "output_type": "stream",
     "text": [
      "                                                                                            \r"
     ]
    },
    {
     "name": "stdout",
     "output_type": "stream",
     "text": [
      "Epoch 04/20 Train Loss: 0.6404  Val Loss: 0.6356  Train Acc: 0.6578  Val Acc: 0.6839\n"
     ]
    },
    {
     "name": "stderr",
     "output_type": "stream",
     "text": [
      "                                                                                           \r"
     ]
    },
    {
     "name": "stdout",
     "output_type": "stream",
     "text": [
      "Epoch 05/20 Train Loss: 0.6294  Val Loss: 0.6185  Train Acc: 0.6749  Val Acc: 0.7184\n"
     ]
    },
    {
     "name": "stderr",
     "output_type": "stream",
     "text": [
      "                                                                                           \r"
     ]
    },
    {
     "name": "stdout",
     "output_type": "stream",
     "text": [
      "Epoch 06/20 Train Loss: 0.6211  Val Loss: 0.6170  Train Acc: 0.6803  Val Acc: 0.7213\n"
     ]
    },
    {
     "name": "stderr",
     "output_type": "stream",
     "text": [
      "                                                                                           \r"
     ]
    },
    {
     "name": "stdout",
     "output_type": "stream",
     "text": [
      "Epoch 07/20 Train Loss: 0.6097  Val Loss: 0.6073  Train Acc: 0.6980  Val Acc: 0.7098\n"
     ]
    },
    {
     "name": "stderr",
     "output_type": "stream",
     "text": [
      "                                                                                            \r"
     ]
    },
    {
     "name": "stdout",
     "output_type": "stream",
     "text": [
      "Epoch 08/20 Train Loss: 0.6055  Val Loss: 0.5995  Train Acc: 0.6917  Val Acc: 0.7356\n"
     ]
    },
    {
     "name": "stderr",
     "output_type": "stream",
     "text": [
      "                                                                                           \r"
     ]
    },
    {
     "name": "stdout",
     "output_type": "stream",
     "text": [
      "Epoch 09/20 Train Loss: 0.6010  Val Loss: 0.5963  Train Acc: 0.7034  Val Acc: 0.7385\n"
     ]
    },
    {
     "name": "stderr",
     "output_type": "stream",
     "text": [
      "                                                                                            \r"
     ]
    },
    {
     "name": "stdout",
     "output_type": "stream",
     "text": [
      "Epoch 10/20 Train Loss: 0.5962  Val Loss: 0.5930  Train Acc: 0.6938  Val Acc: 0.7356\n"
     ]
    },
    {
     "name": "stderr",
     "output_type": "stream",
     "text": [
      "                                                                                            \r"
     ]
    },
    {
     "name": "stdout",
     "output_type": "stream",
     "text": [
      "Epoch 11/20 Train Loss: 0.5889  Val Loss: 0.5881  Train Acc: 0.7058  Val Acc: 0.7356\n"
     ]
    },
    {
     "name": "stderr",
     "output_type": "stream",
     "text": [
      "                                                                                            \r"
     ]
    },
    {
     "name": "stdout",
     "output_type": "stream",
     "text": [
      "Epoch 12/20 Train Loss: 0.5819  Val Loss: 0.5795  Train Acc: 0.7058  Val Acc: 0.7385\n"
     ]
    },
    {
     "name": "stderr",
     "output_type": "stream",
     "text": [
      "                                                                                            \r"
     ]
    },
    {
     "name": "stdout",
     "output_type": "stream",
     "text": [
      "Epoch 13/20 Train Loss: 0.5782  Val Loss: 0.5739  Train Acc: 0.7163  Val Acc: 0.7557\n"
     ]
    },
    {
     "name": "stderr",
     "output_type": "stream",
     "text": [
      "                                                                                            \r"
     ]
    },
    {
     "name": "stdout",
     "output_type": "stream",
     "text": [
      "Epoch 14/20 Train Loss: 0.5752  Val Loss: 0.5678  Train Acc: 0.7190  Val Acc: 0.7529\n"
     ]
    },
    {
     "name": "stderr",
     "output_type": "stream",
     "text": [
      "                                                                                            \r"
     ]
    },
    {
     "name": "stdout",
     "output_type": "stream",
     "text": [
      "Epoch 15/20 Train Loss: 0.5706  Val Loss: 0.5671  Train Acc: 0.7298  Val Acc: 0.7328\n"
     ]
    },
    {
     "name": "stderr",
     "output_type": "stream",
     "text": [
      "                                                                                            \r"
     ]
    },
    {
     "name": "stdout",
     "output_type": "stream",
     "text": [
      "Epoch 16/20 Train Loss: 0.5648  Val Loss: 0.5611  Train Acc: 0.7142  Val Acc: 0.7557\n"
     ]
    },
    {
     "name": "stderr",
     "output_type": "stream",
     "text": [
      "                                                                                            \r"
     ]
    },
    {
     "name": "stdout",
     "output_type": "stream",
     "text": [
      "Epoch 17/20 Train Loss: 0.5598  Val Loss: 0.5644  Train Acc: 0.7247  Val Acc: 0.7529\n"
     ]
    },
    {
     "name": "stderr",
     "output_type": "stream",
     "text": [
      "                                                                                            \r"
     ]
    },
    {
     "name": "stdout",
     "output_type": "stream",
     "text": [
      "Epoch 18/20 Train Loss: 0.5593  Val Loss: 0.5603  Train Acc: 0.7292  Val Acc: 0.7586\n"
     ]
    },
    {
     "name": "stderr",
     "output_type": "stream",
     "text": [
      "                                                                                            \r"
     ]
    },
    {
     "name": "stdout",
     "output_type": "stream",
     "text": [
      "Epoch 19/20 Train Loss: 0.5593  Val Loss: 0.5556  Train Acc: 0.7274  Val Acc: 0.7557\n"
     ]
    },
    {
     "name": "stderr",
     "output_type": "stream",
     "text": [
      "                                                                                            "
     ]
    },
    {
     "name": "stdout",
     "output_type": "stream",
     "text": [
      "Epoch 20/20 Train Loss: 0.5527  Val Loss: 0.5563  Train Acc: 0.7286  Val Acc: 0.7500\n"
     ]
    },
    {
     "name": "stderr",
     "output_type": "stream",
     "text": [
      "\r"
     ]
    }
   ],
   "source": [
    "num_epochs = 20\n",
    "\n",
    "# Trackers for plotting\n",
    "train_losses = []\n",
    "val_losses = []\n",
    "train_accuracies = []\n",
    "val_accuracies = []\n",
    "\n",
    "for epoch in range(num_epochs):\n",
    "    model.train()\n",
    "    total_train_loss = 0\n",
    "    correct_train = 0\n",
    "    total_train = 0\n",
    "\n",
    "    train_bar = tqdm(train_loader, desc=f\"Epoch {epoch+1}/{num_epochs} [Train]\", leave=False)\n",
    "    for images, labels in train_bar:\n",
    "        images = images.to(device)\n",
    "        labels = labels.to(device).float().unsqueeze(1)\n",
    "\n",
    "        outputs = model(images)\n",
    "        loss = criterion(outputs, labels)\n",
    "\n",
    "        optimizer.zero_grad()\n",
    "        loss.backward()\n",
    "        optimizer.step()\n",
    "\n",
    "        total_train_loss += loss.item()\n",
    "\n",
    "        preds = (outputs > 0.5).float()\n",
    "        correct_train += (preds == labels).sum().item()\n",
    "        total_train += labels.size(0)\n",
    "\n",
    "        train_bar.set_postfix(loss=f\"{total_train_loss / len(train_bar):.4f}\")\n",
    "\n",
    "    avg_train_loss = total_train_loss / len(train_loader)\n",
    "    train_accuracy = correct_train / total_train\n",
    "    train_losses.append(avg_train_loss)\n",
    "    train_accuracies.append(train_accuracy)\n",
    "\n",
    "    # Validation\n",
    "    model.eval()\n",
    "    total_val_loss = 0\n",
    "    correct_val = 0\n",
    "    total_val = 0\n",
    "\n",
    "    val_bar = tqdm(valid_loader, desc=f\"Epoch {epoch+1}/{num_epochs} [Val]  \", leave=False)\n",
    "    with torch.no_grad():\n",
    "        for val_images, val_labels in val_bar:\n",
    "            val_images = val_images.to(device)\n",
    "            val_labels = val_labels.to(device).float().unsqueeze(1)\n",
    "\n",
    "            val_outputs = model(val_images)\n",
    "            val_loss = criterion(val_outputs, val_labels)\n",
    "            total_val_loss += val_loss.item()\n",
    "\n",
    "            preds = (val_outputs > 0.5).float()\n",
    "            correct_val += (preds == val_labels).sum().item()\n",
    "            total_val += val_labels.size(0)\n",
    "\n",
    "            val_bar.set_postfix(loss=f\"{total_val_loss / len(val_bar):.4f}\",\n",
    "                                acc=f\"{correct_val / total_val:.4f}\")\n",
    "\n",
    "    avg_val_loss = total_val_loss / len(valid_loader)\n",
    "    val_accuracy = correct_val / total_val\n",
    "    val_losses.append(avg_val_loss)\n",
    "    val_accuracies.append(val_accuracy)\n",
    "\n",
    "    # Final summary print\n",
    "    print(f\"Epoch {epoch+1:02}/{num_epochs} \"\n",
    "          f\"Train Loss: {avg_train_loss:.4f}  \"\n",
    "          f\"Val Loss: {avg_val_loss:.4f}  \"\n",
    "          f\"Train Acc: {train_accuracy:.4f}  \"\n",
    "          f\"Val Acc: {val_accuracy:.4f}\")"
   ]
  },
  {
   "cell_type": "code",
   "execution_count": 31,
   "id": "6adbd5e8",
   "metadata": {
    "execution": {
     "iopub.execute_input": "2025-08-02T08:03:00.593850Z",
     "iopub.status.busy": "2025-08-02T08:03:00.593552Z",
     "iopub.status.idle": "2025-08-02T08:03:00.905984Z",
     "shell.execute_reply": "2025-08-02T08:03:00.905246Z"
    },
    "papermill": {
     "duration": 0.865831,
     "end_time": "2025-08-02T08:03:00.907103",
     "exception": false,
     "start_time": "2025-08-02T08:03:00.041272",
     "status": "completed"
    },
    "tags": []
   },
   "outputs": [
    {
     "data": {
      "image/png": "[encoded data removed]",
      "text/plain": [
       "<Figure size 640x480 with 1 Axes>"
      ]
     },
     "metadata": {},
     "output_type": "display_data"
    },
    {
     "data": {
      "image/png": "[encoded data removed]",
      "text/plain": [
       "<Figure size 640x480 with 1 Axes>"
      ]
     },
     "metadata": {},
     "output_type": "display_data"
    }
   ],
   "source": [
    "plt.plot(train_losses, label=\"Train Loss\")\n",
    "plt.plot(val_losses, label=\"Valid Loss\")\n",
    "plt.title('Loss vs. Epochs')\n",
    "plt.xlabel(\"Epochs\")\n",
    "plt.ylabel(\"Loss\")\n",
    "plt.legend()\n",
    "plt.show()\n",
    "\n",
    "plt.plot(train_accuracies, label=\"Train Accuracy\")\n",
    "plt.plot(val_accuracies, label=\"Valid Accuracy\")\n",
    "plt.title('Accuracy vs. Epochs')\n",
    "plt.xlabel(\"Epochs\") \n",
    "plt.ylabel(\"Accuracy\")\n",
    "plt.legend()\n",
    "plt.show()"
   ]
  },
  {
   "cell_type": "code",
   "execution_count": 32,
   "id": "18c51657",
   "metadata": {
    "execution": {
     "iopub.execute_input": "2025-08-02T08:03:02.007369Z",
     "iopub.status.busy": "2025-08-02T08:03:02.007085Z",
     "iopub.status.idle": "2025-08-02T08:03:02.318694Z",
     "shell.execute_reply": "2025-08-02T08:03:02.318069Z"
    },
    "papermill": {
     "duration": 0.838285,
     "end_time": "2025-08-02T08:03:02.319996",
     "exception": false,
     "start_time": "2025-08-02T08:03:01.481711",
     "status": "completed"
    },
    "tags": []
   },
   "outputs": [],
   "source": [
    "model.eval()\n",
    "all_preds = []\n",
    "all_labels = []\n",
    "\n",
    "with torch.no_grad():\n",
    "    for images, labels in test_loader:\n",
    "        images = images.to(device)\n",
    "        outputs = model(images)\n",
    "        all_preds.extend(outputs.cpu().numpy().flatten())\n",
    "        all_labels.extend(labels.cpu().numpy().flatten())\n",
    "\n",
    "pred_labels = (np.array(all_preds) > 0.5).astype(int)\n",
    "true_labels = np.array(all_labels).astype(int)"
   ]
  },
  {
   "cell_type": "code",
   "execution_count": 33,
   "id": "c7408fe3",
   "metadata": {
    "execution": {
     "iopub.execute_input": "2025-08-02T08:03:03.419503Z",
     "iopub.status.busy": "2025-08-02T08:03:03.419220Z",
     "iopub.status.idle": "2025-08-02T08:03:03.568610Z",
     "shell.execute_reply": "2025-08-02T08:03:03.567920Z"
    },
    "papermill": {
     "duration": 0.670163,
     "end_time": "2025-08-02T08:03:03.569647",
     "exception": false,
     "start_time": "2025-08-02T08:03:02.899484",
     "status": "completed"
    },
    "tags": []
   },
   "outputs": [
    {
     "name": "stdout",
     "output_type": "stream",
     "text": [
      "Confusion Matrix:\n",
      " [[66 20]\n",
      " [23 60]]\n",
      "\n",
      "Classification Report:\n",
      "               precision    recall  f1-score   support\n",
      "\n",
      "           0       0.74      0.77      0.75        86\n",
      "           1       0.75      0.72      0.74        83\n",
      "\n",
      "    accuracy                           0.75       169\n",
      "   macro avg       0.75      0.75      0.75       169\n",
      "weighted avg       0.75      0.75      0.75       169\n",
      "\n",
      "ROC AUC: 0.8044270103670497\n"
     ]
    },
    {
     "data": {
      "image/png": "[encoded data removed]",
      "text/plain": [
       "<Figure size 600x400 with 1 Axes>"
      ]
     },
     "metadata": {},
     "output_type": "display_data"
    }
   ],
   "source": [
    "print(\"Confusion Matrix:\\n\", confusion_matrix(true_labels, pred_labels))\n",
    "print(\"\\nClassification Report:\\n\", classification_report(true_labels, pred_labels))\n",
    "print(\"ROC AUC:\", roc_auc_score(true_labels, all_preds))\n",
    "\n",
    "# ROC curve\n",
    "fpr, tpr, thresholds = roc_curve(true_labels, all_preds)\n",
    "plt.figure(figsize=(6,4))\n",
    "plt.plot(fpr, tpr, label=f\"AUC={roc_auc_score(true_labels, all_preds):.2f}\")\n",
    "plt.xlabel(\"False Positive Rate\")\n",
    "plt.ylabel(\"True Positive Rate\")\n",
    "plt.title(\"ROC Curve\")\n",
    "plt.legend()\n",
    "plt.show()"
   ]
  },
  {
   "cell_type": "code",
   "execution_count": 34,
   "id": "f79e88cd",
   "metadata": {
    "execution": {
     "iopub.execute_input": "2025-08-02T08:03:04.683679Z",
     "iopub.status.busy": "2025-08-02T08:03:04.683409Z",
     "iopub.status.idle": "2025-08-02T08:03:04.688073Z",
     "shell.execute_reply": "2025-08-02T08:03:04.687527Z"
    },
    "papermill": {
     "duration": 0.528616,
     "end_time": "2025-08-02T08:03:04.689196",
     "exception": false,
     "start_time": "2025-08-02T08:03:04.160580",
     "status": "completed"
    },
    "tags": []
   },
   "outputs": [],
   "source": [
    "model = 1"
   ]
  },
  {
   "cell_type": "markdown",
   "id": "cba8b2aa",
   "metadata": {
    "papermill": {
     "duration": 0.520862,
     "end_time": "2025-08-02T08:03:05.784745",
     "exception": false,
     "start_time": "2025-08-02T08:03:05.263883",
     "status": "completed"
    },
    "tags": []
   },
   "source": [
    "**ResNet152**"
   ]
  },
  {
   "cell_type": "code",
   "execution_count": 35,
   "id": "c82b44d2",
   "metadata": {
    "execution": {
     "iopub.execute_input": "2025-08-02T08:03:06.897257Z",
     "iopub.status.busy": "2025-08-02T08:03:06.897009Z",
     "iopub.status.idle": "2025-08-02T08:03:09.412617Z",
     "shell.execute_reply": "2025-08-02T08:03:09.411837Z"
    },
    "papermill": {
     "duration": 3.040693,
     "end_time": "2025-08-02T08:03:09.414027",
     "exception": false,
     "start_time": "2025-08-02T08:03:06.373334",
     "status": "completed"
    },
    "tags": []
   },
   "outputs": [
    {
     "name": "stderr",
     "output_type": "stream",
     "text": [
      "/usr/local/lib/python3.11/dist-packages/torchvision/models/_utils.py:208: UserWarning: The parameter 'pretrained' is deprecated since 0.13 and may be removed in the future, please use 'weights' instead.\n",
      "  warnings.warn(\n",
      "/usr/local/lib/python3.11/dist-packages/torchvision/models/_utils.py:223: UserWarning: Arguments other than a weight enum or `None` for 'weights' are deprecated since 0.13 and may be removed in the future. The current behavior is equivalent to passing `weights=ResNet152_Weights.IMAGENET1K_V1`. You can also use `weights=ResNet152_Weights.DEFAULT` to get the most up-to-date weights.\n",
      "  warnings.warn(msg)\n",
      "Downloading: \"https://download.pytorch.org/models/resnet152-394f9c45.pth\" to /root/.cache/torch/hub/checkpoints/resnet152-394f9c45.pth\n",
      "100%|██████████| 230M/230M [00:01<00:00, 203MB/s]\n"
     ]
    }
   ],
   "source": [
    "model = models.resnet152(pretrained=True)\n",
    "\n",
    "for param in model.parameters():\n",
    "    param.requires_grad = False\n",
    "\n",
    "# Replace the final fully connected layer\n",
    "model.fc = nn.Sequential(\n",
    "    nn.Linear(model.fc.in_features, 1),  # One output for binary classification\n",
    "    nn.Sigmoid()                         # Because you're using nn.BCELoss()\n",
    ")\n",
    "\n",
    "model = model.to(device)\n",
    "\n",
    "criterion = nn.BCELoss()  # Binary Cross Entropy\n",
    "optimizer = torch.optim.Adam(model.parameters(), lr=1e-4)"
   ]
  },
  {
   "cell_type": "code",
   "execution_count": 36,
   "id": "594160a5",
   "metadata": {
    "execution": {
     "iopub.execute_input": "2025-08-02T08:03:10.528040Z",
     "iopub.status.busy": "2025-08-02T08:03:10.527125Z",
     "iopub.status.idle": "2025-08-02T08:26:50.383440Z",
     "shell.execute_reply": "2025-08-02T08:26:50.382665Z"
    },
    "papermill": {
     "duration": 1420.441089,
     "end_time": "2025-08-02T08:26:50.384647",
     "exception": false,
     "start_time": "2025-08-02T08:03:09.943558",
     "status": "completed"
    },
    "tags": []
   },
   "outputs": [
    {
     "name": "stderr",
     "output_type": "stream",
     "text": [
      "                                                                                            \r"
     ]
    },
    {
     "name": "stdout",
     "output_type": "stream",
     "text": [
      "Epoch 01/50 Train Loss: 0.6758  Val Loss: 0.6542  Train Acc: 0.5819  Val Acc: 0.6724\n"
     ]
    },
    {
     "name": "stderr",
     "output_type": "stream",
     "text": [
      "                                                                                            \r"
     ]
    },
    {
     "name": "stdout",
     "output_type": "stream",
     "text": [
      "Epoch 02/50 Train Loss: 0.6526  Val Loss: 0.6325  Train Acc: 0.6422  Val Acc: 0.6897\n"
     ]
    },
    {
     "name": "stderr",
     "output_type": "stream",
     "text": [
      "                                                                                            \r"
     ]
    },
    {
     "name": "stdout",
     "output_type": "stream",
     "text": [
      "Epoch 03/50 Train Loss: 0.6324  Val Loss: 0.6115  Train Acc: 0.6779  Val Acc: 0.7155\n"
     ]
    },
    {
     "name": "stderr",
     "output_type": "stream",
     "text": [
      "                                                                                            \r"
     ]
    },
    {
     "name": "stdout",
     "output_type": "stream",
     "text": [
      "Epoch 04/50 Train Loss: 0.6203  Val Loss: 0.6061  Train Acc: 0.6857  Val Acc: 0.6954\n"
     ]
    },
    {
     "name": "stderr",
     "output_type": "stream",
     "text": [
      "                                                                                            \r"
     ]
    },
    {
     "name": "stdout",
     "output_type": "stream",
     "text": [
      "Epoch 05/50 Train Loss: 0.6045  Val Loss: 0.5904  Train Acc: 0.7073  Val Acc: 0.7299\n"
     ]
    },
    {
     "name": "stderr",
     "output_type": "stream",
     "text": [
      "                                                                                            \r"
     ]
    },
    {
     "name": "stdout",
     "output_type": "stream",
     "text": [
      "Epoch 06/50 Train Loss: 0.5949  Val Loss: 0.5814  Train Acc: 0.7217  Val Acc: 0.7443\n"
     ]
    },
    {
     "name": "stderr",
     "output_type": "stream",
     "text": [
      "                                                                                            \r"
     ]
    },
    {
     "name": "stdout",
     "output_type": "stream",
     "text": [
      "Epoch 07/50 Train Loss: 0.5854  Val Loss: 0.5711  Train Acc: 0.7172  Val Acc: 0.7356\n"
     ]
    },
    {
     "name": "stderr",
     "output_type": "stream",
     "text": [
      "                                                                                            \r"
     ]
    },
    {
     "name": "stdout",
     "output_type": "stream",
     "text": [
      "Epoch 08/50 Train Loss: 0.5796  Val Loss: 0.5637  Train Acc: 0.7199  Val Acc: 0.7443\n"
     ]
    },
    {
     "name": "stderr",
     "output_type": "stream",
     "text": [
      "                                                                                            \r"
     ]
    },
    {
     "name": "stdout",
     "output_type": "stream",
     "text": [
      "Epoch 09/50 Train Loss: 0.5755  Val Loss: 0.5593  Train Acc: 0.7190  Val Acc: 0.7385\n"
     ]
    },
    {
     "name": "stderr",
     "output_type": "stream",
     "text": [
      "                                                                                             \r"
     ]
    },
    {
     "name": "stdout",
     "output_type": "stream",
     "text": [
      "Epoch 10/50 Train Loss: 0.5666  Val Loss: 0.5581  Train Acc: 0.7262  Val Acc: 0.7356\n"
     ]
    },
    {
     "name": "stderr",
     "output_type": "stream",
     "text": [
      "                                                                                             \r"
     ]
    },
    {
     "name": "stdout",
     "output_type": "stream",
     "text": [
      "Epoch 11/50 Train Loss: 0.5630  Val Loss: 0.5522  Train Acc: 0.7334  Val Acc: 0.7356\n"
     ]
    },
    {
     "name": "stderr",
     "output_type": "stream",
     "text": [
      "                                                                                             \r"
     ]
    },
    {
     "name": "stdout",
     "output_type": "stream",
     "text": [
      "Epoch 12/50 Train Loss: 0.5596  Val Loss: 0.5516  Train Acc: 0.7253  Val Acc: 0.7471\n"
     ]
    },
    {
     "name": "stderr",
     "output_type": "stream",
     "text": [
      "                                                                                             \r"
     ]
    },
    {
     "name": "stdout",
     "output_type": "stream",
     "text": [
      "Epoch 13/50 Train Loss: 0.5501  Val Loss: 0.5448  Train Acc: 0.7394  Val Acc: 0.7443\n"
     ]
    },
    {
     "name": "stderr",
     "output_type": "stream",
     "text": [
      "                                                                                             \r"
     ]
    },
    {
     "name": "stdout",
     "output_type": "stream",
     "text": [
      "Epoch 14/50 Train Loss: 0.5499  Val Loss: 0.5443  Train Acc: 0.7388  Val Acc: 0.7385\n"
     ]
    },
    {
     "name": "stderr",
     "output_type": "stream",
     "text": [
      "                                                                                             \r"
     ]
    },
    {
     "name": "stdout",
     "output_type": "stream",
     "text": [
      "Epoch 15/50 Train Loss: 0.5482  Val Loss: 0.5441  Train Acc: 0.7442  Val Acc: 0.7500\n"
     ]
    },
    {
     "name": "stderr",
     "output_type": "stream",
     "text": [
      "                                                                                             \r"
     ]
    },
    {
     "name": "stdout",
     "output_type": "stream",
     "text": [
      "Epoch 16/50 Train Loss: 0.5425  Val Loss: 0.5377  Train Acc: 0.7355  Val Acc: 0.7443\n"
     ]
    },
    {
     "name": "stderr",
     "output_type": "stream",
     "text": [
      "                                                                                             \r"
     ]
    },
    {
     "name": "stdout",
     "output_type": "stream",
     "text": [
      "Epoch 17/50 Train Loss: 0.5413  Val Loss: 0.5357  Train Acc: 0.7382  Val Acc: 0.7529\n"
     ]
    },
    {
     "name": "stderr",
     "output_type": "stream",
     "text": [
      "                                                                                             \r"
     ]
    },
    {
     "name": "stdout",
     "output_type": "stream",
     "text": [
      "Epoch 18/50 Train Loss: 0.5388  Val Loss: 0.5325  Train Acc: 0.7436  Val Acc: 0.7414\n"
     ]
    },
    {
     "name": "stderr",
     "output_type": "stream",
     "text": [
      "                                                                                             \r"
     ]
    },
    {
     "name": "stdout",
     "output_type": "stream",
     "text": [
      "Epoch 19/50 Train Loss: 0.5435  Val Loss: 0.5319  Train Acc: 0.7316  Val Acc: 0.7414\n"
     ]
    },
    {
     "name": "stderr",
     "output_type": "stream",
     "text": [
      "                                                                                             \r"
     ]
    },
    {
     "name": "stdout",
     "output_type": "stream",
     "text": [
      "Epoch 20/50 Train Loss: 0.5334  Val Loss: 0.5284  Train Acc: 0.7451  Val Acc: 0.7443\n"
     ]
    },
    {
     "name": "stderr",
     "output_type": "stream",
     "text": [
      "                                                                                             \r"
     ]
    },
    {
     "name": "stdout",
     "output_type": "stream",
     "text": [
      "Epoch 21/50 Train Loss: 0.5358  Val Loss: 0.5291  Train Acc: 0.7364  Val Acc: 0.7500\n"
     ]
    },
    {
     "name": "stderr",
     "output_type": "stream",
     "text": [
      "                                                                                             \r"
     ]
    },
    {
     "name": "stdout",
     "output_type": "stream",
     "text": [
      "Epoch 22/50 Train Loss: 0.5276  Val Loss: 0.5252  Train Acc: 0.7451  Val Acc: 0.7557\n"
     ]
    },
    {
     "name": "stderr",
     "output_type": "stream",
     "text": [
      "                                                                                             \r"
     ]
    },
    {
     "name": "stdout",
     "output_type": "stream",
     "text": [
      "Epoch 23/50 Train Loss: 0.5259  Val Loss: 0.5238  Train Acc: 0.7472  Val Acc: 0.7443\n"
     ]
    },
    {
     "name": "stderr",
     "output_type": "stream",
     "text": [
      "                                                                                             \r"
     ]
    },
    {
     "name": "stdout",
     "output_type": "stream",
     "text": [
      "Epoch 24/50 Train Loss: 0.5254  Val Loss: 0.5305  Train Acc: 0.7504  Val Acc: 0.7471\n"
     ]
    },
    {
     "name": "stderr",
     "output_type": "stream",
     "text": [
      "                                                                                             \r"
     ]
    },
    {
     "name": "stdout",
     "output_type": "stream",
     "text": [
      "Epoch 25/50 Train Loss: 0.5202  Val Loss: 0.5222  Train Acc: 0.7528  Val Acc: 0.7443\n"
     ]
    },
    {
     "name": "stderr",
     "output_type": "stream",
     "text": [
      "                                                                                             \r"
     ]
    },
    {
     "name": "stdout",
     "output_type": "stream",
     "text": [
      "Epoch 26/50 Train Loss: 0.5214  Val Loss: 0.5210  Train Acc: 0.7534  Val Acc: 0.7529\n"
     ]
    },
    {
     "name": "stderr",
     "output_type": "stream",
     "text": [
      "                                                                                             \r"
     ]
    },
    {
     "name": "stdout",
     "output_type": "stream",
     "text": [
      "Epoch 27/50 Train Loss: 0.5258  Val Loss: 0.5269  Train Acc: 0.7451  Val Acc: 0.7615\n"
     ]
    },
    {
     "name": "stderr",
     "output_type": "stream",
     "text": [
      "                                                                                             \r"
     ]
    },
    {
     "name": "stdout",
     "output_type": "stream",
     "text": [
      "Epoch 28/50 Train Loss: 0.5173  Val Loss: 0.5256  Train Acc: 0.7513  Val Acc: 0.7471\n"
     ]
    },
    {
     "name": "stderr",
     "output_type": "stream",
     "text": [
      "                                                                                             \r"
     ]
    },
    {
     "name": "stdout",
     "output_type": "stream",
     "text": [
      "Epoch 29/50 Train Loss: 0.5179  Val Loss: 0.5158  Train Acc: 0.7528  Val Acc: 0.7586\n"
     ]
    },
    {
     "name": "stderr",
     "output_type": "stream",
     "text": [
      "                                                                                             \r"
     ]
    },
    {
     "name": "stdout",
     "output_type": "stream",
     "text": [
      "Epoch 30/50 Train Loss: 0.5193  Val Loss: 0.5204  Train Acc: 0.7594  Val Acc: 0.7557\n"
     ]
    },
    {
     "name": "stderr",
     "output_type": "stream",
     "text": [
      "                                                                                             \r"
     ]
    },
    {
     "name": "stdout",
     "output_type": "stream",
     "text": [
      "Epoch 31/50 Train Loss: 0.5104  Val Loss: 0.5191  Train Acc: 0.7570  Val Acc: 0.7557\n"
     ]
    },
    {
     "name": "stderr",
     "output_type": "stream",
     "text": [
      "                                                                                             \r"
     ]
    },
    {
     "name": "stdout",
     "output_type": "stream",
     "text": [
      "Epoch 32/50 Train Loss: 0.5150  Val Loss: 0.5155  Train Acc: 0.7561  Val Acc: 0.7615\n"
     ]
    },
    {
     "name": "stderr",
     "output_type": "stream",
     "text": [
      "                                                                                             \r"
     ]
    },
    {
     "name": "stdout",
     "output_type": "stream",
     "text": [
      "Epoch 33/50 Train Loss: 0.5118  Val Loss: 0.5160  Train Acc: 0.7615  Val Acc: 0.7500\n"
     ]
    },
    {
     "name": "stderr",
     "output_type": "stream",
     "text": [
      "                                                                                             \r"
     ]
    },
    {
     "name": "stdout",
     "output_type": "stream",
     "text": [
      "Epoch 34/50 Train Loss: 0.5117  Val Loss: 0.5171  Train Acc: 0.7543  Val Acc: 0.7557\n"
     ]
    },
    {
     "name": "stderr",
     "output_type": "stream",
     "text": [
      "                                                                                             \r"
     ]
    },
    {
     "name": "stdout",
     "output_type": "stream",
     "text": [
      "Epoch 35/50 Train Loss: 0.5122  Val Loss: 0.5178  Train Acc: 0.7525  Val Acc: 0.7414\n"
     ]
    },
    {
     "name": "stderr",
     "output_type": "stream",
     "text": [
      "                                                                                             \r"
     ]
    },
    {
     "name": "stdout",
     "output_type": "stream",
     "text": [
      "Epoch 36/50 Train Loss: 0.5086  Val Loss: 0.5161  Train Acc: 0.7630  Val Acc: 0.7500\n"
     ]
    },
    {
     "name": "stderr",
     "output_type": "stream",
     "text": [
      "                                                                                             \r"
     ]
    },
    {
     "name": "stdout",
     "output_type": "stream",
     "text": [
      "Epoch 37/50 Train Loss: 0.5143  Val Loss: 0.5209  Train Acc: 0.7481  Val Acc: 0.7443\n"
     ]
    },
    {
     "name": "stderr",
     "output_type": "stream",
     "text": [
      "                                                                                             \r"
     ]
    },
    {
     "name": "stdout",
     "output_type": "stream",
     "text": [
      "Epoch 38/50 Train Loss: 0.5138  Val Loss: 0.5125  Train Acc: 0.7522  Val Acc: 0.7529\n"
     ]
    },
    {
     "name": "stderr",
     "output_type": "stream",
     "text": [
      "                                                                                             \r"
     ]
    },
    {
     "name": "stdout",
     "output_type": "stream",
     "text": [
      "Epoch 39/50 Train Loss: 0.5053  Val Loss: 0.5151  Train Acc: 0.7648  Val Acc: 0.7500\n"
     ]
    },
    {
     "name": "stderr",
     "output_type": "stream",
     "text": [
      "                                                                                             \r"
     ]
    },
    {
     "name": "stdout",
     "output_type": "stream",
     "text": [
      "Epoch 40/50 Train Loss: 0.5075  Val Loss: 0.5135  Train Acc: 0.7609  Val Acc: 0.7385\n"
     ]
    },
    {
     "name": "stderr",
     "output_type": "stream",
     "text": [
      "                                                                                             \r"
     ]
    },
    {
     "name": "stdout",
     "output_type": "stream",
     "text": [
      "Epoch 41/50 Train Loss: 0.5081  Val Loss: 0.5133  Train Acc: 0.7543  Val Acc: 0.7557\n"
     ]
    },
    {
     "name": "stderr",
     "output_type": "stream",
     "text": [
      "                                                                                             \r"
     ]
    },
    {
     "name": "stdout",
     "output_type": "stream",
     "text": [
      "Epoch 42/50 Train Loss: 0.5065  Val Loss: 0.5230  Train Acc: 0.7633  Val Acc: 0.7586\n"
     ]
    },
    {
     "name": "stderr",
     "output_type": "stream",
     "text": [
      "                                                                                             \r"
     ]
    },
    {
     "name": "stdout",
     "output_type": "stream",
     "text": [
      "Epoch 43/50 Train Loss: 0.5034  Val Loss: 0.5219  Train Acc: 0.7582  Val Acc: 0.7557\n"
     ]
    },
    {
     "name": "stderr",
     "output_type": "stream",
     "text": [
      "                                                                                             \r"
     ]
    },
    {
     "name": "stdout",
     "output_type": "stream",
     "text": [
      "Epoch 44/50 Train Loss: 0.5052  Val Loss: 0.5162  Train Acc: 0.7624  Val Acc: 0.7385\n"
     ]
    },
    {
     "name": "stderr",
     "output_type": "stream",
     "text": [
      "                                                                                             \r"
     ]
    },
    {
     "name": "stdout",
     "output_type": "stream",
     "text": [
      "Epoch 45/50 Train Loss: 0.4980  Val Loss: 0.5146  Train Acc: 0.7666  Val Acc: 0.7414\n"
     ]
    },
    {
     "name": "stderr",
     "output_type": "stream",
     "text": [
      "                                                                                             \r"
     ]
    },
    {
     "name": "stdout",
     "output_type": "stream",
     "text": [
      "Epoch 46/50 Train Loss: 0.4964  Val Loss: 0.5115  Train Acc: 0.7651  Val Acc: 0.7443\n"
     ]
    },
    {
     "name": "stderr",
     "output_type": "stream",
     "text": [
      "                                                                                             \r"
     ]
    },
    {
     "name": "stdout",
     "output_type": "stream",
     "text": [
      "Epoch 47/50 Train Loss: 0.5045  Val Loss: 0.5128  Train Acc: 0.7564  Val Acc: 0.7471\n"
     ]
    },
    {
     "name": "stderr",
     "output_type": "stream",
     "text": [
      "                                                                                             \r"
     ]
    },
    {
     "name": "stdout",
     "output_type": "stream",
     "text": [
      "Epoch 48/50 Train Loss: 0.4947  Val Loss: 0.5150  Train Acc: 0.7711  Val Acc: 0.7615\n"
     ]
    },
    {
     "name": "stderr",
     "output_type": "stream",
     "text": [
      "                                                                                             \r"
     ]
    },
    {
     "name": "stdout",
     "output_type": "stream",
     "text": [
      "Epoch 49/50 Train Loss: 0.5082  Val Loss: 0.5078  Train Acc: 0.7639  Val Acc: 0.7500\n"
     ]
    },
    {
     "name": "stderr",
     "output_type": "stream",
     "text": [
      "                                                                                             "
     ]
    },
    {
     "name": "stdout",
     "output_type": "stream",
     "text": [
      "Epoch 50/50 Train Loss: 0.4955  Val Loss: 0.5121  Train Acc: 0.7636  Val Acc: 0.7500\n"
     ]
    },
    {
     "name": "stderr",
     "output_type": "stream",
     "text": [
      "\r"
     ]
    }
   ],
   "source": [
    "num_epochs = 50\n",
    "\n",
    "# Trackers for plotting\n",
    "train_losses = []\n",
    "val_losses = []\n",
    "train_accuracies = []\n",
    "val_accuracies = []\n",
    "\n",
    "for epoch in range(num_epochs):\n",
    "    model.train()\n",
    "    total_train_loss = 0\n",
    "    correct_train = 0\n",
    "    total_train = 0\n",
    "\n",
    "    train_bar = tqdm(train_loader, desc=f\"Epoch {epoch+1}/{num_epochs} [Train]\", leave=False)\n",
    "    for images, labels in train_bar:\n",
    "        images = images.to(device)\n",
    "        labels = labels.to(device).float().unsqueeze(1)\n",
    "\n",
    "        outputs = model(images)\n",
    "        loss = criterion(outputs, labels)\n",
    "\n",
    "        optimizer.zero_grad()\n",
    "        loss.backward()\n",
    "        optimizer.step()\n",
    "\n",
    "        total_train_loss += loss.item()\n",
    "\n",
    "        preds = (outputs > 0.5).float()\n",
    "        correct_train += (preds == labels).sum().item()\n",
    "        total_train += labels.size(0)\n",
    "\n",
    "        train_bar.set_postfix(loss=f\"{total_train_loss / len(train_bar):.4f}\")\n",
    "\n",
    "    avg_train_loss = total_train_loss / len(train_loader)\n",
    "    train_accuracy = correct_train / total_train\n",
    "    train_losses.append(avg_train_loss)\n",
    "    train_accuracies.append(train_accuracy)\n",
    "\n",
    "    # Validation\n",
    "    model.eval()\n",
    "    total_val_loss = 0\n",
    "    correct_val = 0\n",
    "    total_val = 0\n",
    "\n",
    "    val_bar = tqdm(valid_loader, desc=f\"Epoch {epoch+1}/{num_epochs} [Val]  \", leave=False)\n",
    "    with torch.no_grad():\n",
    "        for val_images, val_labels in val_bar:\n",
    "            val_images = val_images.to(device)\n",
    "            val_labels = val_labels.to(device).float().unsqueeze(1)\n",
    "\n",
    "            val_outputs = model(val_images)\n",
    "            val_loss = criterion(val_outputs, val_labels)\n",
    "            total_val_loss += val_loss.item()\n",
    "\n",
    "            preds = (val_outputs > 0.5).float()\n",
    "            correct_val += (preds == val_labels).sum().item()\n",
    "            total_val += val_labels.size(0)\n",
    "\n",
    "            val_bar.set_postfix(loss=f\"{total_val_loss / len(val_bar):.4f}\",\n",
    "                                acc=f\"{correct_val / total_val:.4f}\")\n",
    "\n",
    "    avg_val_loss = total_val_loss / len(valid_loader)\n",
    "    val_accuracy = correct_val / total_val\n",
    "    val_losses.append(avg_val_loss)\n",
    "    val_accuracies.append(val_accuracy)\n",
    "\n",
    "    # Final summary print\n",
    "    print(f\"Epoch {epoch+1:02}/{num_epochs} \"\n",
    "          f\"Train Loss: {avg_train_loss:.4f}  \"\n",
    "          f\"Val Loss: {avg_val_loss:.4f}  \"\n",
    "          f\"Train Acc: {train_accuracy:.4f}  \"\n",
    "          f\"Val Acc: {val_accuracy:.4f}\")"
   ]
  },
  {
   "cell_type": "code",
   "execution_count": 37,
   "id": "484a42d6",
   "metadata": {
    "execution": {
     "iopub.execute_input": "2025-08-02T08:26:52.518922Z",
     "iopub.status.busy": "2025-08-02T08:26:52.518139Z",
     "iopub.status.idle": "2025-08-02T08:26:52.864963Z",
     "shell.execute_reply": "2025-08-02T08:26:52.864150Z"
    },
    "papermill": {
     "duration": 1.36432,
     "end_time": "2025-08-02T08:26:52.866150",
     "exception": false,
     "start_time": "2025-08-02T08:26:51.501830",
     "status": "completed"
    },
    "tags": []
   },
   "outputs": [
    {
     "data": {
      "image/png": "[encoded data removed]",
      "text/plain": [
       "<Figure size 640x480 with 1 Axes>"
      ]
     },
     "metadata": {},
     "output_type": "display_data"
    },
    {
     "data": {
      "image/png": "[encoded data removed]",
      "text/plain": [
       "<Figure size 640x480 with 1 Axes>"
      ]
     },
     "metadata": {},
     "output_type": "display_data"
    }
   ],
   "source": [
    "plt.plot(train_losses, label=\"Train Loss\")\n",
    "plt.plot(val_losses, label=\"Valid Loss\")\n",
    "plt.title('Loss vs. Epochs')\n",
    "plt.xlabel(\"Epochs\")\n",
    "plt.ylabel(\"Loss\")\n",
    "plt.legend()\n",
    "plt.show()\n",
    "\n",
    "plt.plot(train_accuracies, label=\"Train Accuracy\")\n",
    "plt.plot(val_accuracies, label=\"Valid Accuracy\")\n",
    "plt.title('Accuracy vs. Epochs')\n",
    "plt.xlabel(\"Epochs\") \n",
    "plt.ylabel(\"Accuracy\")\n",
    "plt.legend()\n",
    "plt.show()"
   ]
  },
  {
   "cell_type": "code",
   "execution_count": 38,
   "id": "667b808a",
   "metadata": {
    "execution": {
     "iopub.execute_input": "2025-08-02T08:26:54.959522Z",
     "iopub.status.busy": "2025-08-02T08:26:54.959245Z",
     "iopub.status.idle": "2025-08-02T08:26:56.259241Z",
     "shell.execute_reply": "2025-08-02T08:26:56.258631Z"
    },
    "papermill": {
     "duration": 2.335365,
     "end_time": "2025-08-02T08:26:56.260543",
     "exception": false,
     "start_time": "2025-08-02T08:26:53.925178",
     "status": "completed"
    },
    "tags": []
   },
   "outputs": [],
   "source": [
    "model.eval()\n",
    "all_preds = []\n",
    "all_labels = []\n",
    "\n",
    "with torch.no_grad():\n",
    "    for images, labels in test_loader:\n",
    "        images = images.to(device)\n",
    "        outputs = model(images)\n",
    "        all_preds.extend(outputs.cpu().numpy().flatten())\n",
    "        all_labels.extend(labels.cpu().numpy().flatten())\n",
    "\n",
    "pred_labels = (np.array(all_preds) > 0.5).astype(int)\n",
    "true_labels = np.array(all_labels).astype(int)"
   ]
  },
  {
   "cell_type": "code",
   "execution_count": 39,
   "id": "1506eada",
   "metadata": {
    "execution": {
     "iopub.execute_input": "2025-08-02T08:26:58.364183Z",
     "iopub.status.busy": "2025-08-02T08:26:58.363444Z",
     "iopub.status.idle": "2025-08-02T08:26:58.513620Z",
     "shell.execute_reply": "2025-08-02T08:26:58.512758Z"
    },
    "papermill": {
     "duration": 1.195389,
     "end_time": "2025-08-02T08:26:58.514768",
     "exception": false,
     "start_time": "2025-08-02T08:26:57.319379",
     "status": "completed"
    },
    "tags": []
   },
   "outputs": [
    {
     "name": "stdout",
     "output_type": "stream",
     "text": [
      "Confusion Matrix:\n",
      " [[56 30]\n",
      " [13 70]]\n",
      "\n",
      "Classification Report:\n",
      "               precision    recall  f1-score   support\n",
      "\n",
      "           0       0.81      0.65      0.72        86\n",
      "           1       0.70      0.84      0.77        83\n",
      "\n",
      "    accuracy                           0.75       169\n",
      "   macro avg       0.76      0.75      0.74       169\n",
      "weighted avg       0.76      0.75      0.74       169\n",
      "\n",
      "ROC AUC: 0.8199775847576352\n"
     ]
    },
    {
     "data": {
      "image/png": "[encoded data removed]",
      "text/plain": [
       "<Figure size 600x400 with 1 Axes>"
      ]
     },
     "metadata": {},
     "output_type": "display_data"
    }
   ],
   "source": [
    "print(\"Confusion Matrix:\\n\", confusion_matrix(true_labels, pred_labels))\n",
    "print(\"\\nClassification Report:\\n\", classification_report(true_labels, pred_labels))\n",
    "print(\"ROC AUC:\", roc_auc_score(true_labels, all_preds))\n",
    "\n",
    "# ROC curve\n",
    "fpr, tpr, thresholds = roc_curve(true_labels, all_preds)\n",
    "plt.figure(figsize=(6,4))\n",
    "plt.plot(fpr, tpr, label=f\"AUC={roc_auc_score(true_labels, all_preds):.2f}\")\n",
    "plt.xlabel(\"False Positive Rate\")\n",
    "plt.ylabel(\"True Positive Rate\")\n",
    "plt.title(\"ROC Curve\")\n",
    "plt.legend()\n",
    "plt.show()"
   ]
  },
  {
   "cell_type": "code",
   "execution_count": 40,
   "id": "6c6ad771",
   "metadata": {
    "execution": {
     "iopub.execute_input": "2025-08-02T08:27:00.655509Z",
     "iopub.status.busy": "2025-08-02T08:27:00.655222Z",
     "iopub.status.idle": "2025-08-02T08:27:00.660441Z",
     "shell.execute_reply": "2025-08-02T08:27:00.659950Z"
    },
    "papermill": {
     "duration": 1.05658,
     "end_time": "2025-08-02T08:27:00.661583",
     "exception": false,
     "start_time": "2025-08-02T08:26:59.605003",
     "status": "completed"
    },
    "tags": []
   },
   "outputs": [],
   "source": [
    "model=1"
   ]
  },
  {
   "cell_type": "markdown",
   "id": "bbcbdbca",
   "metadata": {
    "papermill": {
     "duration": 1.05109,
     "end_time": "2025-08-02T08:27:02.765903",
     "exception": false,
     "start_time": "2025-08-02T08:27:01.714813",
     "status": "completed"
    },
    "tags": []
   },
   "source": [
    "**EfficientNet B7**"
   ]
  },
  {
   "cell_type": "code",
   "execution_count": 41,
   "id": "2fce50e9",
   "metadata": {
    "execution": {
     "iopub.execute_input": "2025-08-02T08:27:04.839057Z",
     "iopub.status.busy": "2025-08-02T08:27:04.838755Z",
     "iopub.status.idle": "2025-08-02T08:27:07.770993Z",
     "shell.execute_reply": "2025-08-02T08:27:07.770185Z"
    },
    "papermill": {
     "duration": 3.975243,
     "end_time": "2025-08-02T08:27:07.772443",
     "exception": false,
     "start_time": "2025-08-02T08:27:03.797200",
     "status": "completed"
    },
    "tags": []
   },
   "outputs": [
    {
     "name": "stderr",
     "output_type": "stream",
     "text": [
      "/usr/local/lib/python3.11/dist-packages/torchvision/models/_utils.py:208: UserWarning: The parameter 'pretrained' is deprecated since 0.13 and may be removed in the future, please use 'weights' instead.\n",
      "  warnings.warn(\n",
      "/usr/local/lib/python3.11/dist-packages/torchvision/models/_utils.py:223: UserWarning: Arguments other than a weight enum or `None` for 'weights' are deprecated since 0.13 and may be removed in the future. The current behavior is equivalent to passing `weights=EfficientNet_B7_Weights.IMAGENET1K_V1`. You can also use `weights=EfficientNet_B7_Weights.DEFAULT` to get the most up-to-date weights.\n",
      "  warnings.warn(msg)\n",
      "Downloading: \"https://download.pytorch.org/models/efficientnet_b7_lukemelas-c5b4e57e.pth\" to /root/.cache/torch/hub/checkpoints/efficientnet_b7_lukemelas-c5b4e57e.pth\n",
      "100%|██████████| 255M/255M [00:01<00:00, 181MB/s]\n"
     ]
    }
   ],
   "source": [
    "device = torch.device(\"cuda\" if torch.cuda.is_available() else \"cpu\")\n",
    "\n",
    "model = models.efficientnet_b7(pretrained=True)\n",
    "\n",
    "for param in model.features.parameters():\n",
    "    param.requires_grad = False\n",
    "\n",
    "model.classifier = nn.Sequential(\n",
    "    #nn.Dropout(p=0.3),\n",
    "    nn.Linear(model.classifier[1].in_features, 1),\n",
    "    nn.Sigmoid()\n",
    ")\n",
    "model = model.to(device)\n",
    "\n",
    "criterion = nn.BCELoss()  # Binary Cross Entropy\n",
    "optimizer = torch.optim.Adam(model.parameters(), lr=1e-4, weight_decay=1e-5)"
   ]
  },
  {
   "cell_type": "code",
   "execution_count": 42,
   "id": "18d69632",
   "metadata": {
    "execution": {
     "iopub.execute_input": "2025-08-02T08:27:09.895058Z",
     "iopub.status.busy": "2025-08-02T08:27:09.894755Z",
     "iopub.status.idle": "2025-08-02T08:56:55.309698Z",
     "shell.execute_reply": "2025-08-02T08:56:55.308977Z"
    },
    "papermill": {
     "duration": 1786.486482,
     "end_time": "2025-08-02T08:56:55.311283",
     "exception": false,
     "start_time": "2025-08-02T08:27:08.824801",
     "status": "completed"
    },
    "tags": []
   },
   "outputs": [
    {
     "name": "stderr",
     "output_type": "stream",
     "text": [
      "                                                                                            \r"
     ]
    },
    {
     "name": "stdout",
     "output_type": "stream",
     "text": [
      "Epoch 01/50 Train Loss: 0.6867  Val Loss: 0.6782  Train Acc: 0.5486  Val Acc: 0.6006\n"
     ]
    },
    {
     "name": "stderr",
     "output_type": "stream",
     "text": [
      "                                                                                            \r"
     ]
    },
    {
     "name": "stdout",
     "output_type": "stream",
     "text": [
      "Epoch 02/50 Train Loss: 0.6719  Val Loss: 0.6682  Train Acc: 0.6278  Val Acc: 0.6293\n"
     ]
    },
    {
     "name": "stderr",
     "output_type": "stream",
     "text": [
      "                                                                                            \r"
     ]
    },
    {
     "name": "stdout",
     "output_type": "stream",
     "text": [
      "Epoch 03/50 Train Loss: 0.6591  Val Loss: 0.6603  Train Acc: 0.6614  Val Acc: 0.6466\n"
     ]
    },
    {
     "name": "stderr",
     "output_type": "stream",
     "text": [
      "                                                                                            \r"
     ]
    },
    {
     "name": "stdout",
     "output_type": "stream",
     "text": [
      "Epoch 04/50 Train Loss: 0.6472  Val Loss: 0.6524  Train Acc: 0.6635  Val Acc: 0.6609\n"
     ]
    },
    {
     "name": "stderr",
     "output_type": "stream",
     "text": [
      "                                                                                            \r"
     ]
    },
    {
     "name": "stdout",
     "output_type": "stream",
     "text": [
      "Epoch 05/50 Train Loss: 0.6365  Val Loss: 0.6452  Train Acc: 0.6863  Val Acc: 0.6609\n"
     ]
    },
    {
     "name": "stderr",
     "output_type": "stream",
     "text": [
      "                                                                                            \r"
     ]
    },
    {
     "name": "stdout",
     "output_type": "stream",
     "text": [
      "Epoch 06/50 Train Loss: 0.6300  Val Loss: 0.6354  Train Acc: 0.6926  Val Acc: 0.6782\n"
     ]
    },
    {
     "name": "stderr",
     "output_type": "stream",
     "text": [
      "                                                                                            \r"
     ]
    },
    {
     "name": "stdout",
     "output_type": "stream",
     "text": [
      "Epoch 07/50 Train Loss: 0.6218  Val Loss: 0.6292  Train Acc: 0.7040  Val Acc: 0.6868\n"
     ]
    },
    {
     "name": "stderr",
     "output_type": "stream",
     "text": [
      "                                                                                            \r"
     ]
    },
    {
     "name": "stdout",
     "output_type": "stream",
     "text": [
      "Epoch 08/50 Train Loss: 0.6136  Val Loss: 0.6225  Train Acc: 0.7049  Val Acc: 0.6954\n"
     ]
    },
    {
     "name": "stderr",
     "output_type": "stream",
     "text": [
      "                                                                                            \r"
     ]
    },
    {
     "name": "stdout",
     "output_type": "stream",
     "text": [
      "Epoch 09/50 Train Loss: 0.6062  Val Loss: 0.6197  Train Acc: 0.7187  Val Acc: 0.6983\n"
     ]
    },
    {
     "name": "stderr",
     "output_type": "stream",
     "text": [
      "                                                                                             \r"
     ]
    },
    {
     "name": "stdout",
     "output_type": "stream",
     "text": [
      "Epoch 10/50 Train Loss: 0.5999  Val Loss: 0.6178  Train Acc: 0.7157  Val Acc: 0.7011\n"
     ]
    },
    {
     "name": "stderr",
     "output_type": "stream",
     "text": [
      "                                                                                             \r"
     ]
    },
    {
     "name": "stdout",
     "output_type": "stream",
     "text": [
      "Epoch 11/50 Train Loss: 0.5939  Val Loss: 0.6146  Train Acc: 0.7091  Val Acc: 0.6983\n"
     ]
    },
    {
     "name": "stderr",
     "output_type": "stream",
     "text": [
      "                                                                                             \r"
     ]
    },
    {
     "name": "stdout",
     "output_type": "stream",
     "text": [
      "Epoch 12/50 Train Loss: 0.5939  Val Loss: 0.6127  Train Acc: 0.7166  Val Acc: 0.6925\n"
     ]
    },
    {
     "name": "stderr",
     "output_type": "stream",
     "text": [
      "                                                                                             \r"
     ]
    },
    {
     "name": "stdout",
     "output_type": "stream",
     "text": [
      "Epoch 13/50 Train Loss: 0.5830  Val Loss: 0.6096  Train Acc: 0.7316  Val Acc: 0.6925\n"
     ]
    },
    {
     "name": "stderr",
     "output_type": "stream",
     "text": [
      "                                                                                             \r"
     ]
    },
    {
     "name": "stdout",
     "output_type": "stream",
     "text": [
      "Epoch 14/50 Train Loss: 0.5809  Val Loss: 0.6074  Train Acc: 0.7259  Val Acc: 0.6925\n"
     ]
    },
    {
     "name": "stderr",
     "output_type": "stream",
     "text": [
      "                                                                                             \r"
     ]
    },
    {
     "name": "stdout",
     "output_type": "stream",
     "text": [
      "Epoch 15/50 Train Loss: 0.5769  Val Loss: 0.6048  Train Acc: 0.7295  Val Acc: 0.7040\n"
     ]
    },
    {
     "name": "stderr",
     "output_type": "stream",
     "text": [
      "                                                                                             \r"
     ]
    },
    {
     "name": "stdout",
     "output_type": "stream",
     "text": [
      "Epoch 16/50 Train Loss: 0.5710  Val Loss: 0.6030  Train Acc: 0.7340  Val Acc: 0.7011\n"
     ]
    },
    {
     "name": "stderr",
     "output_type": "stream",
     "text": [
      "                                                                                             \r"
     ]
    },
    {
     "name": "stdout",
     "output_type": "stream",
     "text": [
      "Epoch 17/50 Train Loss: 0.5691  Val Loss: 0.6010  Train Acc: 0.7415  Val Acc: 0.7040\n"
     ]
    },
    {
     "name": "stderr",
     "output_type": "stream",
     "text": [
      "                                                                                             \r"
     ]
    },
    {
     "name": "stdout",
     "output_type": "stream",
     "text": [
      "Epoch 18/50 Train Loss: 0.5649  Val Loss: 0.5984  Train Acc: 0.7376  Val Acc: 0.7040\n"
     ]
    },
    {
     "name": "stderr",
     "output_type": "stream",
     "text": [
      "                                                                                             \r"
     ]
    },
    {
     "name": "stdout",
     "output_type": "stream",
     "text": [
      "Epoch 19/50 Train Loss: 0.5619  Val Loss: 0.5967  Train Acc: 0.7451  Val Acc: 0.7040\n"
     ]
    },
    {
     "name": "stderr",
     "output_type": "stream",
     "text": [
      "                                                                                             \r"
     ]
    },
    {
     "name": "stdout",
     "output_type": "stream",
     "text": [
      "Epoch 20/50 Train Loss: 0.5640  Val Loss: 0.5950  Train Acc: 0.7307  Val Acc: 0.7126\n"
     ]
    },
    {
     "name": "stderr",
     "output_type": "stream",
     "text": [
      "                                                                                             \r"
     ]
    },
    {
     "name": "stdout",
     "output_type": "stream",
     "text": [
      "Epoch 21/50 Train Loss: 0.5571  Val Loss: 0.5941  Train Acc: 0.7406  Val Acc: 0.7098\n"
     ]
    },
    {
     "name": "stderr",
     "output_type": "stream",
     "text": [
      "                                                                                             \r"
     ]
    },
    {
     "name": "stdout",
     "output_type": "stream",
     "text": [
      "Epoch 22/50 Train Loss: 0.5568  Val Loss: 0.5926  Train Acc: 0.7325  Val Acc: 0.7155\n"
     ]
    },
    {
     "name": "stderr",
     "output_type": "stream",
     "text": [
      "                                                                                             \r"
     ]
    },
    {
     "name": "stdout",
     "output_type": "stream",
     "text": [
      "Epoch 23/50 Train Loss: 0.5495  Val Loss: 0.5915  Train Acc: 0.7394  Val Acc: 0.7098\n"
     ]
    },
    {
     "name": "stderr",
     "output_type": "stream",
     "text": [
      "                                                                                             \r"
     ]
    },
    {
     "name": "stdout",
     "output_type": "stream",
     "text": [
      "Epoch 24/50 Train Loss: 0.5493  Val Loss: 0.5906  Train Acc: 0.7385  Val Acc: 0.7069\n"
     ]
    },
    {
     "name": "stderr",
     "output_type": "stream",
     "text": [
      "                                                                                             \r"
     ]
    },
    {
     "name": "stdout",
     "output_type": "stream",
     "text": [
      "Epoch 25/50 Train Loss: 0.5469  Val Loss: 0.5894  Train Acc: 0.7430  Val Acc: 0.7040\n"
     ]
    },
    {
     "name": "stderr",
     "output_type": "stream",
     "text": [
      "                                                                                             \r"
     ]
    },
    {
     "name": "stdout",
     "output_type": "stream",
     "text": [
      "Epoch 26/50 Train Loss: 0.5452  Val Loss: 0.5875  Train Acc: 0.7430  Val Acc: 0.7155\n"
     ]
    },
    {
     "name": "stderr",
     "output_type": "stream",
     "text": [
      "                                                                                             \r"
     ]
    },
    {
     "name": "stdout",
     "output_type": "stream",
     "text": [
      "Epoch 27/50 Train Loss: 0.5389  Val Loss: 0.5864  Train Acc: 0.7484  Val Acc: 0.7155\n"
     ]
    },
    {
     "name": "stderr",
     "output_type": "stream",
     "text": [
      "                                                                                             \r"
     ]
    },
    {
     "name": "stdout",
     "output_type": "stream",
     "text": [
      "Epoch 28/50 Train Loss: 0.5455  Val Loss: 0.5863  Train Acc: 0.7427  Val Acc: 0.7040\n"
     ]
    },
    {
     "name": "stderr",
     "output_type": "stream",
     "text": [
      "                                                                                             \r"
     ]
    },
    {
     "name": "stdout",
     "output_type": "stream",
     "text": [
      "Epoch 29/50 Train Loss: 0.5349  Val Loss: 0.5847  Train Acc: 0.7519  Val Acc: 0.7098\n"
     ]
    },
    {
     "name": "stderr",
     "output_type": "stream",
     "text": [
      "                                                                                             \r"
     ]
    },
    {
     "name": "stdout",
     "output_type": "stream",
     "text": [
      "Epoch 30/50 Train Loss: 0.5422  Val Loss: 0.5841  Train Acc: 0.7457  Val Acc: 0.7098\n"
     ]
    },
    {
     "name": "stderr",
     "output_type": "stream",
     "text": [
      "                                                                                             \r"
     ]
    },
    {
     "name": "stdout",
     "output_type": "stream",
     "text": [
      "Epoch 31/50 Train Loss: 0.5313  Val Loss: 0.5828  Train Acc: 0.7525  Val Acc: 0.7126\n"
     ]
    },
    {
     "name": "stderr",
     "output_type": "stream",
     "text": [
      "                                                                                             \r"
     ]
    },
    {
     "name": "stdout",
     "output_type": "stream",
     "text": [
      "Epoch 32/50 Train Loss: 0.5330  Val Loss: 0.5833  Train Acc: 0.7454  Val Acc: 0.7155\n"
     ]
    },
    {
     "name": "stderr",
     "output_type": "stream",
     "text": [
      "                                                                                             \r"
     ]
    },
    {
     "name": "stdout",
     "output_type": "stream",
     "text": [
      "Epoch 33/50 Train Loss: 0.5287  Val Loss: 0.5823  Train Acc: 0.7555  Val Acc: 0.7098\n"
     ]
    },
    {
     "name": "stderr",
     "output_type": "stream",
     "text": [
      "                                                                                             \r"
     ]
    },
    {
     "name": "stdout",
     "output_type": "stream",
     "text": [
      "Epoch 34/50 Train Loss: 0.5284  Val Loss: 0.5821  Train Acc: 0.7537  Val Acc: 0.7011\n"
     ]
    },
    {
     "name": "stderr",
     "output_type": "stream",
     "text": [
      "                                                                                             \r"
     ]
    },
    {
     "name": "stdout",
     "output_type": "stream",
     "text": [
      "Epoch 35/50 Train Loss: 0.5308  Val Loss: 0.5810  Train Acc: 0.7442  Val Acc: 0.7069\n"
     ]
    },
    {
     "name": "stderr",
     "output_type": "stream",
     "text": [
      "                                                                                             \r"
     ]
    },
    {
     "name": "stdout",
     "output_type": "stream",
     "text": [
      "Epoch 36/50 Train Loss: 0.5249  Val Loss: 0.5811  Train Acc: 0.7490  Val Acc: 0.7040\n"
     ]
    },
    {
     "name": "stderr",
     "output_type": "stream",
     "text": [
      "                                                                                             \r"
     ]
    },
    {
     "name": "stdout",
     "output_type": "stream",
     "text": [
      "Epoch 37/50 Train Loss: 0.5237  Val Loss: 0.5803  Train Acc: 0.7513  Val Acc: 0.7126\n"
     ]
    },
    {
     "name": "stderr",
     "output_type": "stream",
     "text": [
      "                                                                                             \r"
     ]
    },
    {
     "name": "stdout",
     "output_type": "stream",
     "text": [
      "Epoch 38/50 Train Loss: 0.5254  Val Loss: 0.5801  Train Acc: 0.7540  Val Acc: 0.6954\n"
     ]
    },
    {
     "name": "stderr",
     "output_type": "stream",
     "text": [
      "                                                                                             \r"
     ]
    },
    {
     "name": "stdout",
     "output_type": "stream",
     "text": [
      "Epoch 39/50 Train Loss: 0.5208  Val Loss: 0.5803  Train Acc: 0.7549  Val Acc: 0.7069\n"
     ]
    },
    {
     "name": "stderr",
     "output_type": "stream",
     "text": [
      "                                                                                             \r"
     ]
    },
    {
     "name": "stdout",
     "output_type": "stream",
     "text": [
      "Epoch 40/50 Train Loss: 0.5245  Val Loss: 0.5799  Train Acc: 0.7516  Val Acc: 0.7126\n"
     ]
    },
    {
     "name": "stderr",
     "output_type": "stream",
     "text": [
      "                                                                                             \r"
     ]
    },
    {
     "name": "stdout",
     "output_type": "stream",
     "text": [
      "Epoch 41/50 Train Loss: 0.5197  Val Loss: 0.5790  Train Acc: 0.7552  Val Acc: 0.7069\n"
     ]
    },
    {
     "name": "stderr",
     "output_type": "stream",
     "text": [
      "                                                                                             \r"
     ]
    },
    {
     "name": "stdout",
     "output_type": "stream",
     "text": [
      "Epoch 42/50 Train Loss: 0.5208  Val Loss: 0.5793  Train Acc: 0.7654  Val Acc: 0.7069\n"
     ]
    },
    {
     "name": "stderr",
     "output_type": "stream",
     "text": [
      "                                                                                             \r"
     ]
    },
    {
     "name": "stdout",
     "output_type": "stream",
     "text": [
      "Epoch 43/50 Train Loss: 0.5166  Val Loss: 0.5789  Train Acc: 0.7549  Val Acc: 0.7126\n"
     ]
    },
    {
     "name": "stderr",
     "output_type": "stream",
     "text": [
      "                                                                                             \r"
     ]
    },
    {
     "name": "stdout",
     "output_type": "stream",
     "text": [
      "Epoch 44/50 Train Loss: 0.5135  Val Loss: 0.5785  Train Acc: 0.7600  Val Acc: 0.7155\n"
     ]
    },
    {
     "name": "stderr",
     "output_type": "stream",
     "text": [
      "                                                                                             \r"
     ]
    },
    {
     "name": "stdout",
     "output_type": "stream",
     "text": [
      "Epoch 45/50 Train Loss: 0.5155  Val Loss: 0.5805  Train Acc: 0.7627  Val Acc: 0.7098\n"
     ]
    },
    {
     "name": "stderr",
     "output_type": "stream",
     "text": [
      "                                                                                             \r"
     ]
    },
    {
     "name": "stdout",
     "output_type": "stream",
     "text": [
      "Epoch 46/50 Train Loss: 0.5088  Val Loss: 0.5804  Train Acc: 0.7615  Val Acc: 0.7069\n"
     ]
    },
    {
     "name": "stderr",
     "output_type": "stream",
     "text": [
      "                                                                                             \r"
     ]
    },
    {
     "name": "stdout",
     "output_type": "stream",
     "text": [
      "Epoch 47/50 Train Loss: 0.5139  Val Loss: 0.5806  Train Acc: 0.7534  Val Acc: 0.7098\n"
     ]
    },
    {
     "name": "stderr",
     "output_type": "stream",
     "text": [
      "                                                                                             \r"
     ]
    },
    {
     "name": "stdout",
     "output_type": "stream",
     "text": [
      "Epoch 48/50 Train Loss: 0.5104  Val Loss: 0.5800  Train Acc: 0.7672  Val Acc: 0.7126\n"
     ]
    },
    {
     "name": "stderr",
     "output_type": "stream",
     "text": [
      "                                                                                             \r"
     ]
    },
    {
     "name": "stdout",
     "output_type": "stream",
     "text": [
      "Epoch 49/50 Train Loss: 0.5032  Val Loss: 0.5799  Train Acc: 0.7705  Val Acc: 0.7040\n"
     ]
    },
    {
     "name": "stderr",
     "output_type": "stream",
     "text": [
      "                                                                                             "
     ]
    },
    {
     "name": "stdout",
     "output_type": "stream",
     "text": [
      "Epoch 50/50 Train Loss: 0.5099  Val Loss: 0.5799  Train Acc: 0.7567  Val Acc: 0.7040\n"
     ]
    },
    {
     "name": "stderr",
     "output_type": "stream",
     "text": [
      "\r"
     ]
    }
   ],
   "source": [
    "num_epochs = 50\n",
    "\n",
    "# Trackers for plotting\n",
    "train_losses = []\n",
    "val_losses = []\n",
    "train_accuracies = []\n",
    "val_accuracies = []\n",
    "\n",
    "for epoch in range(num_epochs):\n",
    "    model.train()\n",
    "    total_train_loss = 0\n",
    "    correct_train = 0\n",
    "    total_train = 0\n",
    "\n",
    "    train_bar = tqdm(train_loader, desc=f\"Epoch {epoch+1}/{num_epochs} [Train]\", leave=False)\n",
    "    for images, labels in train_bar:\n",
    "        images = images.to(device)\n",
    "        labels = labels.to(device).float().unsqueeze(1)\n",
    "\n",
    "        outputs = model(images)\n",
    "        loss = criterion(outputs, labels)\n",
    "\n",
    "        optimizer.zero_grad()\n",
    "        loss.backward()\n",
    "        optimizer.step()\n",
    "\n",
    "        total_train_loss += loss.item()\n",
    "\n",
    "        preds = (outputs > 0.5).float()\n",
    "        correct_train += (preds == labels).sum().item()\n",
    "        total_train += labels.size(0)\n",
    "\n",
    "        train_bar.set_postfix(loss=f\"{total_train_loss / len(train_bar):.4f}\")\n",
    "\n",
    "    avg_train_loss = total_train_loss / len(train_loader)\n",
    "    train_accuracy = correct_train / total_train\n",
    "    train_losses.append(avg_train_loss)\n",
    "    train_accuracies.append(train_accuracy)\n",
    "\n",
    "    # Validation\n",
    "    model.eval()\n",
    "    total_val_loss = 0\n",
    "    correct_val = 0\n",
    "    total_val = 0\n",
    "\n",
    "    val_bar = tqdm(valid_loader, desc=f\"Epoch {epoch+1}/{num_epochs} [Val]  \", leave=False)\n",
    "    with torch.no_grad():\n",
    "        for val_images, val_labels in val_bar:\n",
    "            val_images = val_images.to(device)\n",
    "            val_labels = val_labels.to(device).float().unsqueeze(1)\n",
    "\n",
    "            val_outputs = model(val_images)\n",
    "            val_loss = criterion(val_outputs, val_labels)\n",
    "            total_val_loss += val_loss.item()\n",
    "\n",
    "            preds = (val_outputs > 0.5).float()\n",
    "            correct_val += (preds == val_labels).sum().item()\n",
    "            total_val += val_labels.size(0)\n",
    "\n",
    "            val_bar.set_postfix(loss=f\"{total_val_loss / len(val_bar):.4f}\",\n",
    "                                acc=f\"{correct_val / total_val:.4f}\")\n",
    "\n",
    "    avg_val_loss = total_val_loss / len(valid_loader)\n",
    "    val_accuracy = correct_val / total_val\n",
    "    val_losses.append(avg_val_loss)\n",
    "    val_accuracies.append(val_accuracy)\n",
    "\n",
    "    # Final summary print\n",
    "    print(f\"Epoch {epoch+1:02}/{num_epochs} \"\n",
    "          f\"Train Loss: {avg_train_loss:.4f}  \"\n",
    "          f\"Val Loss: {avg_val_loss:.4f}  \"\n",
    "          f\"Train Acc: {train_accuracy:.4f}  \"\n",
    "          f\"Val Acc: {val_accuracy:.4f}\")"
   ]
  },
  {
   "cell_type": "code",
   "execution_count": 43,
   "id": "ec1a7257",
   "metadata": {
    "execution": {
     "iopub.execute_input": "2025-08-02T08:56:58.409763Z",
     "iopub.status.busy": "2025-08-02T08:56:58.409039Z",
     "iopub.status.idle": "2025-08-02T08:56:58.706489Z",
     "shell.execute_reply": "2025-08-02T08:56:58.705832Z"
    },
    "papermill": {
     "duration": 1.823289,
     "end_time": "2025-08-02T08:56:58.707695",
     "exception": false,
     "start_time": "2025-08-02T08:56:56.884406",
     "status": "completed"
    },
    "tags": []
   },
   "outputs": [
    {
     "data": {
      "image/png": "[encoded data removed]",
      "text/plain": [
       "<Figure size 640x480 with 1 Axes>"
      ]
     },
     "metadata": {},
     "output_type": "display_data"
    },
    {
     "data": {
      "image/png": "[encoded data removed]",
      "text/plain": [
       "<Figure size 640x480 with 1 Axes>"
      ]
     },
     "metadata": {},
     "output_type": "display_data"
    }
   ],
   "source": [
    "plt.plot(train_losses, label=\"Train Loss\")\n",
    "plt.plot(val_losses, label=\"Valid Loss\")\n",
    "plt.title('Loss vs. Epochs')\n",
    "plt.xlabel(\"Epochs\")\n",
    "plt.ylabel(\"Loss\")\n",
    "plt.legend()\n",
    "plt.show()\n",
    "\n",
    "plt.plot(train_accuracies, label=\"Train Accuracy\")\n",
    "plt.plot(val_accuracies, label=\"Valid Accuracy\")\n",
    "plt.title('Accuracy vs. Epochs')\n",
    "plt.xlabel(\"Epochs\") \n",
    "plt.ylabel(\"Accuracy\")\n",
    "plt.legend()\n",
    "plt.show()"
   ]
  },
  {
   "cell_type": "code",
   "execution_count": 44,
   "id": "57f66082",
   "metadata": {
    "execution": {
     "iopub.execute_input": "2025-08-02T08:57:01.808101Z",
     "iopub.status.busy": "2025-08-02T08:57:01.807834Z",
     "iopub.status.idle": "2025-08-02T08:57:03.344396Z",
     "shell.execute_reply": "2025-08-02T08:57:03.343818Z"
    },
    "papermill": {
     "duration": 3.064914,
     "end_time": "2025-08-02T08:57:03.345607",
     "exception": false,
     "start_time": "2025-08-02T08:57:00.280693",
     "status": "completed"
    },
    "tags": []
   },
   "outputs": [],
   "source": [
    "model.eval()\n",
    "all_preds = []\n",
    "all_labels = []\n",
    "\n",
    "with torch.no_grad():\n",
    "    for images, labels in test_loader:\n",
    "        images = images.to(device)\n",
    "        outputs = model(images)\n",
    "        all_preds.extend(outputs.cpu().numpy().flatten())\n",
    "        all_labels.extend(labels.cpu().numpy().flatten())\n",
    "\n",
    "pred_labels = (np.array(all_preds) > 0.5).astype(int)\n",
    "true_labels = np.array(all_labels).astype(int)"
   ]
  },
  {
   "cell_type": "code",
   "execution_count": 45,
   "id": "7b8c709f",
   "metadata": {
    "execution": {
     "iopub.execute_input": "2025-08-02T08:57:06.475562Z",
     "iopub.status.busy": "2025-08-02T08:57:06.474858Z",
     "iopub.status.idle": "2025-08-02T08:57:06.615412Z",
     "shell.execute_reply": "2025-08-02T08:57:06.614679Z"
    },
    "papermill": {
     "duration": 1.751239,
     "end_time": "2025-08-02T08:57:06.616416",
     "exception": false,
     "start_time": "2025-08-02T08:57:04.865177",
     "status": "completed"
    },
    "tags": []
   },
   "outputs": [
    {
     "name": "stdout",
     "output_type": "stream",
     "text": [
      "Confusion Matrix:\n",
      " [[54 32]\n",
      " [30 53]]\n",
      "\n",
      "Classification Report:\n",
      "               precision    recall  f1-score   support\n",
      "\n",
      "           0       0.64      0.63      0.64        86\n",
      "           1       0.62      0.64      0.63        83\n",
      "\n",
      "    accuracy                           0.63       169\n",
      "   macro avg       0.63      0.63      0.63       169\n",
      "weighted avg       0.63      0.63      0.63       169\n",
      "\n",
      "ROC AUC: 0.7036985149901933\n"
     ]
    },
    {
     "data": {
      "image/png": "[encoded data removed]",
      "text/plain": [
       "<Figure size 600x400 with 1 Axes>"
      ]
     },
     "metadata": {},
     "output_type": "display_data"
    }
   ],
   "source": [
    "print(\"Confusion Matrix:\\n\", confusion_matrix(true_labels, pred_labels))\n",
    "print(\"\\nClassification Report:\\n\", classification_report(true_labels, pred_labels))\n",
    "print(\"ROC AUC:\", roc_auc_score(true_labels, all_preds))\n",
    "\n",
    "# ROC curve\n",
    "fpr, tpr, thresholds = roc_curve(true_labels, all_preds)\n",
    "plt.figure(figsize=(6,4))\n",
    "plt.plot(fpr, tpr, label=f\"AUC={roc_auc_score(true_labels, all_preds):.2f}\")\n",
    "plt.xlabel(\"False Positive Rate\")\n",
    "plt.ylabel(\"True Positive Rate\")\n",
    "plt.title(\"ROC Curve\")\n",
    "plt.legend()\n",
    "plt.show()"
   ]
  },
  {
   "cell_type": "code",
   "execution_count": 46,
   "id": "e9cb1e55",
   "metadata": {
    "execution": {
     "iopub.execute_input": "2025-08-02T08:57:09.711441Z",
     "iopub.status.busy": "2025-08-02T08:57:09.711172Z",
     "iopub.status.idle": "2025-08-02T08:57:09.717223Z",
     "shell.execute_reply": "2025-08-02T08:57:09.716711Z"
    },
    "papermill": {
     "duration": 1.564518,
     "end_time": "2025-08-02T08:57:09.718296",
     "exception": false,
     "start_time": "2025-08-02T08:57:08.153778",
     "status": "completed"
    },
    "tags": []
   },
   "outputs": [],
   "source": [
    "model = 1"
   ]
  },
  {
   "cell_type": "code",
   "execution_count": null,
   "id": "77b3cc93",
   "metadata": {
    "papermill": {
     "duration": 1.513278,
     "end_time": "2025-08-02T08:57:12.759406",
     "exception": false,
     "start_time": "2025-08-02T08:57:11.246128",
     "status": "completed"
    },
    "tags": []
   },
   "outputs": [],
   "source": []
  }
 ],
 "metadata": {
  "kaggle": {
   "accelerator": "nvidiaTeslaT4",
   "dataSources": [
    {
     "datasetId": 4296838,
     "sourceId": 8961495,
     "sourceType": "datasetVersion"
    }
   ],
   "dockerImageVersionId": 31089,
   "isGpuEnabled": true,
   "isInternetEnabled": true,
   "language": "python",
   "sourceType": "notebook"
  },
  "kernelspec": {
   "display_name": "Python 3",
   "language": "python",
   "name": "python3"
  },
  "language_info": {
   "codemirror_mode": {
    "name": "ipython",
    "version": 3
   },
   "file_extension": ".py",
   "mimetype": "text/x-python",
   "name": "python",
   "nbconvert_exporter": "python",
   "pygments_lexer": "ipython3",
   "version": "3.11.13"
  },
  "papermill": {
   "default_parameters": {},
   "duration": 3907.121807,
   "end_time": "2025-08-02T08:57:17.414757",
   "environment_variables": {},
   "exception": null,
   "input_path": "__notebook__.ipynb",
   "output_path": "__notebook__.ipynb",
   "parameters": {},
   "start_time": "2025-08-02T07:52:10.292950",
   "version": "2.6.0"
  }
 },
 "nbformat": 4,
 "nbformat_minor": 5
}
