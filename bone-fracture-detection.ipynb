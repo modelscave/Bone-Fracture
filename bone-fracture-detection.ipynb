{
 "cells": [
  {
   "cell_type": "code",
   "execution_count": 1,
   "id": "6ffa480e",
   "metadata": {
    "_cell_guid": "b1076dfc-b9ad-4769-8c92-a6c4dae69d19",
    "_uuid": "8f2839f25d086af736a60e9eeb907d3b93b6e0e5",
    "execution": {
     "iopub.execute_input": "2025-07-16T13:53:09.748928Z",
     "iopub.status.busy": "2025-07-16T13:53:09.748668Z",
     "iopub.status.idle": "2025-07-16T13:53:32.464854Z",
     "shell.execute_reply": "2025-07-16T13:53:32.464142Z"
    },
    "papermill": {
     "duration": 22.726957,
     "end_time": "2025-07-16T13:53:32.466525",
     "exception": false,
     "start_time": "2025-07-16T13:53:09.739568",
     "status": "completed"
    },
    "tags": []
   },
   "outputs": [],
   "source": [
    "# This Python 3 environment comes with many helpful analytics libraries installed\n",
    "# It is defined by the kaggle/python Docker image: https://github.com/kaggle/docker-python\n",
    "# For example, here's several helpful packages to load\n",
    "\n",
    "import numpy as np # linear algebra\n",
    "from collections import defaultdict\n",
    "import pandas as pd # data processing, CSV file I/O (e.g. pd.read_csv)\n",
    "import os \n",
    "import random\n",
    "import cv2\n",
    "from collections import Counter\n",
    "import tensorflow as tf\n",
    "import seaborn as sns\n",
    "import matplotlib.pyplot as plt\n",
    "from sklearn.preprocessing import LabelEncoder\n",
    "from tensorflow.keras.utils import load_img,img_to_array,to_categorical\n",
    "from tensorflow.keras.preprocessing.image import ImageDataGenerator\n",
    "from tensorflow.keras.applications import ResNet152, EfficientNetB0\n",
    "from tensorflow.keras.models import Sequential\n",
    "from tensorflow.keras import Input\n",
    "from tensorflow.keras import layers, models, callbacks\n",
    "from tensorflow.keras.layers import Dense, Flatten, Conv2D, MaxPool2D, AveragePooling2D, GlobalAveragePooling2D\n",
    "from tensorflow.keras.callbacks import EarlyStopping\n",
    "from sklearn.metrics import classification_report\n",
    "\n",
    "# Input data files are available in the read-only \"../input/\" directory\n",
    "# For example, running this (by clicking run or pressing Shift+Enter) will list all files under the input directory\n",
    "\n",
    "# import os\n",
    "# for dirname, _, filenames in os.walk('/kaggle/input'):\n",
    "#     for filename in filenames:\n",
    "#         print(os.path.join(dirname, filename))\n",
    "\n",
    "# You can write up to 20GB to the current directory (/kaggle/working/) that gets preserved as output when you create a version using \"Save & Run All\" \n",
    "# You can also write temporary files to /kaggle/temp/, but they won't be saved outside of the current session"
   ]
  },
  {
   "cell_type": "code",
   "execution_count": 2,
   "id": "12a382e2",
   "metadata": {
    "execution": {
     "iopub.execute_input": "2025-07-16T13:53:32.484373Z",
     "iopub.status.busy": "2025-07-16T13:53:32.483907Z",
     "iopub.status.idle": "2025-07-16T13:54:56.497904Z",
     "shell.execute_reply": "2025-07-16T13:54:56.496969Z"
    },
    "papermill": {
     "duration": 84.032408,
     "end_time": "2025-07-16T13:54:56.507537",
     "exception": false,
     "start_time": "2025-07-16T13:53:32.475129",
     "status": "completed"
    },
    "tags": []
   },
   "outputs": [
    {
     "name": "stdout",
     "output_type": "stream",
     "text": [
      "Loaded 3631 images, 3631 class labels, and 3631 sets of polygons.\n",
      "Loaded 348 images, 348 class labels, and 348 sets of polygons.\n",
      "Loaded 169 images, 169 class labels, and 169 sets of polygons.\n"
     ]
    }
   ],
   "source": [
    "TRAIN_IMAGE_DIR = '/kaggle/input/bone-fracture-detection-computer-vision-project/BoneFractureYolo8/train/images'\n",
    "TRAIN_LABEL_DIR = '/kaggle/input/bone-fracture-detection-computer-vision-project/BoneFractureYolo8/train/labels'\n",
    "VALID_IMAGE_DIR = '/kaggle/input/bone-fracture-detection-computer-vision-project/BoneFractureYolo8/valid/images'\n",
    "VALID_LABEL_DIR = '/kaggle/input/bone-fracture-detection-computer-vision-project/BoneFractureYolo8/valid/labels'\n",
    "TEST_IMAGE_DIR = '/kaggle/input/bone-fracture-detection-computer-vision-project/BoneFractureYolo8/test/images'\n",
    "TEST_LABEL_DIR = '/kaggle/input/bone-fracture-detection-computer-vision-project/BoneFractureYolo8/test/labels'\n",
    "\n",
    "TARGET_SIZE = [224, 224]\n",
    "\n",
    "def load_images_and_labels(image_dir, label_dir):\n",
    "    images = []\n",
    "    class_labels = []\n",
    "    polygons_list = []\n",
    "\n",
    "    for img_name in os.listdir(image_dir):\n",
    "        if img_name.endswith(\".jpg\") or img_name.endswith(\".png\"):\n",
    "            img_path = os.path.join(image_dir, img_name)\n",
    "            image = cv2.imread(img_path)\n",
    "            image = cv2.resize(image, TARGET_SIZE)\n",
    "            image = cv2.cvtColor(image, cv2.COLOR_BGR2RGB)\n",
    "\n",
    "            # Normalize\n",
    "            image = image.astype(np.float32) / 255.0\n",
    "\n",
    "            label_path = os.path.join(label_dir, img_name.replace(\".jpg\", \".txt\").replace(\".png\", \".txt\"))\n",
    "            polygons = []\n",
    "            classes = []\n",
    "\n",
    "            if os.path.exists(label_path):\n",
    "                with open(label_path, \"r\") as f:\n",
    "                    lines = f.read().strip().split(\"\\n\")\n",
    "                for line in lines:\n",
    "                    components = line.strip().split()\n",
    "                    if len(components) > 1:\n",
    "                        class_id = int(components[0])\n",
    "                        coords = list(map(float, components[1:]))\n",
    "                        # Only keep polygons with even number of coords\n",
    "                        if len(coords) % 2 == 0:\n",
    "                            classes.append(class_id)\n",
    "                            polygons.append(coords)\n",
    "\n",
    "            # Decide image-level class label\n",
    "            if classes:\n",
    "                image_level_label = classes[0]   # or use most frequent: max(set(classes), key=classes.count)\n",
    "            else:\n",
    "                image_level_label = 'no_fracture'  # your 'no_fracture' label\n",
    "\n",
    "            images.append(image)\n",
    "            class_labels.append(image_level_label)\n",
    "            polygons_list.append(polygons)\n",
    "\n",
    "    return np.array(images), np.array(class_labels), polygons_list\n",
    "\n",
    "\n",
    "# Load images, class labels, and polygons\n",
    "train_images, train_class_labels, train_polygons = load_images_and_labels(TRAIN_IMAGE_DIR, TRAIN_LABEL_DIR)\n",
    "valid_images, valid_class_labels, valid_polygons = load_images_and_labels(VALID_IMAGE_DIR, VALID_LABEL_DIR)\n",
    "test_images, test_class_labels, test_polygons = load_images_and_labels(TEST_IMAGE_DIR, TEST_LABEL_DIR)\n",
    "\n",
    "print(f\"Loaded {len(train_images)} images, {len(train_class_labels)} class labels, and {len(train_polygons)} sets of polygons.\")\n",
    "print(f\"Loaded {len(valid_images)} images, {len(valid_class_labels)} class labels, and {len(valid_polygons)} sets of polygons.\")\n",
    "print(f\"Loaded {len(test_images)} images, {len(test_class_labels)} class labels, and {len(test_polygons)} sets of polygons.\")"
   ]
  },
  {
   "cell_type": "code",
   "execution_count": 3,
   "id": "91eb0100",
   "metadata": {
    "execution": {
     "iopub.execute_input": "2025-07-16T13:54:56.524423Z",
     "iopub.status.busy": "2025-07-16T13:54:56.524178Z",
     "iopub.status.idle": "2025-07-16T13:54:56.534145Z",
     "shell.execute_reply": "2025-07-16T13:54:56.533452Z"
    },
    "papermill": {
     "duration": 0.019741,
     "end_time": "2025-07-16T13:54:56.535448",
     "exception": false,
     "start_time": "2025-07-16T13:54:56.515707",
     "status": "completed"
    },
    "tags": []
   },
   "outputs": [
    {
     "name": "stdout",
     "output_type": "stream",
     "text": [
      "23.098832110969386\n"
     ]
    }
   ],
   "source": [
    "image = cv2.imread('/kaggle/input/bone-fracture-detection-computer-vision-project/BoneFractureYolo8/train/images/image1_1026_png.rf.de064b3ea83c63cf20650b3bda31dd53.jpg')\n",
    "image = cv2.resize(image, TARGET_SIZE)\n",
    "image = cv2.cvtColor(image, cv2.COLOR_BGR2RGB)\n",
    "\n",
    "gray = cv2.cvtColor(image, cv2.COLOR_RGB2GRAY)\n",
    "mean_pixel = np.mean(np.array(gray))\n",
    "print(mean_pixel)"
   ]
  },
  {
   "cell_type": "code",
   "execution_count": null,
   "id": "15c0ca96",
   "metadata": {
    "papermill": {
     "duration": 0.007903,
     "end_time": "2025-07-16T13:54:56.551619",
     "exception": false,
     "start_time": "2025-07-16T13:54:56.543716",
     "status": "completed"
    },
    "tags": []
   },
   "outputs": [],
   "source": []
  },
  {
   "cell_type": "code",
   "execution_count": 4,
   "id": "b614c7ce",
   "metadata": {
    "execution": {
     "iopub.execute_input": "2025-07-16T13:54:56.568495Z",
     "iopub.status.busy": "2025-07-16T13:54:56.568266Z",
     "iopub.status.idle": "2025-07-16T13:54:56.571188Z",
     "shell.execute_reply": "2025-07-16T13:54:56.570519Z"
    },
    "papermill": {
     "duration": 0.012793,
     "end_time": "2025-07-16T13:54:56.572429",
     "exception": false,
     "start_time": "2025-07-16T13:54:56.559636",
     "status": "completed"
    },
    "tags": []
   },
   "outputs": [],
   "source": [
    "# mean_pixels = []\n",
    "\n",
    "\n",
    "# for img in train_images:\n",
    "#     # Convert to grayscale\n",
    "#     gray = cv2.cvtColor(img*255, cv2.COLOR_RGB2GRAY)\n",
    "#     mean_pixel = np.mean(gray)\n",
    "#     mean_pixels.append(mean_pixel)\n",
    "#     if (mean_pixel <= 130) & (mean_pixel >= 120) :\n",
    "#         mean_pixels.append(mean_pixel)\n",
    "#         print(mean_pixel)\n",
    "#         plt.imshow(img)\n",
    "#         plt.show()\n",
    "\n",
    "# print(len(mean_pixels))"
   ]
  },
  {
   "cell_type": "code",
   "execution_count": 5,
   "id": "502743ec",
   "metadata": {
    "execution": {
     "iopub.execute_input": "2025-07-16T13:54:56.588930Z",
     "iopub.status.busy": "2025-07-16T13:54:56.588688Z",
     "iopub.status.idle": "2025-07-16T13:54:56.591568Z",
     "shell.execute_reply": "2025-07-16T13:54:56.590948Z"
    },
    "papermill": {
     "duration": 0.012312,
     "end_time": "2025-07-16T13:54:56.592752",
     "exception": false,
     "start_time": "2025-07-16T13:54:56.580440",
     "status": "completed"
    },
    "tags": []
   },
   "outputs": [],
   "source": [
    "# plt.figure(figsize=(8,5))\n",
    "# plt.hist(mean_pixels, bins=50, color='blue', alpha=0.7)\n",
    "# plt.xlabel('Fraction of black pixels')\n",
    "# plt.ylabel('Number of images')\n",
    "# plt.title('Distribution of black pixel ratio')\n",
    "# plt.show()"
   ]
  },
  {
   "cell_type": "code",
   "execution_count": 6,
   "id": "b2de6ea6",
   "metadata": {
    "execution": {
     "iopub.execute_input": "2025-07-16T13:54:56.609226Z",
     "iopub.status.busy": "2025-07-16T13:54:56.608978Z",
     "iopub.status.idle": "2025-07-16T13:54:57.392681Z",
     "shell.execute_reply": "2025-07-16T13:54:57.391749Z"
    },
    "papermill": {
     "duration": 0.793328,
     "end_time": "2025-07-16T13:54:57.393919",
     "exception": false,
     "start_time": "2025-07-16T13:54:56.600591",
     "status": "completed"
    },
    "tags": []
   },
   "outputs": [
    {
     "name": "stdout",
     "output_type": "stream",
     "text": [
      "Original images: 3631\n",
      "Filtered images: 2996\n"
     ]
    }
   ],
   "source": [
    "# prepare CLAHE once\n",
    "clahe = cv2.createCLAHE(clipLimit=2.0, tileGridSize=(8,8))\n",
    "\n",
    "filtered_images = []\n",
    "filtered_labels = []\n",
    "mean_pixels = []\n",
    "\n",
    "for img, label in zip(train_images, train_class_labels):\n",
    "    # convert normalized [0,1] RGB → uint8 RGB, then to grayscale\n",
    "    img_uint8 = (img * 255).astype(np.uint8)\n",
    "    gray      = cv2.cvtColor(img_uint8, cv2.COLOR_RGB2GRAY)\n",
    "    \n",
    "    # apply CLAHE on the gray image\n",
    "    #gray_clahe = clahe.apply(gray)\n",
    "    \n",
    "    # compute mean on the CLAHE’d result\n",
    "    mean_pixel = np.mean(gray)\n",
    "    mean_pixels.append(mean_pixel)\n",
    "    \n",
    "    #  threshold as before\n",
    "    if (mean_pixel >= 15) & (mean_pixel <= 130):\n",
    "        filtered_images.append(img)\n",
    "        filtered_labels.append(label)\n",
    "\n",
    "print(f\"Original images: {len(train_images)}\")\n",
    "print(f\"Filtered images: {len(filtered_images)}\")"
   ]
  },
  {
   "cell_type": "code",
   "execution_count": 7,
   "id": "d97c5290",
   "metadata": {
    "execution": {
     "iopub.execute_input": "2025-07-16T13:54:57.410326Z",
     "iopub.status.busy": "2025-07-16T13:54:57.410087Z",
     "iopub.status.idle": "2025-07-16T13:54:57.749740Z",
     "shell.execute_reply": "2025-07-16T13:54:57.748783Z"
    },
    "papermill": {
     "duration": 0.349413,
     "end_time": "2025-07-16T13:54:57.751250",
     "exception": false,
     "start_time": "2025-07-16T13:54:57.401837",
     "status": "completed"
    },
    "tags": []
   },
   "outputs": [
    {
     "name": "stderr",
     "output_type": "stream",
     "text": [
      "/usr/local/lib/python3.10/dist-packages/seaborn/_oldcore.py:1119: FutureWarning: use_inf_as_na option is deprecated and will be removed in a future version. Convert inf values to NaN before operating instead.\n",
      "  with pd.option_context('mode.use_inf_as_na', True):\n"
     ]
    },
    {
     "data": {
      "image/png": "[encoded data removed]",
      "text/plain": [
       "<Figure size 500x500 with 1 Axes>"
      ]
     },
     "metadata": {},
     "output_type": "display_data"
    }
   ],
   "source": [
    "len_train_polygons=[]\n",
    "for k in range(len(train_polygons)):\n",
    "    a = len(train_polygons[k])\n",
    "    len_train_polygons.append(a)\n",
    "plt.subplots(figsize=(5,5))\n",
    "sns.histplot(len_train_polygons,binwidth=1)\n",
    "plt.xticks(np.arange(1, 5, 1))\n",
    "plt.show()"
   ]
  },
  {
   "cell_type": "code",
   "execution_count": 8,
   "id": "89a7ae27",
   "metadata": {
    "execution": {
     "iopub.execute_input": "2025-07-16T13:54:57.769050Z",
     "iopub.status.busy": "2025-07-16T13:54:57.768787Z",
     "iopub.status.idle": "2025-07-16T13:54:57.915462Z",
     "shell.execute_reply": "2025-07-16T13:54:57.914582Z"
    },
    "papermill": {
     "duration": 0.1568,
     "end_time": "2025-07-16T13:54:57.916804",
     "exception": false,
     "start_time": "2025-07-16T13:54:57.760004",
     "status": "completed"
    },
    "tags": []
   },
   "outputs": [
    {
     "name": "stderr",
     "output_type": "stream",
     "text": [
      "/usr/local/lib/python3.10/dist-packages/seaborn/_oldcore.py:1119: FutureWarning: use_inf_as_na option is deprecated and will be removed in a future version. Convert inf values to NaN before operating instead.\n",
      "  with pd.option_context('mode.use_inf_as_na', True):\n"
     ]
    },
    {
     "data": {
      "image/png": "[encoded data removed]",
      "text/plain": [
       "<Figure size 500x500 with 1 Axes>"
      ]
     },
     "metadata": {},
     "output_type": "display_data"
    }
   ],
   "source": [
    "len_valid_polygons=[]\n",
    "for k in range(len(valid_polygons)):\n",
    "    a = len(valid_polygons[k])\n",
    "    len_valid_polygons.append(a)\n",
    "plt.subplots(figsize=(5,5))\n",
    "sns.histplot(len_valid_polygons,binwidth=1)\n",
    "plt.xticks(np.arange(1, 5, 1))\n",
    "plt.show()"
   ]
  },
  {
   "cell_type": "code",
   "execution_count": 9,
   "id": "22b57864",
   "metadata": {
    "execution": {
     "iopub.execute_input": "2025-07-16T13:54:57.934177Z",
     "iopub.status.busy": "2025-07-16T13:54:57.933958Z",
     "iopub.status.idle": "2025-07-16T13:54:58.055560Z",
     "shell.execute_reply": "2025-07-16T13:54:58.054752Z"
    },
    "papermill": {
     "duration": 0.131694,
     "end_time": "2025-07-16T13:54:58.056963",
     "exception": false,
     "start_time": "2025-07-16T13:54:57.925269",
     "status": "completed"
    },
    "tags": []
   },
   "outputs": [
    {
     "name": "stderr",
     "output_type": "stream",
     "text": [
      "/usr/local/lib/python3.10/dist-packages/seaborn/_oldcore.py:1119: FutureWarning: use_inf_as_na option is deprecated and will be removed in a future version. Convert inf values to NaN before operating instead.\n",
      "  with pd.option_context('mode.use_inf_as_na', True):\n"
     ]
    },
    {
     "data": {
      "image/png": "[encoded data removed]",
      "text/plain": [
       "<Figure size 500x500 with 1 Axes>"
      ]
     },
     "metadata": {},
     "output_type": "display_data"
    }
   ],
   "source": [
    "len_test_polygons=[]\n",
    "for k in range(len(test_polygons)):\n",
    "    a = len(test_polygons[k])\n",
    "    len_test_polygons.append(a)\n",
    "plt.subplots(figsize=(5,5))\n",
    "sns.histplot(len_test_polygons,binwidth=1)\n",
    "plt.xticks(np.arange(1, 5, 1))\n",
    "plt.show()"
   ]
  },
  {
   "cell_type": "code",
   "execution_count": 10,
   "id": "4907fae7",
   "metadata": {
    "execution": {
     "iopub.execute_input": "2025-07-16T13:54:58.075306Z",
     "iopub.status.busy": "2025-07-16T13:54:58.075039Z",
     "iopub.status.idle": "2025-07-16T13:54:58.078536Z",
     "shell.execute_reply": "2025-07-16T13:54:58.077772Z"
    },
    "papermill": {
     "duration": 0.013516,
     "end_time": "2025-07-16T13:54:58.079721",
     "exception": false,
     "start_time": "2025-07-16T13:54:58.066205",
     "status": "completed"
    },
    "tags": []
   },
   "outputs": [],
   "source": [
    "# TARGET_SIZE = [225, 225]\n",
    "\n",
    "# def load_images_and_labels(image_dir, label_dir):\n",
    "#     images = []\n",
    "#     class_labels = []\n",
    "#     polygons = []\n",
    "\n",
    "#     for img_name in os.listdir(image_dir):\n",
    "#         if img_name.endswith(\".jpg\") or img_name.endswith(\".png\"):\n",
    "#             img_path = os.path.join(image_dir, img_name)\n",
    "#             image = cv2.imread(img_path)\n",
    "#             image = cv2.resize(image, TARGET_SIZE)\n",
    "#             image = cv2.cvtColor(image, cv2.COLOR_BGR2RGB)\n",
    "\n",
    "#             label_path = os.path.join(label_dir, img_name.replace(\".jpg\", \".txt\").replace(\".png\", \".txt\"))\n",
    "#             with open(label_path, \"r\") as f:\n",
    "#                 label_content = f.read().strip()\n",
    "\n",
    "#             if label_content:\n",
    "#                 components = label_content.split()\n",
    "#                 class_label = components[0]\n",
    "#                 polygon_coords = list(map(float, components[1:]))\n",
    "\n",
    "#                 # 🧐 Check: polygon length must be even\n",
    "#                 if len(polygon_coords) % 2 != 0:\n",
    "#                     #print(f\"⚠ Skipping {img_name}: odd polygon length ({len(polygon_coords)})\")\n",
    "#                     continue\n",
    "#             else:\n",
    "#                 class_label = 'no_fracture'\n",
    "#                 polygon_coords = []\n",
    "\n",
    "#             images.append(image)\n",
    "#             class_labels.append(class_label)\n",
    "#             polygons.append(polygon_coords)\n",
    "\n",
    "#     return np.array(images), np.array(class_labels), polygons\n"
   ]
  },
  {
   "cell_type": "code",
   "execution_count": 11,
   "id": "12d7026f",
   "metadata": {
    "execution": {
     "iopub.execute_input": "2025-07-16T13:54:58.097470Z",
     "iopub.status.busy": "2025-07-16T13:54:58.097261Z",
     "iopub.status.idle": "2025-07-16T13:54:58.100122Z",
     "shell.execute_reply": "2025-07-16T13:54:58.099441Z"
    },
    "papermill": {
     "duration": 0.013023,
     "end_time": "2025-07-16T13:54:58.101255",
     "exception": false,
     "start_time": "2025-07-16T13:54:58.088232",
     "status": "completed"
    },
    "tags": []
   },
   "outputs": [],
   "source": [
    "# train_images, train_class_labels, train_polygons = load_images_and_labels(TRAIN_IMAGE_DIR, TRAIN_LABEL_DIR)\n",
    "# valid_images, valid_class_labels, valid_polygons = load_images_and_labels(VALID_IMAGE_DIR, VALID_LABEL_DIR)\n",
    "# test_images, test_class_labels, test_polygons = load_images_and_labels(TEST_IMAGE_DIR, TEST_LABEL_DIR)\n",
    "\n",
    "# print(f\"Loaded {len(train_images)} images, {len(train_class_labels)} class labels, and {len(train_polygons)} sets of polygons.\")\n",
    "# print(f\"Loaded {len(valid_images)} images, {len(valid_class_labels)} class labels, and {len(valid_polygons)} sets of polygons.\")\n",
    "# print(f\"Loaded {len(test_images)} images, {len(test_class_labels)} class labels, and {len(test_polygons)} sets of polygons.\")"
   ]
  },
  {
   "cell_type": "code",
   "execution_count": 12,
   "id": "727b864b",
   "metadata": {
    "execution": {
     "iopub.execute_input": "2025-07-16T13:54:58.119441Z",
     "iopub.status.busy": "2025-07-16T13:54:58.119238Z",
     "iopub.status.idle": "2025-07-16T13:54:58.122299Z",
     "shell.execute_reply": "2025-07-16T13:54:58.121658Z"
    },
    "papermill": {
     "duration": 0.013644,
     "end_time": "2025-07-16T13:54:58.123409",
     "exception": false,
     "start_time": "2025-07-16T13:54:58.109765",
     "status": "completed"
    },
    "tags": []
   },
   "outputs": [],
   "source": [
    "# def visualize_images_with_polygons(images, class_labels, polygons_list, num_samples=20):\n",
    "#     plt.figure(figsize=(20, 12))\n",
    "    \n",
    "#     indices = random.sample(range(len(images)), min(num_samples, len(images)))\n",
    "#     print(indices)\n",
    "    \n",
    "#     for i, idx in enumerate(indices):\n",
    "#         img = images[idx].copy()\n",
    "#         label = class_labels[idx]\n",
    "#         polygons = polygons_list[idx]\n",
    "\n",
    "#         # Draw all polygons for this image\n",
    "#         for poly in polygons:\n",
    "#             if poly and len(poly) >= 4:\n",
    "#                 pts = np.array(poly).reshape(-1, 2)\n",
    "\n",
    "#                 # If coords are normalized (max <=1.1), scale to image size\n",
    "#                 if np.max(pts) <= 1.1:\n",
    "#                     pts[:, 0] *= img.shape[1]\n",
    "#                     pts[:, 1] *= img.shape[0]\n",
    "\n",
    "#                 pts = pts.astype(np.int32).reshape((-1,1,2))\n",
    "#                 img = cv2.polylines(img, [pts], isClosed=True, color=(255,0,0), thickness=2)\n",
    "\n",
    "#         plt.figure(figsize=(30,30))\n",
    "#         plt.subplot(4, 5, i+1)\n",
    "#         plt.imshow(img)\n",
    "#         plt.title(f\"Label: {label}\")\n",
    "#         plt.axis('off')\n",
    "        \n",
    "#     plt.tight_layout()\n",
    "#     plt.show()"
   ]
  },
  {
   "cell_type": "code",
   "execution_count": 13,
   "id": "6097d751",
   "metadata": {
    "execution": {
     "iopub.execute_input": "2025-07-16T13:54:58.140872Z",
     "iopub.status.busy": "2025-07-16T13:54:58.140671Z",
     "iopub.status.idle": "2025-07-16T13:54:58.143749Z",
     "shell.execute_reply": "2025-07-16T13:54:58.143099Z"
    },
    "papermill": {
     "duration": 0.013056,
     "end_time": "2025-07-16T13:54:58.144862",
     "exception": false,
     "start_time": "2025-07-16T13:54:58.131806",
     "status": "completed"
    },
    "tags": []
   },
   "outputs": [],
   "source": [
    "# visualize_images_with_polygons(train_images, train_class_labels, train_polygons, num_samples=1)"
   ]
  },
  {
   "cell_type": "code",
   "execution_count": 14,
   "id": "38b5ec0c",
   "metadata": {
    "execution": {
     "iopub.execute_input": "2025-07-16T13:54:58.164473Z",
     "iopub.status.busy": "2025-07-16T13:54:58.164262Z",
     "iopub.status.idle": "2025-07-16T13:54:58.347350Z",
     "shell.execute_reply": "2025-07-16T13:54:58.346433Z"
    },
    "papermill": {
     "duration": 0.194171,
     "end_time": "2025-07-16T13:54:58.348613",
     "exception": false,
     "start_time": "2025-07-16T13:54:58.154442",
     "status": "completed"
    },
    "tags": []
   },
   "outputs": [
    {
     "name": "stderr",
     "output_type": "stream",
     "text": [
      "/usr/local/lib/python3.10/dist-packages/seaborn/_oldcore.py:1119: FutureWarning: use_inf_as_na option is deprecated and will be removed in a future version. Convert inf values to NaN before operating instead.\n",
      "  with pd.option_context('mode.use_inf_as_na', True):\n"
     ]
    },
    {
     "data": {
      "text/plain": [
       "<Axes: ylabel='Count'>"
      ]
     },
     "execution_count": 14,
     "metadata": {},
     "output_type": "execute_result"
    },
    {
     "data": {
      "image/png": "[encoded data removed]",
      "text/plain": [
       "<Figure size 640x480 with 1 Axes>"
      ]
     },
     "metadata": {},
     "output_type": "display_data"
    }
   ],
   "source": [
    "sns.histplot(train_class_labels)"
   ]
  },
  {
   "cell_type": "code",
   "execution_count": 15,
   "id": "a4e88885",
   "metadata": {
    "execution": {
     "iopub.execute_input": "2025-07-16T13:54:58.367658Z",
     "iopub.status.busy": "2025-07-16T13:54:58.367437Z",
     "iopub.status.idle": "2025-07-16T13:54:58.370104Z",
     "shell.execute_reply": "2025-07-16T13:54:58.369497Z"
    },
    "papermill": {
     "duration": 0.013203,
     "end_time": "2025-07-16T13:54:58.371316",
     "exception": false,
     "start_time": "2025-07-16T13:54:58.358113",
     "status": "completed"
    },
    "tags": []
   },
   "outputs": [],
   "source": [
    "# a = []\n",
    "# for i in range(len(train_class_labels)):\n",
    "#     if train_class_labels[i] == '6':\n",
    "#         a.append(train_class_labels[i])\n",
    "\n",
    "# len(a)"
   ]
  },
  {
   "cell_type": "code",
   "execution_count": 16,
   "id": "28e2ab2c",
   "metadata": {
    "execution": {
     "iopub.execute_input": "2025-07-16T13:54:58.390143Z",
     "iopub.status.busy": "2025-07-16T13:54:58.389909Z",
     "iopub.status.idle": "2025-07-16T13:54:58.395967Z",
     "shell.execute_reply": "2025-07-16T13:54:58.395127Z"
    },
    "papermill": {
     "duration": 0.016736,
     "end_time": "2025-07-16T13:54:58.397261",
     "exception": false,
     "start_time": "2025-07-16T13:54:58.380525",
     "status": "completed"
    },
    "tags": []
   },
   "outputs": [
    {
     "name": "stdout",
     "output_type": "stream",
     "text": [
      "['0' '1' '2' '4' '5' '6' 'no_fracture']\n"
     ]
    }
   ],
   "source": [
    "label_encoder = LabelEncoder()\n",
    "train_labels_enc = label_encoder.fit_transform(filtered_labels)\n",
    "valid_labels_enc = label_encoder.transform(valid_class_labels)\n",
    "test_labels_enc = label_encoder.transform(test_class_labels)\n",
    "\n",
    "print(label_encoder.classes_)  # to know the actual labels"
   ]
  },
  {
   "cell_type": "code",
   "execution_count": 17,
   "id": "ddbc371e",
   "metadata": {
    "execution": {
     "iopub.execute_input": "2025-07-16T13:54:58.415386Z",
     "iopub.status.busy": "2025-07-16T13:54:58.415148Z",
     "iopub.status.idle": "2025-07-16T13:54:58.936872Z",
     "shell.execute_reply": "2025-07-16T13:54:58.935932Z"
    },
    "papermill": {
     "duration": 0.53255,
     "end_time": "2025-07-16T13:54:58.938554",
     "exception": false,
     "start_time": "2025-07-16T13:54:58.406004",
     "status": "completed"
    },
    "tags": []
   },
   "outputs": [],
   "source": [
    "\n",
    "# Example: train_images = np.array([...]), train_labels = np.array([...])\n",
    "class_groups = defaultdict(list)\n",
    "\n",
    "for img, label in zip(filtered_images, train_labels_enc):  # assuming integer-encoded labels\n",
    "    class_groups[label].append(img)\n",
    "\n",
    "# Convert lists to arrays\n",
    "for k in class_groups:\n",
    "    class_groups[k] = np.array(class_groups[k])"
   ]
  },
  {
   "cell_type": "code",
   "execution_count": 18,
   "id": "63b3897e",
   "metadata": {
    "execution": {
     "iopub.execute_input": "2025-07-16T13:54:58.958540Z",
     "iopub.status.busy": "2025-07-16T13:54:58.958284Z",
     "iopub.status.idle": "2025-07-16T13:54:59.570452Z",
     "shell.execute_reply": "2025-07-16T13:54:59.569534Z"
    },
    "papermill": {
     "duration": 0.623367,
     "end_time": "2025-07-16T13:54:59.571750",
     "exception": false,
     "start_time": "2025-07-16T13:54:58.948383",
     "status": "completed"
    },
    "tags": []
   },
   "outputs": [
    {
     "name": "stdout",
     "output_type": "stream",
     "text": [
      "(array([0, 1]), array([1443, 1553]))\n"
     ]
    }
   ],
   "source": [
    "no_fracture_label = 6 \n",
    "train_images_list, train_labels_list = [], []\n",
    "\n",
    "for label, images in class_groups.items():\n",
    "    if len(images) == 0:\n",
    "        continue\n",
    "    if label == no_fracture_label:\n",
    "        train_images_list.append(images)\n",
    "        train_labels_list.extend([0] * len(images))\n",
    "    else:\n",
    "        train_images_list.append(images)\n",
    "        train_labels_list.extend([1] * len(images))\n",
    "\n",
    "train_images = np.concatenate(train_images_list, axis=0)\n",
    "train_labels = np.array(train_labels_list)\n",
    "\n",
    "print(np.unique(train_labels, return_counts=True))"
   ]
  },
  {
   "cell_type": "code",
   "execution_count": 19,
   "id": "a1cb3f13",
   "metadata": {
    "execution": {
     "iopub.execute_input": "2025-07-16T13:54:59.591521Z",
     "iopub.status.busy": "2025-07-16T13:54:59.591302Z",
     "iopub.status.idle": "2025-07-16T13:54:59.669589Z",
     "shell.execute_reply": "2025-07-16T13:54:59.668476Z"
    },
    "papermill": {
     "duration": 0.089931,
     "end_time": "2025-07-16T13:54:59.671287",
     "exception": false,
     "start_time": "2025-07-16T13:54:59.581356",
     "status": "completed"
    },
    "tags": []
   },
   "outputs": [],
   "source": [
    "# Example: train_images = np.array([...]), train_labels = np.array([...])\n",
    "class_groups_1 = defaultdict(list)\n",
    "\n",
    "for img, label in zip(valid_images, valid_labels_enc):  # assuming integer-encoded labels\n",
    "    class_groups_1[label].append(img)\n",
    "\n",
    "# Convert lists to arrays\n",
    "for k in class_groups_1:\n",
    "    class_groups_1[k] = np.array(class_groups_1[k])"
   ]
  },
  {
   "cell_type": "code",
   "execution_count": 20,
   "id": "55982473",
   "metadata": {
    "execution": {
     "iopub.execute_input": "2025-07-16T13:54:59.701853Z",
     "iopub.status.busy": "2025-07-16T13:54:59.701400Z",
     "iopub.status.idle": "2025-07-16T13:54:59.787387Z",
     "shell.execute_reply": "2025-07-16T13:54:59.786346Z"
    },
    "papermill": {
     "duration": 0.099505,
     "end_time": "2025-07-16T13:54:59.789020",
     "exception": false,
     "start_time": "2025-07-16T13:54:59.689515",
     "status": "completed"
    },
    "tags": []
   },
   "outputs": [
    {
     "name": "stdout",
     "output_type": "stream",
     "text": [
      "(array([0, 1]), array([175, 173]))\n"
     ]
    }
   ],
   "source": [
    "\n",
    "valid_images_list, valid_labels_list = [], []\n",
    "\n",
    "for label, images in class_groups_1.items():\n",
    "    if len(images) == 0:\n",
    "        continue\n",
    "    if label == no_fracture_label:\n",
    "        valid_images_list.append(images)\n",
    "        valid_labels_list.extend([0] * len(images))\n",
    "    else:\n",
    "        valid_images_list.append(images)\n",
    "        valid_labels_list.extend([1] * len(images))\n",
    "\n",
    "valid_images = np.concatenate(valid_images_list, axis=0)\n",
    "valid_labels = np.array(valid_labels_list)\n",
    "\n",
    "print(np.unique(valid_labels, return_counts=True))# no_fracture_label = 0 (adjust if needed)"
   ]
  },
  {
   "cell_type": "code",
   "execution_count": 21,
   "id": "107cd4f3",
   "metadata": {
    "execution": {
     "iopub.execute_input": "2025-07-16T13:54:59.816145Z",
     "iopub.status.busy": "2025-07-16T13:54:59.815773Z",
     "iopub.status.idle": "2025-07-16T13:54:59.862939Z",
     "shell.execute_reply": "2025-07-16T13:54:59.862002Z"
    },
    "papermill": {
     "duration": 0.062108,
     "end_time": "2025-07-16T13:54:59.867672",
     "exception": false,
     "start_time": "2025-07-16T13:54:59.805564",
     "status": "completed"
    },
    "tags": []
   },
   "outputs": [],
   "source": [
    "# Example: train_images = np.array([...]), train_labels = np.array([...])\n",
    "class_groups_2 = defaultdict(list)\n",
    "\n",
    "for img, label in zip(test_images, test_labels_enc):  # assuming integer-encoded labels\n",
    "    class_groups_2[label].append(img)\n",
    "\n",
    "# Convert lists to arrays\n",
    "for k in class_groups_2:\n",
    "    class_groups_2[k] = np.array(class_groups_2[k])"
   ]
  },
  {
   "cell_type": "code",
   "execution_count": 22,
   "id": "80438aec",
   "metadata": {
    "execution": {
     "iopub.execute_input": "2025-07-16T13:54:59.890197Z",
     "iopub.status.busy": "2025-07-16T13:54:59.889841Z",
     "iopub.status.idle": "2025-07-16T13:54:59.933374Z",
     "shell.execute_reply": "2025-07-16T13:54:59.932354Z"
    },
    "papermill": {
     "duration": 0.054952,
     "end_time": "2025-07-16T13:54:59.934724",
     "exception": false,
     "start_time": "2025-07-16T13:54:59.879772",
     "status": "completed"
    },
    "tags": []
   },
   "outputs": [
    {
     "name": "stdout",
     "output_type": "stream",
     "text": [
      "(array([0, 1]), array([86, 83]))\n"
     ]
    }
   ],
   "source": [
    "# no_fracture_label = 0 (adjust if needed)\n",
    "test_images_list, test_labels_list = [], []\n",
    "\n",
    "for label, images in class_groups_2.items():\n",
    "    if len(images) == 0:\n",
    "        continue\n",
    "    if label == no_fracture_label:\n",
    "        test_images_list.append(images)\n",
    "        test_labels_list.extend([0] * len(images))\n",
    "    else:\n",
    "        test_images_list.append(images)\n",
    "        test_labels_list.extend([1] * len(images))\n",
    "\n",
    "test_images = np.concatenate(test_images_list, axis=0)\n",
    "test_labels = np.array(test_labels_list)\n",
    "\n",
    "print(np.unique(test_labels, return_counts=True))"
   ]
  },
  {
   "cell_type": "code",
   "execution_count": 23,
   "id": "c506eeac",
   "metadata": {
    "execution": {
     "iopub.execute_input": "2025-07-16T13:54:59.955456Z",
     "iopub.status.busy": "2025-07-16T13:54:59.955096Z",
     "iopub.status.idle": "2025-07-16T13:54:59.959072Z",
     "shell.execute_reply": "2025-07-16T13:54:59.958217Z"
    },
    "papermill": {
     "duration": 0.01586,
     "end_time": "2025-07-16T13:54:59.960421",
     "exception": false,
     "start_time": "2025-07-16T13:54:59.944561",
     "status": "completed"
    },
    "tags": []
   },
   "outputs": [],
   "source": [
    "# counter = Counter(train_labels)\n",
    "# max_count = max(counter.values())\n",
    "\n",
    "# balanced_images, balanced_labels = [], []\n",
    "\n",
    "# for cls in [0,1]:\n",
    "#     images = train_images[train_labels == cls]\n",
    "#     count_needed = max_count - len(images)\n",
    "\n",
    "#     # Always add original images\n",
    "#     balanced_images.extend(images)\n",
    "#     balanced_labels.extend([cls] * len(images))\n",
    "\n",
    "#     # Add augmented images\n",
    "#     for i in range(count_needed):\n",
    "#         img = images[i % len(images)]\n",
    "#         img = tf.image.random_flip_left_right(img)\n",
    "#         img = tf.image.random_brightness(img, max_delta=0.1)\n",
    "#         img = tf.image.random_contrast(img, 0.9, 1.1)\n",
    "#         img = tf.image.resize(img, (225, 225))\n",
    "#         balanced_images.append(img.numpy())\n",
    "#         balanced_labels.append(cls)\n",
    "\n",
    "# balanced_images = np.array(balanced_images)\n",
    "# balanced_labels = np.array(balanced_labels)\n",
    "\n",
    "# print(\"Balanced counts:\", Counter(balanced_labels))"
   ]
  },
  {
   "cell_type": "code",
   "execution_count": 24,
   "id": "04e8c8d7",
   "metadata": {
    "execution": {
     "iopub.execute_input": "2025-07-16T13:54:59.979629Z",
     "iopub.status.busy": "2025-07-16T13:54:59.979332Z",
     "iopub.status.idle": "2025-07-16T13:54:59.982776Z",
     "shell.execute_reply": "2025-07-16T13:54:59.982062Z"
    },
    "papermill": {
     "duration": 0.014386,
     "end_time": "2025-07-16T13:54:59.984094",
     "exception": false,
     "start_time": "2025-07-16T13:54:59.969708",
     "status": "completed"
    },
    "tags": []
   },
   "outputs": [],
   "source": [
    "# for i in range(count_needed):\n",
    "#         img = images[i % len(images)]\n",
    "#         img = tf.image.random_flip_left_right(img)\n",
    "#         img = tf.image.random_brightness(img, max_delta=0.1)\n",
    "#         img = tf.image.random_contrast(img, 0.9, 1.1)\n",
    "#         img = tf.image.resize(img, (225, 225))\n",
    "#         balanced_images.append(img.numpy())\n",
    "#         balanced_labels.append(cls)"
   ]
  },
  {
   "cell_type": "code",
   "execution_count": 25,
   "id": "c99f01ca",
   "metadata": {
    "execution": {
     "iopub.execute_input": "2025-07-16T13:55:00.003420Z",
     "iopub.status.busy": "2025-07-16T13:55:00.003079Z",
     "iopub.status.idle": "2025-07-16T13:55:00.006666Z",
     "shell.execute_reply": "2025-07-16T13:55:00.005859Z"
    },
    "papermill": {
     "duration": 0.014672,
     "end_time": "2025-07-16T13:55:00.007972",
     "exception": false,
     "start_time": "2025-07-16T13:54:59.993300",
     "status": "completed"
    },
    "tags": []
   },
   "outputs": [],
   "source": [
    "# plt.imshow(train_images[1])"
   ]
  },
  {
   "cell_type": "code",
   "execution_count": 26,
   "id": "6b7dcbac",
   "metadata": {
    "execution": {
     "iopub.execute_input": "2025-07-16T13:55:00.034277Z",
     "iopub.status.busy": "2025-07-16T13:55:00.033947Z",
     "iopub.status.idle": "2025-07-16T13:55:00.037335Z",
     "shell.execute_reply": "2025-07-16T13:55:00.036538Z"
    },
    "papermill": {
     "duration": 0.017123,
     "end_time": "2025-07-16T13:55:00.038638",
     "exception": false,
     "start_time": "2025-07-16T13:55:00.021515",
     "status": "completed"
    },
    "tags": []
   },
   "outputs": [],
   "source": [
    "# train_images = train_images / 255.0\n",
    "# valid_images = valid_images / 255.0\n",
    "# test_images = test_images / 255.0"
   ]
  },
  {
   "cell_type": "code",
   "execution_count": 27,
   "id": "b3e20c04",
   "metadata": {
    "execution": {
     "iopub.execute_input": "2025-07-16T13:55:00.058391Z",
     "iopub.status.busy": "2025-07-16T13:55:00.058066Z",
     "iopub.status.idle": "2025-07-16T13:55:00.061391Z",
     "shell.execute_reply": "2025-07-16T13:55:00.060617Z"
    },
    "papermill": {
     "duration": 0.014577,
     "end_time": "2025-07-16T13:55:00.062683",
     "exception": false,
     "start_time": "2025-07-16T13:55:00.048106",
     "status": "completed"
    },
    "tags": []
   },
   "outputs": [],
   "source": [
    "# train_images = train_images * 255.0\n",
    "# valid_images = valid_images * 255.0\n",
    "# test_images = test_images * 255.0"
   ]
  },
  {
   "cell_type": "code",
   "execution_count": 28,
   "id": "f75f67d3",
   "metadata": {
    "execution": {
     "iopub.execute_input": "2025-07-16T13:55:00.082339Z",
     "iopub.status.busy": "2025-07-16T13:55:00.082101Z",
     "iopub.status.idle": "2025-07-16T13:55:07.296633Z",
     "shell.execute_reply": "2025-07-16T13:55:07.295618Z"
    },
    "papermill": {
     "duration": 7.226571,
     "end_time": "2025-07-16T13:55:07.298625",
     "exception": false,
     "start_time": "2025-07-16T13:55:00.072054",
     "status": "completed"
    },
    "tags": []
   },
   "outputs": [],
   "source": [
    "BATCH_SIZE = 32\n",
    "\n",
    "train_ds = tf.data.Dataset.from_tensor_slices((train_images, train_labels))\n",
    "train_ds = train_ds.shuffle(1000).batch(BATCH_SIZE)\n",
    "\n",
    "valid_ds = tf.data.Dataset.from_tensor_slices((valid_images, valid_labels)).shuffle(1000).batch(BATCH_SIZE)\n",
    "\n",
    "test_ds  = tf.data.Dataset.from_tensor_slices((test_images, test_labels)).shuffle(1000).batch(BATCH_SIZE)\n",
    "\n"
   ]
  },
  {
   "cell_type": "code",
   "execution_count": 29,
   "id": "e90d7191",
   "metadata": {
    "execution": {
     "iopub.execute_input": "2025-07-16T13:55:07.319173Z",
     "iopub.status.busy": "2025-07-16T13:55:07.318867Z",
     "iopub.status.idle": "2025-07-16T13:55:07.322037Z",
     "shell.execute_reply": "2025-07-16T13:55:07.321237Z"
    },
    "papermill": {
     "duration": 0.014206,
     "end_time": "2025-07-16T13:55:07.323437",
     "exception": false,
     "start_time": "2025-07-16T13:55:07.309231",
     "status": "completed"
    },
    "tags": []
   },
   "outputs": [],
   "source": [
    "# valid_ds = tf.data.Dataset.from_tensor_slices((valid_images, valid_labels_enc)).shuffle(1000).batch(BATCH_SIZE)"
   ]
  },
  {
   "cell_type": "code",
   "execution_count": 30,
   "id": "d05df90e",
   "metadata": {
    "execution": {
     "iopub.execute_input": "2025-07-16T13:55:07.342634Z",
     "iopub.status.busy": "2025-07-16T13:55:07.342401Z",
     "iopub.status.idle": "2025-07-16T13:55:07.345457Z",
     "shell.execute_reply": "2025-07-16T13:55:07.344666Z"
    },
    "papermill": {
     "duration": 0.014036,
     "end_time": "2025-07-16T13:55:07.346830",
     "exception": false,
     "start_time": "2025-07-16T13:55:07.332794",
     "status": "completed"
    },
    "tags": []
   },
   "outputs": [],
   "source": [
    "# test_ds  = tf.data.Dataset.from_tensor_slices((test_images, test_labels_enc)).shuffle(1000).batch(BATCH_SIZE)"
   ]
  },
  {
   "cell_type": "code",
   "execution_count": 31,
   "id": "be3fd16f",
   "metadata": {
    "execution": {
     "iopub.execute_input": "2025-07-16T13:55:07.366700Z",
     "iopub.status.busy": "2025-07-16T13:55:07.366486Z",
     "iopub.status.idle": "2025-07-16T13:55:07.558127Z",
     "shell.execute_reply": "2025-07-16T13:55:07.557406Z"
    },
    "papermill": {
     "duration": 0.202239,
     "end_time": "2025-07-16T13:55:07.559308",
     "exception": false,
     "start_time": "2025-07-16T13:55:07.357069",
     "status": "completed"
    },
    "tags": []
   },
   "outputs": [
    {
     "name": "stderr",
     "output_type": "stream",
     "text": [
      "/usr/local/lib/python3.10/dist-packages/seaborn/_oldcore.py:1119: FutureWarning: use_inf_as_na option is deprecated and will be removed in a future version. Convert inf values to NaN before operating instead.\n",
      "  with pd.option_context('mode.use_inf_as_na', True):\n"
     ]
    },
    {
     "data": {
      "text/plain": [
       "<Axes: ylabel='Count'>"
      ]
     },
     "execution_count": 31,
     "metadata": {},
     "output_type": "execute_result"
    },
    {
     "data": {
      "image/png": "[encoded data removed]",
      "text/plain": [
       "<Figure size 640x480 with 1 Axes>"
      ]
     },
     "metadata": {},
     "output_type": "display_data"
    }
   ],
   "source": [
    "sns.histplot(train_labels)"
   ]
  },
  {
   "cell_type": "code",
   "execution_count": 32,
   "id": "d03a60b0",
   "metadata": {
    "execution": {
     "iopub.execute_input": "2025-07-16T13:55:07.579956Z",
     "iopub.status.busy": "2025-07-16T13:55:07.579713Z",
     "iopub.status.idle": "2025-07-16T13:55:07.593532Z",
     "shell.execute_reply": "2025-07-16T13:55:07.592952Z"
    },
    "papermill": {
     "duration": 0.025157,
     "end_time": "2025-07-16T13:55:07.594692",
     "exception": false,
     "start_time": "2025-07-16T13:55:07.569535",
     "status": "completed"
    },
    "tags": []
   },
   "outputs": [],
   "source": [
    "optimizer = tf.keras.optimizers.AdamW(learning_rate=1e-4)"
   ]
  },
  {
   "cell_type": "code",
   "execution_count": 33,
   "id": "56cfcc97",
   "metadata": {
    "execution": {
     "iopub.execute_input": "2025-07-16T13:55:07.615005Z",
     "iopub.status.busy": "2025-07-16T13:55:07.614745Z",
     "iopub.status.idle": "2025-07-16T13:56:58.549377Z",
     "shell.execute_reply": "2025-07-16T13:56:58.548605Z"
    },
    "papermill": {
     "duration": 110.946398,
     "end_time": "2025-07-16T13:56:58.550967",
     "exception": false,
     "start_time": "2025-07-16T13:55:07.604569",
     "status": "completed"
    },
    "tags": []
   },
   "outputs": [
    {
     "name": "stdout",
     "output_type": "stream",
     "text": [
      "Downloading data from https://storage.googleapis.com/keras-applications/efficientnetb0_notop.h5\n",
      "\u001b[1m16705208/16705208\u001b[0m \u001b[32m━━━━━━━━━━━━━━━━━━━━\u001b[0m\u001b[37m\u001b[0m \u001b[1m0s\u001b[0m 0us/step\n",
      "Epoch 1/15\n",
      "\u001b[1m94/94\u001b[0m \u001b[32m━━━━━━━━━━━━━━━━━━━━\u001b[0m\u001b[37m\u001b[0m \u001b[1m49s\u001b[0m 289ms/step - accuracy: 0.4978 - loss: 0.6975 - val_accuracy: 0.4971 - val_loss: 0.6935\n",
      "Epoch 2/15\n",
      "\u001b[1m94/94\u001b[0m \u001b[32m━━━━━━━━━━━━━━━━━━━━\u001b[0m\u001b[37m\u001b[0m \u001b[1m4s\u001b[0m 39ms/step - accuracy: 0.5078 - loss: 0.6954 - val_accuracy: 0.4971 - val_loss: 0.6938\n",
      "Epoch 3/15\n",
      "\u001b[1m94/94\u001b[0m \u001b[32m━━━━━━━━━━━━━━━━━━━━\u001b[0m\u001b[37m\u001b[0m \u001b[1m4s\u001b[0m 39ms/step - accuracy: 0.5230 - loss: 0.6925 - val_accuracy: 0.4971 - val_loss: 0.6939\n",
      "Epoch 4/15\n",
      "\u001b[1m94/94\u001b[0m \u001b[32m━━━━━━━━━━━━━━━━━━━━\u001b[0m\u001b[37m\u001b[0m \u001b[1m4s\u001b[0m 39ms/step - accuracy: 0.5107 - loss: 0.6942 - val_accuracy: 0.4971 - val_loss: 0.6940\n",
      "Epoch 5/15\n",
      "\u001b[1m94/94\u001b[0m \u001b[32m━━━━━━━━━━━━━━━━━━━━\u001b[0m\u001b[37m\u001b[0m \u001b[1m4s\u001b[0m 38ms/step - accuracy: 0.5134 - loss: 0.6960 - val_accuracy: 0.4971 - val_loss: 0.6941\n",
      "Epoch 6/15\n",
      "\u001b[1m94/94\u001b[0m \u001b[32m━━━━━━━━━━━━━━━━━━━━\u001b[0m\u001b[37m\u001b[0m \u001b[1m4s\u001b[0m 39ms/step - accuracy: 0.5234 - loss: 0.6921 - val_accuracy: 0.4971 - val_loss: 0.6936\n",
      "Epoch 7/15\n",
      "\u001b[1m94/94\u001b[0m \u001b[32m━━━━━━━━━━━━━━━━━━━━\u001b[0m\u001b[37m\u001b[0m \u001b[1m4s\u001b[0m 39ms/step - accuracy: 0.5124 - loss: 0.6942 - val_accuracy: 0.4971 - val_loss: 0.6940\n",
      "Epoch 8/15\n",
      "\u001b[1m94/94\u001b[0m \u001b[32m━━━━━━━━━━━━━━━━━━━━\u001b[0m\u001b[37m\u001b[0m \u001b[1m4s\u001b[0m 39ms/step - accuracy: 0.5213 - loss: 0.6926 - val_accuracy: 0.4971 - val_loss: 0.6938\n",
      "Epoch 9/15\n",
      "\u001b[1m94/94\u001b[0m \u001b[32m━━━━━━━━━━━━━━━━━━━━\u001b[0m\u001b[37m\u001b[0m \u001b[1m4s\u001b[0m 40ms/step - accuracy: 0.5115 - loss: 0.6948 - val_accuracy: 0.4971 - val_loss: 0.6941\n",
      "Epoch 10/15\n",
      "\u001b[1m94/94\u001b[0m \u001b[32m━━━━━━━━━━━━━━━━━━━━\u001b[0m\u001b[37m\u001b[0m \u001b[1m4s\u001b[0m 39ms/step - accuracy: 0.5217 - loss: 0.6927 - val_accuracy: 0.4971 - val_loss: 0.6948\n",
      "Epoch 11/15\n",
      "\u001b[1m94/94\u001b[0m \u001b[32m━━━━━━━━━━━━━━━━━━━━\u001b[0m\u001b[37m\u001b[0m \u001b[1m4s\u001b[0m 39ms/step - accuracy: 0.5001 - loss: 0.6964 - val_accuracy: 0.4971 - val_loss: 0.6940\n",
      "Epoch 12/15\n",
      "\u001b[1m94/94\u001b[0m \u001b[32m━━━━━━━━━━━━━━━━━━━━\u001b[0m\u001b[37m\u001b[0m \u001b[1m4s\u001b[0m 39ms/step - accuracy: 0.4979 - loss: 0.6973 - val_accuracy: 0.4971 - val_loss: 0.6940\n",
      "Epoch 13/15\n",
      "\u001b[1m94/94\u001b[0m \u001b[32m━━━━━━━━━━━━━━━━━━━━\u001b[0m\u001b[37m\u001b[0m \u001b[1m4s\u001b[0m 39ms/step - accuracy: 0.4984 - loss: 0.6969 - val_accuracy: 0.4971 - val_loss: 0.6942\n",
      "Epoch 14/15\n",
      "\u001b[1m94/94\u001b[0m \u001b[32m━━━━━━━━━━━━━━━━━━━━\u001b[0m\u001b[37m\u001b[0m \u001b[1m4s\u001b[0m 39ms/step - accuracy: 0.5041 - loss: 0.6950 - val_accuracy: 0.4971 - val_loss: 0.6942\n",
      "Epoch 15/15\n",
      "\u001b[1m94/94\u001b[0m \u001b[32m━━━━━━━━━━━━━━━━━━━━\u001b[0m\u001b[37m\u001b[0m \u001b[1m4s\u001b[0m 40ms/step - accuracy: 0.5002 - loss: 0.6955 - val_accuracy: 0.4971 - val_loss: 0.6943\n"
     ]
    }
   ],
   "source": [
    "from tensorflow.keras.applications.resnet import preprocess_input\n",
    "\n",
    "base_model = EfficientNetB0(weights=\"imagenet\", include_top=False, input_shape=(224,224,3))\n",
    "base_model.trainable = False\n",
    "\n",
    "train_prep = preprocess_input(train_images)\n",
    "valid_prep = preprocess_input(valid_images)\n",
    "\n",
    "inputs = layers.Input(shape=(224,224,3))\n",
    "x = base_model(inputs, training=False)\n",
    "x = layers.GlobalAveragePooling2D()(x)\n",
    "x = Flatten()(x)\n",
    "x = layers.Dropout(0.5)(x)\n",
    "outputs = layers.Dense(1, activation=\"sigmoid\")(x)\n",
    "\n",
    "model = models.Model(inputs, outputs)\n",
    "model.compile(optimizer=optimizer, loss='binary_crossentropy', metrics=['accuracy'])\n",
    "\n",
    "history = model.fit(\n",
    "    x=train_prep, y=train_labels, validation_data=(valid_prep,valid_labels), \n",
    "    epochs=15\n",
    "    #callbacks=[callbacks.EarlyStopping(monitor=\"val_accuracy\", patience=20, restore_best_weights=True)]\n",
    ")\n"
   ]
  },
  {
   "cell_type": "code",
   "execution_count": 34,
   "id": "ee06c130",
   "metadata": {
    "execution": {
     "iopub.execute_input": "2025-07-16T13:56:58.644261Z",
     "iopub.status.busy": "2025-07-16T13:56:58.643993Z",
     "iopub.status.idle": "2025-07-16T13:56:58.836908Z",
     "shell.execute_reply": "2025-07-16T13:56:58.836116Z"
    },
    "papermill": {
     "duration": 0.239966,
     "end_time": "2025-07-16T13:56:58.838624",
     "exception": false,
     "start_time": "2025-07-16T13:56:58.598658",
     "status": "completed"
    },
    "tags": []
   },
   "outputs": [
    {
     "data": {
      "image/png": "[encoded data removed]",
      "text/plain": [
       "<Figure size 1000x500 with 1 Axes>"
      ]
     },
     "metadata": {},
     "output_type": "display_data"
    }
   ],
   "source": [
    "plt.figure(figsize=(10, 5))\n",
    "plt.plot(history.history['accuracy'], label='Training Accuracy')\n",
    "plt.plot(history.history['val_accuracy'], label='Validation Accuracy')\n",
    "plt.title('Accuracy vs. Epochs')\n",
    "plt.xlabel('Epochs')\n",
    "plt.ylabel('Accuracy')\n",
    "plt.legend()\n",
    "plt.grid(True)\n",
    "plt.show()"
   ]
  },
  {
   "cell_type": "code",
   "execution_count": 35,
   "id": "fcae9bb1",
   "metadata": {
    "execution": {
     "iopub.execute_input": "2025-07-16T13:56:58.931174Z",
     "iopub.status.busy": "2025-07-16T13:56:58.930914Z",
     "iopub.status.idle": "2025-07-16T13:57:12.745087Z",
     "shell.execute_reply": "2025-07-16T13:57:12.744217Z"
    },
    "papermill": {
     "duration": 13.861461,
     "end_time": "2025-07-16T13:57:12.746425",
     "exception": false,
     "start_time": "2025-07-16T13:56:58.884964",
     "status": "completed"
    },
    "tags": []
   },
   "outputs": [
    {
     "name": "stdout",
     "output_type": "stream",
     "text": [
      "\u001b[1m6/6\u001b[0m \u001b[32m━━━━━━━━━━━━━━━━━━━━\u001b[0m\u001b[37m\u001b[0m \u001b[1m14s\u001b[0m 2s/step\n",
      "Confusion Matrix:\n",
      " [[ 0 86]\n",
      " [ 0 83]]\n",
      "\n",
      "Classification Report:\n",
      "               precision    recall  f1-score   support\n",
      "\n",
      "           0       0.00      0.00      0.00        86\n",
      "           1       0.49      1.00      0.66        83\n",
      "\n",
      "    accuracy                           0.49       169\n",
      "   macro avg       0.25      0.50      0.33       169\n",
      "weighted avg       0.24      0.49      0.32       169\n",
      "\n",
      "ROC AUC: 0.5184225273185766\n"
     ]
    },
    {
     "name": "stderr",
     "output_type": "stream",
     "text": [
      "/usr/local/lib/python3.10/dist-packages/sklearn/metrics/_classification.py:1344: UndefinedMetricWarning: Precision and F-score are ill-defined and being set to 0.0 in labels with no predicted samples. Use `zero_division` parameter to control this behavior.\n",
      "  _warn_prf(average, modifier, msg_start, len(result))\n",
      "/usr/local/lib/python3.10/dist-packages/sklearn/metrics/_classification.py:1344: UndefinedMetricWarning: Precision and F-score are ill-defined and being set to 0.0 in labels with no predicted samples. Use `zero_division` parameter to control this behavior.\n",
      "  _warn_prf(average, modifier, msg_start, len(result))\n",
      "/usr/local/lib/python3.10/dist-packages/sklearn/metrics/_classification.py:1344: UndefinedMetricWarning: Precision and F-score are ill-defined and being set to 0.0 in labels with no predicted samples. Use `zero_division` parameter to control this behavior.\n",
      "  _warn_prf(average, modifier, msg_start, len(result))\n"
     ]
    },
    {
     "data": {
      "image/png": "[encoded data removed]",
      "text/plain": [
       "<Figure size 600x400 with 1 Axes>"
      ]
     },
     "metadata": {},
     "output_type": "display_data"
    }
   ],
   "source": [
    "# Predict on test set\n",
    "y_pred_probs = model.predict(test_ds).flatten()\n",
    "y_pred = (y_pred_probs > 0.5).astype(int)\n",
    "\n",
    "# Confusion matrix\n",
    "from sklearn.metrics import confusion_matrix, classification_report, roc_auc_score, roc_curve\n",
    "import matplotlib.pyplot as plt\n",
    "\n",
    "print(\"Confusion Matrix:\\n\", confusion_matrix(test_labels, y_pred))\n",
    "print(\"\\nClassification Report:\\n\", classification_report(test_labels, y_pred))\n",
    "print(\"ROC AUC:\", roc_auc_score(test_labels, y_pred_probs))\n",
    "\n",
    "# ROC curve\n",
    "fpr, tpr, thresholds = roc_curve(test_labels, y_pred_probs)\n",
    "plt.figure(figsize=(6,4))\n",
    "plt.plot(fpr, tpr, label=f\"AUC={roc_auc_score(test_labels, y_pred_probs):.2f}\")\n",
    "plt.xlabel(\"False Positive Rate\")\n",
    "plt.ylabel(\"True Positive Rate\")\n",
    "plt.title(\"ROC Curve\")\n",
    "plt.legend()\n",
    "plt.show()"
   ]
  },
  {
   "cell_type": "code",
   "execution_count": 36,
   "id": "8666085a",
   "metadata": {
    "execution": {
     "iopub.execute_input": "2025-07-16T13:57:12.841383Z",
     "iopub.status.busy": "2025-07-16T13:57:12.841100Z",
     "iopub.status.idle": "2025-07-16T14:05:40.467099Z",
     "shell.execute_reply": "2025-07-16T14:05:40.466268Z"
    },
    "papermill": {
     "duration": 507.674844,
     "end_time": "2025-07-16T14:05:40.468639",
     "exception": false,
     "start_time": "2025-07-16T13:57:12.793795",
     "status": "completed"
    },
    "tags": []
   },
   "outputs": [
    {
     "name": "stdout",
     "output_type": "stream",
     "text": [
      "Downloading data from https://storage.googleapis.com/tensorflow/keras-applications/resnet/resnet152_weights_tf_dim_ordering_tf_kernels_notop.h5\n",
      "\u001b[1m234698864/234698864\u001b[0m \u001b[32m━━━━━━━━━━━━━━━━━━━━\u001b[0m\u001b[37m\u001b[0m \u001b[1m1s\u001b[0m 0us/step\n",
      "Epoch 1/20\n",
      "\u001b[1m94/94\u001b[0m \u001b[32m━━━━━━━━━━━━━━━━━━━━\u001b[0m\u001b[37m\u001b[0m \u001b[1m68s\u001b[0m 460ms/step - accuracy: 0.5006 - loss: 0.8489 - val_accuracy: 0.4971 - val_loss: 0.7079\n",
      "Epoch 2/20\n",
      "\u001b[1m94/94\u001b[0m \u001b[32m━━━━━━━━━━━━━━━━━━━━\u001b[0m\u001b[37m\u001b[0m \u001b[1m23s\u001b[0m 247ms/step - accuracy: 0.5260 - loss: 0.7190 - val_accuracy: 0.4914 - val_loss: 0.6933\n",
      "Epoch 3/20\n",
      "\u001b[1m94/94\u001b[0m \u001b[32m━━━━━━━━━━━━━━━━━━━━\u001b[0m\u001b[37m\u001b[0m \u001b[1m23s\u001b[0m 243ms/step - accuracy: 0.5027 - loss: 0.7190 - val_accuracy: 0.4971 - val_loss: 0.6934\n",
      "Epoch 4/20\n",
      "\u001b[1m94/94\u001b[0m \u001b[32m━━━━━━━━━━━━━━━━━━━━\u001b[0m\u001b[37m\u001b[0m \u001b[1m22s\u001b[0m 238ms/step - accuracy: 0.4901 - loss: 0.7092 - val_accuracy: 0.4971 - val_loss: 0.6933\n",
      "Epoch 5/20\n",
      "\u001b[1m94/94\u001b[0m \u001b[32m━━━━━━━━━━━━━━━━━━━━\u001b[0m\u001b[37m\u001b[0m \u001b[1m22s\u001b[0m 238ms/step - accuracy: 0.5257 - loss: 0.7049 - val_accuracy: 0.5029 - val_loss: 0.7029\n",
      "Epoch 6/20\n",
      "\u001b[1m94/94\u001b[0m \u001b[32m━━━━━━━━━━━━━━━━━━━━\u001b[0m\u001b[37m\u001b[0m \u001b[1m23s\u001b[0m 241ms/step - accuracy: 0.4948 - loss: 0.7088 - val_accuracy: 0.4971 - val_loss: 0.7043\n",
      "Epoch 7/20\n",
      "\u001b[1m94/94\u001b[0m \u001b[32m━━━━━━━━━━━━━━━━━━━━\u001b[0m\u001b[37m\u001b[0m \u001b[1m23s\u001b[0m 240ms/step - accuracy: 0.5068 - loss: 0.7053 - val_accuracy: 0.4971 - val_loss: 0.7087\n",
      "Epoch 8/20\n",
      "\u001b[1m94/94\u001b[0m \u001b[32m━━━━━━━━━━━━━━━━━━━━\u001b[0m\u001b[37m\u001b[0m \u001b[1m22s\u001b[0m 238ms/step - accuracy: 0.4907 - loss: 0.7095 - val_accuracy: 0.4741 - val_loss: 0.6932\n",
      "Epoch 9/20\n",
      "\u001b[1m94/94\u001b[0m \u001b[32m━━━━━━━━━━━━━━━━━━━━\u001b[0m\u001b[37m\u001b[0m \u001b[1m22s\u001b[0m 239ms/step - accuracy: 0.5200 - loss: 0.7021 - val_accuracy: 0.4971 - val_loss: 0.6993\n",
      "Epoch 10/20\n",
      "\u001b[1m94/94\u001b[0m \u001b[32m━━━━━━━━━━━━━━━━━━━━\u001b[0m\u001b[37m\u001b[0m \u001b[1m23s\u001b[0m 240ms/step - accuracy: 0.4898 - loss: 0.7108 - val_accuracy: 0.5029 - val_loss: 0.6951\n",
      "Epoch 11/20\n",
      "\u001b[1m94/94\u001b[0m \u001b[32m━━━━━━━━━━━━━━━━━━━━\u001b[0m\u001b[37m\u001b[0m \u001b[1m23s\u001b[0m 239ms/step - accuracy: 0.4920 - loss: 0.7027 - val_accuracy: 0.4971 - val_loss: 0.7080\n",
      "Epoch 12/20\n",
      "\u001b[1m94/94\u001b[0m \u001b[32m━━━━━━━━━━━━━━━━━━━━\u001b[0m\u001b[37m\u001b[0m \u001b[1m23s\u001b[0m 240ms/step - accuracy: 0.5128 - loss: 0.7008 - val_accuracy: 0.4971 - val_loss: 0.7003\n",
      "Epoch 13/20\n",
      "\u001b[1m94/94\u001b[0m \u001b[32m━━━━━━━━━━━━━━━━━━━━\u001b[0m\u001b[37m\u001b[0m \u001b[1m23s\u001b[0m 240ms/step - accuracy: 0.4988 - loss: 0.7031 - val_accuracy: 0.4971 - val_loss: 0.7135\n",
      "Epoch 14/20\n",
      "\u001b[1m94/94\u001b[0m \u001b[32m━━━━━━━━━━━━━━━━━━━━\u001b[0m\u001b[37m\u001b[0m \u001b[1m23s\u001b[0m 239ms/step - accuracy: 0.5017 - loss: 0.7039 - val_accuracy: 0.5029 - val_loss: 0.6996\n",
      "Epoch 15/20\n",
      "\u001b[1m94/94\u001b[0m \u001b[32m━━━━━━━━━━━━━━━━━━━━\u001b[0m\u001b[37m\u001b[0m \u001b[1m22s\u001b[0m 239ms/step - accuracy: 0.4925 - loss: 0.7103 - val_accuracy: 0.5029 - val_loss: 0.6985\n",
      "Epoch 16/20\n",
      "\u001b[1m94/94\u001b[0m \u001b[32m━━━━━━━━━━━━━━━━━━━━\u001b[0m\u001b[37m\u001b[0m \u001b[1m23s\u001b[0m 239ms/step - accuracy: 0.5142 - loss: 0.7046 - val_accuracy: 0.4971 - val_loss: 0.6947\n",
      "Epoch 17/20\n",
      "\u001b[1m94/94\u001b[0m \u001b[32m━━━━━━━━━━━━━━━━━━━━\u001b[0m\u001b[37m\u001b[0m \u001b[1m22s\u001b[0m 239ms/step - accuracy: 0.5166 - loss: 0.6998 - val_accuracy: 0.5029 - val_loss: 0.7024\n",
      "Epoch 18/20\n",
      "\u001b[1m94/94\u001b[0m \u001b[32m━━━━━━━━━━━━━━━━━━━━\u001b[0m\u001b[37m\u001b[0m \u001b[1m23s\u001b[0m 240ms/step - accuracy: 0.5242 - loss: 0.7032 - val_accuracy: 0.4971 - val_loss: 0.6934\n",
      "Epoch 19/20\n",
      "\u001b[1m94/94\u001b[0m \u001b[32m━━━━━━━━━━━━━━━━━━━━\u001b[0m\u001b[37m\u001b[0m \u001b[1m23s\u001b[0m 240ms/step - accuracy: 0.5015 - loss: 0.7038 - val_accuracy: 0.4971 - val_loss: 0.6938\n",
      "Epoch 20/20\n",
      "\u001b[1m94/94\u001b[0m \u001b[32m━━━━━━━━━━━━━━━━━━━━\u001b[0m\u001b[37m\u001b[0m \u001b[1m23s\u001b[0m 239ms/step - accuracy: 0.5096 - loss: 0.7042 - val_accuracy: 0.4971 - val_loss: 0.6982\n"
     ]
    }
   ],
   "source": [
    "from tensorflow.keras.applications.resnet import preprocess_input\n",
    "\n",
    "train_prep = preprocess_input(train_images)\n",
    "valid_prep = preprocess_input(valid_images)\n",
    "\n",
    "base_model = ResNet152(weights=\"imagenet\", include_top=False, input_shape=(224,224,3))\n",
    "base_model.trainable = False\n",
    "\n",
    "inputs = layers.Input(shape=(224,224,3))\n",
    "x = base_model(inputs, training=False)\n",
    "x = layers.GlobalAveragePooling2D()(x)\n",
    "x = Flatten()(x)\n",
    "x = layers.Dropout(0.5)(x)\n",
    "outputs = layers.Dense(1, activation=\"sigmoid\")(x)\n",
    "\n",
    "model = models.Model(inputs, outputs)\n",
    "model.compile(optimizer='adam', loss='binary_crossentropy', metrics=['accuracy'])\n",
    "\n",
    "history = model.fit(\n",
    "    train_prep, train_labels, validation_data=(valid_prep,valid_labels), epochs=20,\n",
    "    #callbacks=[callbacks.EarlyStopping(monitor=\"val_accuracy\", patience=5, restore_best_weights=True)]\n",
    ")\n"
   ]
  },
  {
   "cell_type": "code",
   "execution_count": 37,
   "id": "7bc1d472",
   "metadata": {
    "execution": {
     "iopub.execute_input": "2025-07-16T14:05:40.744683Z",
     "iopub.status.busy": "2025-07-16T14:05:40.744359Z",
     "iopub.status.idle": "2025-07-16T14:05:40.951213Z",
     "shell.execute_reply": "2025-07-16T14:05:40.950364Z"
    },
    "papermill": {
     "duration": 0.345699,
     "end_time": "2025-07-16T14:05:40.952618",
     "exception": false,
     "start_time": "2025-07-16T14:05:40.606919",
     "status": "completed"
    },
    "tags": []
   },
   "outputs": [
    {
     "data": {
      "image/png": "[encoded data removed]",
      "text/plain": [
       "<Figure size 1000x500 with 1 Axes>"
      ]
     },
     "metadata": {},
     "output_type": "display_data"
    }
   ],
   "source": [
    "plt.figure(figsize=(10, 5))\n",
    "plt.plot(history.history['accuracy'], label='Training Accuracy')\n",
    "plt.plot(history.history['val_accuracy'], label='Validation Accuracy')\n",
    "plt.title('Accuracy vs. Epochs')\n",
    "plt.xlabel('Epochs')\n",
    "plt.ylabel('Accuracy')\n",
    "plt.legend()\n",
    "plt.grid(True)\n",
    "plt.show()"
   ]
  },
  {
   "cell_type": "code",
   "execution_count": 38,
   "id": "d43d41aa",
   "metadata": {
    "execution": {
     "iopub.execute_input": "2025-07-16T14:05:41.230575Z",
     "iopub.status.busy": "2025-07-16T14:05:41.230291Z",
     "iopub.status.idle": "2025-07-16T14:05:59.574702Z",
     "shell.execute_reply": "2025-07-16T14:05:59.573799Z"
    },
    "papermill": {
     "duration": 18.482746,
     "end_time": "2025-07-16T14:05:59.575975",
     "exception": false,
     "start_time": "2025-07-16T14:05:41.093229",
     "status": "completed"
    },
    "tags": []
   },
   "outputs": [
    {
     "name": "stdout",
     "output_type": "stream",
     "text": [
      "\u001b[1m6/6\u001b[0m \u001b[32m━━━━━━━━━━━━━━━━━━━━\u001b[0m\u001b[37m\u001b[0m \u001b[1m18s\u001b[0m 2s/step\n",
      "Confusion Matrix:\n",
      " [[ 0 86]\n",
      " [ 0 83]]\n",
      "\n",
      "Classification Report:\n",
      "               precision    recall  f1-score   support\n",
      "\n",
      "           0       0.00      0.00      0.00        86\n",
      "           1       0.49      1.00      0.66        83\n",
      "\n",
      "    accuracy                           0.49       169\n",
      "   macro avg       0.25      0.50      0.33       169\n",
      "weighted avg       0.24      0.49      0.32       169\n",
      "\n",
      "ROC AUC: 0.5107873353880639\n"
     ]
    },
    {
     "name": "stderr",
     "output_type": "stream",
     "text": [
      "/usr/local/lib/python3.10/dist-packages/sklearn/metrics/_classification.py:1344: UndefinedMetricWarning: Precision and F-score are ill-defined and being set to 0.0 in labels with no predicted samples. Use `zero_division` parameter to control this behavior.\n",
      "  _warn_prf(average, modifier, msg_start, len(result))\n",
      "/usr/local/lib/python3.10/dist-packages/sklearn/metrics/_classification.py:1344: UndefinedMetricWarning: Precision and F-score are ill-defined and being set to 0.0 in labels with no predicted samples. Use `zero_division` parameter to control this behavior.\n",
      "  _warn_prf(average, modifier, msg_start, len(result))\n",
      "/usr/local/lib/python3.10/dist-packages/sklearn/metrics/_classification.py:1344: UndefinedMetricWarning: Precision and F-score are ill-defined and being set to 0.0 in labels with no predicted samples. Use `zero_division` parameter to control this behavior.\n",
      "  _warn_prf(average, modifier, msg_start, len(result))\n"
     ]
    },
    {
     "data": {
      "image/png": "[encoded data removed]",
      "text/plain": [
       "<Figure size 600x400 with 1 Axes>"
      ]
     },
     "metadata": {},
     "output_type": "display_data"
    }
   ],
   "source": [
    "# Predict on test set\n",
    "y_pred_probs = model.predict(test_ds).flatten()\n",
    "y_pred = (y_pred_probs > 0.5).astype(int)\n",
    "\n",
    "# Confusion matrix\n",
    "from sklearn.metrics import confusion_matrix, classification_report, roc_auc_score, roc_curve\n",
    "import matplotlib.pyplot as plt\n",
    "\n",
    "print(\"Confusion Matrix:\\n\", confusion_matrix(test_labels, y_pred))\n",
    "print(\"\\nClassification Report:\\n\", classification_report(test_labels, y_pred))\n",
    "print(\"ROC AUC:\", roc_auc_score(test_labels, y_pred_probs))\n",
    "\n",
    "# ROC curve\n",
    "fpr, tpr, thresholds = roc_curve(test_labels, y_pred_probs)\n",
    "plt.figure(figsize=(6,4))\n",
    "plt.plot(fpr, tpr, label=f\"AUC={roc_auc_score(test_labels, y_pred_probs):.2f}\")\n",
    "plt.xlabel(\"False Positive Rate\")\n",
    "plt.ylabel(\"True Positive Rate\")\n",
    "plt.title(\"ROC Curve\")\n",
    "plt.legend()\n",
    "plt.show()"
   ]
  },
  {
   "cell_type": "code",
   "execution_count": null,
   "id": "01c3cf80",
   "metadata": {
    "papermill": {
     "duration": 0.136025,
     "end_time": "2025-07-16T14:05:59.852182",
     "exception": false,
     "start_time": "2025-07-16T14:05:59.716157",
     "status": "completed"
    },
    "tags": []
   },
   "outputs": [],
   "source": []
  },
  {
   "cell_type": "code",
   "execution_count": null,
   "id": "b79ad9ea",
   "metadata": {
    "papermill": {
     "duration": 0.139089,
     "end_time": "2025-07-16T14:06:00.130548",
     "exception": false,
     "start_time": "2025-07-16T14:05:59.991459",
     "status": "completed"
    },
    "tags": []
   },
   "outputs": [],
   "source": []
  },
  {
   "cell_type": "code",
   "execution_count": null,
   "id": "56f7be76",
   "metadata": {
    "papermill": {
     "duration": 0.176765,
     "end_time": "2025-07-16T14:06:00.443737",
     "exception": false,
     "start_time": "2025-07-16T14:06:00.266972",
     "status": "completed"
    },
    "tags": []
   },
   "outputs": [],
   "source": []
  },
  {
   "cell_type": "code",
   "execution_count": null,
   "id": "70f6506c",
   "metadata": {
    "papermill": {
     "duration": 0.142164,
     "end_time": "2025-07-16T14:06:00.723804",
     "exception": false,
     "start_time": "2025-07-16T14:06:00.581640",
     "status": "completed"
    },
    "tags": []
   },
   "outputs": [],
   "source": []
  },
  {
   "cell_type": "code",
   "execution_count": 39,
   "id": "5b6d2d8f",
   "metadata": {
    "execution": {
     "iopub.execute_input": "2025-07-16T14:06:01.003599Z",
     "iopub.status.busy": "2025-07-16T14:06:01.003307Z",
     "iopub.status.idle": "2025-07-16T14:06:01.006479Z",
     "shell.execute_reply": "2025-07-16T14:06:01.005782Z"
    },
    "papermill": {
     "duration": 0.143957,
     "end_time": "2025-07-16T14:06:01.007723",
     "exception": false,
     "start_time": "2025-07-16T14:06:00.863766",
     "status": "completed"
    },
    "tags": []
   },
   "outputs": [],
   "source": [
    "# sns.histplot(augmented_labels)"
   ]
  },
  {
   "cell_type": "code",
   "execution_count": 40,
   "id": "7acb62ef",
   "metadata": {
    "execution": {
     "iopub.execute_input": "2025-07-16T14:06:01.303365Z",
     "iopub.status.busy": "2025-07-16T14:06:01.303004Z",
     "iopub.status.idle": "2025-07-16T14:06:01.306924Z",
     "shell.execute_reply": "2025-07-16T14:06:01.305966Z"
    },
    "papermill": {
     "duration": 0.16115,
     "end_time": "2025-07-16T14:06:01.308276",
     "exception": false,
     "start_time": "2025-07-16T14:06:01.147126",
     "status": "completed"
    },
    "tags": []
   },
   "outputs": [],
   "source": [
    "# aug_images = np.array(augmented_images)\n",
    "# aug_labels = np.array(augmented_labels)\n",
    "\n",
    "# # Shuffle\n",
    "# perm = np.random.permutation(len(aug_images))\n",
    "# aug_images = aug_images[perm]\n",
    "# aug_labels = aug_labels[perm]"
   ]
  },
  {
   "cell_type": "code",
   "execution_count": 41,
   "id": "33348b38",
   "metadata": {
    "execution": {
     "iopub.execute_input": "2025-07-16T14:06:01.582605Z",
     "iopub.status.busy": "2025-07-16T14:06:01.582279Z",
     "iopub.status.idle": "2025-07-16T14:06:01.585519Z",
     "shell.execute_reply": "2025-07-16T14:06:01.584902Z"
    },
    "papermill": {
     "duration": 0.14141,
     "end_time": "2025-07-16T14:06:01.586788",
     "exception": false,
     "start_time": "2025-07-16T14:06:01.445378",
     "status": "completed"
    },
    "tags": []
   },
   "outputs": [],
   "source": [
    "# train_images = aug_images / 255.0\n",
    "# valid_images = valid_images / 255.0\n",
    "# test_images = test_images / 255.0"
   ]
  },
  {
   "cell_type": "code",
   "execution_count": 42,
   "id": "5761cb48",
   "metadata": {
    "execution": {
     "iopub.execute_input": "2025-07-16T14:06:01.866410Z",
     "iopub.status.busy": "2025-07-16T14:06:01.866093Z",
     "iopub.status.idle": "2025-07-16T14:06:01.869373Z",
     "shell.execute_reply": "2025-07-16T14:06:01.868633Z"
    },
    "papermill": {
     "duration": 0.144897,
     "end_time": "2025-07-16T14:06:01.870559",
     "exception": false,
     "start_time": "2025-07-16T14:06:01.725662",
     "status": "completed"
    },
    "tags": []
   },
   "outputs": [],
   "source": [
    "# num_classes = len(label_encoder.classes_)\n",
    "# train_labels_cat = to_categorical(aug_labels, num_classes)\n",
    "# valid_labels_cat = to_categorical(valid_labels_enc, num_classes)\n",
    "# test_labels_cat = to_categorical(test_labels_enc, num_classes)"
   ]
  },
  {
   "cell_type": "code",
   "execution_count": 43,
   "id": "65b731a0",
   "metadata": {
    "execution": {
     "iopub.execute_input": "2025-07-16T14:06:02.192228Z",
     "iopub.status.busy": "2025-07-16T14:06:02.191845Z",
     "iopub.status.idle": "2025-07-16T14:06:02.195537Z",
     "shell.execute_reply": "2025-07-16T14:06:02.194829Z"
    },
    "papermill": {
     "duration": 0.14656,
     "end_time": "2025-07-16T14:06:02.196777",
     "exception": false,
     "start_time": "2025-07-16T14:06:02.050217",
     "status": "completed"
    },
    "tags": []
   },
   "outputs": [],
   "source": [
    "# datagen = ImageDataGenerator(\n",
    "#     rotation_range=10,\n",
    "#     width_shift_range=0.05,\n",
    "#     height_shift_range=0.05,\n",
    "#     zoom_rangfrom tensorflow.keras import mixed_precision\n",
    "# mixed_precision.set_global_policy(\"mixed_float16\")\n",
    "\n",
    "# # Setup EfficientNet\n",
    "# base_model = EfficientNetB0(\n",
    "#     weights=\"imagenet\",\n",
    "#     include_top=False,\n",
    "#     input_shape=(225, 225, 3)\n",
    "# )\n",
    "# base_model.trainable = False\n",
    "\n",
    "# inputs = Input(shape=(225, 225, 3))\n",
    "# x = base_model(inputs, training=False)\n",
    "# x = layers.GlobalAveragePooling2D()(x)\n",
    "# x = layers.Dropout(0.5)(x)\n",
    "# outputs = layers.Dense(NUM_CLASSES, activation=\"softmax\", dtype=\"float32\")(x)\n",
    "\n",
    "# model = models.Model(inputs, outputs)\n",
    "# model.compile(\n",
    "#     optimizer=tf.keras.optimizers.Adam(1e-3),\n",
    "#     loss=\"categorical_crossentropy\",\n",
    "#     metrics=[\"accuracy\"]\n",
    "# )\n",
    "\n",
    "# # Dataset pipeline\n",
    "# train_ds = tf.data.Dataset.from_tensor_slices((aug_images, aug_labels_cat)).batch(8).prefetch(tf.data.AUTOTUNE)\n",
    "# val_ds = tf.data.Dataset.from_tensor_slices((valid_images, valid_labels_cat)).batch(8).prefetch(tf.data.AUTOTUNE)\n",
    "\n",
    "# # Train\n",
    "# model.fit(\n",
    "#     train_ds,\n",
    "#     validation_data=val_ds,\n",
    "#     epochs=20,\n",
    "#     callbacks=[callbacks.EarlyStopping(monitor=\"val_accuracy\", patience=8, restore_best_weights=True)]\n",
    "# )e=0.1,\n",
    "#     horizontal_flip=True,\n",
    "#     brightness_range=[0.8, 1.2],\n",
    "#     fill_mode='nearest'\n",
    "# )\n",
    "# datagen.fit(train_images)"
   ]
  },
  {
   "cell_type": "code",
   "execution_count": 44,
   "id": "36bd7db6",
   "metadata": {
    "execution": {
     "iopub.execute_input": "2025-07-16T14:06:02.476693Z",
     "iopub.status.busy": "2025-07-16T14:06:02.476363Z",
     "iopub.status.idle": "2025-07-16T14:06:02.479633Z",
     "shell.execute_reply": "2025-07-16T14:06:02.478999Z"
    },
    "papermill": {
     "duration": 0.143699,
     "end_time": "2025-07-16T14:06:02.480872",
     "exception": false,
     "start_time": "2025-07-16T14:06:02.337173",
     "status": "completed"
    },
    "tags": []
   },
   "outputs": [],
   "source": [
    "# len(label_encoder.classes_)"
   ]
  },
  {
   "cell_type": "code",
   "execution_count": null,
   "id": "23035c69",
   "metadata": {
    "papermill": {
     "duration": 0.139032,
     "end_time": "2025-07-16T14:06:02.755562",
     "exception": false,
     "start_time": "2025-07-16T14:06:02.616530",
     "status": "completed"
    },
    "tags": []
   },
   "outputs": [],
   "source": []
  },
  {
   "cell_type": "markdown",
   "id": "7d78262b",
   "metadata": {
    "papermill": {
     "duration": 0.154552,
     "end_time": "2025-07-16T14:06:03.059590",
     "exception": false,
     "start_time": "2025-07-16T14:06:02.905038",
     "status": "completed"
    },
    "tags": []
   },
   "source": []
  }
 ],
 "metadata": {
  "kaggle": {
   "accelerator": "nvidiaTeslaT4",
   "dataSources": [
    {
     "datasetId": 4296838,
     "sourceId": 8961495,
     "sourceType": "datasetVersion"
    },
    {
     "datasetId": 7025689,
     "sourceId": 11244428,
     "sourceType": "datasetVersion"
    }
   ],
   "dockerImageVersionId": 30918,
   "isGpuEnabled": true,
   "isInternetEnabled": true,
   "language": "python",
   "sourceType": "notebook"
  },
  "kernelspec": {
   "display_name": "Python 3",
   "language": "python",
   "name": "python3"
  },
  "language_info": {
   "codemirror_mode": {
    "name": "ipython",
    "version": 3
   },
   "file_extension": ".py",
   "mimetype": "text/x-python",
   "name": "python",
   "nbconvert_exporter": "python",
   "pygments_lexer": "ipython3",
   "version": "3.10.12"
  },
  "papermill": {
   "default_parameters": {},
   "duration": 780.740888,
   "end_time": "2025-07-16T14:06:06.734207",
   "environment_variables": {},
   "exception": null,
   "input_path": "__notebook__.ipynb",
   "output_path": "__notebook__.ipynb",
   "parameters": {},
   "start_time": "2025-07-16T13:53:05.993319",
   "version": "2.6.0"
  }
 },
 "nbformat": 4,
 "nbformat_minor": 5
}
