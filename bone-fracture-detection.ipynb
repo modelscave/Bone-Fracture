{
 "cells": [
  {
   "cell_type": "code",
   "execution_count": 1,
   "id": "19b31370",
   "metadata": {
    "_cell_guid": "b1076dfc-b9ad-4769-8c92-a6c4dae69d19",
    "_uuid": "8f2839f25d086af736a60e9eeb907d3b93b6e0e5",
    "execution": {
     "iopub.execute_input": "2025-07-15T07:01:39.554123Z",
     "iopub.status.busy": "2025-07-15T07:01:39.553861Z",
     "iopub.status.idle": "2025-07-15T07:02:00.619427Z",
     "shell.execute_reply": "2025-07-15T07:02:00.618641Z"
    },
    "papermill": {
     "duration": 21.076345,
     "end_time": "2025-07-15T07:02:00.621057",
     "exception": false,
     "start_time": "2025-07-15T07:01:39.544712",
     "status": "completed"
    },
    "tags": []
   },
   "outputs": [],
   "source": [
    "# This Python 3 environment comes with many helpful analytics libraries installed\n",
    "# It is defined by the kaggle/python Docker image: https://github.com/kaggle/docker-python\n",
    "# For example, here's several helpful packages to load\n",
    "\n",
    "import numpy as np # linear algebra\n",
    "from collections import defaultdict\n",
    "import pandas as pd # data processing, CSV file I/O (e.g. pd.read_csv)\n",
    "import os \n",
    "import random\n",
    "import cv2\n",
    "from collections import Counter\n",
    "import tensorflow as tf\n",
    "import seaborn as sns\n",
    "import matplotlib.pyplot as plt\n",
    "from sklearn.preprocessing import LabelEncoder\n",
    "from tensorflow.keras.utils import load_img,img_to_array,to_categorical\n",
    "from tensorflow.keras.preprocessing.image import ImageDataGenerator\n",
    "from tensorflow.keras.applications import ResNet152V2, EfficientNetB0\n",
    "from tensorflow.keras.models import Sequential\n",
    "from tensorflow.keras import Input\n",
    "from tensorflow.keras import layers, models, callbacks\n",
    "from tensorflow.keras.layers import Dense, Flatten, Conv2D, MaxPool2D, AveragePooling2D\n",
    "from tensorflow.keras.callbacks import EarlyStopping\n",
    "from sklearn.metrics import classification_report\n",
    "\n",
    "# Input data files are available in the read-only \"../input/\" directory\n",
    "# For example, running this (by clicking run or pressing Shift+Enter) will list all files under the input directory\n",
    "\n",
    "# import os\n",
    "# for dirname, _, filenames in os.walk('/kaggle/input'):\n",
    "#     for filename in filenames:\n",
    "#         print(os.path.join(dirname, filename))\n",
    "\n",
    "# You can write up to 20GB to the current directory (/kaggle/working/) that gets preserved as output when you create a version using \"Save & Run All\" \n",
    "# You can also write temporary files to /kaggle/temp/, but they won't be saved outside of the current session"
   ]
  },
  {
   "cell_type": "code",
   "execution_count": 2,
   "id": "9f6c8781",
   "metadata": {
    "execution": {
     "iopub.execute_input": "2025-07-15T07:02:00.637434Z",
     "iopub.status.busy": "2025-07-15T07:02:00.637013Z",
     "iopub.status.idle": "2025-07-15T07:02:51.877722Z",
     "shell.execute_reply": "2025-07-15T07:02:51.876762Z"
    },
    "papermill": {
     "duration": 51.256496,
     "end_time": "2025-07-15T07:02:51.885625",
     "exception": false,
     "start_time": "2025-07-15T07:02:00.629129",
     "status": "completed"
    },
    "tags": []
   },
   "outputs": [
    {
     "name": "stdout",
     "output_type": "stream",
     "text": [
      "Loaded 3631 images, 3631 class labels, and 3631 sets of polygons.\n",
      "Loaded 348 images, 348 class labels, and 348 sets of polygons.\n",
      "Loaded 169 images, 169 class labels, and 169 sets of polygons.\n"
     ]
    }
   ],
   "source": [
    "TRAIN_IMAGE_DIR = '/kaggle/input/bone-fracture-detection-computer-vision-project/BoneFractureYolo8/train/images'\n",
    "TRAIN_LABEL_DIR = '/kaggle/input/bone-fracture-detection-computer-vision-project/BoneFractureYolo8/train/labels'\n",
    "VALID_IMAGE_DIR = '/kaggle/input/bone-fracture-detection-computer-vision-project/BoneFractureYolo8/valid/images'\n",
    "VALID_LABEL_DIR = '/kaggle/input/bone-fracture-detection-computer-vision-project/BoneFractureYolo8/valid/labels'\n",
    "TEST_IMAGE_DIR = '/kaggle/input/bone-fracture-detection-computer-vision-project/BoneFractureYolo8/test/images'\n",
    "TEST_LABEL_DIR = '/kaggle/input/bone-fracture-detection-computer-vision-project/BoneFractureYolo8/test/labels'\n",
    "\n",
    "TARGET_SIZE = [224, 224]\n",
    "\n",
    "def load_images_and_labels(image_dir, label_dir):\n",
    "    images = []\n",
    "    class_labels = []\n",
    "    polygons_list = []\n",
    "\n",
    "    for img_name in os.listdir(image_dir):\n",
    "        if img_name.endswith(\".jpg\") or img_name.endswith(\".png\"):\n",
    "            img_path = os.path.join(image_dir, img_name)\n",
    "            image = cv2.imread(img_path)\n",
    "            image = cv2.resize(image, TARGET_SIZE)\n",
    "            image = cv2.cvtColor(image, cv2.COLOR_BGR2RGB)\n",
    "\n",
    "            # Normalize\n",
    "            image = image.astype(np.float32) / 255.0\n",
    "\n",
    "            label_path = os.path.join(label_dir, img_name.replace(\".jpg\", \".txt\").replace(\".png\", \".txt\"))\n",
    "            polygons = []\n",
    "            classes = []\n",
    "\n",
    "            if os.path.exists(label_path):\n",
    "                with open(label_path, \"r\") as f:\n",
    "                    lines = f.read().strip().split(\"\\n\")\n",
    "                for line in lines:\n",
    "                    components = line.strip().split()\n",
    "                    if len(components) > 1:\n",
    "                        class_id = int(components[0])\n",
    "                        coords = list(map(float, components[1:]))\n",
    "                        # Only keep polygons with even number of coords\n",
    "                        if len(coords) % 2 == 0:\n",
    "                            classes.append(class_id)\n",
    "                            polygons.append(coords)\n",
    "\n",
    "            # Decide image-level class label\n",
    "            if classes:\n",
    "                image_level_label = classes[0]   # or use most frequent: max(set(classes), key=classes.count)\n",
    "            else:\n",
    "                image_level_label = 'no_fracture'  # your 'no_fracture' label\n",
    "\n",
    "            images.append(image)\n",
    "            class_labels.append(image_level_label)\n",
    "            polygons_list.append(polygons)\n",
    "\n",
    "    return np.array(images), np.array(class_labels), polygons_list\n",
    "\n",
    "\n",
    "# Load images, class labels, and polygons\n",
    "train_images, train_class_labels, train_polygons = load_images_and_labels(TRAIN_IMAGE_DIR, TRAIN_LABEL_DIR)\n",
    "valid_images, valid_class_labels, valid_polygons = load_images_and_labels(VALID_IMAGE_DIR, VALID_LABEL_DIR)\n",
    "test_images, test_class_labels, test_polygons = load_images_and_labels(TEST_IMAGE_DIR, TEST_LABEL_DIR)\n",
    "\n",
    "print(f\"Loaded {len(train_images)} images, {len(train_class_labels)} class labels, and {len(train_polygons)} sets of polygons.\")\n",
    "print(f\"Loaded {len(valid_images)} images, {len(valid_class_labels)} class labels, and {len(valid_polygons)} sets of polygons.\")\n",
    "print(f\"Loaded {len(test_images)} images, {len(test_class_labels)} class labels, and {len(test_polygons)} sets of polygons.\")"
   ]
  },
  {
   "cell_type": "code",
   "execution_count": 3,
   "id": "c763572e",
   "metadata": {
    "execution": {
     "iopub.execute_input": "2025-07-15T07:02:51.901048Z",
     "iopub.status.busy": "2025-07-15T07:02:51.900789Z",
     "iopub.status.idle": "2025-07-15T07:02:52.188679Z",
     "shell.execute_reply": "2025-07-15T07:02:52.187832Z"
    },
    "papermill": {
     "duration": 0.297135,
     "end_time": "2025-07-15T07:02:52.190026",
     "exception": false,
     "start_time": "2025-07-15T07:02:51.892891",
     "status": "completed"
    },
    "tags": []
   },
   "outputs": [
    {
     "name": "stderr",
     "output_type": "stream",
     "text": [
      "/usr/local/lib/python3.10/dist-packages/seaborn/_oldcore.py:1119: FutureWarning: use_inf_as_na option is deprecated and will be removed in a future version. Convert inf values to NaN before operating instead.\n",
      "  with pd.option_context('mode.use_inf_as_na', True):\n"
     ]
    },
    {
     "data": {
      "image/png": "[encoded data removed]",
      "text/plain": [
       "<Figure size 500x500 with 1 Axes>"
      ]
     },
     "metadata": {},
     "output_type": "display_data"
    }
   ],
   "source": [
    "len_train_polygons=[]\n",
    "for k in range(len(train_polygons)):\n",
    "    a = len(train_polygons[k])\n",
    "    len_train_polygons.append(a)\n",
    "plt.subplots(figsize=(5,5))\n",
    "sns.histplot(len_train_polygons,binwidth=1)\n",
    "plt.xticks(np.arange(1, 5, 1))\n",
    "plt.show()"
   ]
  },
  {
   "cell_type": "code",
   "execution_count": 4,
   "id": "0c9989e3",
   "metadata": {
    "execution": {
     "iopub.execute_input": "2025-07-15T07:02:52.206080Z",
     "iopub.status.busy": "2025-07-15T07:02:52.205829Z",
     "iopub.status.idle": "2025-07-15T07:02:52.346940Z",
     "shell.execute_reply": "2025-07-15T07:02:52.345992Z"
    },
    "papermill": {
     "duration": 0.150521,
     "end_time": "2025-07-15T07:02:52.348441",
     "exception": false,
     "start_time": "2025-07-15T07:02:52.197920",
     "status": "completed"
    },
    "tags": []
   },
   "outputs": [
    {
     "name": "stderr",
     "output_type": "stream",
     "text": [
      "/usr/local/lib/python3.10/dist-packages/seaborn/_oldcore.py:1119: FutureWarning: use_inf_as_na option is deprecated and will be removed in a future version. Convert inf values to NaN before operating instead.\n",
      "  with pd.option_context('mode.use_inf_as_na', True):\n"
     ]
    },
    {
     "data": {
      "image/png": "[encoded data removed]",
      "text/plain": [
       "<Figure size 500x500 with 1 Axes>"
      ]
     },
     "metadata": {},
     "output_type": "display_data"
    }
   ],
   "source": [
    "len_valid_polygons=[]\n",
    "for k in range(len(valid_polygons)):\n",
    "    a = len(valid_polygons[k])\n",
    "    len_valid_polygons.append(a)\n",
    "plt.subplots(figsize=(5,5))\n",
    "sns.histplot(len_valid_polygons,binwidth=1)\n",
    "plt.xticks(np.arange(1, 5, 1))\n",
    "plt.show()"
   ]
  },
  {
   "cell_type": "code",
   "execution_count": 5,
   "id": "1a746192",
   "metadata": {
    "execution": {
     "iopub.execute_input": "2025-07-15T07:02:52.365646Z",
     "iopub.status.busy": "2025-07-15T07:02:52.365387Z",
     "iopub.status.idle": "2025-07-15T07:02:52.493129Z",
     "shell.execute_reply": "2025-07-15T07:02:52.492399Z"
    },
    "papermill": {
     "duration": 0.13745,
     "end_time": "2025-07-15T07:02:52.494298",
     "exception": false,
     "start_time": "2025-07-15T07:02:52.356848",
     "status": "completed"
    },
    "tags": []
   },
   "outputs": [
    {
     "name": "stderr",
     "output_type": "stream",
     "text": [
      "/usr/local/lib/python3.10/dist-packages/seaborn/_oldcore.py:1119: FutureWarning: use_inf_as_na option is deprecated and will be removed in a future version. Convert inf values to NaN before operating instead.\n",
      "  with pd.option_context('mode.use_inf_as_na', True):\n"
     ]
    },
    {
     "data": {
      "image/png": "[encoded data removed]",
      "text/plain": [
       "<Figure size 500x500 with 1 Axes>"
      ]
     },
     "metadata": {},
     "output_type": "display_data"
    }
   ],
   "source": [
    "len_test_polygons=[]\n",
    "for k in range(len(test_polygons)):\n",
    "    a = len(test_polygons[k])\n",
    "    len_test_polygons.append(a)\n",
    "plt.subplots(figsize=(5,5))\n",
    "sns.histplot(len_test_polygons,binwidth=1)\n",
    "plt.xticks(np.arange(1, 5, 1))\n",
    "plt.show()"
   ]
  },
  {
   "cell_type": "code",
   "execution_count": 6,
   "id": "40467d53",
   "metadata": {
    "execution": {
     "iopub.execute_input": "2025-07-15T07:02:52.512279Z",
     "iopub.status.busy": "2025-07-15T07:02:52.512059Z",
     "iopub.status.idle": "2025-07-15T07:02:52.515198Z",
     "shell.execute_reply": "2025-07-15T07:02:52.514580Z"
    },
    "papermill": {
     "duration": 0.013367,
     "end_time": "2025-07-15T07:02:52.516452",
     "exception": false,
     "start_time": "2025-07-15T07:02:52.503085",
     "status": "completed"
    },
    "tags": []
   },
   "outputs": [],
   "source": [
    "# TARGET_SIZE = [225, 225]\n",
    "\n",
    "# def load_images_and_labels(image_dir, label_dir):\n",
    "#     images = []\n",
    "#     class_labels = []\n",
    "#     polygons = []\n",
    "\n",
    "#     for img_name in os.listdir(image_dir):\n",
    "#         if img_name.endswith(\".jpg\") or img_name.endswith(\".png\"):\n",
    "#             img_path = os.path.join(image_dir, img_name)\n",
    "#             image = cv2.imread(img_path)\n",
    "#             image = cv2.resize(image, TARGET_SIZE)\n",
    "#             image = cv2.cvtColor(image, cv2.COLOR_BGR2RGB)\n",
    "\n",
    "#             label_path = os.path.join(label_dir, img_name.replace(\".jpg\", \".txt\").replace(\".png\", \".txt\"))\n",
    "#             with open(label_path, \"r\") as f:\n",
    "#                 label_content = f.read().strip()\n",
    "\n",
    "#             if label_content:\n",
    "#                 components = label_content.split()\n",
    "#                 class_label = components[0]\n",
    "#                 polygon_coords = list(map(float, components[1:]))\n",
    "\n",
    "#                 # 🧐 Check: polygon length must be even\n",
    "#                 if len(polygon_coords) % 2 != 0:\n",
    "#                     #print(f\"⚠ Skipping {img_name}: odd polygon length ({len(polygon_coords)})\")\n",
    "#                     continue\n",
    "#             else:\n",
    "#                 class_label = 'no_fracture'\n",
    "#                 polygon_coords = []\n",
    "\n",
    "#             images.append(image)\n",
    "#             class_labels.append(class_label)\n",
    "#             polygons.append(polygon_coords)\n",
    "\n",
    "#     return np.array(images), np.array(class_labels), polygons\n"
   ]
  },
  {
   "cell_type": "code",
   "execution_count": 7,
   "id": "54698ed0",
   "metadata": {
    "execution": {
     "iopub.execute_input": "2025-07-15T07:02:52.533264Z",
     "iopub.status.busy": "2025-07-15T07:02:52.533063Z",
     "iopub.status.idle": "2025-07-15T07:02:52.535681Z",
     "shell.execute_reply": "2025-07-15T07:02:52.535096Z"
    },
    "papermill": {
     "duration": 0.012314,
     "end_time": "2025-07-15T07:02:52.536935",
     "exception": false,
     "start_time": "2025-07-15T07:02:52.524621",
     "status": "completed"
    },
    "tags": []
   },
   "outputs": [],
   "source": [
    "# train_images, train_class_labels, train_polygons = load_images_and_labels(TRAIN_IMAGE_DIR, TRAIN_LABEL_DIR)\n",
    "# valid_images, valid_class_labels, valid_polygons = load_images_and_labels(VALID_IMAGE_DIR, VALID_LABEL_DIR)\n",
    "# test_images, test_class_labels, test_polygons = load_images_and_labels(TEST_IMAGE_DIR, TEST_LABEL_DIR)\n",
    "\n",
    "# print(f\"Loaded {len(train_images)} images, {len(train_class_labels)} class labels, and {len(train_polygons)} sets of polygons.\")\n",
    "# print(f\"Loaded {len(valid_images)} images, {len(valid_class_labels)} class labels, and {len(valid_polygons)} sets of polygons.\")\n",
    "# print(f\"Loaded {len(test_images)} images, {len(test_class_labels)} class labels, and {len(test_polygons)} sets of polygons.\")"
   ]
  },
  {
   "cell_type": "code",
   "execution_count": 8,
   "id": "27ea521e",
   "metadata": {
    "execution": {
     "iopub.execute_input": "2025-07-15T07:02:52.553742Z",
     "iopub.status.busy": "2025-07-15T07:02:52.553490Z",
     "iopub.status.idle": "2025-07-15T07:02:52.556316Z",
     "shell.execute_reply": "2025-07-15T07:02:52.555753Z"
    },
    "papermill": {
     "duration": 0.012711,
     "end_time": "2025-07-15T07:02:52.557615",
     "exception": false,
     "start_time": "2025-07-15T07:02:52.544904",
     "status": "completed"
    },
    "tags": []
   },
   "outputs": [],
   "source": [
    "# def visualize_images_with_polygons(images, class_labels, polygons_list, num_samples=20):\n",
    "#     plt.figure(figsize=(20, 12))\n",
    "    \n",
    "#     indices = random.sample(range(len(images)), min(num_samples, len(images)))\n",
    "#     print(indices)\n",
    "    \n",
    "#     for i, idx in enumerate(indices):\n",
    "#         img = images[idx].copy()\n",
    "#         label = class_labels[idx]\n",
    "#         polygons = polygons_list[idx]\n",
    "\n",
    "#         # Draw all polygons for this image\n",
    "#         for poly in polygons:\n",
    "#             if poly and len(poly) >= 4:\n",
    "#                 pts = np.array(poly).reshape(-1, 2)\n",
    "\n",
    "#                 # If coords are normalized (max <=1.1), scale to image size\n",
    "#                 if np.max(pts) <= 1.1:\n",
    "#                     pts[:, 0] *= img.shape[1]\n",
    "#                     pts[:, 1] *= img.shape[0]\n",
    "\n",
    "#                 pts = pts.astype(np.int32).reshape((-1,1,2))\n",
    "#                 img = cv2.polylines(img, [pts], isClosed=True, color=(255,0,0), thickness=2)\n",
    "\n",
    "#         plt.figure(figsize=(30,30))\n",
    "#         plt.subplot(4, 5, i+1)\n",
    "#         plt.imshow(img)\n",
    "#         plt.title(f\"Label: {label}\")\n",
    "#         plt.axis('off')\n",
    "        \n",
    "#     plt.tight_layout()\n",
    "#     plt.show()"
   ]
  },
  {
   "cell_type": "code",
   "execution_count": 9,
   "id": "dcf8c0bf",
   "metadata": {
    "execution": {
     "iopub.execute_input": "2025-07-15T07:02:52.574288Z",
     "iopub.status.busy": "2025-07-15T07:02:52.574092Z",
     "iopub.status.idle": "2025-07-15T07:02:52.576828Z",
     "shell.execute_reply": "2025-07-15T07:02:52.576163Z"
    },
    "papermill": {
     "duration": 0.012351,
     "end_time": "2025-07-15T07:02:52.578021",
     "exception": false,
     "start_time": "2025-07-15T07:02:52.565670",
     "status": "completed"
    },
    "tags": []
   },
   "outputs": [],
   "source": [
    "# visualize_images_with_polygons(train_images, train_class_labels, train_polygons, num_samples=1)"
   ]
  },
  {
   "cell_type": "code",
   "execution_count": 10,
   "id": "ecd68951",
   "metadata": {
    "execution": {
     "iopub.execute_input": "2025-07-15T07:02:52.594414Z",
     "iopub.status.busy": "2025-07-15T07:02:52.594216Z",
     "iopub.status.idle": "2025-07-15T07:02:52.769942Z",
     "shell.execute_reply": "2025-07-15T07:02:52.768977Z"
    },
    "papermill": {
     "duration": 0.185383,
     "end_time": "2025-07-15T07:02:52.771327",
     "exception": false,
     "start_time": "2025-07-15T07:02:52.585944",
     "status": "completed"
    },
    "tags": []
   },
   "outputs": [
    {
     "name": "stderr",
     "output_type": "stream",
     "text": [
      "/usr/local/lib/python3.10/dist-packages/seaborn/_oldcore.py:1119: FutureWarning: use_inf_as_na option is deprecated and will be removed in a future version. Convert inf values to NaN before operating instead.\n",
      "  with pd.option_context('mode.use_inf_as_na', True):\n"
     ]
    },
    {
     "data": {
      "text/plain": [
       "<Axes: ylabel='Count'>"
      ]
     },
     "execution_count": 10,
     "metadata": {},
     "output_type": "execute_result"
    },
    {
     "data": {
      "image/png": "[encoded data removed]",
      "text/plain": [
       "<Figure size 640x480 with 1 Axes>"
      ]
     },
     "metadata": {},
     "output_type": "display_data"
    }
   ],
   "source": [
    "sns.histplot(train_class_labels)"
   ]
  },
  {
   "cell_type": "code",
   "execution_count": 11,
   "id": "fbbbeda5",
   "metadata": {
    "execution": {
     "iopub.execute_input": "2025-07-15T07:02:52.789667Z",
     "iopub.status.busy": "2025-07-15T07:02:52.789378Z",
     "iopub.status.idle": "2025-07-15T07:02:52.795783Z",
     "shell.execute_reply": "2025-07-15T07:02:52.794964Z"
    },
    "papermill": {
     "duration": 0.016824,
     "end_time": "2025-07-15T07:02:52.797161",
     "exception": false,
     "start_time": "2025-07-15T07:02:52.780337",
     "status": "completed"
    },
    "tags": []
   },
   "outputs": [
    {
     "data": {
      "text/plain": [
       "168"
      ]
     },
     "execution_count": 11,
     "metadata": {},
     "output_type": "execute_result"
    }
   ],
   "source": [
    "a = []\n",
    "for i in range(len(train_class_labels)):\n",
    "    if train_class_labels[i] == '6':\n",
    "        a.append(train_class_labels[i])\n",
    "\n",
    "len(a)"
   ]
  },
  {
   "cell_type": "code",
   "execution_count": 12,
   "id": "2058a225",
   "metadata": {
    "execution": {
     "iopub.execute_input": "2025-07-15T07:02:52.814713Z",
     "iopub.status.busy": "2025-07-15T07:02:52.814422Z",
     "iopub.status.idle": "2025-07-15T07:02:52.820217Z",
     "shell.execute_reply": "2025-07-15T07:02:52.819371Z"
    },
    "papermill": {
     "duration": 0.015918,
     "end_time": "2025-07-15T07:02:52.821411",
     "exception": false,
     "start_time": "2025-07-15T07:02:52.805493",
     "status": "completed"
    },
    "tags": []
   },
   "outputs": [
    {
     "name": "stdout",
     "output_type": "stream",
     "text": [
      "['0' '1' '2' '4' '5' '6' 'no_fracture']\n"
     ]
    }
   ],
   "source": [
    "label_encoder = LabelEncoder()\n",
    "train_labels_enc = label_encoder.fit_transform(train_class_labels)\n",
    "valid_labels_enc = label_encoder.transform(valid_class_labels)\n",
    "test_labels_enc = label_encoder.transform(test_class_labels)\n",
    "\n",
    "print(label_encoder.classes_)  # to know the actual labels"
   ]
  },
  {
   "cell_type": "code",
   "execution_count": 13,
   "id": "fbc4d4b6",
   "metadata": {
    "execution": {
     "iopub.execute_input": "2025-07-15T07:02:52.839215Z",
     "iopub.status.busy": "2025-07-15T07:02:52.838979Z",
     "iopub.status.idle": "2025-07-15T07:02:53.465093Z",
     "shell.execute_reply": "2025-07-15T07:02:53.464094Z"
    },
    "papermill": {
     "duration": 0.637007,
     "end_time": "2025-07-15T07:02:53.466930",
     "exception": false,
     "start_time": "2025-07-15T07:02:52.829923",
     "status": "completed"
    },
    "tags": []
   },
   "outputs": [],
   "source": [
    "\n",
    "# Example: train_images = np.array([...]), train_labels = np.array([...])\n",
    "class_groups = defaultdict(list)\n",
    "\n",
    "for img, label in zip(train_images, train_labels_enc):  # assuming integer-encoded labels\n",
    "    class_groups[label].append(img)\n",
    "\n",
    "# Convert lists to arrays\n",
    "for k in class_groups:\n",
    "    class_groups[k] = np.array(class_groups[k])"
   ]
  },
  {
   "cell_type": "code",
   "execution_count": 14,
   "id": "9195e2db",
   "metadata": {
    "execution": {
     "iopub.execute_input": "2025-07-15T07:02:53.485308Z",
     "iopub.status.busy": "2025-07-15T07:02:53.485050Z",
     "iopub.status.idle": "2025-07-15T07:02:54.228772Z",
     "shell.execute_reply": "2025-07-15T07:02:54.227629Z"
    },
    "papermill": {
     "duration": 0.754687,
     "end_time": "2025-07-15T07:02:54.230411",
     "exception": false,
     "start_time": "2025-07-15T07:02:53.475724",
     "status": "completed"
    },
    "tags": []
   },
   "outputs": [
    {
     "name": "stdout",
     "output_type": "stream",
     "text": [
      "(array([0, 1]), array([1827, 1804]))\n"
     ]
    }
   ],
   "source": [
    "no_fracture_label = 6 \n",
    "train_images_list, train_labels_list = [], []\n",
    "\n",
    "for label, images in class_groups.items():\n",
    "    if len(images) == 0:\n",
    "        continue\n",
    "    if label == no_fracture_label:\n",
    "        train_images_list.append(images)\n",
    "        train_labels_list.extend([0] * len(images))\n",
    "    else:\n",
    "        train_images_list.append(images)\n",
    "        train_labels_list.extend([1] * len(images))\n",
    "\n",
    "train_images = np.concatenate(train_images_list, axis=0)\n",
    "train_labels = np.array(train_labels_list)\n",
    "\n",
    "print(np.unique(train_labels, return_counts=True))"
   ]
  },
  {
   "cell_type": "code",
   "execution_count": 15,
   "id": "8974b7e4",
   "metadata": {
    "execution": {
     "iopub.execute_input": "2025-07-15T07:02:54.250199Z",
     "iopub.status.busy": "2025-07-15T07:02:54.249976Z",
     "iopub.status.idle": "2025-07-15T07:02:54.327653Z",
     "shell.execute_reply": "2025-07-15T07:02:54.326854Z"
    },
    "papermill": {
     "duration": 0.088517,
     "end_time": "2025-07-15T07:02:54.329242",
     "exception": false,
     "start_time": "2025-07-15T07:02:54.240725",
     "status": "completed"
    },
    "tags": []
   },
   "outputs": [],
   "source": [
    "# Example: train_images = np.array([...]), train_labels = np.array([...])\n",
    "class_groups_1 = defaultdict(list)\n",
    "\n",
    "for img, label in zip(valid_images, valid_labels_enc):  # assuming integer-encoded labels\n",
    "    class_groups_1[label].append(img)\n",
    "\n",
    "# Convert lists to arrays\n",
    "for k in class_groups_1:\n",
    "    class_groups_1[k] = np.array(class_groups_1[k])"
   ]
  },
  {
   "cell_type": "code",
   "execution_count": 16,
   "id": "f78700e9",
   "metadata": {
    "execution": {
     "iopub.execute_input": "2025-07-15T07:02:54.350791Z",
     "iopub.status.busy": "2025-07-15T07:02:54.350469Z",
     "iopub.status.idle": "2025-07-15T07:02:54.432305Z",
     "shell.execute_reply": "2025-07-15T07:02:54.431250Z"
    },
    "papermill": {
     "duration": 0.094326,
     "end_time": "2025-07-15T07:02:54.433837",
     "exception": false,
     "start_time": "2025-07-15T07:02:54.339511",
     "status": "completed"
    },
    "tags": []
   },
   "outputs": [
    {
     "name": "stdout",
     "output_type": "stream",
     "text": [
      "(array([0, 1]), array([175, 173]))\n"
     ]
    }
   ],
   "source": [
    "\n",
    "valid_images_list, valid_labels_list = [], []\n",
    "\n",
    "for label, images in class_groups_1.items():\n",
    "    if len(images) == 0:\n",
    "        continue\n",
    "    if label == no_fracture_label:\n",
    "        valid_images_list.append(images)\n",
    "        valid_labels_list.extend([0] * len(images))\n",
    "    else:\n",
    "        valid_images_list.append(images)\n",
    "        valid_labels_list.extend([1] * len(images))\n",
    "\n",
    "valid_images = np.concatenate(valid_images_list, axis=0)\n",
    "valid_labels = np.array(valid_labels_list)\n",
    "\n",
    "print(np.unique(valid_labels, return_counts=True))# no_fracture_label = 0 (adjust if needed)"
   ]
  },
  {
   "cell_type": "code",
   "execution_count": 17,
   "id": "b52e4b83",
   "metadata": {
    "execution": {
     "iopub.execute_input": "2025-07-15T07:02:54.452615Z",
     "iopub.status.busy": "2025-07-15T07:02:54.452321Z",
     "iopub.status.idle": "2025-07-15T07:02:54.495247Z",
     "shell.execute_reply": "2025-07-15T07:02:54.494506Z"
    },
    "papermill": {
     "duration": 0.053826,
     "end_time": "2025-07-15T07:02:54.496911",
     "exception": false,
     "start_time": "2025-07-15T07:02:54.443085",
     "status": "completed"
    },
    "tags": []
   },
   "outputs": [],
   "source": [
    "# Example: train_images = np.array([...]), train_labels = np.array([...])\n",
    "class_groups_2 = defaultdict(list)\n",
    "\n",
    "for img, label in zip(test_images, test_labels_enc):  # assuming integer-encoded labels\n",
    "    class_groups_2[label].append(img)\n",
    "\n",
    "# Convert lists to arrays\n",
    "for k in class_groups_2:\n",
    "    class_groups_2[k] = np.array(class_groups_2[k])"
   ]
  },
  {
   "cell_type": "code",
   "execution_count": 18,
   "id": "fda04312",
   "metadata": {
    "execution": {
     "iopub.execute_input": "2025-07-15T07:02:54.515657Z",
     "iopub.status.busy": "2025-07-15T07:02:54.515370Z",
     "iopub.status.idle": "2025-07-15T07:02:54.555919Z",
     "shell.execute_reply": "2025-07-15T07:02:54.555092Z"
    },
    "papermill": {
     "duration": 0.051465,
     "end_time": "2025-07-15T07:02:54.557359",
     "exception": false,
     "start_time": "2025-07-15T07:02:54.505894",
     "status": "completed"
    },
    "tags": []
   },
   "outputs": [
    {
     "name": "stdout",
     "output_type": "stream",
     "text": [
      "(array([0, 1]), array([86, 83]))\n"
     ]
    }
   ],
   "source": [
    "# no_fracture_label = 0 (adjust if needed)\n",
    "test_images_list, test_labels_list = [], []\n",
    "\n",
    "for label, images in class_groups_2.items():\n",
    "    if len(images) == 0:\n",
    "        continue\n",
    "    if label == no_fracture_label:\n",
    "        test_images_list.append(images)\n",
    "        test_labels_list.extend([0] * len(images))\n",
    "    else:\n",
    "        test_images_list.append(images)\n",
    "        test_labels_list.extend([1] * len(images))\n",
    "\n",
    "test_images = np.concatenate(test_images_list, axis=0)\n",
    "test_labels = np.array(test_labels_list)\n",
    "\n",
    "print(np.unique(test_labels, return_counts=True))"
   ]
  },
  {
   "cell_type": "code",
   "execution_count": 19,
   "id": "8d19fb3c",
   "metadata": {
    "execution": {
     "iopub.execute_input": "2025-07-15T07:02:54.576302Z",
     "iopub.status.busy": "2025-07-15T07:02:54.576077Z",
     "iopub.status.idle": "2025-07-15T07:02:54.579026Z",
     "shell.execute_reply": "2025-07-15T07:02:54.578413Z"
    },
    "papermill": {
     "duration": 0.013661,
     "end_time": "2025-07-15T07:02:54.580226",
     "exception": false,
     "start_time": "2025-07-15T07:02:54.566565",
     "status": "completed"
    },
    "tags": []
   },
   "outputs": [],
   "source": [
    "# counter = Counter(train_labels)\n",
    "# max_count = max(counter.values())\n",
    "\n",
    "# balanced_images, balanced_labels = [], []\n",
    "\n",
    "# for cls in [0,1]:\n",
    "#     images = train_images[train_labels == cls]\n",
    "#     count_needed = max_count - len(images)\n",
    "\n",
    "#     # Always add original images\n",
    "#     balanced_images.extend(images)\n",
    "#     balanced_labels.extend([cls] * len(images))\n",
    "\n",
    "#     # Add augmented images\n",
    "#     for i in range(count_needed):\n",
    "#         img = images[i % len(images)]\n",
    "#         img = tf.image.random_flip_left_right(img)\n",
    "#         img = tf.image.random_brightness(img, max_delta=0.1)\n",
    "#         img = tf.image.random_contrast(img, 0.9, 1.1)\n",
    "#         img = tf.image.resize(img, (225, 225))\n",
    "#         balanced_images.append(img.numpy())\n",
    "#         balanced_labels.append(cls)\n",
    "\n",
    "# balanced_images = np.array(balanced_images)\n",
    "# balanced_labels = np.array(balanced_labels)\n",
    "\n",
    "# print(\"Balanced counts:\", Counter(balanced_labels))"
   ]
  },
  {
   "cell_type": "code",
   "execution_count": 20,
   "id": "41df6643",
   "metadata": {
    "execution": {
     "iopub.execute_input": "2025-07-15T07:02:54.598147Z",
     "iopub.status.busy": "2025-07-15T07:02:54.597927Z",
     "iopub.status.idle": "2025-07-15T07:02:54.600565Z",
     "shell.execute_reply": "2025-07-15T07:02:54.599967Z"
    },
    "papermill": {
     "duration": 0.012942,
     "end_time": "2025-07-15T07:02:54.601848",
     "exception": false,
     "start_time": "2025-07-15T07:02:54.588906",
     "status": "completed"
    },
    "tags": []
   },
   "outputs": [],
   "source": [
    "# for i in range(count_needed):\n",
    "#         img = images[i % len(images)]\n",
    "#         img = tf.image.random_flip_left_right(img)\n",
    "#         img = tf.image.random_brightness(img, max_delta=0.1)\n",
    "#         img = tf.image.random_contrast(img, 0.9, 1.1)\n",
    "#         img = tf.image.resize(img, (225, 225))\n",
    "#         balanced_images.append(img.numpy())\n",
    "#         balanced_labels.append(cls)"
   ]
  },
  {
   "cell_type": "code",
   "execution_count": 21,
   "id": "b9389d81",
   "metadata": {
    "execution": {
     "iopub.execute_input": "2025-07-15T07:02:54.619962Z",
     "iopub.status.busy": "2025-07-15T07:02:54.619731Z",
     "iopub.status.idle": "2025-07-15T07:02:54.622708Z",
     "shell.execute_reply": "2025-07-15T07:02:54.621908Z"
    },
    "papermill": {
     "duration": 0.01312,
     "end_time": "2025-07-15T07:02:54.623891",
     "exception": false,
     "start_time": "2025-07-15T07:02:54.610771",
     "status": "completed"
    },
    "tags": []
   },
   "outputs": [],
   "source": [
    "# plt.imshow(train_images[1])"
   ]
  },
  {
   "cell_type": "code",
   "execution_count": 22,
   "id": "b301a5a4",
   "metadata": {
    "execution": {
     "iopub.execute_input": "2025-07-15T07:02:54.641861Z",
     "iopub.status.busy": "2025-07-15T07:02:54.641640Z",
     "iopub.status.idle": "2025-07-15T07:02:54.644660Z",
     "shell.execute_reply": "2025-07-15T07:02:54.643703Z"
    },
    "papermill": {
     "duration": 0.01366,
     "end_time": "2025-07-15T07:02:54.646091",
     "exception": false,
     "start_time": "2025-07-15T07:02:54.632431",
     "status": "completed"
    },
    "tags": []
   },
   "outputs": [],
   "source": [
    "# train_images = train_images / 255.0\n",
    "# valid_images = valid_images / 255.0\n",
    "# test_images = test_images / 255.0"
   ]
  },
  {
   "cell_type": "code",
   "execution_count": 23,
   "id": "43af3a52",
   "metadata": {
    "execution": {
     "iopub.execute_input": "2025-07-15T07:02:54.664072Z",
     "iopub.status.busy": "2025-07-15T07:02:54.663878Z",
     "iopub.status.idle": "2025-07-15T07:02:54.666314Z",
     "shell.execute_reply": "2025-07-15T07:02:54.665753Z"
    },
    "papermill": {
     "duration": 0.012745,
     "end_time": "2025-07-15T07:02:54.667592",
     "exception": false,
     "start_time": "2025-07-15T07:02:54.654847",
     "status": "completed"
    },
    "tags": []
   },
   "outputs": [],
   "source": [
    "# train_images = train_images * 255.0\n",
    "# valid_images = valid_images * 255.0\n",
    "# test_images = test_images * 255.0"
   ]
  },
  {
   "cell_type": "code",
   "execution_count": 24,
   "id": "ce9e08b5",
   "metadata": {
    "execution": {
     "iopub.execute_input": "2025-07-15T07:02:54.685428Z",
     "iopub.status.busy": "2025-07-15T07:02:54.685223Z",
     "iopub.status.idle": "2025-07-15T07:03:02.324494Z",
     "shell.execute_reply": "2025-07-15T07:03:02.323759Z"
    },
    "papermill": {
     "duration": 7.650033,
     "end_time": "2025-07-15T07:03:02.326185",
     "exception": false,
     "start_time": "2025-07-15T07:02:54.676152",
     "status": "completed"
    },
    "tags": []
   },
   "outputs": [],
   "source": [
    "BATCH_SIZE = 32\n",
    "\n",
    "train_ds = tf.data.Dataset.from_tensor_slices((train_images, train_labels))\n",
    "train_ds = train_ds.shuffle(1000).batch(BATCH_SIZE)\n",
    "\n",
    "valid_ds = tf.data.Dataset.from_tensor_slices((valid_images, valid_labels)).shuffle(1000).batch(BATCH_SIZE)\n",
    "\n",
    "test_ds  = tf.data.Dataset.from_tensor_slices((test_images, test_labels)).shuffle(1000).batch(BATCH_SIZE)\n",
    "\n"
   ]
  },
  {
   "cell_type": "code",
   "execution_count": 25,
   "id": "b4c2094c",
   "metadata": {
    "execution": {
     "iopub.execute_input": "2025-07-15T07:03:02.345858Z",
     "iopub.status.busy": "2025-07-15T07:03:02.345614Z",
     "iopub.status.idle": "2025-07-15T07:03:02.348378Z",
     "shell.execute_reply": "2025-07-15T07:03:02.347768Z"
    },
    "papermill": {
     "duration": 0.013786,
     "end_time": "2025-07-15T07:03:02.349608",
     "exception": false,
     "start_time": "2025-07-15T07:03:02.335822",
     "status": "completed"
    },
    "tags": []
   },
   "outputs": [],
   "source": [
    "# valid_ds = tf.data.Dataset.from_tensor_slices((valid_images, valid_labels_enc)).shuffle(1000).batch(BATCH_SIZE)"
   ]
  },
  {
   "cell_type": "code",
   "execution_count": 26,
   "id": "42ecd9f8",
   "metadata": {
    "execution": {
     "iopub.execute_input": "2025-07-15T07:03:02.368106Z",
     "iopub.status.busy": "2025-07-15T07:03:02.367871Z",
     "iopub.status.idle": "2025-07-15T07:03:02.370884Z",
     "shell.execute_reply": "2025-07-15T07:03:02.370079Z"
    },
    "papermill": {
     "duration": 0.013546,
     "end_time": "2025-07-15T07:03:02.372061",
     "exception": false,
     "start_time": "2025-07-15T07:03:02.358515",
     "status": "completed"
    },
    "tags": []
   },
   "outputs": [],
   "source": [
    "# test_ds  = tf.data.Dataset.from_tensor_slices((test_images, test_labels_enc)).shuffle(1000).batch(BATCH_SIZE)"
   ]
  },
  {
   "cell_type": "code",
   "execution_count": 27,
   "id": "e2496554",
   "metadata": {
    "execution": {
     "iopub.execute_input": "2025-07-15T07:03:02.390724Z",
     "iopub.status.busy": "2025-07-15T07:03:02.390474Z",
     "iopub.status.idle": "2025-07-15T07:03:02.594372Z",
     "shell.execute_reply": "2025-07-15T07:03:02.593546Z"
    },
    "papermill": {
     "duration": 0.215123,
     "end_time": "2025-07-15T07:03:02.595888",
     "exception": false,
     "start_time": "2025-07-15T07:03:02.380765",
     "status": "completed"
    },
    "tags": []
   },
   "outputs": [
    {
     "name": "stderr",
     "output_type": "stream",
     "text": [
      "/usr/local/lib/python3.10/dist-packages/seaborn/_oldcore.py:1119: FutureWarning: use_inf_as_na option is deprecated and will be removed in a future version. Convert inf values to NaN before operating instead.\n",
      "  with pd.option_context('mode.use_inf_as_na', True):\n"
     ]
    },
    {
     "data": {
      "text/plain": [
       "<Axes: ylabel='Count'>"
      ]
     },
     "execution_count": 27,
     "metadata": {},
     "output_type": "execute_result"
    },
    {
     "data": {
      "image/png": "[encoded data removed]",
      "text/plain": [
       "<Figure size 640x480 with 1 Axes>"
      ]
     },
     "metadata": {},
     "output_type": "display_data"
    }
   ],
   "source": [
    "sns.histplot(train_labels)"
   ]
  },
  {
   "cell_type": "code",
   "execution_count": 28,
   "id": "db4f3c5e",
   "metadata": {
    "execution": {
     "iopub.execute_input": "2025-07-15T07:03:02.617038Z",
     "iopub.status.busy": "2025-07-15T07:03:02.616790Z",
     "iopub.status.idle": "2025-07-15T07:03:02.632260Z",
     "shell.execute_reply": "2025-07-15T07:03:02.631398Z"
    },
    "papermill": {
     "duration": 0.026721,
     "end_time": "2025-07-15T07:03:02.633645",
     "exception": false,
     "start_time": "2025-07-15T07:03:02.606924",
     "status": "completed"
    },
    "tags": []
   },
   "outputs": [],
   "source": [
    "optimizer = tf.keras.optimizers.AdamW(learning_rate=1e-4)"
   ]
  },
  {
   "cell_type": "code",
   "execution_count": 29,
   "id": "18ad085c",
   "metadata": {
    "execution": {
     "iopub.execute_input": "2025-07-15T07:03:02.652894Z",
     "iopub.status.busy": "2025-07-15T07:03:02.652671Z",
     "iopub.status.idle": "2025-07-15T07:05:05.389648Z",
     "shell.execute_reply": "2025-07-15T07:05:05.388830Z"
    },
    "papermill": {
     "duration": 122.748153,
     "end_time": "2025-07-15T07:05:05.391209",
     "exception": false,
     "start_time": "2025-07-15T07:03:02.643056",
     "status": "completed"
    },
    "tags": []
   },
   "outputs": [
    {
     "name": "stdout",
     "output_type": "stream",
     "text": [
      "Downloading data from https://storage.googleapis.com/keras-applications/efficientnetb0_notop.h5\n",
      "\u001b[1m16705208/16705208\u001b[0m \u001b[32m━━━━━━━━━━━━━━━━━━━━\u001b[0m\u001b[37m\u001b[0m \u001b[1m0s\u001b[0m 0us/step\n",
      "Epoch 1/15\n",
      "\u001b[1m114/114\u001b[0m \u001b[32m━━━━━━━━━━━━━━━━━━━━\u001b[0m\u001b[37m\u001b[0m \u001b[1m50s\u001b[0m 240ms/step - accuracy: 0.4992 - loss: 0.6940 - val_accuracy: 0.4971 - val_loss: 0.6933\n",
      "Epoch 2/15\n",
      "\u001b[1m114/114\u001b[0m \u001b[32m━━━━━━━━━━━━━━━━━━━━\u001b[0m\u001b[37m\u001b[0m \u001b[1m5s\u001b[0m 39ms/step - accuracy: 0.5117 - loss: 0.6925 - val_accuracy: 0.5029 - val_loss: 0.6931\n",
      "Epoch 3/15\n",
      "\u001b[1m114/114\u001b[0m \u001b[32m━━━━━━━━━━━━━━━━━━━━\u001b[0m\u001b[37m\u001b[0m \u001b[1m4s\u001b[0m 39ms/step - accuracy: 0.5234 - loss: 0.6921 - val_accuracy: 0.5029 - val_loss: 0.6931\n",
      "Epoch 4/15\n",
      "\u001b[1m114/114\u001b[0m \u001b[32m━━━━━━━━━━━━━━━━━━━━\u001b[0m\u001b[37m\u001b[0m \u001b[1m4s\u001b[0m 39ms/step - accuracy: 0.5070 - loss: 0.6936 - val_accuracy: 0.5029 - val_loss: 0.6931\n",
      "Epoch 5/15\n",
      "\u001b[1m114/114\u001b[0m \u001b[32m━━━━━━━━━━━━━━━━━━━━\u001b[0m\u001b[37m\u001b[0m \u001b[1m4s\u001b[0m 39ms/step - accuracy: 0.5057 - loss: 0.6936 - val_accuracy: 0.5029 - val_loss: 0.6931\n",
      "Epoch 6/15\n",
      "\u001b[1m114/114\u001b[0m \u001b[32m━━━━━━━━━━━━━━━━━━━━\u001b[0m\u001b[37m\u001b[0m \u001b[1m5s\u001b[0m 39ms/step - accuracy: 0.5043 - loss: 0.6933 - val_accuracy: 0.5029 - val_loss: 0.6931\n",
      "Epoch 7/15\n",
      "\u001b[1m114/114\u001b[0m \u001b[32m━━━━━━━━━━━━━━━━━━━━\u001b[0m\u001b[37m\u001b[0m \u001b[1m5s\u001b[0m 39ms/step - accuracy: 0.5251 - loss: 0.6923 - val_accuracy: 0.5029 - val_loss: 0.6931\n",
      "Epoch 8/15\n",
      "\u001b[1m114/114\u001b[0m \u001b[32m━━━━━━━━━━━━━━━━━━━━\u001b[0m\u001b[37m\u001b[0m \u001b[1m5s\u001b[0m 40ms/step - accuracy: 0.4976 - loss: 0.6936 - val_accuracy: 0.4971 - val_loss: 0.6931\n",
      "Epoch 9/15\n",
      "\u001b[1m114/114\u001b[0m \u001b[32m━━━━━━━━━━━━━━━━━━━━\u001b[0m\u001b[37m\u001b[0m \u001b[1m5s\u001b[0m 40ms/step - accuracy: 0.4832 - loss: 0.6946 - val_accuracy: 0.5029 - val_loss: 0.6931\n",
      "Epoch 10/15\n",
      "\u001b[1m114/114\u001b[0m \u001b[32m━━━━━━━━━━━━━━━━━━━━\u001b[0m\u001b[37m\u001b[0m \u001b[1m5s\u001b[0m 39ms/step - accuracy: 0.5059 - loss: 0.6934 - val_accuracy: 0.5029 - val_loss: 0.6931\n",
      "Epoch 11/15\n",
      "\u001b[1m114/114\u001b[0m \u001b[32m━━━━━━━━━━━━━━━━━━━━\u001b[0m\u001b[37m\u001b[0m \u001b[1m5s\u001b[0m 40ms/step - accuracy: 0.4873 - loss: 0.6937 - val_accuracy: 0.5029 - val_loss: 0.6931\n",
      "Epoch 12/15\n",
      "\u001b[1m114/114\u001b[0m \u001b[32m━━━━━━━━━━━━━━━━━━━━\u001b[0m\u001b[37m\u001b[0m \u001b[1m5s\u001b[0m 40ms/step - accuracy: 0.4963 - loss: 0.6933 - val_accuracy: 0.5029 - val_loss: 0.6931\n",
      "Epoch 13/15\n",
      "\u001b[1m114/114\u001b[0m \u001b[32m━━━━━━━━━━━━━━━━━━━━\u001b[0m\u001b[37m\u001b[0m \u001b[1m5s\u001b[0m 40ms/step - accuracy: 0.5090 - loss: 0.6932 - val_accuracy: 0.5029 - val_loss: 0.6931\n",
      "Epoch 14/15\n",
      "\u001b[1m114/114\u001b[0m \u001b[32m━━━━━━━━━━━━━━━━━━━━\u001b[0m\u001b[37m\u001b[0m \u001b[1m5s\u001b[0m 41ms/step - accuracy: 0.4894 - loss: 0.6935 - val_accuracy: 0.5029 - val_loss: 0.6931\n",
      "Epoch 15/15\n",
      "\u001b[1m114/114\u001b[0m \u001b[32m━━━━━━━━━━━━━━━━━━━━\u001b[0m\u001b[37m\u001b[0m \u001b[1m5s\u001b[0m 41ms/step - accuracy: 0.5021 - loss: 0.6941 - val_accuracy: 0.5029 - val_loss: 0.6931\n"
     ]
    }
   ],
   "source": [
    "base_model = EfficientNetB0(weights=\"imagenet\", include_top=False, input_shape=(224,224,3))\n",
    "base_model.trainable = False\n",
    "\n",
    "inputs = layers.Input(shape=(224,224,3))\n",
    "x = base_model(inputs, training=False)\n",
    "x = layers.GlobalAveragePooling2D()(x)\n",
    "x = layers.Dropout(0.5)(x)\n",
    "outputs = layers.Dense(1, activation=\"sigmoid\")(x)\n",
    "\n",
    "model = models.Model(inputs, outputs)\n",
    "model.compile(optimizer=optimizer, loss='binary_crossentropy', metrics=['accuracy'])\n",
    "\n",
    "history = model.fit(\n",
    "    x=train_images, y=train_labels, validation_data=(valid_images,valid_labels), \n",
    "    epochs=15\n",
    "    #callbacks=[callbacks.EarlyStopping(monitor=\"val_accuracy\", patience=20, restore_best_weights=True)]\n",
    ")\n"
   ]
  },
  {
   "cell_type": "code",
   "execution_count": 30,
   "id": "0405047c",
   "metadata": {
    "execution": {
     "iopub.execute_input": "2025-07-15T07:05:05.535430Z",
     "iopub.status.busy": "2025-07-15T07:05:05.535101Z",
     "iopub.status.idle": "2025-07-15T07:05:05.773256Z",
     "shell.execute_reply": "2025-07-15T07:05:05.772444Z"
    },
    "papermill": {
     "duration": 0.293294,
     "end_time": "2025-07-15T07:05:05.774987",
     "exception": false,
     "start_time": "2025-07-15T07:05:05.481693",
     "status": "completed"
    },
    "tags": []
   },
   "outputs": [
    {
     "data": {
      "image/png": "[encoded data removed]",
      "text/plain": [
       "<Figure size 1000x500 with 1 Axes>"
      ]
     },
     "metadata": {},
     "output_type": "display_data"
    }
   ],
   "source": [
    "plt.figure(figsize=(10, 5))\n",
    "plt.plot(history.history['accuracy'], label='Training Accuracy')\n",
    "plt.plot(history.history['val_accuracy'], label='Validation Accuracy')\n",
    "plt.title('Accuracy vs. Epochs')\n",
    "plt.xlabel('Epochs')\n",
    "plt.ylabel('Accuracy')\n",
    "plt.legend()\n",
    "plt.grid(True)\n",
    "plt.show()"
   ]
  },
  {
   "cell_type": "code",
   "execution_count": 31,
   "id": "460b49d8",
   "metadata": {
    "execution": {
     "iopub.execute_input": "2025-07-15T07:05:05.880672Z",
     "iopub.status.busy": "2025-07-15T07:05:05.880323Z",
     "iopub.status.idle": "2025-07-15T07:05:19.620968Z",
     "shell.execute_reply": "2025-07-15T07:05:19.620011Z"
    },
    "papermill": {
     "duration": 13.795116,
     "end_time": "2025-07-15T07:05:19.622487",
     "exception": false,
     "start_time": "2025-07-15T07:05:05.827371",
     "status": "completed"
    },
    "tags": []
   },
   "outputs": [
    {
     "name": "stdout",
     "output_type": "stream",
     "text": [
      "\u001b[1m6/6\u001b[0m \u001b[32m━━━━━━━━━━━━━━━━━━━━\u001b[0m\u001b[37m\u001b[0m \u001b[1m13s\u001b[0m 2s/step\n"
     ]
    },
    {
     "data": {
      "text/plain": [
       "array([0.4988505 , 0.49884716, 0.49881506, 0.49885362, 0.49883857,\n",
       "       0.4989066 , 0.4988587 , 0.498848  , 0.49881282, 0.4988588 ,\n",
       "       0.49884692, 0.4988423 , 0.49885392, 0.49883685, 0.49884942,\n",
       "       0.49884433, 0.49884266, 0.4988728 , 0.49884894, 0.49883768,\n",
       "       0.49881512, 0.49884212, 0.4988423 , 0.49884954, 0.49884057,\n",
       "       0.498841  , 0.49885276, 0.4988556 , 0.4988511 , 0.49884588,\n",
       "       0.49883175, 0.49886438, 0.4988477 , 0.49884164, 0.49884787,\n",
       "       0.49885002, 0.49886486, 0.49884942, 0.49884552, 0.49885157,\n",
       "       0.49884978, 0.4988474 , 0.49884775, 0.49885327, 0.4988517 ,\n",
       "       0.49884337, 0.49884835, 0.49886593, 0.49885276, 0.49882907,\n",
       "       0.4988461 , 0.49884164, 0.49884224, 0.49884373, 0.4988588 ,\n",
       "       0.49885356, 0.4988484 , 0.4988499 , 0.49884397, 0.49884674,\n",
       "       0.49885833, 0.49885714, 0.49884337, 0.49885893, 0.4988284 ,\n",
       "       0.49884692, 0.4988206 , 0.49885547, 0.4988391 , 0.49885044,\n",
       "       0.49884883, 0.49884942, 0.4988436 , 0.49884823, 0.4988442 ,\n",
       "       0.49885315, 0.498841  , 0.49885073, 0.49885187, 0.49886313,\n",
       "       0.4988366 , 0.49884242, 0.49885607, 0.49884182, 0.49884206,\n",
       "       0.49881977, 0.49885774, 0.498843  , 0.49884456, 0.49883834,\n",
       "       0.49882582, 0.49884397, 0.4988426 , 0.49882048, 0.49883488,\n",
       "       0.4988493 , 0.49884564, 0.49883613, 0.4988365 , 0.4988394 ,\n",
       "       0.49882936, 0.4988532 , 0.498843  , 0.4988471 , 0.4988394 ,\n",
       "       0.49885333, 0.4988461 , 0.4988441 , 0.4988508 , 0.49883175,\n",
       "       0.49884704, 0.49885288, 0.4988477 , 0.49884313, 0.49884373,\n",
       "       0.49884158, 0.4988512 , 0.49884492, 0.49885276, 0.49884212,\n",
       "       0.49885282, 0.49885216, 0.49885216, 0.49884668, 0.49883905,\n",
       "       0.49884948, 0.49882272, 0.49884635, 0.49884763, 0.49886894,\n",
       "       0.49884674, 0.49884385, 0.49883792, 0.49884397, 0.49884534,\n",
       "       0.49884847, 0.49885523, 0.4988563 , 0.49886757, 0.4988217 ,\n",
       "       0.49884647, 0.49885517, 0.49885762, 0.49883804, 0.49884635,\n",
       "       0.49886414, 0.4988475 , 0.4988439 , 0.49885157, 0.49884883,\n",
       "       0.49885488, 0.4988461 , 0.49884033, 0.49883923, 0.49884853,\n",
       "       0.49883935, 0.49884692, 0.4988541 , 0.49884686, 0.4988544 ,\n",
       "       0.4988486 , 0.49886474, 0.49881732, 0.4988468 , 0.49882546,\n",
       "       0.49884906, 0.49889308, 0.4988602 , 0.49881163], dtype=float32)"
      ]
     },
     "execution_count": 31,
     "metadata": {},
     "output_type": "execute_result"
    }
   ],
   "source": [
    "model.predict(test_images).flatten()"
   ]
  },
  {
   "cell_type": "code",
   "execution_count": 32,
   "id": "247cce08",
   "metadata": {
    "execution": {
     "iopub.execute_input": "2025-07-15T07:05:19.736226Z",
     "iopub.status.busy": "2025-07-15T07:05:19.735933Z",
     "iopub.status.idle": "2025-07-15T07:05:29.806884Z",
     "shell.execute_reply": "2025-07-15T07:05:29.806015Z"
    },
    "papermill": {
     "duration": 10.129163,
     "end_time": "2025-07-15T07:05:29.808227",
     "exception": false,
     "start_time": "2025-07-15T07:05:19.679064",
     "status": "completed"
    },
    "tags": []
   },
   "outputs": [
    {
     "name": "stdout",
     "output_type": "stream",
     "text": [
      "\u001b[1m6/6\u001b[0m \u001b[32m━━━━━━━━━━━━━━━━━━━━\u001b[0m\u001b[37m\u001b[0m \u001b[1m10s\u001b[0m 1s/step\n",
      "Confusion Matrix:\n",
      " [[86  0]\n",
      " [83  0]]\n",
      "\n",
      "Classification Report:\n",
      "               precision    recall  f1-score   support\n",
      "\n",
      "           0       0.51      1.00      0.67        86\n",
      "           1       0.00      0.00      0.00        83\n",
      "\n",
      "    accuracy                           0.51       169\n",
      "   macro avg       0.25      0.50      0.34       169\n",
      "weighted avg       0.26      0.51      0.34       169\n",
      "\n",
      "ROC AUC: 0.4314934155225554\n"
     ]
    },
    {
     "name": "stderr",
     "output_type": "stream",
     "text": [
      "/usr/local/lib/python3.10/dist-packages/sklearn/metrics/_classification.py:1344: UndefinedMetricWarning: Precision and F-score are ill-defined and being set to 0.0 in labels with no predicted samples. Use `zero_division` parameter to control this behavior.\n",
      "  _warn_prf(average, modifier, msg_start, len(result))\n",
      "/usr/local/lib/python3.10/dist-packages/sklearn/metrics/_classification.py:1344: UndefinedMetricWarning: Precision and F-score are ill-defined and being set to 0.0 in labels with no predicted samples. Use `zero_division` parameter to control this behavior.\n",
      "  _warn_prf(average, modifier, msg_start, len(result))\n",
      "/usr/local/lib/python3.10/dist-packages/sklearn/metrics/_classification.py:1344: UndefinedMetricWarning: Precision and F-score are ill-defined and being set to 0.0 in labels with no predicted samples. Use `zero_division` parameter to control this behavior.\n",
      "  _warn_prf(average, modifier, msg_start, len(result))\n"
     ]
    },
    {
     "data": {
      "image/png": "[encoded data removed]",
      "text/plain": [
       "<Figure size 600x400 with 1 Axes>"
      ]
     },
     "metadata": {},
     "output_type": "display_data"
    }
   ],
   "source": [
    "# Predict on test set\n",
    "y_pred_probs = model.predict(test_ds).flatten()\n",
    "y_pred = (y_pred_probs > 0.5).astype(int)\n",
    "\n",
    "# Confusion matrix\n",
    "from sklearn.metrics import confusion_matrix, classification_report, roc_auc_score, roc_curve\n",
    "import matplotlib.pyplot as plt\n",
    "\n",
    "print(\"Confusion Matrix:\\n\", confusion_matrix(test_labels, y_pred))\n",
    "print(\"\\nClassification Report:\\n\", classification_report(test_labels, y_pred))\n",
    "print(\"ROC AUC:\", roc_auc_score(test_labels, y_pred_probs))\n",
    "\n",
    "# ROC curve\n",
    "fpr, tpr, thresholds = roc_curve(test_labels, y_pred_probs)\n",
    "plt.figure(figsize=(6,4))\n",
    "plt.plot(fpr, tpr, label=f\"AUC={roc_auc_score(test_labels, y_pred_probs):.2f}\")\n",
    "plt.xlabel(\"False Positive Rate\")\n",
    "plt.ylabel(\"True Positive Rate\")\n",
    "plt.title(\"ROC Curve\")\n",
    "plt.legend()\n",
    "plt.show()"
   ]
  },
  {
   "cell_type": "code",
   "execution_count": 33,
   "id": "f43a970c",
   "metadata": {
    "execution": {
     "iopub.execute_input": "2025-07-15T07:05:29.915243Z",
     "iopub.status.busy": "2025-07-15T07:05:29.914998Z",
     "iopub.status.idle": "2025-07-15T07:15:16.808236Z",
     "shell.execute_reply": "2025-07-15T07:15:16.807195Z"
    },
    "papermill": {
     "duration": 586.948283,
     "end_time": "2025-07-15T07:15:16.809959",
     "exception": false,
     "start_time": "2025-07-15T07:05:29.861676",
     "status": "completed"
    },
    "tags": []
   },
   "outputs": [
    {
     "name": "stdout",
     "output_type": "stream",
     "text": [
      "Downloading data from https://storage.googleapis.com/tensorflow/keras-applications/resnet/resnet152v2_weights_tf_dim_ordering_tf_kernels_notop.h5\n",
      "\u001b[1m234545216/234545216\u001b[0m \u001b[32m━━━━━━━━━━━━━━━━━━━━\u001b[0m\u001b[37m\u001b[0m \u001b[1m1s\u001b[0m 0us/step\n",
      "Epoch 1/20\n",
      "\u001b[1m114/114\u001b[0m \u001b[32m━━━━━━━━━━━━━━━━━━━━\u001b[0m\u001b[37m\u001b[0m \u001b[1m76s\u001b[0m 435ms/step - accuracy: 0.5229 - loss: 538.7437 - val_accuracy: 0.4971 - val_loss: 94.6992\n",
      "Epoch 2/20\n",
      "\u001b[1m114/114\u001b[0m \u001b[32m━━━━━━━━━━━━━━━━━━━━\u001b[0m\u001b[37m\u001b[0m \u001b[1m28s\u001b[0m 245ms/step - accuracy: 0.5098 - loss: 356.9059 - val_accuracy: 0.5029 - val_loss: 33.5008\n",
      "Epoch 3/20\n",
      "\u001b[1m114/114\u001b[0m \u001b[32m━━━━━━━━━━━━━━━━━━━━\u001b[0m\u001b[37m\u001b[0m \u001b[1m26s\u001b[0m 227ms/step - accuracy: 0.5257 - loss: 204.0490 - val_accuracy: 0.4971 - val_loss: 73.6789\n",
      "Epoch 4/20\n",
      "\u001b[1m114/114\u001b[0m \u001b[32m━━━━━━━━━━━━━━━━━━━━\u001b[0m\u001b[37m\u001b[0m \u001b[1m26s\u001b[0m 224ms/step - accuracy: 0.5107 - loss: 134.8889 - val_accuracy: 0.5029 - val_loss: 59.0921\n",
      "Epoch 5/20\n",
      "\u001b[1m114/114\u001b[0m \u001b[32m━━━━━━━━━━━━━━━━━━━━\u001b[0m\u001b[37m\u001b[0m \u001b[1m26s\u001b[0m 232ms/step - accuracy: 0.4929 - loss: 95.7327 - val_accuracy: 0.5029 - val_loss: 83.8247\n",
      "Epoch 6/20\n",
      "\u001b[1m114/114\u001b[0m \u001b[32m━━━━━━━━━━━━━━━━━━━━\u001b[0m\u001b[37m\u001b[0m \u001b[1m26s\u001b[0m 230ms/step - accuracy: 0.4913 - loss: 77.4402 - val_accuracy: 0.5029 - val_loss: 24.3451\n",
      "Epoch 7/20\n",
      "\u001b[1m114/114\u001b[0m \u001b[32m━━━━━━━━━━━━━━━━━━━━\u001b[0m\u001b[37m\u001b[0m \u001b[1m26s\u001b[0m 227ms/step - accuracy: 0.5213 - loss: 62.4060 - val_accuracy: 0.5029 - val_loss: 51.7621\n",
      "Epoch 8/20\n",
      "\u001b[1m114/114\u001b[0m \u001b[32m━━━━━━━━━━━━━━━━━━━━\u001b[0m\u001b[37m\u001b[0m \u001b[1m26s\u001b[0m 228ms/step - accuracy: 0.5077 - loss: 53.8372 - val_accuracy: 0.5029 - val_loss: 72.2074\n",
      "Epoch 9/20\n",
      "\u001b[1m114/114\u001b[0m \u001b[32m━━━━━━━━━━━━━━━━━━━━\u001b[0m\u001b[37m\u001b[0m \u001b[1m26s\u001b[0m 231ms/step - accuracy: 0.4931 - loss: 74.6793 - val_accuracy: 0.5029 - val_loss: 53.4648\n",
      "Epoch 10/20\n",
      "\u001b[1m114/114\u001b[0m \u001b[32m━━━━━━━━━━━━━━━━━━━━\u001b[0m\u001b[37m\u001b[0m \u001b[1m26s\u001b[0m 231ms/step - accuracy: 0.5084 - loss: 54.6052 - val_accuracy: 0.5029 - val_loss: 21.1415\n",
      "Epoch 11/20\n",
      "\u001b[1m114/114\u001b[0m \u001b[32m━━━━━━━━━━━━━━━━━━━━\u001b[0m\u001b[37m\u001b[0m \u001b[1m26s\u001b[0m 231ms/step - accuracy: 0.4931 - loss: 60.0526 - val_accuracy: 0.4971 - val_loss: 2.4694\n",
      "Epoch 12/20\n",
      "\u001b[1m114/114\u001b[0m \u001b[32m━━━━━━━━━━━━━━━━━━━━\u001b[0m\u001b[37m\u001b[0m \u001b[1m26s\u001b[0m 230ms/step - accuracy: 0.4861 - loss: 50.0880 - val_accuracy: 0.4971 - val_loss: 13.9202\n",
      "Epoch 13/20\n",
      "\u001b[1m114/114\u001b[0m \u001b[32m━━━━━━━━━━━━━━━━━━━━\u001b[0m\u001b[37m\u001b[0m \u001b[1m26s\u001b[0m 229ms/step - accuracy: 0.5126 - loss: 41.5472 - val_accuracy: 0.5029 - val_loss: 88.8251\n",
      "Epoch 14/20\n",
      "\u001b[1m114/114\u001b[0m \u001b[32m━━━━━━━━━━━━━━━━━━━━\u001b[0m\u001b[37m\u001b[0m \u001b[1m26s\u001b[0m 229ms/step - accuracy: 0.4840 - loss: 62.3920 - val_accuracy: 0.5029 - val_loss: 74.5625\n",
      "Epoch 15/20\n",
      "\u001b[1m114/114\u001b[0m \u001b[32m━━━━━━━━━━━━━━━━━━━━\u001b[0m\u001b[37m\u001b[0m \u001b[1m26s\u001b[0m 230ms/step - accuracy: 0.4978 - loss: 54.3777 - val_accuracy: 0.4971 - val_loss: 37.8084\n",
      "Epoch 16/20\n",
      "\u001b[1m114/114\u001b[0m \u001b[32m━━━━━━━━━━━━━━━━━━━━\u001b[0m\u001b[37m\u001b[0m \u001b[1m26s\u001b[0m 230ms/step - accuracy: 0.4903 - loss: 46.6409 - val_accuracy: 0.5029 - val_loss: 25.5801\n",
      "Epoch 17/20\n",
      "\u001b[1m114/114\u001b[0m \u001b[32m━━━━━━━━━━━━━━━━━━━━\u001b[0m\u001b[37m\u001b[0m \u001b[1m26s\u001b[0m 230ms/step - accuracy: 0.5002 - loss: 50.2034 - val_accuracy: 0.5029 - val_loss: 60.7562\n",
      "Epoch 18/20\n",
      "\u001b[1m114/114\u001b[0m \u001b[32m━━━━━━━━━━━━━━━━━━━━\u001b[0m\u001b[37m\u001b[0m \u001b[1m26s\u001b[0m 230ms/step - accuracy: 0.5101 - loss: 51.1121 - val_accuracy: 0.5029 - val_loss: 3.1650\n",
      "Epoch 19/20\n",
      "\u001b[1m114/114\u001b[0m \u001b[32m━━━━━━━━━━━━━━━━━━━━\u001b[0m\u001b[37m\u001b[0m \u001b[1m26s\u001b[0m 231ms/step - accuracy: 0.4908 - loss: 72.1730 - val_accuracy: 0.5029 - val_loss: 28.7931\n",
      "Epoch 20/20\n",
      "\u001b[1m114/114\u001b[0m \u001b[32m━━━━━━━━━━━━━━━━━━━━\u001b[0m\u001b[37m\u001b[0m \u001b[1m26s\u001b[0m 231ms/step - accuracy: 0.4945 - loss: 57.0604 - val_accuracy: 0.4971 - val_loss: 55.2847\n"
     ]
    }
   ],
   "source": [
    "from tensorflow.keras.applications.resnet import preprocess_input\n",
    "\n",
    "train_prep = preprocess_input(train_images)\n",
    "valid_prep = preprocess_input(valid_images)\n",
    "\n",
    "base_model = ResNet152V2(weights=\"imagenet\", include_top=False, input_shape=(224,224,3))\n",
    "base_model.trainable = False\n",
    "\n",
    "inputs = layers.Input(shape=(224,224,3))\n",
    "x = base_model(inputs, training=False)\n",
    "x = layers.GlobalAveragePooling2D()(x)\n",
    "x = layers.Dropout(0.5)(x)\n",
    "outputs = layers.Dense(1, activation=\"sigmoid\")(x)\n",
    "\n",
    "model = models.Model(inputs, outputs)\n",
    "model.compile(optimizer='adam', loss='binary_crossentropy', metrics=['accuracy'])\n",
    "\n",
    "history = model.fit(\n",
    "    train_prep, train_labels, validation_data=(valid_prep,valid_labels), epochs=20,\n",
    "    #callbacks=[callbacks.EarlyStopping(monitor=\"val_accuracy\", patience=5, restore_best_weights=True)]\n",
    ")\n"
   ]
  },
  {
   "cell_type": "code",
   "execution_count": 34,
   "id": "1fc29f63",
   "metadata": {
    "execution": {
     "iopub.execute_input": "2025-07-15T07:15:17.174428Z",
     "iopub.status.busy": "2025-07-15T07:15:17.174051Z",
     "iopub.status.idle": "2025-07-15T07:15:17.395587Z",
     "shell.execute_reply": "2025-07-15T07:15:17.394757Z"
    },
    "papermill": {
     "duration": 0.390116,
     "end_time": "2025-07-15T07:15:17.396916",
     "exception": false,
     "start_time": "2025-07-15T07:15:17.006800",
     "status": "completed"
    },
    "tags": []
   },
   "outputs": [
    {
     "data": {
      "image/png": "[encoded data removed]",
      "text/plain": [
       "<Figure size 1000x500 with 1 Axes>"
      ]
     },
     "metadata": {},
     "output_type": "display_data"
    }
   ],
   "source": [
    "plt.figure(figsize=(10, 5))\n",
    "plt.plot(history.history['accuracy'], label='Training Accuracy')\n",
    "plt.plot(history.history['val_accuracy'], label='Validation Accuracy')\n",
    "plt.title('Accuracy vs. Epochs')\n",
    "plt.xlabel('Epochs')\n",
    "plt.ylabel('Accuracy')\n",
    "plt.legend()\n",
    "plt.grid(True)\n",
    "plt.show()"
   ]
  },
  {
   "cell_type": "code",
   "execution_count": 35,
   "id": "84325096",
   "metadata": {
    "execution": {
     "iopub.execute_input": "2025-07-15T07:15:17.773724Z",
     "iopub.status.busy": "2025-07-15T07:15:17.773375Z",
     "iopub.status.idle": "2025-07-15T07:15:36.498790Z",
     "shell.execute_reply": "2025-07-15T07:15:36.497874Z"
    },
    "papermill": {
     "duration": 18.935837,
     "end_time": "2025-07-15T07:15:36.500159",
     "exception": false,
     "start_time": "2025-07-15T07:15:17.564322",
     "status": "completed"
    },
    "tags": []
   },
   "outputs": [
    {
     "name": "stdout",
     "output_type": "stream",
     "text": [
      "\u001b[1m6/6\u001b[0m \u001b[32m━━━━━━━━━━━━━━━━━━━━\u001b[0m\u001b[37m\u001b[0m \u001b[1m19s\u001b[0m 2s/step\n",
      "Confusion Matrix:\n",
      " [[10 76]\n",
      " [ 7 76]]\n",
      "\n",
      "Classification Report:\n",
      "               precision    recall  f1-score   support\n",
      "\n",
      "           0       0.59      0.12      0.19        86\n",
      "           1       0.50      0.92      0.65        83\n",
      "\n",
      "    accuracy                           0.51       169\n",
      "   macro avg       0.54      0.52      0.42       169\n",
      "weighted avg       0.54      0.51      0.42       169\n",
      "\n",
      "ROC AUC: 0.5046231437377418\n"
     ]
    },
    {
     "data": {
      "image/png": "[encoded data removed]",
      "text/plain": [
       "<Figure size 600x400 with 1 Axes>"
      ]
     },
     "metadata": {},
     "output_type": "display_data"
    }
   ],
   "source": [
    "# Predict on test set\n",
    "y_pred_probs = model.predict(test_ds).flatten()\n",
    "y_pred = (y_pred_probs > 0.5).astype(int)\n",
    "\n",
    "# Confusion matrix\n",
    "from sklearn.metrics import confusion_matrix, classification_report, roc_auc_score, roc_curve\n",
    "import matplotlib.pyplot as plt\n",
    "\n",
    "print(\"Confusion Matrix:\\n\", confusion_matrix(test_labels, y_pred))\n",
    "print(\"\\nClassification Report:\\n\", classification_report(test_labels, y_pred))\n",
    "print(\"ROC AUC:\", roc_auc_score(test_labels, y_pred_probs))\n",
    "\n",
    "# ROC curve\n",
    "fpr, tpr, thresholds = roc_curve(test_labels, y_pred_probs)\n",
    "plt.figure(figsize=(6,4))\n",
    "plt.plot(fpr, tpr, label=f\"AUC={roc_auc_score(test_labels, y_pred_probs):.2f}\")\n",
    "plt.xlabel(\"False Positive Rate\")\n",
    "plt.ylabel(\"True Positive Rate\")\n",
    "plt.title(\"ROC Curve\")\n",
    "plt.legend()\n",
    "plt.show()"
   ]
  },
  {
   "cell_type": "code",
   "execution_count": null,
   "id": "64f80f6d",
   "metadata": {
    "papermill": {
     "duration": 0.172299,
     "end_time": "2025-07-15T07:15:36.839397",
     "exception": false,
     "start_time": "2025-07-15T07:15:36.667098",
     "status": "completed"
    },
    "tags": []
   },
   "outputs": [],
   "source": []
  },
  {
   "cell_type": "code",
   "execution_count": null,
   "id": "1bbf7bf1",
   "metadata": {
    "papermill": {
     "duration": 0.163047,
     "end_time": "2025-07-15T07:15:37.192726",
     "exception": false,
     "start_time": "2025-07-15T07:15:37.029679",
     "status": "completed"
    },
    "tags": []
   },
   "outputs": [],
   "source": []
  },
  {
   "cell_type": "code",
   "execution_count": null,
   "id": "207de45e",
   "metadata": {
    "papermill": {
     "duration": 0.163634,
     "end_time": "2025-07-15T07:15:37.517372",
     "exception": false,
     "start_time": "2025-07-15T07:15:37.353738",
     "status": "completed"
    },
    "tags": []
   },
   "outputs": [],
   "source": []
  },
  {
   "cell_type": "code",
   "execution_count": null,
   "id": "01941663",
   "metadata": {
    "papermill": {
     "duration": 0.165706,
     "end_time": "2025-07-15T07:15:37.847049",
     "exception": false,
     "start_time": "2025-07-15T07:15:37.681343",
     "status": "completed"
    },
    "tags": []
   },
   "outputs": [],
   "source": []
  },
  {
   "cell_type": "code",
   "execution_count": 36,
   "id": "b43861e1",
   "metadata": {
    "execution": {
     "iopub.execute_input": "2025-07-15T07:15:38.253474Z",
     "iopub.status.busy": "2025-07-15T07:15:38.253152Z",
     "iopub.status.idle": "2025-07-15T07:15:38.256842Z",
     "shell.execute_reply": "2025-07-15T07:15:38.255958Z"
    },
    "papermill": {
     "duration": 0.183187,
     "end_time": "2025-07-15T07:15:38.258065",
     "exception": false,
     "start_time": "2025-07-15T07:15:38.074878",
     "status": "completed"
    },
    "tags": []
   },
   "outputs": [],
   "source": [
    "# sns.histplot(augmented_labels)"
   ]
  },
  {
   "cell_type": "code",
   "execution_count": 37,
   "id": "8be9b614",
   "metadata": {
    "execution": {
     "iopub.execute_input": "2025-07-15T07:15:38.591202Z",
     "iopub.status.busy": "2025-07-15T07:15:38.590820Z",
     "iopub.status.idle": "2025-07-15T07:15:38.594282Z",
     "shell.execute_reply": "2025-07-15T07:15:38.593588Z"
    },
    "papermill": {
     "duration": 0.171967,
     "end_time": "2025-07-15T07:15:38.595568",
     "exception": false,
     "start_time": "2025-07-15T07:15:38.423601",
     "status": "completed"
    },
    "tags": []
   },
   "outputs": [],
   "source": [
    "# aug_images = np.array(augmented_images)\n",
    "# aug_labels = np.array(augmented_labels)\n",
    "\n",
    "# # Shuffle\n",
    "# perm = np.random.permutation(len(aug_images))\n",
    "# aug_images = aug_images[perm]\n",
    "# aug_labels = aug_labels[perm]"
   ]
  },
  {
   "cell_type": "code",
   "execution_count": 38,
   "id": "31ae345c",
   "metadata": {
    "execution": {
     "iopub.execute_input": "2025-07-15T07:15:38.927927Z",
     "iopub.status.busy": "2025-07-15T07:15:38.927473Z",
     "iopub.status.idle": "2025-07-15T07:15:38.931294Z",
     "shell.execute_reply": "2025-07-15T07:15:38.930432Z"
    },
    "papermill": {
     "duration": 0.171968,
     "end_time": "2025-07-15T07:15:38.932650",
     "exception": false,
     "start_time": "2025-07-15T07:15:38.760682",
     "status": "completed"
    },
    "tags": []
   },
   "outputs": [],
   "source": [
    "# train_images = aug_images / 255.0\n",
    "# valid_images = valid_images / 255.0\n",
    "# test_images = test_images / 255.0"
   ]
  },
  {
   "cell_type": "code",
   "execution_count": 39,
   "id": "e1b3db96",
   "metadata": {
    "execution": {
     "iopub.execute_input": "2025-07-15T07:15:39.279196Z",
     "iopub.status.busy": "2025-07-15T07:15:39.278850Z",
     "iopub.status.idle": "2025-07-15T07:15:39.282290Z",
     "shell.execute_reply": "2025-07-15T07:15:39.281520Z"
    },
    "papermill": {
     "duration": 0.187077,
     "end_time": "2025-07-15T07:15:39.283668",
     "exception": false,
     "start_time": "2025-07-15T07:15:39.096591",
     "status": "completed"
    },
    "tags": []
   },
   "outputs": [],
   "source": [
    "# num_classes = len(label_encoder.classes_)\n",
    "# train_labels_cat = to_categorical(aug_labels, num_classes)\n",
    "# valid_labels_cat = to_categorical(valid_labels_enc, num_classes)\n",
    "# test_labels_cat = to_categorical(test_labels_enc, num_classes)"
   ]
  },
  {
   "cell_type": "code",
   "execution_count": 40,
   "id": "709517f9",
   "metadata": {
    "execution": {
     "iopub.execute_input": "2025-07-15T07:15:39.617371Z",
     "iopub.status.busy": "2025-07-15T07:15:39.617042Z",
     "iopub.status.idle": "2025-07-15T07:15:39.620572Z",
     "shell.execute_reply": "2025-07-15T07:15:39.619770Z"
    },
    "papermill": {
     "duration": 0.171457,
     "end_time": "2025-07-15T07:15:39.621744",
     "exception": false,
     "start_time": "2025-07-15T07:15:39.450287",
     "status": "completed"
    },
    "tags": []
   },
   "outputs": [],
   "source": [
    "# datagen = ImageDataGenerator(\n",
    "#     rotation_range=10,\n",
    "#     width_shift_range=0.05,\n",
    "#     height_shift_range=0.05,\n",
    "#     zoom_rangfrom tensorflow.keras import mixed_precision\n",
    "# mixed_precision.set_global_policy(\"mixed_float16\")\n",
    "\n",
    "# # Setup EfficientNet\n",
    "# base_model = EfficientNetB0(\n",
    "#     weights=\"imagenet\",\n",
    "#     include_top=False,\n",
    "#     input_shape=(225, 225, 3)\n",
    "# )\n",
    "# base_model.trainable = False\n",
    "\n",
    "# inputs = Input(shape=(225, 225, 3))\n",
    "# x = base_model(inputs, training=False)\n",
    "# x = layers.GlobalAveragePooling2D()(x)\n",
    "# x = layers.Dropout(0.5)(x)\n",
    "# outputs = layers.Dense(NUM_CLASSES, activation=\"softmax\", dtype=\"float32\")(x)\n",
    "\n",
    "# model = models.Model(inputs, outputs)\n",
    "# model.compile(\n",
    "#     optimizer=tf.keras.optimizers.Adam(1e-3),\n",
    "#     loss=\"categorical_crossentropy\",\n",
    "#     metrics=[\"accuracy\"]\n",
    "# )\n",
    "\n",
    "# # Dataset pipeline\n",
    "# train_ds = tf.data.Dataset.from_tensor_slices((aug_images, aug_labels_cat)).batch(8).prefetch(tf.data.AUTOTUNE)\n",
    "# val_ds = tf.data.Dataset.from_tensor_slices((valid_images, valid_labels_cat)).batch(8).prefetch(tf.data.AUTOTUNE)\n",
    "\n",
    "# # Train\n",
    "# model.fit(\n",
    "#     train_ds,\n",
    "#     validation_data=val_ds,\n",
    "#     epochs=20,\n",
    "#     callbacks=[callbacks.EarlyStopping(monitor=\"val_accuracy\", patience=8, restore_best_weights=True)]\n",
    "# )e=0.1,\n",
    "#     horizontal_flip=True,\n",
    "#     brightness_range=[0.8, 1.2],\n",
    "#     fill_mode='nearest'\n",
    "# )\n",
    "# datagen.fit(train_images)"
   ]
  },
  {
   "cell_type": "code",
   "execution_count": 41,
   "id": "1b57c446",
   "metadata": {
    "execution": {
     "iopub.execute_input": "2025-07-15T07:15:39.997396Z",
     "iopub.status.busy": "2025-07-15T07:15:39.997067Z",
     "iopub.status.idle": "2025-07-15T07:15:40.000514Z",
     "shell.execute_reply": "2025-07-15T07:15:39.999680Z"
    },
    "papermill": {
     "duration": 0.174746,
     "end_time": "2025-07-15T07:15:40.001836",
     "exception": false,
     "start_time": "2025-07-15T07:15:39.827090",
     "status": "completed"
    },
    "tags": []
   },
   "outputs": [],
   "source": [
    "# len(label_encoder.classes_)"
   ]
  },
  {
   "cell_type": "code",
   "execution_count": null,
   "id": "ba7b4d71",
   "metadata": {
    "papermill": {
     "duration": 0.167816,
     "end_time": "2025-07-15T07:15:40.340511",
     "exception": false,
     "start_time": "2025-07-15T07:15:40.172695",
     "status": "completed"
    },
    "tags": []
   },
   "outputs": [],
   "source": []
  },
  {
   "cell_type": "markdown",
   "id": "a7e2e5b0",
   "metadata": {
    "papermill": {
     "duration": 0.16571,
     "end_time": "2025-07-15T07:15:40.673621",
     "exception": false,
     "start_time": "2025-07-15T07:15:40.507911",
     "status": "completed"
    },
    "tags": []
   },
   "source": []
  }
 ],
 "metadata": {
  "kaggle": {
   "accelerator": "nvidiaTeslaT4",
   "dataSources": [
    {
     "datasetId": 4296838,
     "sourceId": 8961495,
     "sourceType": "datasetVersion"
    }
   ],
   "dockerImageVersionId": 30918,
   "isGpuEnabled": true,
   "isInternetEnabled": true,
   "language": "python",
   "sourceType": "notebook"
  },
  "kernelspec": {
   "display_name": "Python 3",
   "language": "python",
   "name": "python3"
  },
  "language_info": {
   "codemirror_mode": {
    "name": "ipython",
    "version": 3
   },
   "file_extension": ".py",
   "mimetype": "text/x-python",
   "name": "python",
   "nbconvert_exporter": "python",
   "pygments_lexer": "ipython3",
   "version": "3.10.12"
  },
  "papermill": {
   "default_parameters": {},
   "duration": 848.800507,
   "end_time": "2025-07-15T07:15:44.634895",
   "environment_variables": {},
   "exception": null,
   "input_path": "__notebook__.ipynb",
   "output_path": "__notebook__.ipynb",
   "parameters": {},
   "start_time": "2025-07-15T07:01:35.834388",
   "version": "2.6.0"
  }
 },
 "nbformat": 4,
 "nbformat_minor": 5
}
