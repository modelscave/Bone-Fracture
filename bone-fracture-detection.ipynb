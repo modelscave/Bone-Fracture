{
 "cells": [
  {
   "cell_type": "code",
   "execution_count": 1,
   "id": "4a349f8f",
   "metadata": {
    "_cell_guid": "b1076dfc-b9ad-4769-8c92-a6c4dae69d19",
    "_uuid": "8f2839f25d086af736a60e9eeb907d3b93b6e0e5",
    "execution": {
     "iopub.execute_input": "2025-06-29T07:49:48.067074Z",
     "iopub.status.busy": "2025-06-29T07:49:48.066642Z",
     "iopub.status.idle": "2025-06-29T07:50:06.731046Z",
     "shell.execute_reply": "2025-06-29T07:50:06.729931Z"
    },
    "papermill": {
     "duration": 18.676522,
     "end_time": "2025-06-29T07:50:06.733016",
     "exception": false,
     "start_time": "2025-06-29T07:49:48.056494",
     "status": "completed"
    },
    "tags": []
   },
   "outputs": [],
   "source": [
    "# This Python 3 environment comes with many helpful analytics libraries installed\n",
    "# It is defined by the kaggle/python Docker image: https://github.com/kaggle/docker-python\n",
    "# For example, here's several helpful packages to load\n",
    "\n",
    "import numpy as np # linear algebra\n",
    "from collections import defaultdict\n",
    "import pandas as pd # data processing, CSV file I/O (e.g. pd.read_csv)\n",
    "import os \n",
    "import random\n",
    "import cv2\n",
    "from collections import Counter\n",
    "import tensorflow as tf\n",
    "import seaborn as sns\n",
    "import matplotlib.pyplot as plt\n",
    "from sklearn.preprocessing import LabelEncoder\n",
    "from tensorflow.keras.utils import load_img,img_to_array,to_categorical\n",
    "from tensorflow.keras.preprocessing.image import ImageDataGenerator\n",
    "from tensorflow.keras.applications import ResNet152V2, EfficientNetB0\n",
    "from tensorflow.keras.models import Sequential\n",
    "from tensorflow.keras import Input\n",
    "from tensorflow.keras import layers, models, callbacks\n",
    "from tensorflow.keras.layers import Dense, Flatten, Conv2D, MaxPool2D, AveragePooling2D\n",
    "from tensorflow.keras.callbacks import EarlyStopping\n",
    "from sklearn.metrics import classification_report\n",
    "\n",
    "# Input data files are available in the read-only \"../input/\" directory\n",
    "# For example, running this (by clicking run or pressing Shift+Enter) will list all files under the input directory\n",
    "\n",
    "# import os\n",
    "# for dirname, _, filenames in os.walk('/kaggle/input'):\n",
    "#     for filename in filenames:\n",
    "#         print(os.path.join(dirname, filename))\n",
    "\n",
    "# You can write up to 20GB to the current directory (/kaggle/working/) that gets preserved as output when you create a version using \"Save & Run All\" \n",
    "# You can also write temporary files to /kaggle/temp/, but they won't be saved outside of the current session"
   ]
  },
  {
   "cell_type": "code",
   "execution_count": 2,
   "id": "03aa326e",
   "metadata": {
    "execution": {
     "iopub.execute_input": "2025-06-29T07:50:06.751101Z",
     "iopub.status.busy": "2025-06-29T07:50:06.750395Z",
     "iopub.status.idle": "2025-06-29T07:50:42.455130Z",
     "shell.execute_reply": "2025-06-29T07:50:42.454070Z"
    },
    "papermill": {
     "duration": 35.723159,
     "end_time": "2025-06-29T07:50:42.464558",
     "exception": false,
     "start_time": "2025-06-29T07:50:06.741399",
     "status": "completed"
    },
    "tags": []
   },
   "outputs": [
    {
     "name": "stdout",
     "output_type": "stream",
     "text": [
      "Loaded 3631 images, 3631 class labels, and 3631 sets of polygons.\n",
      "Loaded 348 images, 348 class labels, and 348 sets of polygons.\n",
      "Loaded 169 images, 169 class labels, and 169 sets of polygons.\n"
     ]
    }
   ],
   "source": [
    "TRAIN_IMAGE_DIR = '/kaggle/input/bone-fracture-detection-computer-vision-project/BoneFractureYolo8/train/images'\n",
    "TRAIN_LABEL_DIR = '/kaggle/input/bone-fracture-detection-computer-vision-project/BoneFractureYolo8/train/labels'\n",
    "VALID_IMAGE_DIR = '/kaggle/input/bone-fracture-detection-computer-vision-project/BoneFractureYolo8/valid/images'\n",
    "VALID_LABEL_DIR = '/kaggle/input/bone-fracture-detection-computer-vision-project/BoneFractureYolo8/valid/labels'\n",
    "TEST_IMAGE_DIR = '/kaggle/input/bone-fracture-detection-computer-vision-project/BoneFractureYolo8/test/images'\n",
    "TEST_LABEL_DIR = '/kaggle/input/bone-fracture-detection-computer-vision-project/BoneFractureYolo8/test/labels'\n",
    "\n",
    "TARGET_SIZE = [225,225]\n",
    "def load_images_and_labels(image_dir, label_dir):\n",
    "    images = []\n",
    "    class_labels = [] \n",
    "    polygons = [] \n",
    "    for img_name in os.listdir(image_dir):\n",
    "        if img_name.endswith(\".jpg\") or img_name.endswith(\".png\"):  \n",
    "            img_path = os.path.join(image_dir, img_name)\n",
    "            image = cv2.imread(img_path)\n",
    "            image = cv2.resize(image, TARGET_SIZE)\n",
    "            image = cv2.cvtColor(image, cv2.COLOR_BGR2RGB)  \n",
    "            label_path = os.path.join(label_dir, img_name.replace(\".jpg\", \".txt\").replace(\".png\", \".txt\"))\n",
    "            with open(label_path, \"r\") as f:\n",
    "                label_content = f.read().strip()  \n",
    "            if label_content:  \n",
    "                components = label_content.split()\n",
    "                class_label = components[0]\n",
    "                polygon_coords = list(map(float, components[1:])) \n",
    "            else:  \n",
    "                class_label = 'no_fracture'  \n",
    "                polygon_coords = [] \n",
    "\n",
    "            # Append to lists\n",
    "            images.append(image)\n",
    "            class_labels.append(class_label)\n",
    "            polygons.append(polygon_coords)\n",
    "\n",
    "    return np.array(images), np.array(class_labels), polygons\n",
    "\n",
    "# Load images, class labels, and polygons\n",
    "train_images, train_class_labels, train_polygons = load_images_and_labels(TRAIN_IMAGE_DIR, TRAIN_LABEL_DIR)\n",
    "valid_images, valid_class_labels, valid_polygons = load_images_and_labels(VALID_IMAGE_DIR, VALID_LABEL_DIR)\n",
    "test_images, test_class_labels, test_polygons = load_images_and_labels(TEST_IMAGE_DIR, TEST_LABEL_DIR)\n",
    "\n",
    "print(f\"Loaded {len(train_images)} images, {len(train_class_labels)} class labels, and {len(train_polygons)} sets of polygons.\")\n",
    "print(f\"Loaded {len(valid_images)} images, {len(valid_class_labels)} class labels, and {len(valid_polygons)} sets of polygons.\")\n",
    "print(f\"Loaded {len(test_images)} images, {len(test_class_labels)} class labels, and {len(test_polygons)} sets of polygons.\")"
   ]
  },
  {
   "cell_type": "code",
   "execution_count": 3,
   "id": "8846ff47",
   "metadata": {
    "execution": {
     "iopub.execute_input": "2025-06-29T07:50:42.482313Z",
     "iopub.status.busy": "2025-06-29T07:50:42.481955Z",
     "iopub.status.idle": "2025-06-29T07:50:42.802128Z",
     "shell.execute_reply": "2025-06-29T07:50:42.800958Z"
    },
    "papermill": {
     "duration": 0.33101,
     "end_time": "2025-06-29T07:50:42.804019",
     "exception": false,
     "start_time": "2025-06-29T07:50:42.473009",
     "status": "completed"
    },
    "tags": []
   },
   "outputs": [
    {
     "name": "stderr",
     "output_type": "stream",
     "text": [
      "/usr/local/lib/python3.10/dist-packages/seaborn/_oldcore.py:1119: FutureWarning: use_inf_as_na option is deprecated and will be removed in a future version. Convert inf values to NaN before operating instead.\n",
      "  with pd.option_context('mode.use_inf_as_na', True):\n"
     ]
    },
    {
     "data": {
      "text/plain": [
       "<Axes: ylabel='Count'>"
      ]
     },
     "execution_count": 3,
     "metadata": {},
     "output_type": "execute_result"
    },
    {
     "data": {
      "image/png": "[encoded data removed]",
      "text/plain": [
       "<Figure size 640x480 with 1 Axes>"
      ]
     },
     "metadata": {},
     "output_type": "display_data"
    }
   ],
   "source": [
    "sns.histplot(train_class_labels)"
   ]
  },
  {
   "cell_type": "code",
   "execution_count": 4,
   "id": "be66f889",
   "metadata": {
    "execution": {
     "iopub.execute_input": "2025-06-29T07:50:42.822430Z",
     "iopub.status.busy": "2025-06-29T07:50:42.822054Z",
     "iopub.status.idle": "2025-06-29T07:50:42.828861Z",
     "shell.execute_reply": "2025-06-29T07:50:42.827877Z"
    },
    "papermill": {
     "duration": 0.017849,
     "end_time": "2025-06-29T07:50:42.830434",
     "exception": false,
     "start_time": "2025-06-29T07:50:42.812585",
     "status": "completed"
    },
    "tags": []
   },
   "outputs": [
    {
     "name": "stdout",
     "output_type": "stream",
     "text": [
      "['0' '1' '2' '4' '5' '6' 'no_fracture']\n"
     ]
    }
   ],
   "source": [
    "label_encoder = LabelEncoder()\n",
    "train_labels_enc = label_encoder.fit_transform(train_class_labels)\n",
    "valid_labels_enc = label_encoder.transform(valid_class_labels)\n",
    "test_labels_enc = label_encoder.transform(test_class_labels)\n",
    "\n",
    "print(label_encoder.classes_)  # to know the actual labels"
   ]
  },
  {
   "cell_type": "code",
   "execution_count": 5,
   "id": "e7e30cc7",
   "metadata": {
    "execution": {
     "iopub.execute_input": "2025-06-29T07:50:42.849597Z",
     "iopub.status.busy": "2025-06-29T07:50:42.849266Z",
     "iopub.status.idle": "2025-06-29T07:50:43.092626Z",
     "shell.execute_reply": "2025-06-29T07:50:43.091567Z"
    },
    "papermill": {
     "duration": 0.255393,
     "end_time": "2025-06-29T07:50:43.094656",
     "exception": false,
     "start_time": "2025-06-29T07:50:42.839263",
     "status": "completed"
    },
    "tags": []
   },
   "outputs": [],
   "source": [
    "\n",
    "# Example: train_images = np.array([...]), train_labels = np.array([...])\n",
    "class_groups = defaultdict(list)\n",
    "\n",
    "for img, label in zip(train_images, train_labels_enc):  # assuming integer-encoded labels\n",
    "    class_groups[label].append(img)\n",
    "\n",
    "# Convert lists to arrays\n",
    "for k in class_groups:\n",
    "    class_groups[k] = np.array(class_groups[k])"
   ]
  },
  {
   "cell_type": "code",
   "execution_count": 6,
   "id": "bb61781d",
   "metadata": {
    "execution": {
     "iopub.execute_input": "2025-06-29T07:50:43.113546Z",
     "iopub.status.busy": "2025-06-29T07:50:43.113216Z",
     "iopub.status.idle": "2025-06-29T07:50:43.385946Z",
     "shell.execute_reply": "2025-06-29T07:50:43.384623Z"
    },
    "papermill": {
     "duration": 0.284182,
     "end_time": "2025-06-29T07:50:43.387634",
     "exception": false,
     "start_time": "2025-06-29T07:50:43.103452",
     "status": "completed"
    },
    "tags": []
   },
   "outputs": [
    {
     "name": "stdout",
     "output_type": "stream",
     "text": [
      "(array([0, 1]), array([1827, 1804]))\n"
     ]
    }
   ],
   "source": [
    "no_fracture_label = 6 \n",
    "train_images_list, train_labels_list = [], []\n",
    "\n",
    "for label, images in class_groups.items():\n",
    "    if len(images) == 0:\n",
    "        continue\n",
    "    if label == no_fracture_label:\n",
    "        train_images_list.append(images)\n",
    "        train_labels_list.extend([0] * len(images))\n",
    "    else:\n",
    "        train_images_list.append(images)\n",
    "        train_labels_list.extend([1] * len(images))\n",
    "\n",
    "train_images = np.concatenate(train_images_list, axis=0)\n",
    "train_labels = np.array(train_labels_list)\n",
    "\n",
    "print(np.unique(train_labels, return_counts=True))"
   ]
  },
  {
   "cell_type": "code",
   "execution_count": 7,
   "id": "ccb1e608",
   "metadata": {
    "execution": {
     "iopub.execute_input": "2025-06-29T07:50:43.406292Z",
     "iopub.status.busy": "2025-06-29T07:50:43.405930Z",
     "iopub.status.idle": "2025-06-29T07:50:43.438235Z",
     "shell.execute_reply": "2025-06-29T07:50:43.437157Z"
    },
    "papermill": {
     "duration": 0.044,
     "end_time": "2025-06-29T07:50:43.440301",
     "exception": false,
     "start_time": "2025-06-29T07:50:43.396301",
     "status": "completed"
    },
    "tags": []
   },
   "outputs": [],
   "source": [
    "# Example: train_images = np.array([...]), train_labels = np.array([...])\n",
    "class_groups_1 = defaultdict(list)\n",
    "\n",
    "for img, label in zip(valid_images, valid_labels_enc):  # assuming integer-encoded labels\n",
    "    class_groups_1[label].append(img)\n",
    "\n",
    "# Convert lists to arrays\n",
    "for k in class_groups_1:\n",
    "    class_groups_1[k] = np.array(class_groups_1[k])"
   ]
  },
  {
   "cell_type": "code",
   "execution_count": 8,
   "id": "e1ab6c8f",
   "metadata": {
    "execution": {
     "iopub.execute_input": "2025-06-29T07:50:43.459445Z",
     "iopub.status.busy": "2025-06-29T07:50:43.459110Z",
     "iopub.status.idle": "2025-06-29T07:50:43.485361Z",
     "shell.execute_reply": "2025-06-29T07:50:43.484196Z"
    },
    "papermill": {
     "duration": 0.037825,
     "end_time": "2025-06-29T07:50:43.487247",
     "exception": false,
     "start_time": "2025-06-29T07:50:43.449422",
     "status": "completed"
    },
    "tags": []
   },
   "outputs": [
    {
     "name": "stdout",
     "output_type": "stream",
     "text": [
      "(array([0, 1]), array([175, 173]))\n"
     ]
    }
   ],
   "source": [
    "\n",
    "valid_images_list, valid_labels_list = [], []\n",
    "\n",
    "for label, images in class_groups_1.items():\n",
    "    if len(images) == 0:\n",
    "        continue\n",
    "    if label == no_fracture_label:\n",
    "        valid_images_list.append(images)\n",
    "        valid_labels_list.extend([0] * len(images))\n",
    "    else:\n",
    "        valid_images_list.append(images)\n",
    "        valid_labels_list.extend([1] * len(images))\n",
    "\n",
    "valid_images = np.concatenate(valid_images_list, axis=0)\n",
    "valid_labels = np.array(valid_labels_list)\n",
    "\n",
    "print(np.unique(valid_labels, return_counts=True))# no_fracture_label = 0 (adjust if needed)"
   ]
  },
  {
   "cell_type": "code",
   "execution_count": 9,
   "id": "c3fa3f52",
   "metadata": {
    "execution": {
     "iopub.execute_input": "2025-06-29T07:50:43.506060Z",
     "iopub.status.busy": "2025-06-29T07:50:43.505663Z",
     "iopub.status.idle": "2025-06-29T07:50:43.527876Z",
     "shell.execute_reply": "2025-06-29T07:50:43.526955Z"
    },
    "papermill": {
     "duration": 0.033811,
     "end_time": "2025-06-29T07:50:43.529797",
     "exception": false,
     "start_time": "2025-06-29T07:50:43.495986",
     "status": "completed"
    },
    "tags": []
   },
   "outputs": [],
   "source": [
    "# Example: train_images = np.array([...]), train_labels = np.array([...])\n",
    "class_groups_2 = defaultdict(list)\n",
    "\n",
    "for img, label in zip(test_images, test_labels_enc):  # assuming integer-encoded labels\n",
    "    class_groups_2[label].append(img)\n",
    "\n",
    "# Convert lists to arrays\n",
    "for k in class_groups_2:\n",
    "    class_groups_2[k] = np.array(class_groups_2[k])"
   ]
  },
  {
   "cell_type": "code",
   "execution_count": 10,
   "id": "b9a390df",
   "metadata": {
    "execution": {
     "iopub.execute_input": "2025-06-29T07:50:43.548598Z",
     "iopub.status.busy": "2025-06-29T07:50:43.548223Z",
     "iopub.status.idle": "2025-06-29T07:50:43.565117Z",
     "shell.execute_reply": "2025-06-29T07:50:43.563962Z"
    },
    "papermill": {
     "duration": 0.028327,
     "end_time": "2025-06-29T07:50:43.566963",
     "exception": false,
     "start_time": "2025-06-29T07:50:43.538636",
     "status": "completed"
    },
    "tags": []
   },
   "outputs": [
    {
     "name": "stdout",
     "output_type": "stream",
     "text": [
      "(array([0, 1]), array([86, 83]))\n"
     ]
    }
   ],
   "source": [
    "# no_fracture_label = 0 (adjust if needed)\n",
    "test_images_list, test_labels_list = [], []\n",
    "\n",
    "for label, images in class_groups_2.items():\n",
    "    if len(images) == 0:\n",
    "        continue\n",
    "    if label == no_fracture_label:\n",
    "        test_images_list.append(images)\n",
    "        test_labels_list.extend([0] * len(images))\n",
    "    else:\n",
    "        test_images_list.append(images)\n",
    "        test_labels_list.extend([1] * len(images))\n",
    "\n",
    "test_images = np.concatenate(test_images_list, axis=0)\n",
    "test_labels = np.array(test_labels_list)\n",
    "\n",
    "print(np.unique(test_labels, return_counts=True))"
   ]
  },
  {
   "cell_type": "code",
   "execution_count": 11,
   "id": "cbdf9643",
   "metadata": {
    "execution": {
     "iopub.execute_input": "2025-06-29T07:50:43.586126Z",
     "iopub.status.busy": "2025-06-29T07:50:43.585740Z",
     "iopub.status.idle": "2025-06-29T07:50:44.784860Z",
     "shell.execute_reply": "2025-06-29T07:50:44.783775Z"
    },
    "papermill": {
     "duration": 1.210672,
     "end_time": "2025-06-29T07:50:44.786468",
     "exception": false,
     "start_time": "2025-06-29T07:50:43.575796",
     "status": "completed"
    },
    "tags": []
   },
   "outputs": [
    {
     "name": "stdout",
     "output_type": "stream",
     "text": [
      "Balanced counts: Counter({0: 1827, 1: 1827})\n"
     ]
    }
   ],
   "source": [
    "counter = Counter(train_labels)\n",
    "max_count = max(counter.values())\n",
    "\n",
    "balanced_images, balanced_labels = [], []\n",
    "\n",
    "for cls in [0,1]:\n",
    "    images = train_images[train_labels == cls]\n",
    "    count_needed = max_count - len(images)\n",
    "\n",
    "    # Always add original images\n",
    "    balanced_images.extend(images)\n",
    "    balanced_labels.extend([cls] * len(images))\n",
    "\n",
    "    # Add augmented images\n",
    "    for i in range(count_needed):\n",
    "        img = images[i % len(images)]\n",
    "        img = tf.image.random_flip_left_right(img)\n",
    "        img = tf.image.random_brightness(img, max_delta=0.1)\n",
    "        img = tf.image.random_contrast(img, 0.9, 1.1)\n",
    "        img = tf.image.resize(img, (225, 225))\n",
    "        balanced_images.append(img.numpy())\n",
    "        balanced_labels.append(cls)\n",
    "\n",
    "balanced_images = np.array(balanced_images)\n",
    "balanced_labels = np.array(balanced_labels)\n",
    "\n",
    "print(\"Balanced counts:\", Counter(balanced_labels))\n"
   ]
  },
  {
   "cell_type": "code",
   "execution_count": 12,
   "id": "2fd3743c",
   "metadata": {
    "execution": {
     "iopub.execute_input": "2025-06-29T07:50:44.805492Z",
     "iopub.status.busy": "2025-06-29T07:50:44.805152Z",
     "iopub.status.idle": "2025-06-29T07:50:44.829013Z",
     "shell.execute_reply": "2025-06-29T07:50:44.828066Z"
    },
    "papermill": {
     "duration": 0.035438,
     "end_time": "2025-06-29T07:50:44.830797",
     "exception": false,
     "start_time": "2025-06-29T07:50:44.795359",
     "status": "completed"
    },
    "tags": []
   },
   "outputs": [],
   "source": [
    "augmentation = tf.keras.Sequential([\n",
    "    layers.RandomFlip(\"horizontal\"),\n",
    "    layers.RandomRotation(0.1),\n",
    "    layers.RandomContrast(0.1),\n",
    "    layers.RandomBrightness(0.1),\n",
    "    layers.RandomZoom(0.1),\n",
    "], name=\"augmentation\")\n"
   ]
  },
  {
   "cell_type": "code",
   "execution_count": 13,
   "id": "19975723",
   "metadata": {
    "execution": {
     "iopub.execute_input": "2025-06-29T07:50:44.849573Z",
     "iopub.status.busy": "2025-06-29T07:50:44.849227Z",
     "iopub.status.idle": "2025-06-29T07:50:54.864353Z",
     "shell.execute_reply": "2025-06-29T07:50:54.863260Z"
    },
    "papermill": {
     "duration": 10.026891,
     "end_time": "2025-06-29T07:50:54.866435",
     "exception": false,
     "start_time": "2025-06-29T07:50:44.839544",
     "status": "completed"
    },
    "tags": []
   },
   "outputs": [],
   "source": [
    "BATCH_SIZE = 32\n",
    "\n",
    "train_ds = tf.data.Dataset.from_tensor_slices((balanced_images, balanced_labels))\n",
    "train_ds = train_ds.shuffle(1000).batch(BATCH_SIZE)\n",
    "\n",
    "# Apply augmentation inside pipeline\n",
    "train_ds = train_ds.map(lambda x, y: (augmentation(x, training=True), y), num_parallel_calls=tf.data.AUTOTUNE)\n",
    "train_ds = train_ds.prefetch(tf.data.AUTOTUNE)\n",
    "\n",
    "# Valid/test data: no augmentation\n",
    "valid_ds = tf.data.Dataset.from_tensor_slices((valid_images, valid_labels)).batch(BATCH_SIZE).prefetch(tf.data.AUTOTUNE)\n",
    "test_ds  = tf.data.Dataset.from_tensor_slices((test_images, test_labels)).batch(BATCH_SIZE).prefetch(tf.data.AUTOTUNE)\n"
   ]
  },
  {
   "cell_type": "code",
   "execution_count": 14,
   "id": "cde03218",
   "metadata": {
    "execution": {
     "iopub.execute_input": "2025-06-29T07:50:54.886317Z",
     "iopub.status.busy": "2025-06-29T07:50:54.885944Z",
     "iopub.status.idle": "2025-06-29T08:27:29.209430Z",
     "shell.execute_reply": "2025-06-29T08:27:29.207419Z"
    },
    "papermill": {
     "duration": 2194.33647,
     "end_time": "2025-06-29T08:27:29.212594",
     "exception": false,
     "start_time": "2025-06-29T07:50:54.876124",
     "status": "completed"
    },
    "tags": []
   },
   "outputs": [
    {
     "name": "stdout",
     "output_type": "stream",
     "text": [
      "Downloading data from https://storage.googleapis.com/keras-applications/efficientnetb0_notop.h5\n",
      "\u001b[1m16705208/16705208\u001b[0m \u001b[32m━━━━━━━━━━━━━━━━━━━━\u001b[0m\u001b[37m\u001b[0m \u001b[1m0s\u001b[0m 0us/step\n",
      "Epoch 1/20\n",
      "\u001b[1m115/115\u001b[0m \u001b[32m━━━━━━━━━━━━━━━━━━━━\u001b[0m\u001b[37m\u001b[0m \u001b[1m207s\u001b[0m 2s/step - accuracy: 0.7486 - loss: 0.5768 - val_accuracy: 0.4971 - val_loss: 1.0024\n",
      "Epoch 2/20\n",
      "\u001b[1m115/115\u001b[0m \u001b[32m━━━━━━━━━━━━━━━━━━━━\u001b[0m\u001b[37m\u001b[0m \u001b[1m177s\u001b[0m 2s/step - accuracy: 0.5552 - loss: 0.8715 - val_accuracy: 0.5029 - val_loss: 1.0065\n",
      "Epoch 3/20\n",
      "\u001b[1m115/115\u001b[0m \u001b[32m━━━━━━━━━━━━━━━━━━━━\u001b[0m\u001b[37m\u001b[0m \u001b[1m176s\u001b[0m 2s/step - accuracy: 0.5585 - loss: 0.8657 - val_accuracy: 0.5057 - val_loss: 0.9274\n",
      "Epoch 4/20\n",
      "\u001b[1m115/115\u001b[0m \u001b[32m━━━━━━━━━━━━━━━━━━━━\u001b[0m\u001b[37m\u001b[0m \u001b[1m202s\u001b[0m 2s/step - accuracy: 0.5845 - loss: 0.8087 - val_accuracy: 0.5115 - val_loss: 0.9152\n",
      "Epoch 5/20\n",
      "\u001b[1m115/115\u001b[0m \u001b[32m━━━━━━━━━━━━━━━━━━━━\u001b[0m\u001b[37m\u001b[0m \u001b[1m175s\u001b[0m 2s/step - accuracy: 0.6047 - loss: 0.7803 - val_accuracy: 0.5287 - val_loss: 0.8558\n",
      "Epoch 6/20\n",
      "\u001b[1m115/115\u001b[0m \u001b[32m━━━━━━━━━━━━━━━━━━━━\u001b[0m\u001b[37m\u001b[0m \u001b[1m174s\u001b[0m 2s/step - accuracy: 0.6120 - loss: 0.7598 - val_accuracy: 0.5402 - val_loss: 0.8826\n",
      "Epoch 7/20\n",
      "\u001b[1m115/115\u001b[0m \u001b[32m━━━━━━━━━━━━━━━━━━━━\u001b[0m\u001b[37m\u001b[0m \u001b[1m177s\u001b[0m 2s/step - accuracy: 0.6007 - loss: 0.7819 - val_accuracy: 0.5489 - val_loss: 0.8794\n",
      "Epoch 8/20\n",
      "\u001b[1m115/115\u001b[0m \u001b[32m━━━━━━━━━━━━━━━━━━━━\u001b[0m\u001b[37m\u001b[0m \u001b[1m176s\u001b[0m 2s/step - accuracy: 0.5967 - loss: 0.7833 - val_accuracy: 0.5316 - val_loss: 0.8827\n",
      "Epoch 9/20\n",
      "\u001b[1m115/115\u001b[0m \u001b[32m━━━━━━━━━━━━━━━━━━━━\u001b[0m\u001b[37m\u001b[0m \u001b[1m183s\u001b[0m 2s/step - accuracy: 0.6101 - loss: 0.7661 - val_accuracy: 0.5316 - val_loss: 0.9120\n",
      "Epoch 10/20\n",
      "\u001b[1m115/115\u001b[0m \u001b[32m━━━━━━━━━━━━━━━━━━━━\u001b[0m\u001b[37m\u001b[0m \u001b[1m181s\u001b[0m 2s/step - accuracy: 0.6136 - loss: 0.7877 - val_accuracy: 0.5460 - val_loss: 0.9001\n",
      "Epoch 11/20\n",
      "\u001b[1m115/115\u001b[0m \u001b[32m━━━━━━━━━━━━━━━━━━━━\u001b[0m\u001b[37m\u001b[0m \u001b[1m182s\u001b[0m 2s/step - accuracy: 0.6027 - loss: 0.7996 - val_accuracy: 0.5374 - val_loss: 0.8786\n",
      "Epoch 12/20\n",
      "\u001b[1m115/115\u001b[0m \u001b[32m━━━━━━━━━━━━━━━━━━━━\u001b[0m\u001b[37m\u001b[0m \u001b[1m183s\u001b[0m 2s/step - accuracy: 0.5984 - loss: 0.7620 - val_accuracy: 0.5489 - val_loss: 0.8726\n"
     ]
    }
   ],
   "source": [
    "base_model = EfficientNetB0(weights=\"imagenet\", include_top=False, input_shape=(225,225,3))\n",
    "base_model.trainable = False\n",
    "\n",
    "inputs = layers.Input(shape=(225,225,3))\n",
    "x = base_model(inputs, training=False)\n",
    "x = layers.GlobalAveragePooling2D()(x)\n",
    "x = layers.Dropout(0.5)(x)\n",
    "outputs = layers.Dense(1, activation=\"sigmoid\")(x)\n",
    "\n",
    "model = models.Model(inputs, outputs)\n",
    "model.compile(optimizer='adam', loss='binary_crossentropy', metrics=['accuracy'])\n",
    "\n",
    "history = model.fit(\n",
    "    train_ds, validation_data=valid_ds, epochs=20,\n",
    "    callbacks=[callbacks.EarlyStopping(monitor=\"val_accuracy\", patience=5, restore_best_weights=True)]\n",
    ")\n"
   ]
  },
  {
   "cell_type": "code",
   "execution_count": 15,
   "id": "564b83ef",
   "metadata": {
    "execution": {
     "iopub.execute_input": "2025-06-29T08:27:29.417007Z",
     "iopub.status.busy": "2025-06-29T08:27:29.416490Z",
     "iopub.status.idle": "2025-06-29T08:27:29.702295Z",
     "shell.execute_reply": "2025-06-29T08:27:29.701239Z"
    },
    "papermill": {
     "duration": 0.378212,
     "end_time": "2025-06-29T08:27:29.704052",
     "exception": false,
     "start_time": "2025-06-29T08:27:29.325840",
     "status": "completed"
    },
    "tags": []
   },
   "outputs": [
    {
     "data": {
      "image/png": "[encoded data removed]",
      "text/plain": [
       "<Figure size 1000x500 with 1 Axes>"
      ]
     },
     "metadata": {},
     "output_type": "display_data"
    }
   ],
   "source": [
    "plt.figure(figsize=(10, 5))\n",
    "plt.plot(history.history['accuracy'], label='Training Accuracy')\n",
    "plt.plot(history.history['val_accuracy'], label='Validation Accuracy')\n",
    "plt.title('Accuracy vs. Epochs')\n",
    "plt.xlabel('Epochs')\n",
    "plt.ylabel('Accuracy')\n",
    "plt.legend()\n",
    "plt.grid(True)\n",
    "plt.show()"
   ]
  },
  {
   "cell_type": "code",
   "execution_count": 16,
   "id": "f1b0af39",
   "metadata": {
    "execution": {
     "iopub.execute_input": "2025-06-29T08:27:29.964103Z",
     "iopub.status.busy": "2025-06-29T08:27:29.963601Z",
     "iopub.status.idle": "2025-06-29T08:27:42.010470Z",
     "shell.execute_reply": "2025-06-29T08:27:42.009279Z"
    },
    "papermill": {
     "duration": 12.215813,
     "end_time": "2025-06-29T08:27:42.012249",
     "exception": false,
     "start_time": "2025-06-29T08:27:29.796436",
     "status": "completed"
    },
    "tags": []
   },
   "outputs": [
    {
     "name": "stdout",
     "output_type": "stream",
     "text": [
      "\u001b[1m6/6\u001b[0m \u001b[32m━━━━━━━━━━━━━━━━━━━━\u001b[0m\u001b[37m\u001b[0m \u001b[1m12s\u001b[0m 2s/step\n",
      "Confusion Matrix:\n",
      " [[ 9 77]\n",
      " [ 0 83]]\n",
      "\n",
      "Classification Report:\n",
      "               precision    recall  f1-score   support\n",
      "\n",
      "           0       1.00      0.10      0.19        86\n",
      "           1       0.52      1.00      0.68        83\n",
      "\n",
      "    accuracy                           0.54       169\n",
      "   macro avg       0.76      0.55      0.44       169\n",
      "weighted avg       0.76      0.54      0.43       169\n",
      "\n",
      "ROC AUC: 0.7703838610254974\n"
     ]
    },
    {
     "data": {
      "image/png": "[encoded data removed]",
      "text/plain": [
       "<Figure size 600x400 with 1 Axes>"
      ]
     },
     "metadata": {},
     "output_type": "display_data"
    }
   ],
   "source": [
    "# Predict on test set\n",
    "y_pred_probs = model.predict(test_ds).flatten()\n",
    "y_pred = (y_pred_probs > 0.5).astype(int)\n",
    "\n",
    "# Confusion matrix\n",
    "from sklearn.metrics import confusion_matrix, classification_report, roc_auc_score, roc_curve\n",
    "import matplotlib.pyplot as plt\n",
    "\n",
    "print(\"Confusion Matrix:\\n\", confusion_matrix(test_labels, y_pred))\n",
    "print(\"\\nClassification Report:\\n\", classification_report(test_labels, y_pred))\n",
    "print(\"ROC AUC:\", roc_auc_score(test_labels, y_pred_probs))\n",
    "\n",
    "# ROC curve\n",
    "fpr, tpr, thresholds = roc_curve(test_labels, y_pred_probs)\n",
    "plt.figure(figsize=(6,4))\n",
    "plt.plot(fpr, tpr, label=f\"AUC={roc_auc_score(test_labels, y_pred_probs):.2f}\")\n",
    "plt.xlabel(\"False Positive Rate\")\n",
    "plt.ylabel(\"True Positive Rate\")\n",
    "plt.title(\"ROC Curve\")\n",
    "plt.legend()\n",
    "plt.show()"
   ]
  },
  {
   "cell_type": "code",
   "execution_count": 17,
   "id": "2d0af167",
   "metadata": {
    "execution": {
     "iopub.execute_input": "2025-06-29T08:27:42.197730Z",
     "iopub.status.busy": "2025-06-29T08:27:42.197345Z",
     "iopub.status.idle": "2025-06-29T09:28:30.936606Z",
     "shell.execute_reply": "2025-06-29T09:28:30.933387Z"
    },
    "papermill": {
     "duration": 3648.868043,
     "end_time": "2025-06-29T09:28:30.973096",
     "exception": false,
     "start_time": "2025-06-29T08:27:42.105053",
     "status": "completed"
    },
    "tags": []
   },
   "outputs": [
    {
     "name": "stdout",
     "output_type": "stream",
     "text": [
      "Epoch 1/20\n",
      "\u001b[1m115/115\u001b[0m \u001b[32m━━━━━━━━━━━━━━━━━━━━\u001b[0m\u001b[37m\u001b[0m \u001b[1m216s\u001b[0m 2s/step - accuracy: 0.5783 - loss: 0.6870 - val_accuracy: 0.6667 - val_loss: 0.6310\n",
      "Epoch 2/20\n",
      "\u001b[1m115/115\u001b[0m \u001b[32m━━━━━━━━━━━━━━━━━━━━\u001b[0m\u001b[37m\u001b[0m \u001b[1m207s\u001b[0m 2s/step - accuracy: 0.5398 - loss: 0.7094 - val_accuracy: 0.6983 - val_loss: 0.5887\n",
      "Epoch 3/20\n",
      "\u001b[1m115/115\u001b[0m \u001b[32m━━━━━━━━━━━━━━━━━━━━\u001b[0m\u001b[37m\u001b[0m \u001b[1m200s\u001b[0m 2s/step - accuracy: 0.5238 - loss: 0.7387 - val_accuracy: 0.7011 - val_loss: 0.5857\n",
      "Epoch 4/20\n",
      "\u001b[1m115/115\u001b[0m \u001b[32m━━━━━━━━━━━━━━━━━━━━\u001b[0m\u001b[37m\u001b[0m \u001b[1m204s\u001b[0m 2s/step - accuracy: 0.5122 - loss: 0.7488 - val_accuracy: 0.7155 - val_loss: 0.5823\n",
      "Epoch 5/20\n",
      "\u001b[1m115/115\u001b[0m \u001b[32m━━━━━━━━━━━━━━━━━━━━\u001b[0m\u001b[37m\u001b[0m \u001b[1m200s\u001b[0m 2s/step - accuracy: 0.5085 - loss: 0.7480 - val_accuracy: 0.7241 - val_loss: 0.5771\n",
      "Epoch 6/20\n",
      "\u001b[1m115/115\u001b[0m \u001b[32m━━━━━━━━━━━━━━━━━━━━\u001b[0m\u001b[37m\u001b[0m \u001b[1m200s\u001b[0m 2s/step - accuracy: 0.5070 - loss: 0.7395 - val_accuracy: 0.7184 - val_loss: 0.5728\n",
      "Epoch 7/20\n",
      "\u001b[1m115/115\u001b[0m \u001b[32m━━━━━━━━━━━━━━━━━━━━\u001b[0m\u001b[37m\u001b[0m \u001b[1m200s\u001b[0m 2s/step - accuracy: 0.5127 - loss: 0.7466 - val_accuracy: 0.7126 - val_loss: 0.5683\n",
      "Epoch 8/20\n",
      "\u001b[1m115/115\u001b[0m \u001b[32m━━━━━━━━━━━━━━━━━━━━\u001b[0m\u001b[37m\u001b[0m \u001b[1m199s\u001b[0m 2s/step - accuracy: 0.5165 - loss: 0.7352 - val_accuracy: 0.7126 - val_loss: 0.5644\n",
      "Epoch 9/20\n",
      "\u001b[1m115/115\u001b[0m \u001b[32m━━━━━━━━━━━━━━━━━━━━\u001b[0m\u001b[37m\u001b[0m \u001b[1m201s\u001b[0m 2s/step - accuracy: 0.5311 - loss: 0.7321 - val_accuracy: 0.7299 - val_loss: 0.5604\n",
      "Epoch 10/20\n",
      "\u001b[1m115/115\u001b[0m \u001b[32m━━━━━━━━━━━━━━━━━━━━\u001b[0m\u001b[37m\u001b[0m \u001b[1m200s\u001b[0m 2s/step - accuracy: 0.5157 - loss: 0.7348 - val_accuracy: 0.7328 - val_loss: 0.5582\n",
      "Epoch 11/20\n",
      "\u001b[1m115/115\u001b[0m \u001b[32m━━━━━━━━━━━━━━━━━━━━\u001b[0m\u001b[37m\u001b[0m \u001b[1m202s\u001b[0m 2s/step - accuracy: 0.5371 - loss: 0.7263 - val_accuracy: 0.7270 - val_loss: 0.5546\n",
      "Epoch 12/20\n",
      "\u001b[1m115/115\u001b[0m \u001b[32m━━━━━━━━━━━━━━━━━━━━\u001b[0m\u001b[37m\u001b[0m \u001b[1m199s\u001b[0m 2s/step - accuracy: 0.5285 - loss: 0.7289 - val_accuracy: 0.7241 - val_loss: 0.5522\n",
      "Epoch 13/20\n",
      "\u001b[1m115/115\u001b[0m \u001b[32m━━━━━━━━━━━━━━━━━━━━\u001b[0m\u001b[37m\u001b[0m \u001b[1m213s\u001b[0m 2s/step - accuracy: 0.5259 - loss: 0.7221 - val_accuracy: 0.7356 - val_loss: 0.5492\n",
      "Epoch 14/20\n",
      "\u001b[1m115/115\u001b[0m \u001b[32m━━━━━━━━━━━━━━━━━━━━\u001b[0m\u001b[37m\u001b[0m \u001b[1m209s\u001b[0m 2s/step - accuracy: 0.5372 - loss: 0.7101 - val_accuracy: 0.7356 - val_loss: 0.5462\n",
      "Epoch 15/20\n",
      "\u001b[1m115/115\u001b[0m \u001b[32m━━━━━━━━━━━━━━━━━━━━\u001b[0m\u001b[37m\u001b[0m \u001b[1m206s\u001b[0m 2s/step - accuracy: 0.5353 - loss: 0.7116 - val_accuracy: 0.7328 - val_loss: 0.5437\n",
      "Epoch 16/20\n",
      "\u001b[1m115/115\u001b[0m \u001b[32m━━━━━━━━━━━━━━━━━━━━\u001b[0m\u001b[37m\u001b[0m \u001b[1m199s\u001b[0m 2s/step - accuracy: 0.5325 - loss: 0.7098 - val_accuracy: 0.7299 - val_loss: 0.5416\n",
      "Epoch 17/20\n",
      "\u001b[1m115/115\u001b[0m \u001b[32m━━━━━━━━━━━━━━━━━━━━\u001b[0m\u001b[37m\u001b[0m \u001b[1m198s\u001b[0m 2s/step - accuracy: 0.5440 - loss: 0.7074 - val_accuracy: 0.7270 - val_loss: 0.5397\n",
      "Epoch 18/20\n",
      "\u001b[1m115/115\u001b[0m \u001b[32m━━━━━━━━━━━━━━━━━━━━\u001b[0m\u001b[37m\u001b[0m \u001b[1m198s\u001b[0m 2s/step - accuracy: 0.5595 - loss: 0.6931 - val_accuracy: 0.7328 - val_loss: 0.5372\n"
     ]
    }
   ],
   "source": [
    "# Unfreeze top N layers of base_model\n",
    "base_model.trainable = True\n",
    "\n",
    "# Optionally freeze bottom layers\n",
    "fine_tune_at = len(base_model.layers) - 20  # unfreeze last 20 layers\n",
    "for i, layer in enumerate(base_model.layers):\n",
    "    layer.trainable = i >= fine_tune_at\n",
    "\n",
    "# Compile with smaller lr\n",
    "model.compile(optimizer=tf.keras.optimizers.Adam(1e-5),  # lower lr\n",
    "              loss='binary_crossentropy',\n",
    "              metrics=['accuracy'])\n",
    "\n",
    "# Continue training\n",
    "fine_tune_history = model.fit(\n",
    "    train_ds, validation_data=valid_ds, epochs=20,\n",
    "    callbacks=[callbacks.EarlyStopping(monitor=\"val_accuracy\", patience=5, restore_best_weights=True)]\n",
    ")"
   ]
  },
  {
   "cell_type": "code",
   "execution_count": 18,
   "id": "d5bb65bb",
   "metadata": {
    "execution": {
     "iopub.execute_input": "2025-06-29T09:28:31.404393Z",
     "iopub.status.busy": "2025-06-29T09:28:31.403408Z",
     "iopub.status.idle": "2025-06-29T09:28:31.744856Z",
     "shell.execute_reply": "2025-06-29T09:28:31.743769Z"
    },
    "papermill": {
     "duration": 0.558543,
     "end_time": "2025-06-29T09:28:31.746661",
     "exception": false,
     "start_time": "2025-06-29T09:28:31.188118",
     "status": "completed"
    },
    "tags": []
   },
   "outputs": [
    {
     "data": {
      "image/png": "[encoded data removed]",
      "text/plain": [
       "<Figure size 1000x500 with 1 Axes>"
      ]
     },
     "metadata": {},
     "output_type": "display_data"
    }
   ],
   "source": [
    "plt.figure(figsize=(10, 5))\n",
    "plt.plot(fine_tune_history.history['accuracy'], label='Training Accuracy')\n",
    "plt.plot(fine_tune_history.history['val_accuracy'], label='Validation Accuracy')\n",
    "plt.title('Accuracy vs. Epochs')\n",
    "plt.xlabel('Epochs')\n",
    "plt.ylabel('Accuracy')\n",
    "plt.legend()\n",
    "plt.grid(True)\n",
    "plt.show()"
   ]
  },
  {
   "cell_type": "code",
   "execution_count": 19,
   "id": "8c320691",
   "metadata": {
    "execution": {
     "iopub.execute_input": "2025-06-29T09:28:32.261380Z",
     "iopub.status.busy": "2025-06-29T09:28:32.260979Z",
     "iopub.status.idle": "2025-06-29T09:28:46.464194Z",
     "shell.execute_reply": "2025-06-29T09:28:46.463034Z"
    },
    "papermill": {
     "duration": 14.422017,
     "end_time": "2025-06-29T09:28:46.466255",
     "exception": false,
     "start_time": "2025-06-29T09:28:32.044238",
     "status": "completed"
    },
    "tags": []
   },
   "outputs": [
    {
     "name": "stdout",
     "output_type": "stream",
     "text": [
      "\u001b[1m6/6\u001b[0m \u001b[32m━━━━━━━━━━━━━━━━━━━━\u001b[0m\u001b[37m\u001b[0m \u001b[1m14s\u001b[0m 2s/step\n",
      "Confusion Matrix:\n",
      " [[59 27]\n",
      " [25 58]]\n",
      "\n",
      "Classification Report:\n",
      "               precision    recall  f1-score   support\n",
      "\n",
      "           0       0.70      0.69      0.69        86\n",
      "           1       0.68      0.70      0.69        83\n",
      "\n",
      "    accuracy                           0.69       169\n",
      "   macro avg       0.69      0.69      0.69       169\n",
      "weighted avg       0.69      0.69      0.69       169\n",
      "\n",
      "ROC AUC: 0.7750070047632389\n"
     ]
    },
    {
     "data": {
      "image/png": "[encoded data removed]",
      "text/plain": [
       "<Figure size 600x400 with 1 Axes>"
      ]
     },
     "metadata": {},
     "output_type": "display_data"
    }
   ],
   "source": [
    "# Predict on test set\n",
    "y_pred_probs = model.predict(test_ds).flatten()\n",
    "y_pred = (y_pred_probs > 0.5).astype(int)\n",
    "\n",
    "# Confusion matrix\n",
    "from sklearn.metrics import confusion_matrix, classification_report, roc_auc_score, roc_curve\n",
    "import matplotlib.pyplot as plt\n",
    "\n",
    "print(\"Confusion Matrix:\\n\", confusion_matrix(test_labels, y_pred))\n",
    "print(\"\\nClassification Report:\\n\", classification_report(test_labels, y_pred))\n",
    "print(\"ROC AUC:\", roc_auc_score(test_labels, y_pred_probs))\n",
    "\n",
    "# ROC curve\n",
    "fpr, tpr, thresholds = roc_curve(test_labels, y_pred_probs)\n",
    "plt.figure(figsize=(6,4))\n",
    "plt.plot(fpr, tpr, label=f\"AUC={roc_auc_score(test_labels, y_pred_probs):.2f}\")\n",
    "plt.xlabel(\"False Positive Rate\")\n",
    "plt.ylabel(\"True Positive Rate\")\n",
    "plt.title(\"ROC Curve\")\n",
    "plt.legend()\n",
    "plt.show()"
   ]
  },
  {
   "cell_type": "code",
   "execution_count": 20,
   "id": "727fc435",
   "metadata": {
    "execution": {
     "iopub.execute_input": "2025-06-29T09:28:46.898901Z",
     "iopub.status.busy": "2025-06-29T09:28:46.898460Z",
     "iopub.status.idle": "2025-06-29T11:48:33.373505Z",
     "shell.execute_reply": "2025-06-29T11:48:33.369933Z"
    },
    "papermill": {
     "duration": 8386.694399,
     "end_time": "2025-06-29T11:48:33.376117",
     "exception": false,
     "start_time": "2025-06-29T09:28:46.681718",
     "status": "completed"
    },
    "tags": []
   },
   "outputs": [
    {
     "name": "stdout",
     "output_type": "stream",
     "text": [
      "Downloading data from https://storage.googleapis.com/tensorflow/keras-applications/resnet/resnet152v2_weights_tf_dim_ordering_tf_kernels_notop.h5\n",
      "\u001b[1m234545216/234545216\u001b[0m \u001b[32m━━━━━━━━━━━━━━━━━━━━\u001b[0m\u001b[37m\u001b[0m \u001b[1m1s\u001b[0m 0us/step\n",
      "Epoch 1/20\n",
      "\u001b[1m115/115\u001b[0m \u001b[32m━━━━━━━━━━━━━━━━━━━━\u001b[0m\u001b[37m\u001b[0m \u001b[1m960s\u001b[0m 8s/step - accuracy: 0.8402 - loss: 28.6262 - val_accuracy: 0.4971 - val_loss: 85.6928\n",
      "Epoch 2/20\n",
      "\u001b[1m115/115\u001b[0m \u001b[32m━━━━━━━━━━━━━━━━━━━━\u001b[0m\u001b[37m\u001b[0m \u001b[1m929s\u001b[0m 8s/step - accuracy: 0.7303 - loss: 62.2856 - val_accuracy: 0.4971 - val_loss: 67.5048\n",
      "Epoch 3/20\n",
      "\u001b[1m115/115\u001b[0m \u001b[32m━━━━━━━━━━━━━━━━━━━━\u001b[0m\u001b[37m\u001b[0m \u001b[1m927s\u001b[0m 8s/step - accuracy: 0.7575 - loss: 50.4635 - val_accuracy: 0.4971 - val_loss: 52.3206\n",
      "Epoch 4/20\n",
      "\u001b[1m115/115\u001b[0m \u001b[32m━━━━━━━━━━━━━━━━━━━━\u001b[0m\u001b[37m\u001b[0m \u001b[1m928s\u001b[0m 8s/step - accuracy: 0.7575 - loss: 46.2733 - val_accuracy: 0.5460 - val_loss: 11.6653\n",
      "Epoch 5/20\n",
      "\u001b[1m115/115\u001b[0m \u001b[32m━━━━━━━━━━━━━━━━━━━━\u001b[0m\u001b[37m\u001b[0m \u001b[1m928s\u001b[0m 8s/step - accuracy: 0.7970 - loss: 25.5039 - val_accuracy: 0.5115 - val_loss: 17.0950\n",
      "Epoch 6/20\n",
      "\u001b[1m115/115\u001b[0m \u001b[32m━━━━━━━━━━━━━━━━━━━━\u001b[0m\u001b[37m\u001b[0m \u001b[1m930s\u001b[0m 8s/step - accuracy: 0.7885 - loss: 22.8845 - val_accuracy: 0.5086 - val_loss: 22.8184\n",
      "Epoch 7/20\n",
      "\u001b[1m115/115\u001b[0m \u001b[32m━━━━━━━━━━━━━━━━━━━━\u001b[0m\u001b[37m\u001b[0m \u001b[1m926s\u001b[0m 8s/step - accuracy: 0.7778 - loss: 28.2406 - val_accuracy: 0.4971 - val_loss: 35.0513\n",
      "Epoch 8/20\n",
      "\u001b[1m115/115\u001b[0m \u001b[32m━━━━━━━━━━━━━━━━━━━━\u001b[0m\u001b[37m\u001b[0m \u001b[1m925s\u001b[0m 8s/step - accuracy: 0.7698 - loss: 32.5343 - val_accuracy: 0.5402 - val_loss: 10.5477\n",
      "Epoch 9/20\n",
      "\u001b[1m115/115\u001b[0m \u001b[32m━━━━━━━━━━━━━━━━━━━━\u001b[0m\u001b[37m\u001b[0m \u001b[1m927s\u001b[0m 8s/step - accuracy: 0.7925 - loss: 18.0215 - val_accuracy: 0.5057 - val_loss: 17.0580\n"
     ]
    }
   ],
   "source": [
    "base_model = ResNet152V2(weights=\"imagenet\", include_top=False, input_shape=(225,225,3))\n",
    "base_model.trainable = False\n",
    "\n",
    "inputs = layers.Input(shape=(225,225,3))\n",
    "x = base_model(inputs, training=False)\n",
    "x = layers.GlobalAveragePooling2D()(x)\n",
    "x = layers.Dropout(0.5)(x)\n",
    "outputs = layers.Dense(1, activation=\"sigmoid\")(x)\n",
    "\n",
    "model = models.Model(inputs, outputs)\n",
    "model.compile(optimizer='adam', loss='binary_crossentropy', metrics=['accuracy'])\n",
    "\n",
    "history = model.fit(\n",
    "    train_ds, validation_data=valid_ds, epochs=20,\n",
    "    callbacks=[callbacks.EarlyStopping(monitor=\"val_accuracy\", patience=5, restore_best_weights=True)]\n",
    ")\n"
   ]
  },
  {
   "cell_type": "code",
   "execution_count": 21,
   "id": "0b94182b",
   "metadata": {
    "execution": {
     "iopub.execute_input": "2025-06-29T11:48:33.944156Z",
     "iopub.status.busy": "2025-06-29T11:48:33.943388Z",
     "iopub.status.idle": "2025-06-29T11:48:34.275783Z",
     "shell.execute_reply": "2025-06-29T11:48:34.274589Z"
    },
    "papermill": {
     "duration": 0.623224,
     "end_time": "2025-06-29T11:48:34.277451",
     "exception": false,
     "start_time": "2025-06-29T11:48:33.654227",
     "status": "completed"
    },
    "tags": []
   },
   "outputs": [
    {
     "data": {
      "image/png": "[encoded data removed]",
      "text/plain": [
       "<Figure size 1000x500 with 1 Axes>"
      ]
     },
     "metadata": {},
     "output_type": "display_data"
    }
   ],
   "source": [
    "plt.figure(figsize=(10, 5))\n",
    "plt.plot(history.history['accuracy'], label='Training Accuracy')\n",
    "plt.plot(history.history['val_accuracy'], label='Validation Accuracy')\n",
    "plt.title('Accuracy vs. Epochs')\n",
    "plt.xlabel('Epochs')\n",
    "plt.ylabel('Accuracy')\n",
    "plt.legend()\n",
    "plt.grid(True)\n",
    "plt.show()"
   ]
  },
  {
   "cell_type": "code",
   "execution_count": null,
   "id": "9f9ef852",
   "metadata": {
    "papermill": {
     "duration": 0.280589,
     "end_time": "2025-06-29T11:48:34.880968",
     "exception": false,
     "start_time": "2025-06-29T11:48:34.600379",
     "status": "completed"
    },
    "tags": []
   },
   "outputs": [],
   "source": []
  },
  {
   "cell_type": "code",
   "execution_count": null,
   "id": "c070a569",
   "metadata": {
    "papermill": {
     "duration": 0.382263,
     "end_time": "2025-06-29T11:48:35.541427",
     "exception": false,
     "start_time": "2025-06-29T11:48:35.159164",
     "status": "completed"
    },
    "tags": []
   },
   "outputs": [],
   "source": []
  },
  {
   "cell_type": "code",
   "execution_count": null,
   "id": "b3a844d9",
   "metadata": {
    "papermill": {
     "duration": 0.281688,
     "end_time": "2025-06-29T11:48:36.108880",
     "exception": false,
     "start_time": "2025-06-29T11:48:35.827192",
     "status": "completed"
    },
    "tags": []
   },
   "outputs": [],
   "source": []
  },
  {
   "cell_type": "code",
   "execution_count": null,
   "id": "0f3663c7",
   "metadata": {
    "papermill": {
     "duration": 0.281772,
     "end_time": "2025-06-29T11:48:36.672667",
     "exception": false,
     "start_time": "2025-06-29T11:48:36.390895",
     "status": "completed"
    },
    "tags": []
   },
   "outputs": [],
   "source": []
  },
  {
   "cell_type": "code",
   "execution_count": 22,
   "id": "897708e9",
   "metadata": {
    "execution": {
     "iopub.execute_input": "2025-06-29T11:48:37.235555Z",
     "iopub.status.busy": "2025-06-29T11:48:37.235179Z",
     "iopub.status.idle": "2025-06-29T11:48:37.239126Z",
     "shell.execute_reply": "2025-06-29T11:48:37.238117Z"
    },
    "papermill": {
     "duration": 0.288303,
     "end_time": "2025-06-29T11:48:37.240796",
     "exception": false,
     "start_time": "2025-06-29T11:48:36.952493",
     "status": "completed"
    },
    "tags": []
   },
   "outputs": [],
   "source": [
    "# target_count = max(len(v) for v in class_groups.values())  # make all classes equal to max class\n",
    "\n",
    "# print(\"Target per class:\", target_count)"
   ]
  },
  {
   "cell_type": "code",
   "execution_count": 23,
   "id": "4ec55677",
   "metadata": {
    "execution": {
     "iopub.execute_input": "2025-06-29T11:48:37.804152Z",
     "iopub.status.busy": "2025-06-29T11:48:37.803749Z",
     "iopub.status.idle": "2025-06-29T11:48:37.808353Z",
     "shell.execute_reply": "2025-06-29T11:48:37.807271Z"
    },
    "papermill": {
     "duration": 0.288545,
     "end_time": "2025-06-29T11:48:37.809935",
     "exception": false,
     "start_time": "2025-06-29T11:48:37.521390",
     "status": "completed"
    },
    "tags": []
   },
   "outputs": [],
   "source": [
    "# len(class_groups[6])"
   ]
  },
  {
   "cell_type": "code",
   "execution_count": null,
   "id": "dcd0676d",
   "metadata": {
    "papermill": {
     "duration": 0.377729,
     "end_time": "2025-06-29T11:48:38.468999",
     "exception": false,
     "start_time": "2025-06-29T11:48:38.091270",
     "status": "completed"
    },
    "tags": []
   },
   "outputs": [],
   "source": []
  },
  {
   "cell_type": "code",
   "execution_count": 24,
   "id": "d471c2f0",
   "metadata": {
    "execution": {
     "iopub.execute_input": "2025-06-29T11:48:39.031763Z",
     "iopub.status.busy": "2025-06-29T11:48:39.031352Z",
     "iopub.status.idle": "2025-06-29T11:48:39.035558Z",
     "shell.execute_reply": "2025-06-29T11:48:39.034592Z"
    },
    "papermill": {
     "duration": 0.285509,
     "end_time": "2025-06-29T11:48:39.037310",
     "exception": false,
     "start_time": "2025-06-29T11:48:38.751801",
     "status": "completed"
    },
    "tags": []
   },
   "outputs": [],
   "source": [
    "# augmented_images = []\n",
    "# augmented_labels = []\n",
    "\n",
    "# for label, images in class_groups.items():\n",
    "#     if len(images) == 0:\n",
    "#         print(f\"Skipping class {label} (no images)\")\n",
    "#         continue\n",
    "\n",
    "#     count_needed = target_count - len(images)\n",
    "#     print(f\"Augmenting class {label} by {count_needed} samples\")\n",
    "\n",
    "#     # ✅ Always add original images first\n",
    "#     augmented_images.extend(images)\n",
    "#     augmented_labels.extend([label] * len(images))\n",
    "\n",
    "#     # ➕ Add augmented images to match target count\n",
    "#     for i in range(count_needed):\n",
    "#         img = images[i % len(images)]\n",
    "#         aug_img = tf.image.random_flip_left_right(img)\n",
    "#         aug_img = tf.image.random_brightness(aug_img, max_delta=0.1)\n",
    "#         aug_img = tf.image.random_contrast(aug_img, 0.9, 1.1)\n",
    "#         aug_img = tf.image.resize(aug_img, (225, 225))\n",
    "#         aug_img = tf.cast(aug_img, tf.uint8)\n",
    "#         augmented_images.append(aug_img.numpy())\n",
    "#         augmented_labels.append(label)"
   ]
  },
  {
   "cell_type": "code",
   "execution_count": 25,
   "id": "5c991c56",
   "metadata": {
    "execution": {
     "iopub.execute_input": "2025-06-29T11:48:39.627038Z",
     "iopub.status.busy": "2025-06-29T11:48:39.626573Z",
     "iopub.status.idle": "2025-06-29T11:48:39.631136Z",
     "shell.execute_reply": "2025-06-29T11:48:39.629674Z"
    },
    "papermill": {
     "duration": 0.29098,
     "end_time": "2025-06-29T11:48:39.633384",
     "exception": false,
     "start_time": "2025-06-29T11:48:39.342404",
     "status": "completed"
    },
    "tags": []
   },
   "outputs": [],
   "source": [
    "# sns.histplot(augmented_labels)"
   ]
  },
  {
   "cell_type": "code",
   "execution_count": 26,
   "id": "e3ddfeac",
   "metadata": {
    "execution": {
     "iopub.execute_input": "2025-06-29T11:48:40.196431Z",
     "iopub.status.busy": "2025-06-29T11:48:40.196035Z",
     "iopub.status.idle": "2025-06-29T11:48:40.200473Z",
     "shell.execute_reply": "2025-06-29T11:48:40.199422Z"
    },
    "papermill": {
     "duration": 0.285911,
     "end_time": "2025-06-29T11:48:40.202133",
     "exception": false,
     "start_time": "2025-06-29T11:48:39.916222",
     "status": "completed"
    },
    "tags": []
   },
   "outputs": [],
   "source": [
    "# aug_images = np.array(augmented_images)\n",
    "# aug_labels = np.array(augmented_labels)\n",
    "\n",
    "# # Shuffle\n",
    "# perm = np.random.permutation(len(aug_images))\n",
    "# aug_images = aug_images[perm]\n",
    "# aug_labels = aug_labels[perm]"
   ]
  },
  {
   "cell_type": "code",
   "execution_count": 27,
   "id": "5771b4ce",
   "metadata": {
    "execution": {
     "iopub.execute_input": "2025-06-29T11:48:40.764750Z",
     "iopub.status.busy": "2025-06-29T11:48:40.764359Z",
     "iopub.status.idle": "2025-06-29T11:48:40.768259Z",
     "shell.execute_reply": "2025-06-29T11:48:40.767151Z"
    },
    "papermill": {
     "duration": 0.287704,
     "end_time": "2025-06-29T11:48:40.769948",
     "exception": false,
     "start_time": "2025-06-29T11:48:40.482244",
     "status": "completed"
    },
    "tags": []
   },
   "outputs": [],
   "source": [
    "# train_images = aug_images / 255.0\n",
    "# valid_images = valid_images / 255.0\n",
    "# test_images = test_images / 255.0"
   ]
  },
  {
   "cell_type": "code",
   "execution_count": 28,
   "id": "048260ac",
   "metadata": {
    "execution": {
     "iopub.execute_input": "2025-06-29T11:48:41.416256Z",
     "iopub.status.busy": "2025-06-29T11:48:41.415676Z",
     "iopub.status.idle": "2025-06-29T11:48:41.419786Z",
     "shell.execute_reply": "2025-06-29T11:48:41.418780Z"
    },
    "papermill": {
     "duration": 0.28174,
     "end_time": "2025-06-29T11:48:41.421559",
     "exception": false,
     "start_time": "2025-06-29T11:48:41.139819",
     "status": "completed"
    },
    "tags": []
   },
   "outputs": [],
   "source": [
    "# num_classes = len(label_encoder.classes_)\n",
    "# train_labels_cat = to_categorical(aug_labels, num_classes)\n",
    "# valid_labels_cat = to_categorical(valid_labels_enc, num_classes)\n",
    "# test_labels_cat = to_categorical(test_labels_enc, num_classes)"
   ]
  },
  {
   "cell_type": "code",
   "execution_count": 29,
   "id": "ede7fa5e",
   "metadata": {
    "execution": {
     "iopub.execute_input": "2025-06-29T11:48:41.981601Z",
     "iopub.status.busy": "2025-06-29T11:48:41.981180Z",
     "iopub.status.idle": "2025-06-29T11:48:41.985682Z",
     "shell.execute_reply": "2025-06-29T11:48:41.984751Z"
    },
    "papermill": {
     "duration": 0.28537,
     "end_time": "2025-06-29T11:48:41.987428",
     "exception": false,
     "start_time": "2025-06-29T11:48:41.702058",
     "status": "completed"
    },
    "tags": []
   },
   "outputs": [],
   "source": [
    "# datagen = ImageDataGenerator(\n",
    "#     rotation_range=10,\n",
    "#     width_shift_range=0.05,\n",
    "#     height_shift_range=0.05,\n",
    "#     zoom_rangfrom tensorflow.keras import mixed_precision\n",
    "# mixed_precision.set_global_policy(\"mixed_float16\")\n",
    "\n",
    "# # Setup EfficientNet\n",
    "# base_model = EfficientNetB0(\n",
    "#     weights=\"imagenet\",\n",
    "#     include_top=False,\n",
    "#     input_shape=(225, 225, 3)\n",
    "# )\n",
    "# base_model.trainable = False\n",
    "\n",
    "# inputs = Input(shape=(225, 225, 3))\n",
    "# x = base_model(inputs, training=False)\n",
    "# x = layers.GlobalAveragePooling2D()(x)\n",
    "# x = layers.Dropout(0.5)(x)\n",
    "# outputs = layers.Dense(NUM_CLASSES, activation=\"softmax\", dtype=\"float32\")(x)\n",
    "\n",
    "# model = models.Model(inputs, outputs)\n",
    "# model.compile(\n",
    "#     optimizer=tf.keras.optimizers.Adam(1e-3),\n",
    "#     loss=\"categorical_crossentropy\",\n",
    "#     metrics=[\"accuracy\"]\n",
    "# )\n",
    "\n",
    "# # Dataset pipeline\n",
    "# train_ds = tf.data.Dataset.from_tensor_slices((aug_images, aug_labels_cat)).batch(8).prefetch(tf.data.AUTOTUNE)\n",
    "# val_ds = tf.data.Dataset.from_tensor_slices((valid_images, valid_labels_cat)).batch(8).prefetch(tf.data.AUTOTUNE)\n",
    "\n",
    "# # Train\n",
    "# model.fit(\n",
    "#     train_ds,\n",
    "#     validation_data=val_ds,\n",
    "#     epochs=20,\n",
    "#     callbacks=[callbacks.EarlyStopping(monitor=\"val_accuracy\", patience=8, restore_best_weights=True)]\n",
    "# )e=0.1,\n",
    "#     horizontal_flip=True,\n",
    "#     brightness_range=[0.8, 1.2],\n",
    "#     fill_mode='nearest'\n",
    "# )\n",
    "# datagen.fit(train_images)"
   ]
  },
  {
   "cell_type": "code",
   "execution_count": 30,
   "id": "079bcccf",
   "metadata": {
    "execution": {
     "iopub.execute_input": "2025-06-29T11:48:42.548289Z",
     "iopub.status.busy": "2025-06-29T11:48:42.547931Z",
     "iopub.status.idle": "2025-06-29T11:48:42.551814Z",
     "shell.execute_reply": "2025-06-29T11:48:42.550906Z"
    },
    "papermill": {
     "duration": 0.286028,
     "end_time": "2025-06-29T11:48:42.553441",
     "exception": false,
     "start_time": "2025-06-29T11:48:42.267413",
     "status": "completed"
    },
    "tags": []
   },
   "outputs": [],
   "source": [
    "# len(label_encoder.classes_)"
   ]
  },
  {
   "cell_type": "code",
   "execution_count": 31,
   "id": "5eee3a5a",
   "metadata": {
    "execution": {
     "iopub.execute_input": "2025-06-29T11:48:43.114152Z",
     "iopub.status.busy": "2025-06-29T11:48:43.113766Z",
     "iopub.status.idle": "2025-06-29T11:48:43.118235Z",
     "shell.execute_reply": "2025-06-29T11:48:43.117190Z"
    },
    "papermill": {
     "duration": 0.287611,
     "end_time": "2025-06-29T11:48:43.119732",
     "exception": false,
     "start_time": "2025-06-29T11:48:42.832121",
     "status": "completed"
    },
    "tags": []
   },
   "outputs": [],
   "source": [
    "# import tensorflow as tf\n",
    "# import keras_cv\n",
    "# from tensorflow.keras import layers, models, callbacks\n",
    "# from tensorflow.keras import mixed_precision\n",
    "# mixed_precision.set_global_policy(\"mixed_float16\")\n",
    "\n",
    "# # Parameters\n",
    "# IMAGE_SIZE = 225\n",
    "# BATCH_SIZE = 32\n",
    "# NUM_CLASSES = len(label_encoder.classes_)  # from your label encoder\n",
    "# EPOCHS = 20\n",
    "\n",
    "\n",
    "# # Setup EfficientNet\n",
    "# base_model = EfficientNetB0(\n",
    "#     weights=\"imagenet\",\n",
    "#     include_top=False,\n",
    "#     input_shape=(225, 225, 3)\n",
    "# )\n",
    "# base_model.trainable = False\n",
    "\n",
    "# inputs = Input(shape=(225, 225, 3))\n",
    "# x = base_model(inputs, training=False)\n",
    "# x = layers.GlobalAveragePooling2D()(x)\n",
    "# x = layers.Dropout(0.5)(x)\n",
    "# outputs = layers.Dense(NUM_CLASSES, activation=\"softmax\", dtype=\"float32\")(x)\n",
    "\n",
    "# model = models.Model(inputs, outputs)\n",
    "# model.compile(\n",
    "#     optimizer=tf.keras.optimizers.Adam(1e-3),\n",
    "#     loss=\"categorical_crossentropy\",\n",
    "#     metrics=[\"accuracy\"]\n",
    "# )\n",
    "\n",
    "# # Dataset pipeline\n",
    "# train_ds = tf.data.Dataset.from_tensor_slices((train_images, train_labels_cat)).batch(8).prefetch(tf.data.AUTOTUNE)\n",
    "# val_ds = tf.data.Dataset.from_tensor_slices((valid_images, valid_labels_cat)).batch(8).prefetch(tf.data.AUTOTUNE)\n",
    "\n",
    "# # Train\n",
    "# model.fit(\n",
    "#     train_ds,\n",
    "#     validation_data=val_ds,\n",
    "#     epochs=20,\n",
    "#     callbacks=[callbacks.EarlyStopping(monitor=\"val_accuracy\", patience=8, restore_best_weights=True)]\n",
    "# )\n"
   ]
  },
  {
   "cell_type": "code",
   "execution_count": 32,
   "id": "4e73ee85",
   "metadata": {
    "execution": {
     "iopub.execute_input": "2025-06-29T11:48:43.709198Z",
     "iopub.status.busy": "2025-06-29T11:48:43.708791Z",
     "iopub.status.idle": "2025-06-29T11:48:43.712877Z",
     "shell.execute_reply": "2025-06-29T11:48:43.711835Z"
    },
    "papermill": {
     "duration": 0.310382,
     "end_time": "2025-06-29T11:48:43.714922",
     "exception": false,
     "start_time": "2025-06-29T11:48:43.404540",
     "status": "completed"
    },
    "tags": []
   },
   "outputs": [],
   "source": [
    "# loss, acc = model.evaluate(test_images, test_labels_cat, batch_size=32)\n",
    "# print(f\"Test Accuracy: {acc:.4f}\")"
   ]
  },
  {
   "cell_type": "code",
   "execution_count": 33,
   "id": "7d8e767a",
   "metadata": {
    "execution": {
     "iopub.execute_input": "2025-06-29T11:48:44.413883Z",
     "iopub.status.busy": "2025-06-29T11:48:44.413466Z",
     "iopub.status.idle": "2025-06-29T11:48:44.417613Z",
     "shell.execute_reply": "2025-06-29T11:48:44.416507Z"
    },
    "papermill": {
     "duration": 0.292531,
     "end_time": "2025-06-29T11:48:44.419351",
     "exception": false,
     "start_time": "2025-06-29T11:48:44.126820",
     "status": "completed"
    },
    "tags": []
   },
   "outputs": [],
   "source": [
    "# y_pred = model.predict(test_images)\n",
    "# y_pred = tf.argmax(y_pred,axis=1).numpy()\n",
    "\n",
    "# print(classification_report(test_labels_enc, y_pred, target_names=label_encoder.classes_))"
   ]
  },
  {
   "cell_type": "code",
   "execution_count": 34,
   "id": "a018254f",
   "metadata": {
    "execution": {
     "iopub.execute_input": "2025-06-29T11:48:44.988744Z",
     "iopub.status.busy": "2025-06-29T11:48:44.988271Z",
     "iopub.status.idle": "2025-06-29T11:48:44.992634Z",
     "shell.execute_reply": "2025-06-29T11:48:44.991593Z"
    },
    "papermill": {
     "duration": 0.289118,
     "end_time": "2025-06-29T11:48:44.994647",
     "exception": false,
     "start_time": "2025-06-29T11:48:44.705529",
     "status": "completed"
    },
    "tags": []
   },
   "outputs": [],
   "source": [
    "# model.predict(test_images)"
   ]
  },
  {
   "cell_type": "code",
   "execution_count": null,
   "id": "e309c6bc",
   "metadata": {
    "papermill": {
     "duration": 0.282333,
     "end_time": "2025-06-29T11:48:45.566279",
     "exception": false,
     "start_time": "2025-06-29T11:48:45.283946",
     "status": "completed"
    },
    "tags": []
   },
   "outputs": [],
   "source": []
  },
  {
   "cell_type": "markdown",
   "id": "23275a57",
   "metadata": {
    "papermill": {
     "duration": 0.281031,
     "end_time": "2025-06-29T11:48:46.128227",
     "exception": false,
     "start_time": "2025-06-29T11:48:45.847196",
     "status": "completed"
    },
    "tags": []
   },
   "source": []
  }
 ],
 "metadata": {
  "kaggle": {
   "accelerator": "none",
   "dataSources": [
    {
     "datasetId": 4296838,
     "sourceId": 8961495,
     "sourceType": "datasetVersion"
    }
   ],
   "dockerImageVersionId": 30918,
   "isGpuEnabled": false,
   "isInternetEnabled": true,
   "language": "python",
   "sourceType": "notebook"
  },
  "kernelspec": {
   "display_name": "Python 3",
   "language": "python",
   "name": "python3"
  },
  "language_info": {
   "codemirror_mode": {
    "name": "ipython",
    "version": 3
   },
   "file_extension": ".py",
   "mimetype": "text/x-python",
   "name": "python",
   "nbconvert_exporter": "python",
   "pygments_lexer": "ipython3",
   "version": "3.10.12"
  },
  "papermill": {
   "default_parameters": {},
   "duration": 14345.993025,
   "end_time": "2025-06-29T11:48:50.590861",
   "environment_variables": {},
   "exception": null,
   "input_path": "__notebook__.ipynb",
   "output_path": "__notebook__.ipynb",
   "parameters": {},
   "start_time": "2025-06-29T07:49:44.597836",
   "version": "2.6.0"
  }
 },
 "nbformat": 4,
 "nbformat_minor": 5
}
